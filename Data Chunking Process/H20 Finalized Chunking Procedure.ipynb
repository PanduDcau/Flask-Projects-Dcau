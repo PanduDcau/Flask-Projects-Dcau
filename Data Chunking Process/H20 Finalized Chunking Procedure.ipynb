{
 "cells": [
  {
   "cell_type": "markdown",
   "id": "15aec14d",
   "metadata": {},
   "source": [
    "## Data Procesing"
   ]
  },
  {
   "cell_type": "code",
   "execution_count": 1,
   "id": "7852842a",
   "metadata": {},
   "outputs": [],
   "source": [
    "import pandas as pd"
   ]
  },
  {
   "cell_type": "code",
   "execution_count": 2,
   "id": "f21db4f6",
   "metadata": {
    "scrolled": true
   },
   "outputs": [
    {
     "name": "stdout",
     "output_type": "stream",
     "text": [
      "Checking whether there is an H2O instance running at http://localhost:54321 . connected.\n"
     ]
    },
    {
     "data": {
      "text/html": [
       "<div style=\"overflow:auto\"><table style=\"width:50%\"><tr><td>H2O_cluster_uptime:</td>\n",
       "<td>3 hours 12 mins</td></tr>\n",
       "<tr><td>H2O_cluster_timezone:</td>\n",
       "<td>Asia/Colombo</td></tr>\n",
       "<tr><td>H2O_data_parsing_timezone:</td>\n",
       "<td>UTC</td></tr>\n",
       "<tr><td>H2O_cluster_version:</td>\n",
       "<td>3.36.0.2</td></tr>\n",
       "<tr><td>H2O_cluster_version_age:</td>\n",
       "<td>2 months and 16 days </td></tr>\n",
       "<tr><td>H2O_cluster_name:</td>\n",
       "<td>H2O_from_python_Asus_e6utam</td></tr>\n",
       "<tr><td>H2O_cluster_total_nodes:</td>\n",
       "<td>1</td></tr>\n",
       "<tr><td>H2O_cluster_free_memory:</td>\n",
       "<td>1.972 Gb</td></tr>\n",
       "<tr><td>H2O_cluster_total_cores:</td>\n",
       "<td>8</td></tr>\n",
       "<tr><td>H2O_cluster_allowed_cores:</td>\n",
       "<td>8</td></tr>\n",
       "<tr><td>H2O_cluster_status:</td>\n",
       "<td>locked, healthy</td></tr>\n",
       "<tr><td>H2O_connection_url:</td>\n",
       "<td>http://localhost:54321</td></tr>\n",
       "<tr><td>H2O_connection_proxy:</td>\n",
       "<td>{\"http\": null, \"https\": null}</td></tr>\n",
       "<tr><td>H2O_internal_security:</td>\n",
       "<td>False</td></tr>\n",
       "<tr><td>H2O_API_Extensions:</td>\n",
       "<td>Amazon S3, Algos, Infogram, AutoML, Core V3, TargetEncoder, Core V4</td></tr>\n",
       "<tr><td>Python_version:</td>\n",
       "<td>3.8.8 final</td></tr></table></div>"
      ],
      "text/plain": [
       "--------------------------  -------------------------------------------------------------------\n",
       "H2O_cluster_uptime:         3 hours 12 mins\n",
       "H2O_cluster_timezone:       Asia/Colombo\n",
       "H2O_data_parsing_timezone:  UTC\n",
       "H2O_cluster_version:        3.36.0.2\n",
       "H2O_cluster_version_age:    2 months and 16 days\n",
       "H2O_cluster_name:           H2O_from_python_Asus_e6utam\n",
       "H2O_cluster_total_nodes:    1\n",
       "H2O_cluster_free_memory:    1.972 Gb\n",
       "H2O_cluster_total_cores:    8\n",
       "H2O_cluster_allowed_cores:  8\n",
       "H2O_cluster_status:         locked, healthy\n",
       "H2O_connection_url:         http://localhost:54321\n",
       "H2O_connection_proxy:       {\"http\": null, \"https\": null}\n",
       "H2O_internal_security:      False\n",
       "H2O_API_Extensions:         Amazon S3, Algos, Infogram, AutoML, Core V3, TargetEncoder, Core V4\n",
       "Python_version:             3.8.8 final\n",
       "--------------------------  -------------------------------------------------------------------"
      ]
     },
     "metadata": {},
     "output_type": "display_data"
    }
   ],
   "source": [
    "import h2o\n",
    "from h2o.estimators.random_forest import H2ORandomForestEstimator\n",
    "h2o.init()"
   ]
  },
  {
   "cell_type": "code",
   "execution_count": 3,
   "id": "d0a3a1f5",
   "metadata": {},
   "outputs": [
    {
     "name": "stdout",
     "output_type": "stream",
     "text": [
      "Wall time: 31.5 ms\n"
     ]
    }
   ],
   "source": [
    "%%time\n",
    "train_new = pd.read_csv(\"D:\\\\DC Universe\\\\Ucsc\\\\Third Year\\\\ENH 3201 Industrial Placements\\\\H20 Applications\\\\H20 ML Notebooks\\\\H20Csv\\\\Titanic\\\\titanic_train.csv\")\n",
    "test = pd.read_csv(\"D:\\\\DC Universe\\\\Ucsc\\\\Third Year\\\\ENH 3201 Industrial Placements\\\\H20 Applications\\\\H20 ML Notebooks\\\\H20Csv\\\\Titanic\\\\titanic_test.csv\")\n",
    "subs = pd.read_csv('D:\\\\DC Universe\\\\Ucsc\\\\Third Year\\\\ENH 3201 Industrial Placements\\\\H20 Applications\\\\H20 ML Notebooks\\\\H20Csv\\\\Titanic\\\\gender_submission.csv')\n",
    "\n",
    "#train_new.to_pickle(\"D:\\\\DC Universe\\\\Ucsc\\\\Third Year\\\\ENH 3201 Industrial Placements\\\\H20 Applications\\\\H20 ML Notebooks\\\\H20Csv\\\\Titanic\\\\train_set.pkl\")"
   ]
  },
  {
   "cell_type": "code",
   "execution_count": 4,
   "id": "49bfe00a",
   "metadata": {},
   "outputs": [
    {
     "name": "stdout",
     "output_type": "stream",
     "text": [
      "Wall time: 4.06 ms\n"
     ]
    }
   ],
   "source": [
    "%%time\n",
    "train = pd.read_pickle(\"D:\\\\DC Universe\\\\Ucsc\\\\Third Year\\\\ENH 3201 Industrial Placements\\\\H20 Applications\\\\H20 ML Notebooks\\\\H20Csv\\\\Titanic\\\\train_set.pkl\")"
   ]
  },
  {
   "cell_type": "code",
   "execution_count": 5,
   "id": "fc88450a",
   "metadata": {},
   "outputs": [
    {
     "name": "stdout",
     "output_type": "stream",
     "text": [
      "Parse progress: |████████████████████████████████████████████████████████████████| (done) 100%\n",
      "Parse progress: |████████████████████████████████████████████████████████████████| (done) 100%\n"
     ]
    }
   ],
   "source": [
    "drop_elements = ['PassengerId', 'Name', 'Ticket', 'Cabin', 'SibSp','Parch']\n",
    "train = train.drop(drop_elements, axis = 1)\n",
    "test = test.drop(drop_elements, axis = 1)\n",
    "\n",
    "def checkNull_fillData(df):\n",
    "    for col in df.columns:\n",
    "        if len(df.loc[df[col].isnull() == True]) != 0:\n",
    "            if df[col].dtype == \"float64\" or df[col].dtype == \"int64\":\n",
    "                df.loc[df[col].isnull() == True,col] = df[col].mean()\n",
    "            else:\n",
    "                df.loc[df[col].isnull() == True,col] = df[col].mode()[0]\n",
    "                \n",
    "checkNull_fillData(train)\n",
    "checkNull_fillData(test)\n",
    "\n",
    "str_list = [] \n",
    "num_list = []\n",
    "for colname, colvalue in train.iteritems():\n",
    "    if type(colvalue[1]) == str:\n",
    "        str_list.append(colname)\n",
    "    else:\n",
    "        num_list.append(colname)\n",
    "        \n",
    "train = pd.get_dummies(train, columns=str_list)\n",
    "test = pd.get_dummies(test, columns=str_list)\n",
    "\n",
    "train = h2o.H2OFrame(train)\n",
    "test = h2o.H2OFrame(test)"
   ]
  },
  {
   "cell_type": "code",
   "execution_count": 6,
   "id": "e11853e0",
   "metadata": {},
   "outputs": [
    {
     "name": "stdout",
     "output_type": "stream",
     "text": [
      "Rows:891\n",
      "Cols:9\n",
      "\n",
      "\n"
     ]
    },
    {
     "data": {
      "text/html": [
       "<table>\n",
       "<thead>\n",
       "<tr><th>       </th><th>Survived          </th><th>Pclass            </th><th>Age               </th><th>Fare             </th><th>Sex_female         </th><th>Sex_male          </th><th>Embarked_C         </th><th>Embarked_Q         </th><th>Embarked_S         </th></tr>\n",
       "</thead>\n",
       "<tbody>\n",
       "<tr><td>type   </td><td>int               </td><td>int               </td><td>real              </td><td>real             </td><td>int                </td><td>int               </td><td>int                </td><td>int                </td><td>int                </td></tr>\n",
       "<tr><td>mins   </td><td>0.0               </td><td>1.0               </td><td>0.42              </td><td>0.0              </td><td>0.0                </td><td>0.0               </td><td>0.0                </td><td>0.0                </td><td>0.0                </td></tr>\n",
       "<tr><td>mean   </td><td>0.3838383838383838</td><td>2.3086419753086447</td><td>29.699117647058795</td><td>32.20420796857465</td><td>0.35241301907968575</td><td>0.6475869809203143</td><td>0.18855218855218855</td><td>0.08641975308641975</td><td>0.7250280583613917 </td></tr>\n",
       "<tr><td>maxs   </td><td>1.0               </td><td>3.0               </td><td>80.0              </td><td>512.3292         </td><td>1.0                </td><td>1.0               </td><td>1.0                </td><td>1.0                </td><td>1.0                </td></tr>\n",
       "<tr><td>sigma  </td><td>0.4865924542648575</td><td>0.8360712409770491</td><td>13.002015226002891</td><td>49.69342859718089</td><td>0.4779900708960982 </td><td>0.4779900708960982</td><td>0.3913721645054733 </td><td>0.28114069214170423</td><td>0.44675091003414663</td></tr>\n",
       "<tr><td>zeros  </td><td>549               </td><td>0                 </td><td>0                 </td><td>15               </td><td>577                </td><td>314               </td><td>723                </td><td>814                </td><td>245                </td></tr>\n",
       "<tr><td>missing</td><td>0                 </td><td>0                 </td><td>0                 </td><td>0                </td><td>0                  </td><td>0                 </td><td>0                  </td><td>0                  </td><td>0                  </td></tr>\n",
       "<tr><td>0      </td><td>0.0               </td><td>3.0               </td><td>22.0              </td><td>7.25             </td><td>0.0                </td><td>1.0               </td><td>0.0                </td><td>0.0                </td><td>1.0                </td></tr>\n",
       "<tr><td>1      </td><td>1.0               </td><td>1.0               </td><td>38.0              </td><td>71.2833          </td><td>1.0                </td><td>0.0               </td><td>1.0                </td><td>0.0                </td><td>0.0                </td></tr>\n",
       "<tr><td>2      </td><td>1.0               </td><td>3.0               </td><td>26.0              </td><td>7.925            </td><td>1.0                </td><td>0.0               </td><td>0.0                </td><td>0.0                </td><td>1.0                </td></tr>\n",
       "<tr><td>3      </td><td>1.0               </td><td>1.0               </td><td>35.0              </td><td>53.1             </td><td>1.0                </td><td>0.0               </td><td>0.0                </td><td>0.0                </td><td>1.0                </td></tr>\n",
       "<tr><td>4      </td><td>0.0               </td><td>3.0               </td><td>35.0              </td><td>8.05             </td><td>0.0                </td><td>1.0               </td><td>0.0                </td><td>0.0                </td><td>1.0                </td></tr>\n",
       "<tr><td>5      </td><td>0.0               </td><td>3.0               </td><td>29.69911764705882 </td><td>8.4583           </td><td>0.0                </td><td>1.0               </td><td>0.0                </td><td>1.0                </td><td>0.0                </td></tr>\n",
       "<tr><td>6      </td><td>0.0               </td><td>1.0               </td><td>54.0              </td><td>51.8625          </td><td>0.0                </td><td>1.0               </td><td>0.0                </td><td>0.0                </td><td>1.0                </td></tr>\n",
       "<tr><td>7      </td><td>0.0               </td><td>3.0               </td><td>2.0               </td><td>21.075           </td><td>0.0                </td><td>1.0               </td><td>0.0                </td><td>0.0                </td><td>1.0                </td></tr>\n",
       "<tr><td>8      </td><td>1.0               </td><td>3.0               </td><td>27.0              </td><td>11.1333          </td><td>1.0                </td><td>0.0               </td><td>0.0                </td><td>0.0                </td><td>1.0                </td></tr>\n",
       "<tr><td>9      </td><td>1.0               </td><td>2.0               </td><td>14.0              </td><td>30.0708          </td><td>1.0                </td><td>0.0               </td><td>1.0                </td><td>0.0                </td><td>0.0                </td></tr>\n",
       "</tbody>\n",
       "</table>"
      ]
     },
     "metadata": {},
     "output_type": "display_data"
    }
   ],
   "source": [
    "train.describe()"
   ]
  },
  {
   "cell_type": "code",
   "execution_count": 7,
   "id": "6f7b3ed1",
   "metadata": {
    "scrolled": true
   },
   "outputs": [
    {
     "name": "stdout",
     "output_type": "stream",
     "text": [
      "Rows:418\n",
      "Cols:8\n",
      "\n",
      "\n"
     ]
    },
    {
     "data": {
      "text/html": [
       "<table>\n",
       "<thead>\n",
       "<tr><th>       </th><th>Pclass            </th><th>Age               </th><th>Fare              </th><th>Sex_female         </th><th>Sex_male          </th><th>Embarked_C         </th><th>Embarked_Q         </th><th>Embarked_S        </th></tr>\n",
       "</thead>\n",
       "<tbody>\n",
       "<tr><td>type   </td><td>int               </td><td>real              </td><td>real              </td><td>int                </td><td>int               </td><td>int                </td><td>int                </td><td>int               </td></tr>\n",
       "<tr><td>mins   </td><td>1.0               </td><td>0.17              </td><td>0.0               </td><td>0.0                </td><td>0.0               </td><td>0.0                </td><td>0.0                </td><td>0.0               </td></tr>\n",
       "<tr><td>mean   </td><td>2.2655502392344493</td><td>30.27259036144579 </td><td>35.627188489208606</td><td>0.36363636363636365</td><td>0.6363636363636364</td><td>0.24401913875598086</td><td>0.11004784688995216</td><td>0.645933014354067 </td></tr>\n",
       "<tr><td>maxs   </td><td>3.0               </td><td>76.0              </td><td>512.3292          </td><td>1.0                </td><td>1.0               </td><td>1.0                </td><td>1.0                </td><td>1.0               </td></tr>\n",
       "<tr><td>sigma  </td><td>0.8418375519640504</td><td>12.634534168325061</td><td>55.840500479541056</td><td>0.4816221409322308 </td><td>0.4816221409322308</td><td>0.4300188157360399 </td><td>0.3133244005170708 </td><td>0.4788026786626084</td></tr>\n",
       "<tr><td>zeros  </td><td>0                 </td><td>0                 </td><td>2                 </td><td>266                </td><td>152               </td><td>316                </td><td>372                </td><td>148               </td></tr>\n",
       "<tr><td>missing</td><td>0                 </td><td>0                 </td><td>0                 </td><td>0                  </td><td>0                 </td><td>0                  </td><td>0                  </td><td>0                 </td></tr>\n",
       "<tr><td>0      </td><td>3.0               </td><td>34.5              </td><td>7.8292            </td><td>0.0                </td><td>1.0               </td><td>0.0                </td><td>1.0                </td><td>0.0               </td></tr>\n",
       "<tr><td>1      </td><td>3.0               </td><td>47.0              </td><td>7.0               </td><td>1.0                </td><td>0.0               </td><td>0.0                </td><td>0.0                </td><td>1.0               </td></tr>\n",
       "<tr><td>2      </td><td>2.0               </td><td>62.0              </td><td>9.6875            </td><td>0.0                </td><td>1.0               </td><td>0.0                </td><td>1.0                </td><td>0.0               </td></tr>\n",
       "<tr><td>3      </td><td>3.0               </td><td>27.0              </td><td>8.6625            </td><td>0.0                </td><td>1.0               </td><td>0.0                </td><td>0.0                </td><td>1.0               </td></tr>\n",
       "<tr><td>4      </td><td>3.0               </td><td>22.0              </td><td>12.2875           </td><td>1.0                </td><td>0.0               </td><td>0.0                </td><td>0.0                </td><td>1.0               </td></tr>\n",
       "<tr><td>5      </td><td>3.0               </td><td>14.0              </td><td>9.225             </td><td>0.0                </td><td>1.0               </td><td>0.0                </td><td>0.0                </td><td>1.0               </td></tr>\n",
       "<tr><td>6      </td><td>3.0               </td><td>30.0              </td><td>7.6292            </td><td>1.0                </td><td>0.0               </td><td>0.0                </td><td>1.0                </td><td>0.0               </td></tr>\n",
       "<tr><td>7      </td><td>2.0               </td><td>26.0              </td><td>29.0              </td><td>0.0                </td><td>1.0               </td><td>0.0                </td><td>0.0                </td><td>1.0               </td></tr>\n",
       "<tr><td>8      </td><td>3.0               </td><td>18.0              </td><td>7.2292            </td><td>1.0                </td><td>0.0               </td><td>1.0                </td><td>0.0                </td><td>0.0               </td></tr>\n",
       "<tr><td>9      </td><td>3.0               </td><td>21.0              </td><td>24.15             </td><td>0.0                </td><td>1.0               </td><td>0.0                </td><td>0.0                </td><td>1.0               </td></tr>\n",
       "</tbody>\n",
       "</table>"
      ]
     },
     "metadata": {},
     "output_type": "display_data"
    }
   ],
   "source": [
    "test.describe()"
   ]
  },
  {
   "cell_type": "code",
   "execution_count": 8,
   "id": "2c166c3c",
   "metadata": {},
   "outputs": [],
   "source": [
    "train1, valid1, new_data1 = train.split_frame(ratios = [.7, .15], seed = 1234)"
   ]
  },
  {
   "cell_type": "code",
   "execution_count": 9,
   "id": "39660f51",
   "metadata": {},
   "outputs": [
    {
     "data": {
      "text/plain": [
       "['Pclass',\n",
       " 'Age',\n",
       " 'Fare',\n",
       " 'Sex_female',\n",
       " 'Sex_male',\n",
       " 'Embarked_C',\n",
       " 'Embarked_Q',\n",
       " 'Embarked_S']"
      ]
     },
     "execution_count": 9,
     "metadata": {},
     "output_type": "execute_result"
    }
   ],
   "source": [
    "#train.columns\n",
    "test.columns"
   ]
  },
  {
   "cell_type": "code",
   "execution_count": 10,
   "id": "807f4d97",
   "metadata": {},
   "outputs": [],
   "source": [
    "predictors = [\"Age\",\"Embarked_C\",\"Pclass\",\"Embarked_Q\",\"Sex_male\"]\n",
    "response = \"Fare\""
   ]
  },
  {
   "cell_type": "code",
   "execution_count": 11,
   "id": "ec2af842",
   "metadata": {},
   "outputs": [
    {
     "name": "stdout",
     "output_type": "stream",
     "text": [
      "drf Model Build progress: |██████████████████████████████████████████████████████| (done) 100%\n",
      "Model Details\n",
      "=============\n",
      "H2ORandomForestEstimator :  Distributed Random Forest\n",
      "Model Key:  titanic\n",
      "\n",
      "\n",
      "Model Summary: \n"
     ]
    },
    {
     "data": {
      "text/html": [
       "<div>\n",
       "<style scoped>\n",
       "    .dataframe tbody tr th:only-of-type {\n",
       "        vertical-align: middle;\n",
       "    }\n",
       "\n",
       "    .dataframe tbody tr th {\n",
       "        vertical-align: top;\n",
       "    }\n",
       "\n",
       "    .dataframe thead th {\n",
       "        text-align: right;\n",
       "    }\n",
       "</style>\n",
       "<table border=\"1\" class=\"dataframe\">\n",
       "  <thead>\n",
       "    <tr style=\"text-align: right;\">\n",
       "      <th></th>\n",
       "      <th></th>\n",
       "      <th>number_of_trees</th>\n",
       "      <th>number_of_internal_trees</th>\n",
       "      <th>model_size_in_bytes</th>\n",
       "      <th>min_depth</th>\n",
       "      <th>max_depth</th>\n",
       "      <th>mean_depth</th>\n",
       "      <th>min_leaves</th>\n",
       "      <th>max_leaves</th>\n",
       "      <th>mean_leaves</th>\n",
       "    </tr>\n",
       "  </thead>\n",
       "  <tbody>\n",
       "    <tr>\n",
       "      <th>0</th>\n",
       "      <td></td>\n",
       "      <td>1.0</td>\n",
       "      <td>1.0</td>\n",
       "      <td>1801.0</td>\n",
       "      <td>15.0</td>\n",
       "      <td>15.0</td>\n",
       "      <td>15.0</td>\n",
       "      <td>139.0</td>\n",
       "      <td>139.0</td>\n",
       "      <td>139.0</td>\n",
       "    </tr>\n",
       "  </tbody>\n",
       "</table>\n",
       "</div>"
      ],
      "text/plain": [
       "     number_of_trees  number_of_internal_trees  model_size_in_bytes  \\\n",
       "0                1.0                       1.0               1801.0   \n",
       "\n",
       "   min_depth  max_depth  mean_depth  min_leaves  max_leaves  mean_leaves  \n",
       "0       15.0       15.0        15.0       139.0       139.0        139.0  "
      ]
     },
     "metadata": {},
     "output_type": "display_data"
    },
    {
     "name": "stdout",
     "output_type": "stream",
     "text": [
      "\n",
      "\n",
      "ModelMetricsRegression: drf\n",
      "** Reported on train data. **\n",
      "\n",
      "MSE: 1133.3550884778363\n",
      "RMSE: 33.6653395716995\n",
      "MAE: 17.77549033043748\n",
      "RMSLE: 0.7013625743352557\n",
      "Mean Residual Deviance: 1133.3550884778363\n",
      "\n",
      "ModelMetricsRegression: drf\n",
      "** Reported on validation data. **\n",
      "\n",
      "MSE: 908.6602305039935\n",
      "RMSE: 30.14399161531189\n",
      "MAE: 18.11057029921433\n",
      "RMSLE: 0.7471205311672524\n",
      "Mean Residual Deviance: 908.6602305039935\n",
      "\n",
      "Scoring History: \n"
     ]
    },
    {
     "data": {
      "text/html": [
       "<div>\n",
       "<style scoped>\n",
       "    .dataframe tbody tr th:only-of-type {\n",
       "        vertical-align: middle;\n",
       "    }\n",
       "\n",
       "    .dataframe tbody tr th {\n",
       "        vertical-align: top;\n",
       "    }\n",
       "\n",
       "    .dataframe thead th {\n",
       "        text-align: right;\n",
       "    }\n",
       "</style>\n",
       "<table border=\"1\" class=\"dataframe\">\n",
       "  <thead>\n",
       "    <tr style=\"text-align: right;\">\n",
       "      <th></th>\n",
       "      <th></th>\n",
       "      <th>timestamp</th>\n",
       "      <th>duration</th>\n",
       "      <th>number_of_trees</th>\n",
       "      <th>training_rmse</th>\n",
       "      <th>training_mae</th>\n",
       "      <th>training_deviance</th>\n",
       "      <th>validation_rmse</th>\n",
       "      <th>validation_mae</th>\n",
       "      <th>validation_deviance</th>\n",
       "    </tr>\n",
       "  </thead>\n",
       "  <tbody>\n",
       "    <tr>\n",
       "      <th>0</th>\n",
       "      <td></td>\n",
       "      <td>2022-04-11 14:41:32</td>\n",
       "      <td>0.011 sec</td>\n",
       "      <td>0.0</td>\n",
       "      <td>NaN</td>\n",
       "      <td>NaN</td>\n",
       "      <td>NaN</td>\n",
       "      <td>NaN</td>\n",
       "      <td>NaN</td>\n",
       "      <td>NaN</td>\n",
       "    </tr>\n",
       "    <tr>\n",
       "      <th>1</th>\n",
       "      <td></td>\n",
       "      <td>2022-04-11 14:41:32</td>\n",
       "      <td>0.191 sec</td>\n",
       "      <td>1.0</td>\n",
       "      <td>33.66534</td>\n",
       "      <td>17.77549</td>\n",
       "      <td>1133.355088</td>\n",
       "      <td>30.143992</td>\n",
       "      <td>18.11057</td>\n",
       "      <td>908.660231</td>\n",
       "    </tr>\n",
       "  </tbody>\n",
       "</table>\n",
       "</div>"
      ],
      "text/plain": [
       "               timestamp    duration  number_of_trees  training_rmse  \\\n",
       "0    2022-04-11 14:41:32   0.011 sec              0.0            NaN   \n",
       "1    2022-04-11 14:41:32   0.191 sec              1.0       33.66534   \n",
       "\n",
       "   training_mae  training_deviance  validation_rmse  validation_mae  \\\n",
       "0           NaN                NaN              NaN             NaN   \n",
       "1      17.77549        1133.355088        30.143992        18.11057   \n",
       "\n",
       "   validation_deviance  \n",
       "0                  NaN  \n",
       "1           908.660231  "
      ]
     },
     "metadata": {},
     "output_type": "display_data"
    },
    {
     "name": "stdout",
     "output_type": "stream",
     "text": [
      "\n",
      "Variable Importances: \n"
     ]
    },
    {
     "data": {
      "text/html": [
       "<div>\n",
       "<style scoped>\n",
       "    .dataframe tbody tr th:only-of-type {\n",
       "        vertical-align: middle;\n",
       "    }\n",
       "\n",
       "    .dataframe tbody tr th {\n",
       "        vertical-align: top;\n",
       "    }\n",
       "\n",
       "    .dataframe thead th {\n",
       "        text-align: right;\n",
       "    }\n",
       "</style>\n",
       "<table border=\"1\" class=\"dataframe\">\n",
       "  <thead>\n",
       "    <tr style=\"text-align: right;\">\n",
       "      <th></th>\n",
       "      <th>variable</th>\n",
       "      <th>relative_importance</th>\n",
       "      <th>scaled_importance</th>\n",
       "      <th>percentage</th>\n",
       "    </tr>\n",
       "  </thead>\n",
       "  <tbody>\n",
       "    <tr>\n",
       "      <th>0</th>\n",
       "      <td>Pclass</td>\n",
       "      <td>497683.031250</td>\n",
       "      <td>1.000000</td>\n",
       "      <td>0.855305</td>\n",
       "    </tr>\n",
       "    <tr>\n",
       "      <th>1</th>\n",
       "      <td>Embarked_C</td>\n",
       "      <td>61223.972656</td>\n",
       "      <td>0.123018</td>\n",
       "      <td>0.105218</td>\n",
       "    </tr>\n",
       "    <tr>\n",
       "      <th>2</th>\n",
       "      <td>Age</td>\n",
       "      <td>19492.304688</td>\n",
       "      <td>0.039166</td>\n",
       "      <td>0.033499</td>\n",
       "    </tr>\n",
       "    <tr>\n",
       "      <th>3</th>\n",
       "      <td>Sex_male</td>\n",
       "      <td>3118.316406</td>\n",
       "      <td>0.006266</td>\n",
       "      <td>0.005359</td>\n",
       "    </tr>\n",
       "    <tr>\n",
       "      <th>4</th>\n",
       "      <td>Embarked_Q</td>\n",
       "      <td>360.259369</td>\n",
       "      <td>0.000724</td>\n",
       "      <td>0.000619</td>\n",
       "    </tr>\n",
       "  </tbody>\n",
       "</table>\n",
       "</div>"
      ],
      "text/plain": [
       "     variable  relative_importance  scaled_importance  percentage\n",
       "0      Pclass        497683.031250           1.000000    0.855305\n",
       "1  Embarked_C         61223.972656           0.123018    0.105218\n",
       "2         Age         19492.304688           0.039166    0.033499\n",
       "3    Sex_male          3118.316406           0.006266    0.005359\n",
       "4  Embarked_Q           360.259369           0.000724    0.000619"
      ]
     },
     "metadata": {},
     "output_type": "display_data"
    },
    {
     "data": {
      "text/plain": []
     },
     "execution_count": 11,
     "metadata": {},
     "output_type": "execute_result"
    }
   ],
   "source": [
    "titanic = H2ORandomForestEstimator(model_id=\"titanic\", ntrees = 1, seed = 1234)\n",
    "titanic.train(x = predictors, y = response, training_frame = train1, validation_frame = valid1)"
   ]
  },
  {
   "cell_type": "code",
   "execution_count": 12,
   "id": "010b8b2c",
   "metadata": {},
   "outputs": [
    {
     "name": "stdout",
     "output_type": "stream",
     "text": [
      "D:\\DC Universe\\Ucsc\\Third Year\\ENH 3201 Industrial Placements\\H20 Applications\\H20 ML Notebooks\\H20Csv\\Titanic\\titanic\n"
     ]
    }
   ],
   "source": [
    "model_path = h2o.save_model(model=titanic, path=\"D:\\\\DC Universe\\\\Ucsc\\\\Third Year\\\\ENH 3201 Industrial Placements\\\\H20 Applications\\\\H20 ML Notebooks\\\\H20Csv\\\\Titanic\\\\\", force=True)\n",
    "print (model_path)"
   ]
  },
  {
   "cell_type": "code",
   "execution_count": 13,
   "id": "1a9b408b",
   "metadata": {},
   "outputs": [],
   "source": [
    "titanic = h2o.load_model(\"D:\\\\DC Universe\\\\Ucsc\\\\Third Year\\\\ENH 3201 Industrial Placements\\\\H20 Applications\\\\H20 ML Notebooks\\\\H20Csv\\\\Titanic\\\\titanic\")"
   ]
  },
  {
   "cell_type": "code",
   "execution_count": 14,
   "id": "e73127bc",
   "metadata": {},
   "outputs": [
    {
     "name": "stdout",
     "output_type": "stream",
     "text": [
      "Model Details\n",
      "=============\n",
      "H2ORandomForestEstimator :  Distributed Random Forest\n",
      "Model Key:  titanic\n",
      "\n",
      "\n",
      "Model Summary: \n"
     ]
    },
    {
     "data": {
      "text/html": [
       "<div>\n",
       "<style scoped>\n",
       "    .dataframe tbody tr th:only-of-type {\n",
       "        vertical-align: middle;\n",
       "    }\n",
       "\n",
       "    .dataframe tbody tr th {\n",
       "        vertical-align: top;\n",
       "    }\n",
       "\n",
       "    .dataframe thead th {\n",
       "        text-align: right;\n",
       "    }\n",
       "</style>\n",
       "<table border=\"1\" class=\"dataframe\">\n",
       "  <thead>\n",
       "    <tr style=\"text-align: right;\">\n",
       "      <th></th>\n",
       "      <th></th>\n",
       "      <th>number_of_trees</th>\n",
       "      <th>number_of_internal_trees</th>\n",
       "      <th>model_size_in_bytes</th>\n",
       "      <th>min_depth</th>\n",
       "      <th>max_depth</th>\n",
       "      <th>mean_depth</th>\n",
       "      <th>min_leaves</th>\n",
       "      <th>max_leaves</th>\n",
       "      <th>mean_leaves</th>\n",
       "    </tr>\n",
       "  </thead>\n",
       "  <tbody>\n",
       "    <tr>\n",
       "      <th>0</th>\n",
       "      <td></td>\n",
       "      <td>1.0</td>\n",
       "      <td>1.0</td>\n",
       "      <td>1801.0</td>\n",
       "      <td>15.0</td>\n",
       "      <td>15.0</td>\n",
       "      <td>15.0</td>\n",
       "      <td>139.0</td>\n",
       "      <td>139.0</td>\n",
       "      <td>139.0</td>\n",
       "    </tr>\n",
       "  </tbody>\n",
       "</table>\n",
       "</div>"
      ],
      "text/plain": [
       "     number_of_trees  number_of_internal_trees  model_size_in_bytes  \\\n",
       "0                1.0                       1.0               1801.0   \n",
       "\n",
       "   min_depth  max_depth  mean_depth  min_leaves  max_leaves  mean_leaves  \n",
       "0       15.0       15.0        15.0       139.0       139.0        139.0  "
      ]
     },
     "metadata": {},
     "output_type": "display_data"
    },
    {
     "name": "stdout",
     "output_type": "stream",
     "text": [
      "\n",
      "\n",
      "ModelMetricsRegression: drf\n",
      "** Reported on train data. **\n",
      "\n",
      "MSE: 1133.3550884778363\n",
      "RMSE: 33.6653395716995\n",
      "MAE: 17.77549033043748\n",
      "RMSLE: 0.7013625743352557\n",
      "Mean Residual Deviance: 1133.3550884778363\n",
      "\n",
      "ModelMetricsRegression: drf\n",
      "** Reported on validation data. **\n",
      "\n",
      "MSE: 908.6602305039935\n",
      "RMSE: 30.14399161531189\n",
      "MAE: 18.11057029921433\n",
      "RMSLE: 0.7471205311672524\n",
      "Mean Residual Deviance: 908.6602305039935\n",
      "\n",
      "Scoring History: \n"
     ]
    },
    {
     "data": {
      "text/html": [
       "<div>\n",
       "<style scoped>\n",
       "    .dataframe tbody tr th:only-of-type {\n",
       "        vertical-align: middle;\n",
       "    }\n",
       "\n",
       "    .dataframe tbody tr th {\n",
       "        vertical-align: top;\n",
       "    }\n",
       "\n",
       "    .dataframe thead th {\n",
       "        text-align: right;\n",
       "    }\n",
       "</style>\n",
       "<table border=\"1\" class=\"dataframe\">\n",
       "  <thead>\n",
       "    <tr style=\"text-align: right;\">\n",
       "      <th></th>\n",
       "      <th></th>\n",
       "      <th>timestamp</th>\n",
       "      <th>duration</th>\n",
       "      <th>number_of_trees</th>\n",
       "      <th>training_rmse</th>\n",
       "      <th>training_mae</th>\n",
       "      <th>training_deviance</th>\n",
       "      <th>validation_rmse</th>\n",
       "      <th>validation_mae</th>\n",
       "      <th>validation_deviance</th>\n",
       "    </tr>\n",
       "  </thead>\n",
       "  <tbody>\n",
       "    <tr>\n",
       "      <th>0</th>\n",
       "      <td></td>\n",
       "      <td>2022-04-11 14:41:32</td>\n",
       "      <td>0.011 sec</td>\n",
       "      <td>0.0</td>\n",
       "      <td>NaN</td>\n",
       "      <td>NaN</td>\n",
       "      <td>NaN</td>\n",
       "      <td>NaN</td>\n",
       "      <td>NaN</td>\n",
       "      <td>NaN</td>\n",
       "    </tr>\n",
       "    <tr>\n",
       "      <th>1</th>\n",
       "      <td></td>\n",
       "      <td>2022-04-11 14:41:32</td>\n",
       "      <td>0.191 sec</td>\n",
       "      <td>1.0</td>\n",
       "      <td>33.66534</td>\n",
       "      <td>17.77549</td>\n",
       "      <td>1133.355088</td>\n",
       "      <td>30.143992</td>\n",
       "      <td>18.11057</td>\n",
       "      <td>908.660231</td>\n",
       "    </tr>\n",
       "  </tbody>\n",
       "</table>\n",
       "</div>"
      ],
      "text/plain": [
       "               timestamp    duration  number_of_trees  training_rmse  \\\n",
       "0    2022-04-11 14:41:32   0.011 sec              0.0            NaN   \n",
       "1    2022-04-11 14:41:32   0.191 sec              1.0       33.66534   \n",
       "\n",
       "   training_mae  training_deviance  validation_rmse  validation_mae  \\\n",
       "0           NaN                NaN              NaN             NaN   \n",
       "1      17.77549        1133.355088        30.143992        18.11057   \n",
       "\n",
       "   validation_deviance  \n",
       "0                  NaN  \n",
       "1           908.660231  "
      ]
     },
     "metadata": {},
     "output_type": "display_data"
    },
    {
     "name": "stdout",
     "output_type": "stream",
     "text": [
      "\n",
      "Variable Importances: \n"
     ]
    },
    {
     "data": {
      "text/html": [
       "<div>\n",
       "<style scoped>\n",
       "    .dataframe tbody tr th:only-of-type {\n",
       "        vertical-align: middle;\n",
       "    }\n",
       "\n",
       "    .dataframe tbody tr th {\n",
       "        vertical-align: top;\n",
       "    }\n",
       "\n",
       "    .dataframe thead th {\n",
       "        text-align: right;\n",
       "    }\n",
       "</style>\n",
       "<table border=\"1\" class=\"dataframe\">\n",
       "  <thead>\n",
       "    <tr style=\"text-align: right;\">\n",
       "      <th></th>\n",
       "      <th>variable</th>\n",
       "      <th>relative_importance</th>\n",
       "      <th>scaled_importance</th>\n",
       "      <th>percentage</th>\n",
       "    </tr>\n",
       "  </thead>\n",
       "  <tbody>\n",
       "    <tr>\n",
       "      <th>0</th>\n",
       "      <td>Pclass</td>\n",
       "      <td>497683.031250</td>\n",
       "      <td>1.000000</td>\n",
       "      <td>0.855305</td>\n",
       "    </tr>\n",
       "    <tr>\n",
       "      <th>1</th>\n",
       "      <td>Embarked_C</td>\n",
       "      <td>61223.972656</td>\n",
       "      <td>0.123018</td>\n",
       "      <td>0.105218</td>\n",
       "    </tr>\n",
       "    <tr>\n",
       "      <th>2</th>\n",
       "      <td>Age</td>\n",
       "      <td>19492.304688</td>\n",
       "      <td>0.039166</td>\n",
       "      <td>0.033499</td>\n",
       "    </tr>\n",
       "    <tr>\n",
       "      <th>3</th>\n",
       "      <td>Sex_male</td>\n",
       "      <td>3118.316406</td>\n",
       "      <td>0.006266</td>\n",
       "      <td>0.005359</td>\n",
       "    </tr>\n",
       "    <tr>\n",
       "      <th>4</th>\n",
       "      <td>Embarked_Q</td>\n",
       "      <td>360.259369</td>\n",
       "      <td>0.000724</td>\n",
       "      <td>0.000619</td>\n",
       "    </tr>\n",
       "  </tbody>\n",
       "</table>\n",
       "</div>"
      ],
      "text/plain": [
       "     variable  relative_importance  scaled_importance  percentage\n",
       "0      Pclass        497683.031250           1.000000    0.855305\n",
       "1  Embarked_C         61223.972656           0.123018    0.105218\n",
       "2         Age         19492.304688           0.039166    0.033499\n",
       "3    Sex_male          3118.316406           0.006266    0.005359\n",
       "4  Embarked_Q           360.259369           0.000724    0.000619"
      ]
     },
     "metadata": {},
     "output_type": "display_data"
    },
    {
     "data": {
      "text/plain": []
     },
     "execution_count": 14,
     "metadata": {},
     "output_type": "execute_result"
    }
   ],
   "source": [
    "titanic"
   ]
  },
  {
   "cell_type": "code",
   "execution_count": 15,
   "id": "bbb13776",
   "metadata": {},
   "outputs": [],
   "source": [
    "train2, valid2, new_data2 = test.split_frame(ratios = [.7, .15], seed = 1234)"
   ]
  },
  {
   "cell_type": "code",
   "execution_count": 16,
   "id": "3c606e99",
   "metadata": {},
   "outputs": [
    {
     "name": "stdout",
     "output_type": "stream",
     "text": [
      "drf Model Build progress: |██████████████████████████████████████████████████████| (done) 100%\n",
      "Model Details\n",
      "=============\n",
      "H2ORandomForestEstimator :  Distributed Random Forest\n",
      "Model Key:  titanic_new\n",
      "\n",
      "\n",
      "Model Summary: \n"
     ]
    },
    {
     "data": {
      "text/html": [
       "<div>\n",
       "<style scoped>\n",
       "    .dataframe tbody tr th:only-of-type {\n",
       "        vertical-align: middle;\n",
       "    }\n",
       "\n",
       "    .dataframe tbody tr th {\n",
       "        vertical-align: top;\n",
       "    }\n",
       "\n",
       "    .dataframe thead th {\n",
       "        text-align: right;\n",
       "    }\n",
       "</style>\n",
       "<table border=\"1\" class=\"dataframe\">\n",
       "  <thead>\n",
       "    <tr style=\"text-align: right;\">\n",
       "      <th></th>\n",
       "      <th></th>\n",
       "      <th>number_of_trees</th>\n",
       "      <th>number_of_internal_trees</th>\n",
       "      <th>model_size_in_bytes</th>\n",
       "      <th>min_depth</th>\n",
       "      <th>max_depth</th>\n",
       "      <th>mean_depth</th>\n",
       "      <th>min_leaves</th>\n",
       "      <th>max_leaves</th>\n",
       "      <th>mean_leaves</th>\n",
       "    </tr>\n",
       "  </thead>\n",
       "  <tbody>\n",
       "    <tr>\n",
       "      <th>0</th>\n",
       "      <td></td>\n",
       "      <td>4.0</td>\n",
       "      <td>4.0</td>\n",
       "      <td>5764.0</td>\n",
       "      <td>13.0</td>\n",
       "      <td>20.0</td>\n",
       "      <td>12.25</td>\n",
       "      <td>85.0</td>\n",
       "      <td>139.0</td>\n",
       "      <td>75.5</td>\n",
       "    </tr>\n",
       "  </tbody>\n",
       "</table>\n",
       "</div>"
      ],
      "text/plain": [
       "     number_of_trees  number_of_internal_trees  model_size_in_bytes  \\\n",
       "0                4.0                       4.0               5764.0   \n",
       "\n",
       "   min_depth  max_depth  mean_depth  min_leaves  max_leaves  mean_leaves  \n",
       "0       13.0       20.0       12.25        85.0       139.0         75.5  "
      ]
     },
     "metadata": {},
     "output_type": "display_data"
    },
    {
     "name": "stdout",
     "output_type": "stream",
     "text": [
      "\n",
      "\n",
      "ModelMetricsRegression: drf\n",
      "** Reported on train data. **\n",
      "\n",
      "MSE: 2146.237534249252\n",
      "RMSE: 46.327503000369575\n",
      "MAE: 20.323413028791258\n",
      "RMSLE: 0.6753339178022078\n",
      "Mean Residual Deviance: 2146.237534249252\n",
      "\n",
      "ModelMetricsRegression: drf\n",
      "** Reported on validation data. **\n",
      "\n",
      "MSE: 1937.71312079991\n",
      "RMSE: 44.01946297718669\n",
      "MAE: 25.51143854038388\n",
      "RMSLE: 0.9055540088172322\n",
      "Mean Residual Deviance: 1937.71312079991\n",
      "\n",
      "Scoring History: \n"
     ]
    },
    {
     "data": {
      "text/html": [
       "<div>\n",
       "<style scoped>\n",
       "    .dataframe tbody tr th:only-of-type {\n",
       "        vertical-align: middle;\n",
       "    }\n",
       "\n",
       "    .dataframe tbody tr th {\n",
       "        vertical-align: top;\n",
       "    }\n",
       "\n",
       "    .dataframe thead th {\n",
       "        text-align: right;\n",
       "    }\n",
       "</style>\n",
       "<table border=\"1\" class=\"dataframe\">\n",
       "  <thead>\n",
       "    <tr style=\"text-align: right;\">\n",
       "      <th></th>\n",
       "      <th></th>\n",
       "      <th>timestamp</th>\n",
       "      <th>duration</th>\n",
       "      <th>number_of_trees</th>\n",
       "      <th>training_rmse</th>\n",
       "      <th>training_mae</th>\n",
       "      <th>training_deviance</th>\n",
       "      <th>validation_rmse</th>\n",
       "      <th>validation_mae</th>\n",
       "      <th>validation_deviance</th>\n",
       "    </tr>\n",
       "  </thead>\n",
       "  <tbody>\n",
       "    <tr>\n",
       "      <th>0</th>\n",
       "      <td></td>\n",
       "      <td>2022-04-11 14:41:32</td>\n",
       "      <td>-28.-575 sec</td>\n",
       "      <td>0.0</td>\n",
       "      <td>NaN</td>\n",
       "      <td>NaN</td>\n",
       "      <td>NaN</td>\n",
       "      <td>NaN</td>\n",
       "      <td>NaN</td>\n",
       "      <td>NaN</td>\n",
       "    </tr>\n",
       "    <tr>\n",
       "      <th>1</th>\n",
       "      <td></td>\n",
       "      <td>2022-04-11 14:41:32</td>\n",
       "      <td>-28.-395 sec</td>\n",
       "      <td>1.0</td>\n",
       "      <td>50.878531</td>\n",
       "      <td>21.325502</td>\n",
       "      <td>2588.624951</td>\n",
       "      <td>44.124799</td>\n",
       "      <td>25.311824</td>\n",
       "      <td>1946.997898</td>\n",
       "    </tr>\n",
       "    <tr>\n",
       "      <th>2</th>\n",
       "      <td></td>\n",
       "      <td>2022-04-11 14:42:01</td>\n",
       "      <td>0.259 sec</td>\n",
       "      <td>2.0</td>\n",
       "      <td>49.565239</td>\n",
       "      <td>21.452445</td>\n",
       "      <td>2456.712907</td>\n",
       "      <td>46.402843</td>\n",
       "      <td>26.467226</td>\n",
       "      <td>2153.223877</td>\n",
       "    </tr>\n",
       "    <tr>\n",
       "      <th>3</th>\n",
       "      <td></td>\n",
       "      <td>2022-04-11 14:42:01</td>\n",
       "      <td>0.291 sec</td>\n",
       "      <td>3.0</td>\n",
       "      <td>47.453296</td>\n",
       "      <td>20.112071</td>\n",
       "      <td>2251.815287</td>\n",
       "      <td>45.073059</td>\n",
       "      <td>26.415759</td>\n",
       "      <td>2031.580672</td>\n",
       "    </tr>\n",
       "    <tr>\n",
       "      <th>4</th>\n",
       "      <td></td>\n",
       "      <td>2022-04-11 14:42:01</td>\n",
       "      <td>0.501 sec</td>\n",
       "      <td>4.0</td>\n",
       "      <td>46.327503</td>\n",
       "      <td>20.323413</td>\n",
       "      <td>2146.237534</td>\n",
       "      <td>44.019463</td>\n",
       "      <td>25.511439</td>\n",
       "      <td>1937.713121</td>\n",
       "    </tr>\n",
       "  </tbody>\n",
       "</table>\n",
       "</div>"
      ],
      "text/plain": [
       "               timestamp      duration  number_of_trees  training_rmse  \\\n",
       "0    2022-04-11 14:41:32  -28.-575 sec              0.0            NaN   \n",
       "1    2022-04-11 14:41:32  -28.-395 sec              1.0      50.878531   \n",
       "2    2022-04-11 14:42:01     0.259 sec              2.0      49.565239   \n",
       "3    2022-04-11 14:42:01     0.291 sec              3.0      47.453296   \n",
       "4    2022-04-11 14:42:01     0.501 sec              4.0      46.327503   \n",
       "\n",
       "   training_mae  training_deviance  validation_rmse  validation_mae  \\\n",
       "0           NaN                NaN              NaN             NaN   \n",
       "1     21.325502        2588.624951        44.124799       25.311824   \n",
       "2     21.452445        2456.712907        46.402843       26.467226   \n",
       "3     20.112071        2251.815287        45.073059       26.415759   \n",
       "4     20.323413        2146.237534        44.019463       25.511439   \n",
       "\n",
       "   validation_deviance  \n",
       "0                  NaN  \n",
       "1          1946.997898  \n",
       "2          2153.223877  \n",
       "3          2031.580672  \n",
       "4          1937.713121  "
      ]
     },
     "metadata": {},
     "output_type": "display_data"
    },
    {
     "name": "stdout",
     "output_type": "stream",
     "text": [
      "\n",
      "Variable Importances: \n"
     ]
    },
    {
     "data": {
      "text/html": [
       "<div>\n",
       "<style scoped>\n",
       "    .dataframe tbody tr th:only-of-type {\n",
       "        vertical-align: middle;\n",
       "    }\n",
       "\n",
       "    .dataframe tbody tr th {\n",
       "        vertical-align: top;\n",
       "    }\n",
       "\n",
       "    .dataframe thead th {\n",
       "        text-align: right;\n",
       "    }\n",
       "</style>\n",
       "<table border=\"1\" class=\"dataframe\">\n",
       "  <thead>\n",
       "    <tr style=\"text-align: right;\">\n",
       "      <th></th>\n",
       "      <th>variable</th>\n",
       "      <th>relative_importance</th>\n",
       "      <th>scaled_importance</th>\n",
       "      <th>percentage</th>\n",
       "    </tr>\n",
       "  </thead>\n",
       "  <tbody>\n",
       "    <tr>\n",
       "      <th>0</th>\n",
       "      <td>Pclass</td>\n",
       "      <td>641299.187500</td>\n",
       "      <td>1.000000</td>\n",
       "      <td>0.404932</td>\n",
       "    </tr>\n",
       "    <tr>\n",
       "      <th>1</th>\n",
       "      <td>Age</td>\n",
       "      <td>632948.687500</td>\n",
       "      <td>0.986979</td>\n",
       "      <td>0.399660</td>\n",
       "    </tr>\n",
       "    <tr>\n",
       "      <th>2</th>\n",
       "      <td>Embarked_C</td>\n",
       "      <td>200252.921875</td>\n",
       "      <td>0.312261</td>\n",
       "      <td>0.126445</td>\n",
       "    </tr>\n",
       "    <tr>\n",
       "      <th>3</th>\n",
       "      <td>Sex_male</td>\n",
       "      <td>77170.390625</td>\n",
       "      <td>0.120334</td>\n",
       "      <td>0.048727</td>\n",
       "    </tr>\n",
       "    <tr>\n",
       "      <th>4</th>\n",
       "      <td>Embarked_Q</td>\n",
       "      <td>32047.763672</td>\n",
       "      <td>0.049973</td>\n",
       "      <td>0.020236</td>\n",
       "    </tr>\n",
       "  </tbody>\n",
       "</table>\n",
       "</div>"
      ],
      "text/plain": [
       "     variable  relative_importance  scaled_importance  percentage\n",
       "0      Pclass        641299.187500           1.000000    0.404932\n",
       "1         Age        632948.687500           0.986979    0.399660\n",
       "2  Embarked_C        200252.921875           0.312261    0.126445\n",
       "3    Sex_male         77170.390625           0.120334    0.048727\n",
       "4  Embarked_Q         32047.763672           0.049973    0.020236"
      ]
     },
     "metadata": {},
     "output_type": "display_data"
    },
    {
     "data": {
      "text/plain": []
     },
     "execution_count": 16,
     "metadata": {},
     "output_type": "execute_result"
    }
   ],
   "source": [
    "# Checkpoint on the same dataset. This shows how to train an additional\n",
    "# 9 trees on top of the first 1. To do this, set ntrees equal to 10.\n",
    "titanic_continued = H2ORandomForestEstimator(model_id = 'titanic_new',\n",
    "                                         checkpoint = titanic,\n",
    "                                         ntrees = 4,\n",
    "                                         seed = 1234)\n",
    "titanic_continued.train(x = predictors, y = response, training_frame = train2, validation_frame = valid2)"
   ]
  },
  {
   "cell_type": "code",
   "execution_count": 17,
   "id": "46a500fe",
   "metadata": {},
   "outputs": [
    {
     "data": {
      "text/plain": [
       "9"
      ]
     },
     "execution_count": 17,
     "metadata": {},
     "output_type": "execute_result"
    }
   ],
   "source": [
    "col_count=len(train.columns)\n",
    "col_count"
   ]
  },
  {
   "cell_type": "code",
   "execution_count": 18,
   "id": "39e20683",
   "metadata": {},
   "outputs": [],
   "source": [
    "row_count=len(train)\n",
    "# split_ratio = int(input(\"Enter Split Ratio >>>\"))"
   ]
  },
  {
   "cell_type": "code",
   "execution_count": 19,
   "id": "da547081",
   "metadata": {},
   "outputs": [],
   "source": [
    "#split_ratio = int(input(\"Enter Split Ratio >>>\"))\n",
    "#import modin.pandas as mpd"
   ]
  },
  {
   "cell_type": "code",
   "execution_count": null,
   "id": "69344156",
   "metadata": {},
   "outputs": [],
   "source": []
  },
  {
   "cell_type": "code",
   "execution_count": null,
   "id": "8ef55e4f",
   "metadata": {},
   "outputs": [],
   "source": []
  }
 ],
 "metadata": {
  "kernelspec": {
   "display_name": "Python 3 (ipykernel)",
   "language": "python",
   "name": "python3"
  },
  "language_info": {
   "codemirror_mode": {
    "name": "ipython",
    "version": 3
   },
   "file_extension": ".py",
   "mimetype": "text/x-python",
   "name": "python",
   "nbconvert_exporter": "python",
   "pygments_lexer": "ipython3",
   "version": "3.8.8"
  }
 },
 "nbformat": 4,
 "nbformat_minor": 5
}
