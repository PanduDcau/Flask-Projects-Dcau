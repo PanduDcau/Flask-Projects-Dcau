{
 "cells": [
  {
   "cell_type": "code",
   "execution_count": null,
   "metadata": {
    "collapsed": true
   },
   "outputs": [],
   "source": [
    "import numpy as np\n",
    "import pandas as pd\n",
    "import matplotlib.pyplot as plt\n",
    "%matplotlib inline"
   ]
  },
  {
   "cell_type": "code",
   "execution_count": null,
   "metadata": {
    "collapsed": true
   },
   "outputs": [],
   "source": [
    "data = {'Name' : ['Satyapriya Chaudhari', 'Shreyasi Sengupta', 'Chandrakant Kate', 'Juned Khan', 'Jamsheer Kutty',  'Rahul Dukale', 'Chanchal Kedia', 'Sanchita Mangale', 'Anshuman Jadhav', 'Mithul Somasundara'],\n",
    "'Company' : ['Microsoft', 'Google', 'Google', 'Tesla', 'Tesla', 'Google', 'Google', 'Microsoft', 'Microsoft', 'Tesla'],\n",
    "'Progress' : [80,73,65,62,60,44,43,42,39,45],\n",
    "'Points' : [13518, 12705, 11598, 10717, 10140, 7451, 7410, 6191, 5738, 4750]}"
   ]
  },
  {
   "cell_type": "code",
   "execution_count": null,
   "metadata": {},
   "outputs": [],
   "source": [
    "df = pd.DataFrame(data, columns = ['Name', 'Company', 'Progress', 'Points'])\n",
    "df"
   ]
  },
  {
   "cell_type": "code",
   "execution_count": null,
   "metadata": {},
   "outputs": [],
   "source": [
    "pd.pivot_table(df, index=['Company'], aggfunc='mean')"
   ]
  },
  {
   "cell_type": "code",
   "execution_count": null,
   "metadata": {},
   "outputs": [],
   "source": [
    "pd.pivot_table(df, index=['Company'], aggfunc='max')"
   ]
  },
  {
   "cell_type": "code",
   "execution_count": null,
   "metadata": {},
   "outputs": [],
   "source": [
    "pd.pivot_table(df, index=['Company'], aggfunc= lambda x: 100 - max(x))['Progress']"
   ]
  },
  {
   "cell_type": "code",
   "execution_count": null,
   "metadata": {
    "collapsed": true
   },
   "outputs": [],
   "source": [
    "# http://cmdlinetips.com/2018/02/introduction-to-split-apply-combine-with-pandas/"
   ]
  },
  {
   "cell_type": "code",
   "execution_count": null,
   "metadata": {
    "collapsed": true
   },
   "outputs": [],
   "source": [
    "data = {'col_a' : [10,20,30,40], \n",
    "        'col_b' : [100,120,140,160],\n",
    "        'col_c' : [500,600,700,800],\n",
    "        'col_d' : [14,24,36,499]}"
   ]
  },
  {
   "cell_type": "code",
   "execution_count": null,
   "metadata": {},
   "outputs": [],
   "source": [
    "df = pd.DataFrame(data)\n",
    "df"
   ]
  },
  {
   "cell_type": "code",
   "execution_count": null,
   "metadata": {
    "collapsed": true
   },
   "outputs": [],
   "source": [
    "df['company'] = ['Google', 'Google', 'Amazon', 'Amazon']\n",
    "df['location'] = ['Mumbai', 'Bangalore', 'Mumbai', 'Bangalore']"
   ]
  },
  {
   "cell_type": "code",
   "execution_count": null,
   "metadata": {},
   "outputs": [],
   "source": [
    "df.groupby(['company']).agg({'col_a':['sum', 'max'], \n",
    "                         'col_b':'mean', \n",
    "                         'col_c':'sum', \n",
    "                         'col_d': lambda x: x.max() - x.min()})"
   ]
  },
  {
   "cell_type": "code",
   "execution_count": null,
   "metadata": {},
   "outputs": [],
   "source": [
    "x = np.arange(0,20,0.1)\n",
    "y1 = np.sin(x)\n",
    "y2 = np.cos(x)\n",
    "y3 = np.sqrt(x)\n",
    "y4 = np.power(x,1)\n",
    "\n",
    "plt.figure()\n",
    "plt.subplot(2,2,1)\n",
    "plt.plot(x,y1, label='Sin of X')\n",
    "plt.title('Sine of X')\n",
    "\n",
    "plt.subplot(2,2,2)\n",
    "plt.plot(x,y2, label='Cosine of X')\n",
    "plt.title('Cosine of X')\n",
    "plt.show()\n",
    "\n",
    "plt.subplot(2,2,3)\n",
    "plt.plot(x,y3, label='Square Root X')\n",
    "plt.title('Square Root X')\n",
    "\n",
    "plt.subplot(2,2,4)\n",
    "plt.plot(x,y4, label='Y = X')\n",
    "plt.title('Y = X')\n",
    "plt.show()"
   ]
  },
  {
   "cell_type": "code",
   "execution_count": null,
   "metadata": {},
   "outputs": [],
   "source": [
    "x = np.arange(0,20,0.1)\n",
    "y1 = np.sin(x)\n",
    "y2 = np.cos(x)\n",
    "y3 = np.sqrt(x)\n",
    "y4 = np.power(x,1)\n",
    "\n",
    "plt.figure()\n",
    "plt.subplot(2,1,1)\n",
    "plt.plot(x,y1, label='Sin of X')\n",
    "plt.title('Sine of X')\n",
    "\n",
    "\n",
    "plt.subplot(2,2,3)\n",
    "plt.plot(x,y3, label='Square Root X')\n",
    "plt.title('Square Root X')\n",
    "\n",
    "plt.subplot(2,2,4)\n",
    "plt.plot(x,y4, label='Y = X')\n",
    "plt.title('Y = X')\n",
    "plt.tight_layout()\n",
    "plt.show()"
   ]
  },
  {
   "cell_type": "code",
   "execution_count": null,
   "metadata": {
    "collapsed": true
   },
   "outputs": [],
   "source": [
    "# https://matplotlib.org/users/gridspec.html"
   ]
  },
  {
   "cell_type": "code",
   "execution_count": null,
   "metadata": {},
   "outputs": [],
   "source": [
    "raw_data = {\n",
    "        'subject_id': ['1', '2', '3', '4', '5'],\n",
    "        'name' : ['Satyapriya Chaudhari', 'Shreyasi Sengupta', 'Chandrakant Kate', 'Juned Khan', 'Jamsheer Kutty']\n",
    "}\n",
    "df_a = pd.DataFrame(raw_data, columns = ['subject_id', 'name'])\n",
    "df_a"
   ]
  },
  {
   "cell_type": "code",
   "execution_count": null,
   "metadata": {},
   "outputs": [],
   "source": [
    "raw_data = {\n",
    "        'subject_id': ['4', '5', '6', '7', '8'],\n",
    "         'name': ['Rahul Dukale', 'Chanchal Kedia', 'Sanchita Mangale', 'Anshuman Jadhav', 'Mithul Somasundara']\n",
    "        }\n",
    "df_b = pd.DataFrame(raw_data, columns = ['subject_id', 'name'])\n",
    "df_b"
   ]
  },
  {
   "cell_type": "code",
   "execution_count": null,
   "metadata": {},
   "outputs": [],
   "source": [
    "raw_data = {\n",
    "        'subject_id': ['1', '2', '3', '4', '5', '7', '8', '9', '10', '11'],\n",
    "        'test_id': [51, 15, 15, 61, 16, 14, 15, 1, 61, 16]}\n",
    "df_n = pd.DataFrame(raw_data, columns = ['subject_id','test_id'])\n",
    "df_n"
   ]
  },
  {
   "cell_type": "code",
   "execution_count": null,
   "metadata": {},
   "outputs": [],
   "source": [
    "df_new = pd.concat([df_a, df_b])\n",
    "df_new"
   ]
  },
  {
   "cell_type": "code",
   "execution_count": null,
   "metadata": {},
   "outputs": [],
   "source": [
    "pd.concat([df_a, df_b], axis=1)"
   ]
  },
  {
   "cell_type": "code",
   "execution_count": null,
   "metadata": {},
   "outputs": [],
   "source": [
    "pd.merge(df_new, df_n, on='subject_id')"
   ]
  },
  {
   "cell_type": "code",
   "execution_count": null,
   "metadata": {},
   "outputs": [],
   "source": [
    "pd.merge(df_new, df_n, left_on='subject_id', right_on='subject_id')"
   ]
  },
  {
   "cell_type": "code",
   "execution_count": null,
   "metadata": {},
   "outputs": [],
   "source": [
    "# Inner join produces only the set of records that match in both Table A and Table B\n",
    "pd.merge(df_a, df_b, on='subject_id', how='inner')"
   ]
  },
  {
   "cell_type": "code",
   "execution_count": null,
   "metadata": {},
   "outputs": [],
   "source": [
    "pd.merge(df_a, df_b, on='subject_id', how='right')"
   ]
  },
  {
   "cell_type": "code",
   "execution_count": null,
   "metadata": {},
   "outputs": [],
   "source": [
    "pd.merge(df_a, df_b, on='subject_id', how='left')"
   ]
  },
  {
   "cell_type": "code",
   "execution_count": null,
   "metadata": {},
   "outputs": [],
   "source": [
    "pd.merge(df_a, df_b, on='subject_id', how='left')"
   ]
  },
  {
   "cell_type": "code",
   "execution_count": null,
   "metadata": {},
   "outputs": [],
   "source": [
    "pd.merge(df_a, df_b, right_index=True, left_index=True)"
   ]
  },
  {
   "cell_type": "code",
   "execution_count": null,
   "metadata": {},
   "outputs": [],
   "source": [
    "pd.merge(df_a, df_b, on='subject_id', how='left', suffixes=('_left', '_right'))"
   ]
  }
 ],
 "metadata": {
  "kernelspec": {
   "display_name": "Python 2",
   "language": "python",
   "name": "python2"
  },
  "language_info": {
   "codemirror_mode": {
    "name": "ipython",
    "version": 2
   },
   "file_extension": ".py",
   "mimetype": "text/x-python",
   "name": "python",
   "nbconvert_exporter": "python",
   "pygments_lexer": "ipython2",
   "version": "2.7.13"
  }
 },
 "nbformat": 4,
 "nbformat_minor": 2
}
