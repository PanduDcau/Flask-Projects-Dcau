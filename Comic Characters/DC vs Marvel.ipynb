{
 "cells": [
  {
   "cell_type": "markdown",
   "metadata": {
    "_uuid": "856566e9f87209914598e6523f4e564877fe0840"
   },
   "source": [
    "**Are u a DC or Marvel Fan ?** \n",
    "- Let's Analyze them briefly"
   ]
  },
  {
   "cell_type": "code",
   "execution_count": 6,
   "metadata": {
    "_cell_guid": "b1076dfc-b9ad-4769-8c92-a6c4dae69d19",
    "_uuid": "8f2839f25d086af736a60e9eeb907d3b93b6e0e5"
   },
   "outputs": [],
   "source": [
    "# For example, here's several helpful packages to load in \n",
    "\n",
    "import numpy as np # linear algebra\n",
    "import pandas as pd # data processing, CSV file I/O (e.g. pd.read_csv)\n",
    "import os\n",
    "import matplotlib.pyplot as plt\n",
    "import seaborn as sns\n",
    "import regex as re\n",
    "\n",
    "# For example, running this (by clicking run or pressing Shift+Enter) will list the files in the input directory\n",
    "\n",
    "\n",
    "marvel = pd.read_csv(\"D:\\\\DC Universe\\\\Ucsc\\\\Fourth Year\\\\SCS4224 Final Year Project in Computer Science\\\\Jupyter Notebooks\\\\Marvel_Characters.csv\")\n",
    "dc = pd.read_csv(\"D:\\\\DC Universe\\\\Ucsc\\\\Fourth Year\\\\SCS4224 Final Year Project in Computer Science\\\\Jupyter Notebooks\\\\DC_Characters.csv\")\n",
    "\n",
    "# Any results you write to the current directory are saved as output."
   ]
  },
  {
   "cell_type": "code",
   "execution_count": 7,
   "metadata": {
    "_cell_guid": "79c7e3d0-c299-4dcb-8224-4455121ee9b0",
    "_uuid": "d629ff2d2480ee46fbb7e2d37f6b5fab8052498a"
   },
   "outputs": [
    {
     "name": "stdout",
     "output_type": "stream",
     "text": [
      "marvel\n",
      "        page_id                  name                 urlslug               ID  \\\n",
      "4609      1035   Aeroika (Earth-616)   \\/Aeroika_(Earth-616)              NaN   \n",
      "16270   555583  Kay-Sade (Earth-616)  \\/Kay-Sade_(Earth-616)              NaN   \n",
      "2344     30339      Seer (Earth-616)      \\/Seer_(Earth-616)  Secret Identity   \n",
      "\n",
      "                 ALIGN  EYE        HAIR                SEX  GSM  \\\n",
      "4609               NaN  NaN   Gold Hair    Male Characters  NaN   \n",
      "16270   Bad Characters  NaN        Bald    Male Characters  NaN   \n",
      "2344   Good Characters  NaN  Black Hair  Female Characters  NaN   \n",
      "\n",
      "                   ALIVE  APPEARANCES FIRST APPEARANCE    Year  \n",
      "4609   Living Characters          6.0           Jan-80  1980.0  \n",
      "16270  Living Characters          NaN              NaN     NaN  \n",
      "2344   Living Characters         15.0           Aug-93  1993.0  \n",
      "DC\n",
      "       page_id                        name                             urlslug  \\\n",
      "2419   152090        Arin Sur (New Earth)        \\/wiki\\/Arin_Sur_(New_Earth)   \n",
      "4291    14313  Thaddeus Brown (New Earth)  \\/wiki\\/Thaddeus_Brown_(New_Earth)   \n",
      "5638   211779     Lady Voodoo (New Earth)     \\/wiki\\/Lady_Voodoo_(New_Earth)   \n",
      "\n",
      "                   ID               ALIGN  EYE        HAIR                SEX  \\\n",
      "2419              NaN  Neutral Characters  NaN  Black Hair  Female Characters   \n",
      "4291              NaN     Good Characters  NaN         NaN    Male Characters   \n",
      "5638  Secret Identity                 NaN  NaN         NaN  Female Characters   \n",
      "\n",
      "      GSM                ALIVE  APPEARANCES FIRST APPEARANCE    YEAR  \n",
      "2419  NaN    Living Characters          9.0    2009, October  2009.0  \n",
      "4291  NaN  Deceased Characters          4.0      1971, April  1971.0  \n",
      "5638  NaN    Living Characters          1.0   2010, December  2010.0  \n"
     ]
    }
   ],
   "source": [
    "print (\"marvel\\n\",marvel.sample(3))\n",
    "print (\"DC\\n\",dc.sample(3))"
   ]
  },
  {
   "cell_type": "markdown",
   "metadata": {
    "_uuid": "c481901473492abb5fedab2cc007f9453f608cf0"
   },
   "source": [
    "As you see, Dataset contains\n",
    "* Appearances of Characters, Name of Character, Gender, ALIGN, EYE, HAIR and some more attributes. \n",
    "* I would like to relate ALIGN and these features."
   ]
  },
  {
   "cell_type": "code",
   "execution_count": 8,
   "metadata": {
    "_uuid": "3316f389cae9468546bdd9e910e701f0cea5538c"
   },
   "outputs": [
    {
     "name": "stdout",
     "output_type": "stream",
     "text": [
      "Marvel: (16376, 13)  DC: (6896, 13)\n"
     ]
    }
   ],
   "source": [
    "print(\"Marvel:\",marvel.shape,\" DC:\",dc.shape)"
   ]
  },
  {
   "cell_type": "markdown",
   "metadata": {
    "_uuid": "c368685d9266144600b4adafc1949304d2b77e46"
   },
   "source": [
    "* So, DC has less characters than that of Marvel.\n",
    "* There are many Marvel,DC Appearanes. But I would like to explore on data which have atleast 100 appearances.\n"
   ]
  },
  {
   "cell_type": "code",
   "execution_count": 9,
   "metadata": {
    "_uuid": "5eced1c88ffa6dc809d35900fd871ebc60f48659"
   },
   "outputs": [
    {
     "name": "stdout",
     "output_type": "stream",
     "text": [
      "Marvel: 414  DC: 294\n"
     ]
    }
   ],
   "source": [
    "marvel = marvel[marvel.APPEARANCES >= 100]\n",
    "dc = dc[dc.APPEARANCES>=100]\n",
    "print(\"Marvel:\",len(marvel),\" DC:\",len(dc))"
   ]
  },
  {
   "cell_type": "markdown",
   "metadata": {
    "_uuid": "534c9ca766cb3de56fa77521123b4de9c7bdb102"
   },
   "source": [
    "Let's see the columns"
   ]
  },
  {
   "cell_type": "code",
   "execution_count": 10,
   "metadata": {
    "_uuid": "f317c39450967d15dabe8ea77f262a216b7a4b95"
   },
   "outputs": [
    {
     "name": "stdout",
     "output_type": "stream",
     "text": [
      "MARVEL: Index(['page_id', 'name', 'urlslug', 'ID', 'ALIGN', 'EYE', 'HAIR', 'SEX',\n",
      "       'GSM', 'ALIVE', 'APPEARANCES', 'FIRST APPEARANCE', 'Year'],\n",
      "      dtype='object')\n",
      "DC: Index(['page_id', 'name', 'urlslug', 'ID', 'ALIGN', 'EYE', 'HAIR', 'SEX',\n",
      "       'GSM', 'ALIVE', 'APPEARANCES', 'FIRST APPEARANCE', 'YEAR'],\n",
      "      dtype='object')\n"
     ]
    }
   ],
   "source": [
    "print(\"MARVEL:\",marvel.columns)\n",
    "print(\"DC:\",dc.columns)"
   ]
  },
  {
   "cell_type": "markdown",
   "metadata": {
    "_uuid": "3d9b4561d00b788c37a644d2e8c0185f94cba23f"
   },
   "source": [
    "## So, I would like to remove some columns which are not necessary for my data exploration."
   ]
  },
  {
   "cell_type": "code",
   "execution_count": 11,
   "metadata": {
    "_uuid": "a5d967ebad6629b31480363d4086b22822d34f5a"
   },
   "outputs": [],
   "source": [
    "marvel.drop(columns=['ID','urlslug','GSM','FIRST APPEARANCE','Year'],inplace=True)\n",
    "dc.drop(columns=['ID','urlslug','GSM','FIRST APPEARANCE','YEAR'],inplace=True)"
   ]
  },
  {
   "cell_type": "markdown",
   "metadata": {
    "_uuid": "8dc66ede3cd4267a8abef65d6e996bc1f6564f47"
   },
   "source": [
    "Let's see whether there are any null values...."
   ]
  },
  {
   "cell_type": "code",
   "execution_count": 12,
   "metadata": {
    "_uuid": "9412ebaa01ad380a996d3dff96e9b395500144e3"
   },
   "outputs": [
    {
     "name": "stdout",
     "output_type": "stream",
     "text": [
      "MARVEL\n",
      " page_id         0\n",
      "name            0\n",
      "ALIGN          11\n",
      "EYE            10\n",
      "HAIR            3\n",
      "SEX             3\n",
      "ALIVE           0\n",
      "APPEARANCES     0\n",
      "dtype: int64\n",
      "DC\n",
      " page_id         0\n",
      "name            0\n",
      "ALIGN          32\n",
      "EYE            15\n",
      "HAIR           38\n",
      "SEX             1\n",
      "ALIVE           0\n",
      "APPEARANCES     0\n",
      "dtype: int64\n"
     ]
    }
   ],
   "source": [
    "print(\"MARVEL\\n\",marvel.isna().sum())\n",
    "print(\"DC\\n\",dc.isna().sum())"
   ]
  },
  {
   "cell_type": "markdown",
   "metadata": {
    "_uuid": "cdade1d0aa3729b103bd32709d2051406f1cd5ae"
   },
   "source": [
    "### Let's start exploring,"
   ]
  },
  {
   "cell_type": "code",
   "execution_count": 13,
   "metadata": {
    "_uuid": "c340acba9905264d0e18286652fbb57585c01891"
   },
   "outputs": [
    {
     "name": "stdout",
     "output_type": "stream",
     "text": [
      "Marvel\n",
      " Good Characters       265\n",
      "Bad Characters         75\n",
      "Neutral Characters     63\n",
      "NaN                    11\n",
      "Name: ALIGN, dtype: int64\n",
      "DC\n",
      " Good Characters       211\n",
      "NaN                    32\n",
      "Bad Characters         26\n",
      "Neutral Characters     25\n",
      "Name: ALIGN, dtype: int64\n"
     ]
    }
   ],
   "source": [
    "print(\"Marvel\\n\",marvel.ALIGN.value_counts(dropna=False))\n",
    "print(\"DC\\n\",dc.ALIGN.value_counts(dropna=False))"
   ]
  },
  {
   "cell_type": "markdown",
   "metadata": {
    "_uuid": "2091900c848472d1e51286b7415b5c25ed9d3e6d"
   },
   "source": [
    "#### I would like to replace the missing data of DC,Marvel \"ALIGN\" attribute to Neutral Characters."
   ]
  },
  {
   "cell_type": "code",
   "execution_count": 14,
   "metadata": {
    "_uuid": "0b3472cb2684379371809fb1ef1bebab6949fc5f"
   },
   "outputs": [],
   "source": [
    "marvel.ALIGN.fillna(value = \"Neutral Characters\",inplace = True)\n",
    "dc.ALIGN.fillna(value = \"Neutral Characters\",inplace = True)"
   ]
  },
  {
   "cell_type": "markdown",
   "metadata": {
    "_uuid": "366f88004b84c8d2ef9e7a6f0b0e7139e672cd3d"
   },
   "source": [
    "Let's check it"
   ]
  },
  {
   "cell_type": "code",
   "execution_count": 15,
   "metadata": {
    "_uuid": "f81d3bb8d7cf28d1e38a5d7adca23b6ffa8cf21d"
   },
   "outputs": [
    {
     "name": "stdout",
     "output_type": "stream",
     "text": [
      "MARVEL\n",
      " 0\n",
      "DC\n",
      " 0\n"
     ]
    }
   ],
   "source": [
    "print(\"MARVEL\\n\",marvel.ALIGN.isna().sum())\n",
    "print(\"DC\\n\",dc.ALIGN.isna().sum())"
   ]
  },
  {
   "cell_type": "markdown",
   "metadata": {
    "_uuid": "ea6a0d463238021b261a935c683087b2bbca06c6"
   },
   "source": [
    "### Let's explore on \"EYE\" column.\n"
   ]
  },
  {
   "cell_type": "code",
   "execution_count": 16,
   "metadata": {
    "_uuid": "ed49a2939559fe2070035e40eda5cf0db0abff2a"
   },
   "outputs": [
    {
     "name": "stdout",
     "output_type": "stream",
     "text": [
      "MARVEL\n",
      " Blue Eyes         180\n",
      "Brown Eyes        111\n",
      "Green Eyes         43\n",
      "Red Eyes           14\n",
      "NaN                10\n",
      "Black Eyes         10\n",
      "Hazel Eyes         10\n",
      "White Eyes          9\n",
      "Yellow Eyes         7\n",
      "Grey Eyes           7\n",
      "Variable Eyes       4\n",
      "Gold Eyes           2\n",
      "Black Eyeballs      2\n",
      "Amber Eyes          1\n",
      "Pink Eyes           1\n",
      "Orange Eyes         1\n",
      "Purple Eyes         1\n",
      "Silver Eyes         1\n",
      "Name: EYE, dtype: int64\n",
      "DC\n",
      " Blue Eyes             148\n",
      "Brown Eyes             48\n",
      "Green Eyes             28\n",
      "NaN                    15\n",
      "Black Eyes             14\n",
      "Red Eyes               13\n",
      "Photocellular Eyes      8\n",
      "Grey Eyes               6\n",
      "Yellow Eyes             4\n",
      "Hazel Eyes              4\n",
      "White Eyes              3\n",
      "Purple Eyes             2\n",
      "Amber Eyes              1\n",
      "Name: EYE, dtype: int64\n"
     ]
    }
   ],
   "source": [
    "print(\"MARVEL\\n\",marvel.EYE.value_counts(dropna=False))\n",
    "print(\"DC\\n\",dc.EYE.value_counts(dropna=False))"
   ]
  },
  {
   "cell_type": "markdown",
   "metadata": {
    "_uuid": "1b44862c2d5a57e9af7d9b7b5bc5e1afc846d9d3"
   },
   "source": [
    "#### It has many values. So I would like to generalize them."
   ]
  },
  {
   "cell_type": "code",
   "execution_count": 17,
   "metadata": {
    "_uuid": "9cb66ec1a289ff6b957151cdba5d7c077e2906ba"
   },
   "outputs": [
    {
     "name": "stdout",
     "output_type": "stream",
     "text": [
      "MARVEL\n",
      " Blue Eyes         180\n",
      "Brown Eyes        111\n",
      "Different Eyes     56\n",
      "Green Eyes         43\n",
      "Red Eyes           14\n",
      "Black Eyes         10\n",
      "Name: EYE, dtype: int64\n",
      "DC\n",
      " Blue Eyes         148\n",
      "Brown Eyes         48\n",
      "Different Eyes     43\n",
      "Green Eyes         28\n",
      "Black Eyes         14\n",
      "Red Eyes           13\n",
      "Name: EYE, dtype: int64\n"
     ]
    }
   ],
   "source": [
    "eyes = ['Blue Eyes','Brown Eyes','Green Eyes','Red Eyes','Black Eyes']\n",
    "eyes_after_marvel = []\n",
    "for i in marvel.EYE.values:\n",
    "    if i not in eyes:\n",
    "        eyes_after_marvel.append('Different Eyes')\n",
    "    else:\n",
    "        eyes_after_marvel.append(i)\n",
    "marvel['EYE'] = eyes_after_marvel\n",
    "eyes_after_dc = []\n",
    "for i in dc.EYE.values:\n",
    "    if i not in eyes:\n",
    "        eyes_after_dc.append('Different Eyes')\n",
    "    else:\n",
    "        eyes_after_dc.append(i)\n",
    "dc['EYE'] = eyes_after_dc\n",
    "print(\"MARVEL\\n\",marvel.EYE.value_counts(dropna=False))\n",
    "print(\"DC\\n\",dc.EYE.value_counts(dropna=False))"
   ]
  },
  {
   "cell_type": "markdown",
   "metadata": {
    "_uuid": "a079741de4b8c9d7c4b9924be8623879611798e3"
   },
   "source": [
    "Now, I would like explore data only on Male,Female Characters"
   ]
  },
  {
   "cell_type": "code",
   "execution_count": 18,
   "metadata": {
    "_uuid": "a5b0d832f3020f5d59d9279370d113b3ef83b708"
   },
   "outputs": [
    {
     "name": "stdout",
     "output_type": "stream",
     "text": [
      "Marvel\n",
      " Male Characters           281\n",
      "Female Characters         128\n",
      "NaN                         3\n",
      "Agender Characters          1\n",
      "Genderfluid Characters      1\n",
      "Name: SEX, dtype: int64\n",
      "DC\n",
      " Male Characters      208\n",
      "Female Characters     85\n",
      "NaN                    1\n",
      "Name: SEX, dtype: int64\n"
     ]
    }
   ],
   "source": [
    "print(\"Marvel\\n\",marvel.SEX.value_counts(dropna=False))\n",
    "print(\"DC\\n\",dc.SEX.value_counts(dropna=False))"
   ]
  },
  {
   "cell_type": "code",
   "execution_count": 20,
   "metadata": {
    "_uuid": "ee286cb44348ca8c6ff59de1b8ffafd85404ea3a"
   },
   "outputs": [],
   "source": [
    "#let's take only Male,Female Characters Data\n",
    "marvel = marvel[marvel.SEX.isin([\"Male Characters\",\"Female Characters\"])]\n",
    "dc = dc[dc.SEX.isin([\"Male Characters\",\"Female Characters\"])]"
   ]
  },
  {
   "cell_type": "markdown",
   "metadata": {
    "_uuid": "171073cdcab54037ec7583da2cc6714fe863dc91"
   },
   "source": [
    "#### So, we left with Hair,\n",
    "**Since there are many types in Hair, I would like to generalize it.**"
   ]
  },
  {
   "cell_type": "code",
   "execution_count": 21,
   "metadata": {
    "_uuid": "77815d1d6a7c8267bbda0c6c0b529d18d0407197"
   },
   "outputs": [
    {
     "name": "stdout",
     "output_type": "stream",
     "text": [
      "Marvel\n",
      " Black Hair               106\n",
      "Brown Hair                80\n",
      "Blond Hair                74\n",
      "Red Hair                  32\n",
      "Bald                      24\n",
      "No Hair                   24\n",
      "White Hair                18\n",
      "Strawberry Blond Hair     11\n",
      "Grey Hair                 10\n",
      "Auburn Hair                9\n",
      "Green Hair                 6\n",
      "Blue Hair                  3\n",
      "NaN                        3\n",
      "Silver Hair                3\n",
      "Pink Hair                  1\n",
      "Orange Hair                1\n",
      "Gold Hair                  1\n",
      "Purple Hair                1\n",
      "Variable Hair              1\n",
      "Reddish Blond Hair         1\n",
      "Name: HAIR, dtype: int64\n",
      "DC\n",
      " Black Hair               81\n",
      "Blond Hair               54\n",
      "Brown Hair               50\n",
      "NaN                      37\n",
      "Red Hair                 28\n",
      "White Hair               23\n",
      "Strawberry Blond Hair     7\n",
      "Grey Hair                 7\n",
      "Green Hair                5\n",
      "Silver Hair               1\n",
      "Name: HAIR, dtype: int64\n"
     ]
    }
   ],
   "source": [
    "print(\"Marvel\\n\",marvel.HAIR.value_counts(dropna=False))\n",
    "print(\"DC\\n\",dc.HAIR.value_counts(dropna=False))"
   ]
  },
  {
   "cell_type": "code",
   "execution_count": 22,
   "metadata": {
    "_uuid": "80925253f18df38621dfccb0a2117e6618c69641"
   },
   "outputs": [
    {
     "name": "stdout",
     "output_type": "stream",
     "text": [
      "MARVEL\n",
      " Black Hair               106\n",
      "Brown Hair                80\n",
      "Blond Hair                74\n",
      "Red Hair                  32\n",
      "No Hair                   24\n",
      "Bald                      24\n",
      "Different Hair            21\n",
      "White Hair                18\n",
      "Strawberry Blond Hair     11\n",
      "Grey Hair                 10\n",
      "Auburn Hair                9\n",
      "Name: HAIR, dtype: int64\n",
      "DC\n",
      " Black Hair               81\n",
      "Blond Hair               54\n",
      "Brown Hair               50\n",
      "Different Hair           43\n",
      "Red Hair                 28\n",
      "White Hair               23\n",
      "Strawberry Blond Hair     7\n",
      "Grey Hair                 7\n",
      "Name: HAIR, dtype: int64\n"
     ]
    }
   ],
   "source": [
    "hair = [\"Black Hair\",\"Brown Hair\",\"Blond Hair\",\"Red Hair\",\"Bald\",\"No Hair\",\"White Hair\",\"Strawberry Blond Hair\",\"Grey Hair\",\"Auburn Hair\"]\n",
    "hair_after_marvel = []\n",
    "for i in marvel.HAIR.values:\n",
    "    if i not in hair:\n",
    "        hair_after_marvel.append('Different Hair')\n",
    "    else:\n",
    "        hair_after_marvel.append(i)\n",
    "marvel['HAIR'] = hair_after_marvel\n",
    "hair_after_dc = []\n",
    "for i in dc.HAIR.values:\n",
    "    if i not in hair:\n",
    "        hair_after_dc.append('Different Hair')\n",
    "    else:\n",
    "        hair_after_dc.append(i)\n",
    "dc['HAIR'] = hair_after_dc\n",
    "print(\"MARVEL\\n\",marvel.HAIR.value_counts(dropna=False))\n",
    "print(\"DC\\n\",dc.HAIR.value_counts(dropna=False))"
   ]
  },
  {
   "cell_type": "markdown",
   "metadata": {
    "_uuid": "10e50e290a320fcfd5eecaf68e6a9e65e7ca4e3c"
   },
   "source": [
    "#### Let's see whether the updated data has any missing info"
   ]
  },
  {
   "cell_type": "code",
   "execution_count": 23,
   "metadata": {
    "_uuid": "c888c885841c8e847b5a9f518f56dd2b196b1de1"
   },
   "outputs": [
    {
     "name": "stdout",
     "output_type": "stream",
     "text": [
      "MARVEL\n",
      " page_id        0\n",
      "name           0\n",
      "ALIGN          0\n",
      "EYE            0\n",
      "HAIR           0\n",
      "SEX            0\n",
      "ALIVE          0\n",
      "APPEARANCES    0\n",
      "dtype: int64\n",
      "DC\n",
      " page_id        0\n",
      "name           0\n",
      "ALIGN          0\n",
      "EYE            0\n",
      "HAIR           0\n",
      "SEX            0\n",
      "ALIVE          0\n",
      "APPEARANCES    0\n",
      "dtype: int64\n"
     ]
    }
   ],
   "source": [
    "#so now, data doesn't have any missing values\n",
    "print(\"MARVEL\\n\",marvel.isna().sum())\n",
    "print(\"DC\\n\",dc.isna().sum())\n"
   ]
  },
  {
   "cell_type": "markdown",
   "metadata": {
    "_uuid": "6ba54d14f5ef7512d3f87c8c30979096ebb5451d"
   },
   "source": [
    "* **Data Exploration**"
   ]
  },
  {
   "cell_type": "code",
   "execution_count": 24,
   "metadata": {
    "_uuid": "7ba8ac30163e12af8710d1ae0ccc38456870e587"
   },
   "outputs": [
    {
     "name": "stdout",
     "output_type": "stream",
     "text": [
      "GOOD Characters of MARVEL EYE color\n",
      " Blue Eyes         126\n",
      "Brown Eyes         72\n",
      "Different Eyes     31\n",
      "Green Eyes         26\n",
      "Black Eyes          5\n",
      "Red Eyes            4\n",
      "Name: EYE, dtype: int64\n",
      "GOOD Characters of DC EYE color\n",
      " Blue Eyes         111\n",
      "Brown Eyes         33\n",
      "Different Eyes     33\n",
      "Green Eyes         20\n",
      "Black Eyes          7\n",
      "Red Eyes            6\n",
      "Name: EYE, dtype: int64\n"
     ]
    }
   ],
   "source": [
    "print(\"GOOD Characters of MARVEL EYE color\\n\",marvel[marvel.ALIGN.isin(['Good Characters'])].EYE.value_counts())\n",
    "print(\"GOOD Characters of DC EYE color\\n\",dc[dc.ALIGN.isin(['Good Characters'])].EYE.value_counts())"
   ]
  },
  {
   "cell_type": "markdown",
   "metadata": {
    "_uuid": "cad22784ba631c10c96777ad3601416f5bf0098d"
   },
   "source": [
    "#### Let's see the percentage of Good and bad characters"
   ]
  },
  {
   "cell_type": "code",
   "execution_count": 26,
   "metadata": {
    "_uuid": "405540b26a4dd9fa528aadb885d46f03c038a0e8"
   },
   "outputs": [
    {
     "name": "stdout",
     "output_type": "stream",
     "text": [
      "MARVEL\n",
      " Good Characters       0.645477\n",
      "Bad Characters        0.183374\n",
      "Neutral Characters    0.171149\n",
      "Name: ALIGN, dtype: float64\n",
      "DC\n",
      " Good Characters       0.716724\n",
      "Neutral Characters    0.194539\n",
      "Bad Characters        0.088737\n",
      "Name: ALIGN, dtype: float64\n"
     ]
    },
    {
     "data": {
      "text/plain": [
       "Text(0.5, 1.0, 'MARVEL')"
      ]
     },
     "execution_count": 26,
     "metadata": {},
     "output_type": "execute_result"
    },
    {
     "data": {
      "image/png": "[encoded data removed]",
      "text/plain": [
       "<Figure size 720x576 with 2 Axes>"
      ]
     },
     "metadata": {
      "needs_background": "light"
     },
     "output_type": "display_data"
    }
   ],
   "source": [
    "print(\"MARVEL\\n\",marvel.ALIGN.value_counts(normalize=True))\n",
    "print(\"DC\\n\",dc.ALIGN.value_counts(normalize=True))\n",
    "\n",
    "dc_vc = dc.ALIGN.value_counts(normalize=True).reset_index()\n",
    "marvel_vc = marvel.ALIGN.value_counts(normalize=True).reset_index()\n",
    "fig, axs = plt.subplots(nrows=2)\n",
    "plt.subplots_adjust(hspace=0.5)\n",
    "fig.set_size_inches(10, 8)\n",
    "\n",
    "sns.barplot(x='index',y='ALIGN',data = dc_vc,ax=axs[0]).set_title('DC')\n",
    "sns.barplot(x='index',y='ALIGN',data = marvel_vc,ax=axs[1]).set_title('MARVEL')"
   ]
  },
  {
   "cell_type": "markdown",
   "metadata": {
    "_uuid": "3e5a1e1e7f3d6aa95a25ca47b3c4b1ba5391da1a"
   },
   "source": [
    "Now, We can see that,\n",
    "* DC has **71.6%** Good characters\n",
    "* Marvel has  **64.5%** of Good Characters\n",
    "\n"
   ]
  },
  {
   "cell_type": "markdown",
   "metadata": {
    "_uuid": "f37bca79905bec3ca086ea8da348da773eb00291"
   },
   "source": [
    "#### Let's see some plots and try to find some insights.\n",
    "* Is there any relation between EYES and Characters?"
   ]
  },
  {
   "cell_type": "code",
   "execution_count": 27,
   "metadata": {
    "_uuid": "783633575ca399428443a03bfe639a3184710c56"
   },
   "outputs": [
    {
     "data": {
      "text/plain": [
       "Text(0.5, 1.0, 'MARVEL')"
      ]
     },
     "execution_count": 27,
     "metadata": {},
     "output_type": "execute_result"
    },
    {
     "data": {
      "image/png": "[encoded data removed]",
      "text/plain": [
       "<Figure size 720x360 with 1 Axes>"
      ]
     },
     "metadata": {
      "needs_background": "light"
     },
     "output_type": "display_data"
    }
   ],
   "source": [
    "plt.figure(figsize=(10,5))\n",
    "sns.countplot(x=\"ALIGN\", data=marvel,hue = 'EYE').set_title(\"MARVEL\")"
   ]
  },
  {
   "cell_type": "markdown",
   "metadata": {
    "_uuid": "5e03e3c9a516fd9329e18be68fd97291bdab077e"
   },
   "source": [
    "As we see above, we can say that majority of characters have Blue eyes. But we can't say the proportion.\n",
    "**Bad Characters of MARVEL mostly have Brown Eyes compared to that of Blue eyes.**"
   ]
  },
  {
   "cell_type": "code",
   "execution_count": 28,
   "metadata": {
    "_uuid": "68eb39fde3a1c9fabdaf49ba954b9c02048fdb28"
   },
   "outputs": [
    {
     "data": {
      "text/plain": [
       "Text(0.5, 1.0, 'DC')"
      ]
     },
     "execution_count": 28,
     "metadata": {},
     "output_type": "execute_result"
    },
    {
     "data": {
      "image/png": "[encoded data removed]",
      "text/plain": [
       "<Figure size 720x360 with 1 Axes>"
      ]
     },
     "metadata": {
      "needs_background": "light"
     },
     "output_type": "display_data"
    }
   ],
   "source": [
    "plt.figure(figsize=(10,5))\n",
    "sns.countplot(x=\"ALIGN\", data=dc,hue = 'EYE').set_title(\"DC\")"
   ]
  },
  {
   "cell_type": "markdown",
   "metadata": {
    "_uuid": "9e0ab9620970eff5f2462e0dba7bee5db013d774"
   },
   "source": [
    "**Unless we see in terms of Percentage, we can't analyze.**"
   ]
  },
  {
   "cell_type": "code",
   "execution_count": 29,
   "metadata": {
    "_uuid": "2afbc17f47c660a7d0a8e31afc15471ac3ed22c3"
   },
   "outputs": [
    {
     "data": {
      "text/plain": [
       "Text(0.5, 1.0, 'MARVEL')"
      ]
     },
     "execution_count": 29,
     "metadata": {},
     "output_type": "execute_result"
    },
    {
     "data": {
      "image/png": "[encoded data removed]",
      "text/plain": [
       "<Figure size 720x360 with 1 Axes>"
      ]
     },
     "metadata": {
      "needs_background": "light"
     },
     "output_type": "display_data"
    }
   ],
   "source": [
    "plt.figure(figsize=(10,5))\n",
    "sns.countplot(x=\"ALIGN\", data=marvel,hue = 'HAIR').set_title(\"MARVEL\")"
   ]
  },
  {
   "cell_type": "code",
   "execution_count": 30,
   "metadata": {
    "_uuid": "1a98bc41465a2911a0ebcc2c8120d181d6398f62"
   },
   "outputs": [
    {
     "data": {
      "text/plain": [
       "Text(0.5, 1.0, 'DC')"
      ]
     },
     "execution_count": 30,
     "metadata": {},
     "output_type": "execute_result"
    },
    {
     "data": {
      "image/png": "[encoded data removed]",
      "text/plain": [
       "<Figure size 720x360 with 1 Axes>"
      ]
     },
     "metadata": {
      "needs_background": "light"
     },
     "output_type": "display_data"
    }
   ],
   "source": [
    "plt.figure(figsize=(10,5))\n",
    "sns.countplot(x=\"ALIGN\", data=dc,hue = 'HAIR').set_title(\"DC\")"
   ]
  },
  {
   "cell_type": "markdown",
   "metadata": {
    "_uuid": "2d89e89afaa4cf12b9bc5710ccecb580323902fe"
   },
   "source": [
    "**MARVEL**"
   ]
  },
  {
   "cell_type": "code",
   "execution_count": 31,
   "metadata": {
    "_uuid": "9e5f3b0736e7713c57b9bc7156af9bc62525b5af"
   },
   "outputs": [
    {
     "data": {
      "text/plain": [
       "Text(0.5, 1.0, 'MARVEL')"
      ]
     },
     "execution_count": 31,
     "metadata": {},
     "output_type": "execute_result"
    },
    {
     "data": {
      "image/png": "[encoded data removed]",
      "text/plain": [
       "<Figure size 1080x576 with 1 Axes>"
      ]
     },
     "metadata": {
      "needs_background": "light"
     },
     "output_type": "display_data"
    }
   ],
   "source": [
    "character_eyes = marvel.groupby(['ALIGN','EYE']).count().name.reset_index()\n",
    "character_eyes = character_eyes.groupby(['ALIGN','EYE']).sum().groupby(level=0).apply(lambda x:100 * x / float(x.sum())).reset_index()\n",
    "character_eyes\n",
    "plt.figure(figsize=(15,8))\n",
    "sns.barplot(x=\"ALIGN\",y='name', hue='EYE',data=character_eyes).set_title(\"MARVEL\")"
   ]
  },
  {
   "cell_type": "markdown",
   "metadata": {
    "_uuid": "0295118313e3b6d584407e6ceef063a311292059"
   },
   "source": [
    "**MARVEL**<br>\n",
    "We can see that,\n",
    "* **Red eyes(also Green eyes, different eyes)** constitute more to Bad Characters than that of those contributing to GOOD characters.\n",
    "* **Blue and Brown eyes** constitute to around (70-80 %) for non-bad Characters\n",
    "* But for Bad Characters, **Blue,brown constitute around 60%**\n"
   ]
  },
  {
   "cell_type": "code",
   "execution_count": 32,
   "metadata": {
    "_uuid": "3ebda9131861aadecdfdb207f476a35de15f640f"
   },
   "outputs": [
    {
     "data": {
      "text/plain": [
       "Text(0.5, 1.0, 'DC')"
      ]
     },
     "execution_count": 32,
     "metadata": {},
     "output_type": "execute_result"
    },
    {
     "data": {
      "image/png": "[encoded data removed]",
      "text/plain": [
       "<Figure size 1080x576 with 1 Axes>"
      ]
     },
     "metadata": {
      "needs_background": "light"
     },
     "output_type": "display_data"
    }
   ],
   "source": [
    "character_eyes = dc.groupby(['ALIGN','EYE']).count().name.reset_index()\n",
    "character_eyes = character_eyes.groupby(['ALIGN','EYE']).sum().groupby(level=0).apply(lambda x:100 * x / float(x.sum())).reset_index()\n",
    "character_eyes\n",
    "plt.figure(figsize=(15,8))\n",
    "sns.barplot(x=\"ALIGN\",y='name', hue='EYE',data=character_eyes).set_title(\"DC\")"
   ]
  },
  {
   "cell_type": "markdown",
   "metadata": {
    "_uuid": "c0afbb9a1c817dde44da5142cc4f4d9bbcc7ab3f"
   },
   "source": [
    "**DC**<br>\n",
    "As you see,\n",
    "* **Blue eyes** are common for GOOD,Neutal Characters (>50%) but not for BAD characters\n",
    "* **Green eyes and Red eyes** constitute more percentage for BAD characters compared to that of GOOD characters"
   ]
  },
  {
   "cell_type": "markdown",
   "metadata": {
    "_uuid": "b6665fb1fab5e40121a5e12a12eb6eb9b6636e8e"
   },
   "source": [
    "So, we can generalize that,\n",
    "* if there's any character with **Red eyes, it may align to BAD character**"
   ]
  },
  {
   "cell_type": "markdown",
   "metadata": {
    "_uuid": "31ea19c769b225832bd8f7e928fc59d0fa45d382"
   },
   "source": [
    "Let's see what can we find based on Hair and Align"
   ]
  },
  {
   "cell_type": "code",
   "execution_count": 33,
   "metadata": {
    "_uuid": "ee3c82a33b65b05b7d5c70bf592bbbbc5117e83b"
   },
   "outputs": [
    {
     "data": {
      "text/plain": [
       "Text(0.5, 1.0, 'MARVEL')"
      ]
     },
     "execution_count": 33,
     "metadata": {},
     "output_type": "execute_result"
    },
    {
     "data": {
      "image/png": "[encoded data removed]",
      "text/plain": [
       "<Figure size 1080x576 with 1 Axes>"
      ]
     },
     "metadata": {
      "needs_background": "light"
     },
     "output_type": "display_data"
    }
   ],
   "source": [
    "character_hair = marvel.groupby(['ALIGN','HAIR']).count().name.reset_index()\n",
    "character_hair = character_hair.groupby(['ALIGN','HAIR']).sum().groupby(level=0).apply(lambda x:100 * x / float(x.sum())).reset_index()\n",
    "character_hair\n",
    "plt.figure(figsize=(15,8))\n",
    "sns.barplot(x=\"ALIGN\",y='name', hue='HAIR',data=character_hair).set_title(\"MARVEL\")"
   ]
  },
  {
   "cell_type": "markdown",
   "metadata": {
    "_uuid": "d05aa2c5de98d88bbcea8904a2dde3a8a9e86fe9"
   },
   "source": [
    "**MARVEL** <br>\n",
    "We can see that,\n",
    "* **Bald Hair** percentage for Bad Characters is more than Good Characters.\n",
    "* **Blond Hair** Percentage is less for Bad Characters compared to that of Good Characters.\n",
    "* Also, Different hair has more percentage to Bad Characters compared to that of Good  Characters.\n",
    "* Good Characters has less **Brown Hair** Percentage than that of Bad Characters\n",
    "But still, we can't differentiate Good and Bad characters based on Hair,Eyes"
   ]
  },
  {
   "cell_type": "code",
   "execution_count": 27,
   "metadata": {
    "_uuid": "11ab3c07b692bf3029c43ffc7f7182ff6887f21c"
   },
   "outputs": [
    {
     "data": {
      "text/plain": [
       "Text(0.5, 1.0, 'DC')"
      ]
     },
     "execution_count": 27,
     "metadata": {},
     "output_type": "execute_result"
    },
    {
     "data": {
      "image/png": "[encoded data removed]",
      "text/plain": [
       "<Figure size 1080x576 with 1 Axes>"
      ]
     },
     "metadata": {},
     "output_type": "display_data"
    }
   ],
   "source": [
    "character_hair = dc.groupby(['ALIGN','HAIR']).count().name.reset_index()\n",
    "character_hair = character_hair.groupby(['ALIGN','HAIR']).sum().groupby(level=0).apply(lambda x:100 * x / float(x.sum())).reset_index()\n",
    "character_hair\n",
    "plt.figure(figsize=(15,8))\n",
    "sns.barplot(x=\"ALIGN\",y='name', hue='HAIR',data=character_hair).set_title(\"DC\")"
   ]
  },
  {
   "cell_type": "markdown",
   "metadata": {
    "_uuid": "3cc440d790032851e130810e01443e863d7afd42"
   },
   "source": [
    "**DC** <br>\n",
    "We can see that,\n",
    "* Different Hair percentage for Bad Characters is more than Good Characters.\n",
    "* **Blond Hair Percentage is less for Bad Characters compared to that of Good Characters.**\n",
    "* Good Characters has less Brown Hair Percentage than that of Bad Characters.\n",
    "But still, we can't differentiate Good and Bad characters based on **Hair,Eyes**"
   ]
  },
  {
   "cell_type": "markdown",
   "metadata": {
    "_uuid": "b9ee1ffcf225196ee5f5434dab6a86b365149914"
   },
   "source": [
    "Let's see the Gender of data. "
   ]
  },
  {
   "cell_type": "code",
   "execution_count": 34,
   "metadata": {
    "_uuid": "aedbef6fe7fbf67d10d858d3e4ee6f19d70dc6f7"
   },
   "outputs": [
    {
     "data": {
      "text/plain": [
       "Text(0.5, 1.0, 'MARVEL')"
      ]
     },
     "execution_count": 34,
     "metadata": {},
     "output_type": "execute_result"
    },
    {
     "data": {
      "image/png": "[encoded data removed]",
      "text/plain": [
       "<Figure size 1080x576 with 1 Axes>"
      ]
     },
     "metadata": {
      "needs_background": "light"
     },
     "output_type": "display_data"
    }
   ],
   "source": [
    "character_gender = marvel.groupby(['ALIGN','SEX']).count().name.reset_index()\n",
    "character_gender = character_gender.groupby(['ALIGN','SEX']).sum().groupby(level=0).apply(lambda x:100 * x / float(x.sum())).reset_index()\n",
    "character_gender\n",
    "plt.figure(figsize=(15,8))\n",
    "sns.barplot(x=\"ALIGN\",y='name', hue='SEX',data=character_gender).set_title(\"MARVEL\")"
   ]
  },
  {
   "cell_type": "markdown",
   "metadata": {
    "_uuid": "e6db316319a68b113c23f2317362c4deaf037528"
   },
   "source": [
    "**MARVEL** <br>\n",
    "As we can see,\n",
    "it's almost like\n",
    "* **Good Characters :**\n",
    "*         60 - 40 ratio(Male/Female)\n",
    "\n",
    "* **Bad Characters**\n",
    "*         85 - 15 ratio(Male/Female)"
   ]
  },
  {
   "cell_type": "code",
   "execution_count": 35,
   "metadata": {
    "_uuid": "93d171d06b107ee8db9aa7a5b148d1654ed6ffc7"
   },
   "outputs": [
    {
     "data": {
      "text/plain": [
       "Text(0.5, 1.0, 'CD')"
      ]
     },
     "execution_count": 35,
     "metadata": {},
     "output_type": "execute_result"
    },
    {
     "data": {
      "image/png": "[encoded data removed]",
      "text/plain": [
       "<Figure size 1080x576 with 1 Axes>"
      ]
     },
     "metadata": {
      "needs_background": "light"
     },
     "output_type": "display_data"
    }
   ],
   "source": [
    "character_gender = dc.groupby(['ALIGN','SEX']).count().name.reset_index()\n",
    "character_gender = character_gender.groupby(['ALIGN','SEX']).sum().groupby(level=0).apply(lambda x:100 * x / float(x.sum())).reset_index()\n",
    "character_gender\n",
    "plt.figure(figsize=(15,8))\n",
    "sns.barplot(x=\"ALIGN\",y='name', hue='SEX',data=character_gender).set_title(\"CD\")"
   ]
  },
  {
   "cell_type": "markdown",
   "metadata": {
    "_uuid": "5f48c070a2601f417d4e5c6a873e7377d2dac3fa"
   },
   "source": [
    "**DC** <br>\n",
    "As we can see,\n",
    "it's almost like\n",
    "* **Good Characters :**\n",
    "*         70 - 30 ratio(Male/Female)\n",
    "\n",
    "* **Bad Characters**\n",
    "*         80 - 20 ratio(Male/Female)"
   ]
  },
  {
   "cell_type": "markdown",
   "metadata": {
    "_uuid": "6889be70f8b8c3236e7253c0c83274090d2b4e75"
   },
   "source": [
    "Let's see **DC's & MARVEL's** most Appearances"
   ]
  },
  {
   "cell_type": "code",
   "execution_count": 36,
   "metadata": {
    "_uuid": "729e301adf8236649c65c8ebb9e7d22bed8d4373"
   },
   "outputs": [
    {
     "name": "stdout",
     "output_type": "stream",
     "text": [
      "Top 10 most appearances of DC\n",
      "                               name  APPEARANCES\n",
      "0             Batman (Bruce Wayne)       3093.0\n",
      "1            Superman (Clark Kent)       2496.0\n",
      "2       Green Lantern (Hal Jordan)       1565.0\n",
      "3         James Gordon (New Earth)       1316.0\n",
      "4      Richard Grayson (New Earth)       1237.0\n",
      "5      Wonder Woman (Diana Prince)       1231.0\n",
      "6           Aquaman (Arthur Curry)       1121.0\n",
      "7        Timothy Drake (New Earth)       1095.0\n",
      "8   Dinah Laurel Lance (New Earth)       1075.0\n",
      "10                      GenderTest       1028.0\n",
      "9              Flash (Barry Allen)       1028.0\n",
      "Top 10 most appearances of MARVEL\n",
      "                                   name  APPEARANCES\n",
      "0            Spider-Man (Peter Parker)       4043.0\n",
      "1      Captain America (Steven Rogers)       3360.0\n",
      "2  Wolverine (James \\\"Logan\\\" Howlett)       3061.0\n",
      "3    Iron Man (Anthony \\\"Tony\\\" Stark)       2961.0\n",
      "4                  Thor (Thor Odinson)       2258.0\n",
      "5           Benjamin Grimm (Earth-616)       2255.0\n",
      "6            Reed Richards (Earth-616)       2072.0\n",
      "7           Hulk (Robert Bruce Banner)       2017.0\n",
      "8            Scott Summers (Earth-616)       1955.0\n",
      "9           Jonathan Storm (Earth-616)       1934.0\n"
     ]
    }
   ],
   "source": [
    "print(\"Top 10 most appearances of DC\\n\",dc.sort_values(by='APPEARANCES',ascending=False)[:11][['name','APPEARANCES']])\n",
    "print(\"Top 10 most appearances of MARVEL\\n\",marvel.sort_values(by='APPEARANCES',ascending=False)[:10][['name','APPEARANCES']])\n"
   ]
  },
  {
   "cell_type": "markdown",
   "metadata": {
    "_uuid": "2a1cc9d58c49fc18c7dfe4d101ea2ff3b6c05df9"
   },
   "source": [
    "let's see Death of characters percentage.\n",
    "**MARVEL**"
   ]
  },
  {
   "cell_type": "code",
   "execution_count": 37,
   "metadata": {
    "_uuid": "45622fb6adfe665b90484bf1719a7aa36dc170e8"
   },
   "outputs": [
    {
     "data": {
      "text/plain": [
       "Text(0.5, 1.0, 'MARVEL')"
      ]
     },
     "execution_count": 37,
     "metadata": {},
     "output_type": "execute_result"
    },
    {
     "data": {
      "image/png": "[encoded data removed]",
      "text/plain": [
       "<Figure size 1080x576 with 1 Axes>"
      ]
     },
     "metadata": {
      "needs_background": "light"
     },
     "output_type": "display_data"
    }
   ],
   "source": [
    "character_alive = marvel.groupby(['ALIGN',\"ALIVE\"]).count().name.reset_index()\n",
    "character_alive = character_alive.groupby(['ALIGN',\"ALIVE\"]).sum().groupby(level=0).apply(lambda x:100 * x / float(x.sum())).reset_index()\n",
    "character_alive\n",
    "plt.figure(figsize=(15,8))\n",
    "sns.barplot(x=\"ALIGN\",y='name', hue=\"ALIVE\",data=character_alive).set_title(\"MARVEL\")"
   ]
  },
  {
   "cell_type": "markdown",
   "metadata": {
    "_uuid": "92d102f4696ce5bb2a72bcae0bf62ceda20a2c37"
   },
   "source": [
    "So,\n",
    "* There are more deaths for **Bad Characters** compared to that of Good Characters."
   ]
  },
  {
   "cell_type": "code",
   "execution_count": 38,
   "metadata": {
    "_uuid": "a08db3f88eacb9ffd77720dcb5edf5c0df98660b"
   },
   "outputs": [
    {
     "data": {
      "text/plain": [
       "Text(0.5, 1.0, 'DC')"
      ]
     },
     "execution_count": 38,
     "metadata": {},
     "output_type": "execute_result"
    },
    {
     "data": {
      "image/png": "[encoded data removed]",
      "text/plain": [
       "<Figure size 1080x576 with 1 Axes>"
      ]
     },
     "metadata": {
      "needs_background": "light"
     },
     "output_type": "display_data"
    }
   ],
   "source": [
    "character_alive = dc.groupby(['ALIGN',\"ALIVE\"]).count().name.reset_index()\n",
    "character_alive = character_alive.groupby(['ALIGN',\"ALIVE\"]).sum().groupby(level=0).apply(lambda x:100 * x / float(x.sum())).reset_index()\n",
    "character_alive\n",
    "plt.figure(figsize=(15,8))\n",
    "sns.barplot(x=\"ALIGN\",y='name', hue=\"ALIVE\",data=character_alive).set_title(\"DC\")"
   ]
  },
  {
   "cell_type": "markdown",
   "metadata": {
    "_uuid": "9a711a0594e64075e9a6222bc28af87792e7e51c"
   },
   "source": [
    "So,\n",
    "* There are more deaths for **Neutral Characters** compared to that of other characters."
   ]
  },
  {
   "cell_type": "markdown",
   "metadata": {
    "_uuid": "d1a4325ac72c18a65093bb13f094e754fb89fa88"
   },
   "source": [
    "* There's much more to update. Please give any suggestions for exploring further.\n",
    "- Just an observation..."
   ]
  },
  {
   "cell_type": "code",
   "execution_count": 33,
   "metadata": {
    "_uuid": "61f5ee8bcff47dcd2c57f2fcb11cd351adc8122d"
   },
   "outputs": [],
   "source": []
  }
 ],
 "metadata": {
  "kernelspec": {
   "display_name": "Python 3",
   "language": "python",
   "name": "python3"
  },
  "language_info": {
   "codemirror_mode": {
    "name": "ipython",
    "version": 3
   },
   "file_extension": ".py",
   "mimetype": "text/x-python",
   "name": "python",
   "nbconvert_exporter": "python",
   "pygments_lexer": "ipython3",
   "version": "3.8.8"
  }
 },
 "nbformat": 4,
 "nbformat_minor": 1
}
