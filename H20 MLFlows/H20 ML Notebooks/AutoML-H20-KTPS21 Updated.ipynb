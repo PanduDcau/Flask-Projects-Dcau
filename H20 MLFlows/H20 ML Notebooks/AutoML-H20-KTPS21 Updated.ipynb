{
 "cells": [
  {
   "cell_type": "markdown",
   "id": "ffdcf190",
   "metadata": {},
   "source": [
    "## AutoML using H2O\n",
    "#### Tabular Playground Series - Jan 2021\n",
    "\n",
    "#### Description:\n",
    "\n",
    "In this notebbok we are going to use H2O's AutoML. It is one of the largest used AutoML libraries and is known for giving very good results. For the sake of demonstration I am going to try only for 3 model search but you can always experiement with it and train it for longer duration.\n",
    "\n",
    "The following notebook has been inspired from various tutorials and kernels that have used H2O's AutoML to secure good ranks. Personally I found the results quite satisfactory after using this kernel conisdering the amount of work and time I had to spend to achieve that score."
   ]
  },
  {
   "cell_type": "markdown",
   "id": "3fc1d54c",
   "metadata": {},
   "source": [
    "Specially Work According to this Example [In Here](https://youtu.be/OOB5Fwpo7zQ?list=PLepFSk65ELHhLjvVIvPIwYJ3lnptNdT0R&t=635)"
   ]
  },
  {
   "cell_type": "code",
   "execution_count": 1,
   "id": "f059482e",
   "metadata": {},
   "outputs": [],
   "source": [
    "import numpy as np # linear algebra\n",
    "import pandas as pd # data processing, CSV file I/O (e.g. pd.read_csv)\n",
    "import os\n",
    "for dirname, _, filenames in os.walk('/kaggle/input'):\n",
    "    for filename in filenames:\n",
    "        print(os.path.join(dirname, filename))\n",
    "        "
   ]
  },
  {
   "cell_type": "code",
   "execution_count": 2,
   "id": "6d0aad57",
   "metadata": {},
   "outputs": [
    {
     "name": "stdout",
     "output_type": "stream",
     "text": [
      "Checking whether there is an H2O instance running at http://localhost:54321 ..... not found.\n",
      "Attempting to start a local H2O server...\n",
      "; Java HotSpot(TM) 64-Bit Server VM 18.9 (build 11.0.12+8-LTS-237, mixed mode)\n",
      "  Starting server from C:\\ProgramData\\Anaconda3\\Lib\\site-packages\\h2o\\backend\\bin\\h2o.jar\n",
      "  Ice root: C:\\Users\\Asus\\AppData\\Local\\Temp\\tmpqeo9wasg\n",
      "  JVM stdout: C:\\Users\\Asus\\AppData\\Local\\Temp\\tmpqeo9wasg\\h2o_Asus_started_from_python.out\n",
      "  JVM stderr: C:\\Users\\Asus\\AppData\\Local\\Temp\\tmpqeo9wasg\\h2o_Asus_started_from_python.err\n",
      "  Server is running at http://127.0.0.1:54321\n",
      "Connecting to H2O server at http://127.0.0.1:54321 ... successful.\n"
     ]
    },
    {
     "data": {
      "text/html": [
       "<div style=\"overflow:auto\"><table style=\"width:50%\"><tr><td>H2O_cluster_uptime:</td>\n",
       "<td>25 secs</td></tr>\n",
       "<tr><td>H2O_cluster_timezone:</td>\n",
       "<td>Asia/Colombo</td></tr>\n",
       "<tr><td>H2O_data_parsing_timezone:</td>\n",
       "<td>UTC</td></tr>\n",
       "<tr><td>H2O_cluster_version:</td>\n",
       "<td>3.36.0.2</td></tr>\n",
       "<tr><td>H2O_cluster_version_age:</td>\n",
       "<td>19 days </td></tr>\n",
       "<tr><td>H2O_cluster_name:</td>\n",
       "<td>H2O_from_python_Asus_ciudm9</td></tr>\n",
       "<tr><td>H2O_cluster_total_nodes:</td>\n",
       "<td>1</td></tr>\n",
       "<tr><td>H2O_cluster_free_memory:</td>\n",
       "<td>1.973 Gb</td></tr>\n",
       "<tr><td>H2O_cluster_total_cores:</td>\n",
       "<td>8</td></tr>\n",
       "<tr><td>H2O_cluster_allowed_cores:</td>\n",
       "<td>8</td></tr>\n",
       "<tr><td>H2O_cluster_status:</td>\n",
       "<td>locked, healthy</td></tr>\n",
       "<tr><td>H2O_connection_url:</td>\n",
       "<td>http://127.0.0.1:54321</td></tr>\n",
       "<tr><td>H2O_connection_proxy:</td>\n",
       "<td>{\"http\": null, \"https\": null}</td></tr>\n",
       "<tr><td>H2O_internal_security:</td>\n",
       "<td>False</td></tr>\n",
       "<tr><td>H2O_API_Extensions:</td>\n",
       "<td>Amazon S3, Algos, Infogram, AutoML, Core V3, TargetEncoder, Core V4</td></tr>\n",
       "<tr><td>Python_version:</td>\n",
       "<td>3.8.8 final</td></tr></table></div>"
      ],
      "text/plain": [
       "--------------------------  -------------------------------------------------------------------\n",
       "H2O_cluster_uptime:         25 secs\n",
       "H2O_cluster_timezone:       Asia/Colombo\n",
       "H2O_data_parsing_timezone:  UTC\n",
       "H2O_cluster_version:        3.36.0.2\n",
       "H2O_cluster_version_age:    19 days\n",
       "H2O_cluster_name:           H2O_from_python_Asus_ciudm9\n",
       "H2O_cluster_total_nodes:    1\n",
       "H2O_cluster_free_memory:    1.973 Gb\n",
       "H2O_cluster_total_cores:    8\n",
       "H2O_cluster_allowed_cores:  8\n",
       "H2O_cluster_status:         locked, healthy\n",
       "H2O_connection_url:         http://127.0.0.1:54321\n",
       "H2O_connection_proxy:       {\"http\": null, \"https\": null}\n",
       "H2O_internal_security:      False\n",
       "H2O_API_Extensions:         Amazon S3, Algos, Infogram, AutoML, Core V3, TargetEncoder, Core V4\n",
       "Python_version:             3.8.8 final\n",
       "--------------------------  -------------------------------------------------------------------"
      ]
     },
     "metadata": {},
     "output_type": "display_data"
    }
   ],
   "source": [
    "import h2o\n",
    "from h2o.automl import H2OAutoML\n",
    "h2o.init()"
   ]
  },
  {
   "cell_type": "markdown",
   "id": "c651db7f",
   "metadata": {},
   "source": [
    "## IMPORTING DATASET\n",
    "\n",
    "H2O has its own way of handling datasets and we will need to import them as a file rather than reading them as a csv"
   ]
  },
  {
   "cell_type": "markdown",
   "id": "c16c5e09",
   "metadata": {},
   "source": [
    "Data Set [Download](https://www.kaggle.com/prateekagrawal1405/automl-h20-ktps21/data)"
   ]
  },
  {
   "cell_type": "code",
   "execution_count": 3,
   "id": "89439f6a",
   "metadata": {},
   "outputs": [
    {
     "name": "stdout",
     "output_type": "stream",
     "text": [
      "Parse progress: |████████████████████████████████████████████████████████████████| (done) 100%\n",
      "Parse progress: |████████████████████████████████████████████████████████████████| (done) 100%\n"
     ]
    }
   ],
   "source": [
    "train = h2o.import_file(\"D:\\\\DC Universe\\\\Ucsc\\\\Third Year\\\\ENH 3201 Industrial Placements\\\\H20 Applications\\\\Csv\\\\Automl_train.csv\")\n",
    "test = h2o.import_file(\"D:\\\\DC Universe\\\\Ucsc\\\\Third Year\\\\ENH 3201 Industrial Placements\\\\H20 Applications\\\\Csv\\\\Automl_test.csv\")"
   ]
  },
  {
   "cell_type": "code",
   "execution_count": 4,
   "id": "6542fb09",
   "metadata": {},
   "outputs": [
    {
     "name": "stdout",
     "output_type": "stream",
     "text": [
      "Rows:300000\n",
      "Cols:16\n",
      "\n",
      "\n"
     ]
    },
    {
     "data": {
      "text/html": [
       "<table>\n",
       "<thead>\n",
       "<tr><th>       </th><th>id                </th><th>cont1               </th><th>cont2               </th><th>cont3               </th><th>cont4              </th><th>cont5              </th><th>cont6              </th><th>cont7              </th><th>cont8              </th><th>cont9               </th><th>cont10              </th><th>cont11             </th><th>cont12             </th><th>cont13              </th><th>cont14             </th><th>target            </th></tr>\n",
       "</thead>\n",
       "<tbody>\n",
       "<tr><td>type   </td><td>int               </td><td>real                </td><td>real                </td><td>real                </td><td>real               </td><td>real               </td><td>real               </td><td>real               </td><td>real               </td><td>real                </td><td>real                </td><td>real               </td><td>real               </td><td>real                </td><td>real               </td><td>real              </td></tr>\n",
       "<tr><td>mins   </td><td>1.0               </td><td>-0.08226332148023098</td><td>-0.03139747284868896</td><td>0.020966867357024715</td><td>0.15276142274357513</td><td>0.2763766684547749 </td><td>0.06616556355640804</td><td>-0.0976663005972248</td><td>0.2172599973404939 </td><td>-0.24060419174975897</td><td>-0.08504600359700187</td><td>0.08327673657427467</td><td>0.08863482103728729</td><td>0.029950236962791588</td><td>0.16636741070307134</td><td>0.0               </td></tr>\n",
       "<tr><td>mean   </td><td>249825.14585666676</td><td>0.5068728581831744  </td><td>0.49789800448055244 </td><td>0.521557270350856   </td><td>0.5156828403788964 </td><td>0.5020220135884826 </td><td>0.526515230481892  </td><td>0.4878900924194839 </td><td>0.5251634024127899 </td><td>0.45985740650068835 </td><td>0.5205322691134051  </td><td>0.4839264018841599 </td><td>0.5068765631134305 </td><td>0.5534416142060695  </td><td>0.5037129309246297 </td><td>7.905661328316827 </td></tr>\n",
       "<tr><td>maxs   </td><td>499999.0          </td><td>1.0162274167302328  </td><td>0.8596967694315312  </td><td>1.006954603242489   </td><td>1.010402194425765  </td><td>1.0342608913385214 </td><td>1.0438577299007883 </td><td>1.0661674751074297 </td><td>1.0244272333729485 </td><td>1.0041140988637949  </td><td>1.1999513922566574  </td><td>1.0226201415878613 </td><td>1.0490254841877338 </td><td>0.9778450539552797  </td><td>0.8685064129198011 </td><td>10.267568500800396</td></tr>\n",
       "<tr><td>sigma  </td><td>144476.73256229574</td><td>0.20397619377641654 </td><td>0.22815945314715183 </td><td>0.20077005864001524 </td><td>0.23303548066745422</td><td>0.2207011812354522 </td><td>0.21790897941119114</td><td>0.18109605419380245</td><td>0.2162214743217503 </td><td>0.19668460399631932 </td><td>0.20185419152962938 </td><td>0.22008244024189108</td><td>0.21894739994721196</td><td>0.229730302487058   </td><td>0.20823755996298204</td><td>0.733070830366318 </td></tr>\n",
       "<tr><td>zeros  </td><td>0                 </td><td>0                   </td><td>0                   </td><td>0                   </td><td>0                  </td><td>0                  </td><td>0                  </td><td>0                  </td><td>0                  </td><td>0                   </td><td>0                   </td><td>0                  </td><td>0                  </td><td>0                   </td><td>0                  </td><td>1                 </td></tr>\n",
       "<tr><td>missing</td><td>0                 </td><td>0                   </td><td>0                   </td><td>0                   </td><td>0                  </td><td>0                  </td><td>0                  </td><td>0                  </td><td>0                  </td><td>0                   </td><td>0                   </td><td>0                  </td><td>0                  </td><td>0                   </td><td>0                  </td><td>0                 </td></tr>\n",
       "<tr><td>0      </td><td>1.0               </td><td>0.6703898514390889  </td><td>0.8112995057309422  </td><td>0.6439683093331412  </td><td>0.2917913764510022 </td><td>0.28411737646993296</td><td>0.8559531758452059 </td><td>0.8907004183744506 </td><td>0.2855421109796029 </td><td>0.5582454418515085  </td><td>0.7794183626907151  </td><td>0.9218320519913782 </td><td>0.8667720988813201 </td><td>0.8787327721946618  </td><td>0.3054113450701753 </td><td>7.243042589449295 </td></tr>\n",
       "<tr><td>1      </td><td>3.0               </td><td>0.3880525276975261  </td><td>0.6211042271574185  </td><td>0.6861020924830562  </td><td>0.5011490796546958 </td><td>0.6437895146086654 </td><td>0.449804950718596  </td><td>0.5108237501974809 </td><td>0.5807482361435341 </td><td>0.4183350707888616  </td><td>0.4326316993235111  </td><td>0.4398722862927277 </td><td>0.4349705690738134 </td><td>0.3699574333716138  </td><td>0.3694841682508747 </td><td>8.203331138256422 </td></tr>\n",
       "<tr><td>2      </td><td>4.0               </td><td>0.8349504778390991  </td><td>0.2274363757909521  </td><td>0.3015838588756856  </td><td>0.293408406815278  </td><td>0.6068394934817684 </td><td>0.8291750847270303 </td><td>0.5061434957864068 </td><td>0.5587710129561313 </td><td>0.5876031455771054  </td><td>0.8233116378351174  </td><td>0.5670066799940074 </td><td>0.6777078828596778 </td><td>0.8829380804527522  </td><td>0.3030471034878757 </td><td>7.776090759821726 </td></tr>\n",
       "<tr><td>3      </td><td>5.0               </td><td>0.8207081542149183  </td><td>0.16015502956457528 </td><td>0.5468871637084558  </td><td>0.7261044189928849 </td><td>0.28244376878756194</td><td>0.7851078217967621 </td><td>0.7527582756179138 </td><td>0.8232666215088326 </td><td>0.5744662376705533  </td><td>0.5808425415999219  </td><td>0.7695941842967526 </td><td>0.8181426354764851 </td><td>0.9142814672668492  </td><td>0.2795275931151271 </td><td>6.957715809615326 </td></tr>\n",
       "<tr><td>4      </td><td>8.0               </td><td>0.93527823044286    </td><td>0.4212353750611798  </td><td>0.30380085036062393 </td><td>0.8802143269344298 </td><td>0.6656103512736972 </td><td>0.8301305276393726 </td><td>0.4871129085404026 </td><td>0.6041573087129861 </td><td>0.8746584038465337  </td><td>0.8634266148570693  </td><td>0.98357487168301   </td><td>0.9004639198077785 </td><td>0.9359176729034562  </td><td>0.4357724322454712 </td><td>7.951045833555517 </td></tr>\n",
       "<tr><td>5      </td><td>9.0               </td><td>0.3526225360787047  </td><td>0.2588671467961411  </td><td>0.3273728224648414  </td><td>0.8026268424076495 </td><td>0.2842186325073592 </td><td>0.2968864109875855 </td><td>0.20974276336456896</td><td>0.27371043751967217</td><td>0.30801846384395565 </td><td>0.2358507779254571  </td><td>0.27875997721877244</td><td>0.2514058927988099 </td><td>0.3391349700982119  </td><td>0.2931289726164049 </td><td>7.34687355039726  </td></tr>\n",
       "<tr><td>6      </td><td>11.0              </td><td>0.25909567079765744 </td><td>0.8039337839519766  </td><td>0.5808997906937371  </td><td>0.3228844761696548 </td><td>0.9847053347075044 </td><td>0.3782467858544095 </td><td>0.4328209582206266 </td><td>0.5620593173432448 </td><td>0.2909653359906609  </td><td>0.3165429314457113  </td><td>0.2191923221863959 </td><td>0.3269768681738661 </td><td>0.4586528381212767  </td><td>0.24429991565928183</td><td>8.616236578558986 </td></tr>\n",
       "<tr><td>7      </td><td>12.0              </td><td>0.4816097380821684  </td><td>0.8054457818596326  </td><td>0.23583648504262675 </td><td>0.3650105165819365 </td><td>0.734724860042979  </td><td>0.4048247994706665 </td><td>0.4650612593719558 </td><td>0.5787940314156553 </td><td>0.418806626993553   </td><td>0.4519575950550662  </td><td>0.4587204038047759 </td><td>0.5865860392582639 </td><td>0.32102575724489346 </td><td>0.8346939196933516 </td><td>6.833895084486218 </td></tr>\n",
       "<tr><td>8      </td><td>13.0              </td><td>0.6679199699053898  </td><td>0.7764222135678271  </td><td>0.25515374173270633 </td><td>0.8695977896716062 </td><td>0.6780672761482411 </td><td>0.4752738045589466 </td><td>0.4932897497667595 </td><td>0.6387792590088195 </td><td>0.4910233620909492  </td><td>0.6174505366502464  </td><td>0.4133521702026971 </td><td>0.4855580575826389 </td><td>0.4740551923345516  </td><td>0.6083740858458554 </td><td>8.540793313805546 </td></tr>\n",
       "<tr><td>9      </td><td>15.0              </td><td>0.9377512654067128  </td><td>0.23648210244566936 </td><td>0.216445343778888   </td><td>0.4764631140542655 </td><td>0.2836416546835309 </td><td>0.4567625900639874 </td><td>0.3164162958565284 </td><td>0.7856015321173294 </td><td>0.6958449976904921  </td><td>0.37094138926674985 </td><td>0.4368349565383352 </td><td>0.8262777896597665 </td><td>0.8567484081919182  </td><td>0.4185927793994083 </td><td>7.701052797339636 </td></tr>\n",
       "</tbody>\n",
       "</table>"
      ]
     },
     "metadata": {},
     "output_type": "display_data"
    }
   ],
   "source": [
    "train.describe()"
   ]
  },
  {
   "cell_type": "code",
   "execution_count": 5,
   "id": "43df133c",
   "metadata": {},
   "outputs": [],
   "source": [
    "# Prepare the data\n",
    "\n",
    "y = 'target'\n",
    "x = train.columns\n",
    "x.remove(y)\n",
    "x.remove('id')"
   ]
  },
  {
   "cell_type": "code",
   "execution_count": 6,
   "id": "36280559",
   "metadata": {},
   "outputs": [
    {
     "name": "stdout",
     "output_type": "stream",
     "text": [
      "AutoML progress: |\n",
      "12:28:40.864: AutoML: XGBoost is not available; skipping it.\n",
      "12:28:40.918: Step 'best_of_family_xgboost' not defined in provider 'StackedEnsemble': skipping it.\n",
      "12:28:40.919: Step 'all_xgboost' not defined in provider 'StackedEnsemble': skipping it.\n",
      "\n",
      "███████████████████████████████████████████████████████████████| (done) 100%\n",
      "Model Details\n",
      "=============\n",
      "H2OStackedEnsembleEstimator :  Stacked Ensemble\n",
      "Model Key:  StackedEnsemble_BestOfFamily_4_AutoML_1_20220214_122840\n",
      "\n",
      "No model summary for this model\n",
      "\n",
      "ModelMetricsRegressionGLM: stackedensemble\n",
      "** Reported on train data. **\n",
      "\n",
      "MSE: 0.38026560393646774\n",
      "RMSE: 0.6166567959055246\n",
      "MAE: 0.514275774952512\n",
      "RMSLE: 0.0726438770828844\n",
      "R^2: 0.30585592688903773\n",
      "Mean Residual Deviance: 0.38026560393646774\n",
      "Null degrees of freedom: 9922\n",
      "Residual degrees of freedom: 9920\n",
      "Null deviance: 5436.644077672281\n",
      "Residual deviance: 3773.3755878615693\n",
      "AIC: 18573.85117214369\n",
      "\n",
      "ModelMetricsRegressionGLM: stackedensemble\n",
      "** Reported on cross-validation data. **\n",
      "\n",
      "MSE: 0.48966897558949163\n",
      "RMSE: 0.6997635140456322\n",
      "MAE: 0.5860298157008295\n",
      "RMSLE: 0.07958104509289674\n",
      "R^2: 0.08880325641035591\n",
      "Mean Residual Deviance: 0.48966897558949163\n",
      "Null degrees of freedom: 299999\n",
      "Residual degrees of freedom: 299997\n",
      "Null deviance: 161218.30900273603\n",
      "Residual deviance: 146900.69267684748\n",
      "AIC: 637163.4170650822\n"
     ]
    },
    {
     "data": {
      "text/plain": []
     },
     "execution_count": 6,
     "metadata": {},
     "output_type": "execute_result"
    }
   ],
   "source": [
    "# max_models can be played around with and seed as well. Greater the number of max_models greater is the time that its gonna take. The best part about it is that\n",
    "# It even tries out various ensemble models.\n",
    "aml = H2OAutoML(max_models = 3, seed = 1)\n",
    "aml.train(x = x, y = y, training_frame = train)"
   ]
  },
  {
   "cell_type": "code",
   "execution_count": 13,
   "id": "5cc0eb23",
   "metadata": {},
   "outputs": [],
   "source": [
    "# h20 saves the models in a table format where it has the model name and the various parameters such as rmse, mse, mae and more\n",
    "lb = aml.leaderboard"
   ]
  },
  {
   "cell_type": "code",
   "execution_count": 14,
   "id": "6edbf3aa",
   "metadata": {},
   "outputs": [
    {
     "data": {
      "text/html": [
       "<table>\n",
       "<thead>\n",
       "<tr><th>model_id                                               </th><th style=\"text-align: right;\">  mean_residual_deviance</th><th style=\"text-align: right;\">    rmse</th><th style=\"text-align: right;\">     mse</th><th style=\"text-align: right;\">     mae</th><th style=\"text-align: right;\">    rmsle</th></tr>\n",
       "</thead>\n",
       "<tbody>\n",
       "<tr><td>StackedEnsemble_BestOfFamily_4_AutoML_1_20220214_122840</td><td style=\"text-align: right;\">                0.489669</td><td style=\"text-align: right;\">0.699764</td><td style=\"text-align: right;\">0.489669</td><td style=\"text-align: right;\">0.58603 </td><td style=\"text-align: right;\">0.079581 </td></tr>\n",
       "<tr><td>StackedEnsemble_BestOfFamily_3_AutoML_1_20220214_122840</td><td style=\"text-align: right;\">                0.489828</td><td style=\"text-align: right;\">0.699877</td><td style=\"text-align: right;\">0.489828</td><td style=\"text-align: right;\">0.585433</td><td style=\"text-align: right;\">0.0795909</td></tr>\n",
       "<tr><td>GBM_1_AutoML_1_20220214_122840                         </td><td style=\"text-align: right;\">                0.490354</td><td style=\"text-align: right;\">0.700253</td><td style=\"text-align: right;\">0.490354</td><td style=\"text-align: right;\">0.585107</td><td style=\"text-align: right;\">0.0796286</td></tr>\n",
       "<tr><td>DRF_1_AutoML_1_20220214_122840                         </td><td style=\"text-align: right;\">                0.499144</td><td style=\"text-align: right;\">0.706502</td><td style=\"text-align: right;\">0.499144</td><td style=\"text-align: right;\">0.592037</td><td style=\"text-align: right;\">0.080333 </td></tr>\n",
       "<tr><td>StackedEnsemble_BestOfFamily_2_AutoML_1_20220214_122840</td><td style=\"text-align: right;\">                0.511337</td><td style=\"text-align: right;\">0.715078</td><td style=\"text-align: right;\">0.511337</td><td style=\"text-align: right;\">0.604693</td><td style=\"text-align: right;\">0.0812937</td></tr>\n",
       "<tr><td>StackedEnsemble_BestOfFamily_1_AutoML_1_20220214_122840</td><td style=\"text-align: right;\">                0.511338</td><td style=\"text-align: right;\">0.715079</td><td style=\"text-align: right;\">0.511338</td><td style=\"text-align: right;\">0.604693</td><td style=\"text-align: right;\">0.0812938</td></tr>\n",
       "<tr><td>GLM_1_AutoML_1_20220214_122840                         </td><td style=\"text-align: right;\">                0.527426</td><td style=\"text-align: right;\">0.726241</td><td style=\"text-align: right;\">0.527426</td><td style=\"text-align: right;\">0.612557</td><td style=\"text-align: right;\">0.0825579</td></tr>\n",
       "</tbody>\n",
       "</table>"
      ]
     },
     "metadata": {},
     "output_type": "display_data"
    },
    {
     "data": {
      "text/plain": []
     },
     "execution_count": 14,
     "metadata": {},
     "output_type": "execute_result"
    }
   ],
   "source": [
    "# Let's have a look at some of the rows in the table.\n",
    "lb.head()"
   ]
  },
  {
   "cell_type": "code",
   "execution_count": 15,
   "id": "f863fe02",
   "metadata": {},
   "outputs": [
    {
     "data": {
      "text/html": [
       "<table>\n",
       "<thead>\n",
       "<tr><th>model_id                                               </th><th style=\"text-align: right;\">  mean_residual_deviance</th><th style=\"text-align: right;\">    rmse</th><th style=\"text-align: right;\">     mse</th><th style=\"text-align: right;\">     mae</th><th style=\"text-align: right;\">    rmsle</th></tr>\n",
       "</thead>\n",
       "<tbody>\n",
       "<tr><td>StackedEnsemble_BestOfFamily_4_AutoML_1_20220214_122840</td><td style=\"text-align: right;\">                0.489669</td><td style=\"text-align: right;\">0.699764</td><td style=\"text-align: right;\">0.489669</td><td style=\"text-align: right;\">0.58603 </td><td style=\"text-align: right;\">0.079581 </td></tr>\n",
       "<tr><td>StackedEnsemble_BestOfFamily_3_AutoML_1_20220214_122840</td><td style=\"text-align: right;\">                0.489828</td><td style=\"text-align: right;\">0.699877</td><td style=\"text-align: right;\">0.489828</td><td style=\"text-align: right;\">0.585433</td><td style=\"text-align: right;\">0.0795909</td></tr>\n",
       "<tr><td>GBM_1_AutoML_1_20220214_122840                         </td><td style=\"text-align: right;\">                0.490354</td><td style=\"text-align: right;\">0.700253</td><td style=\"text-align: right;\">0.490354</td><td style=\"text-align: right;\">0.585107</td><td style=\"text-align: right;\">0.0796286</td></tr>\n",
       "<tr><td>DRF_1_AutoML_1_20220214_122840                         </td><td style=\"text-align: right;\">                0.499144</td><td style=\"text-align: right;\">0.706502</td><td style=\"text-align: right;\">0.499144</td><td style=\"text-align: right;\">0.592037</td><td style=\"text-align: right;\">0.080333 </td></tr>\n",
       "<tr><td>StackedEnsemble_BestOfFamily_2_AutoML_1_20220214_122840</td><td style=\"text-align: right;\">                0.511337</td><td style=\"text-align: right;\">0.715078</td><td style=\"text-align: right;\">0.511337</td><td style=\"text-align: right;\">0.604693</td><td style=\"text-align: right;\">0.0812937</td></tr>\n",
       "<tr><td>StackedEnsemble_BestOfFamily_1_AutoML_1_20220214_122840</td><td style=\"text-align: right;\">                0.511338</td><td style=\"text-align: right;\">0.715079</td><td style=\"text-align: right;\">0.511338</td><td style=\"text-align: right;\">0.604693</td><td style=\"text-align: right;\">0.0812938</td></tr>\n",
       "<tr><td>GLM_1_AutoML_1_20220214_122840                         </td><td style=\"text-align: right;\">                0.527426</td><td style=\"text-align: right;\">0.726241</td><td style=\"text-align: right;\">0.527426</td><td style=\"text-align: right;\">0.612557</td><td style=\"text-align: right;\">0.0825579</td></tr>\n",
       "</tbody>\n",
       "</table>"
      ]
     },
     "metadata": {},
     "output_type": "display_data"
    },
    {
     "data": {
      "text/plain": []
     },
     "execution_count": 15,
     "metadata": {},
     "output_type": "execute_result"
    }
   ],
   "source": [
    "# To view all the models and their scores we can use the rows function to display all of them.\n",
    "lb.head(rows=lb.nrows)"
   ]
  },
  {
   "cell_type": "code",
   "execution_count": 16,
   "id": "1607f2fb",
   "metadata": {},
   "outputs": [],
   "source": [
    "# choose the best model which is the first record in the table as our model.\n",
    "model = aml.leader"
   ]
  },
  {
   "cell_type": "code",
   "execution_count": 17,
   "id": "8d26d6b4",
   "metadata": {},
   "outputs": [
    {
     "name": "stdout",
     "output_type": "stream",
     "text": [
      "stackedensemble prediction progress: |███████████████████████████████████████████| (done) 100%\n"
     ]
    }
   ],
   "source": [
    "# use the leader model to predict on the test dataset. Note we are using the test file imported in h2o and not the dataframe/\n",
    "preds = model.predict(test)"
   ]
  },
  {
   "cell_type": "code",
   "execution_count": 18,
   "id": "b7be1fde",
   "metadata": {
    "scrolled": true
   },
   "outputs": [
    {
     "data": {
      "text/plain": [
       "0         8.002813\n",
       "1         7.856504\n",
       "2         7.981198\n",
       "3         8.186579\n",
       "4         8.109929\n",
       "            ...   \n",
       "199995    8.133507\n",
       "199996    8.078163\n",
       "199997    8.179134\n",
       "199998    7.909408\n",
       "199999    7.858966\n",
       "Name: predict, Length: 200000, dtype: float64"
      ]
     },
     "execution_count": 18,
     "metadata": {},
     "output_type": "execute_result"
    }
   ],
   "source": [
    "# convert the predicts into a list using the as_list function adn then create our final submission file.\n",
    "final = h2o.as_list(preds)\n",
    "final['predict']"
   ]
  },
  {
   "cell_type": "code",
   "execution_count": 21,
   "id": "7a1f97c2",
   "metadata": {},
   "outputs": [],
   "source": [
    "test_df = pd.read_csv(\"D:\\\\DC Universe\\\\Ucsc\\\\Third Year\\\\ENH 3201 Industrial Placements\\\\H20 Applications\\\\Csv\\\\Automl_test.csv\")"
   ]
  },
  {
   "cell_type": "code",
   "execution_count": 24,
   "id": "52e6b7a5",
   "metadata": {},
   "outputs": [
    {
     "data": {
      "text/plain": [
       "Index(['id', 'cont1', 'cont2', 'cont3', 'cont4', 'cont5', 'cont6', 'cont7',\n",
       "       'cont8', 'cont9', 'cont10', 'cont11', 'cont12', 'cont13', 'cont14'],\n",
       "      dtype='object')"
      ]
     },
     "execution_count": 24,
     "metadata": {},
     "output_type": "execute_result"
    }
   ],
   "source": [
    "test_df.columns"
   ]
  },
  {
   "cell_type": "code",
   "execution_count": 25,
   "id": "e9dafbd3",
   "metadata": {},
   "outputs": [],
   "source": [
    "sub = pd.DataFrame()\n",
    "sub['id'] = test_df['id']\n",
    "sub['target'] = final['predict']\n",
    "# sub.to_csv('submission.csv',index=False)"
   ]
  },
  {
   "cell_type": "code",
   "execution_count": 26,
   "id": "b4aaa49c",
   "metadata": {},
   "outputs": [
    {
     "data": {
      "text/html": [
       "<div>\n",
       "<style scoped>\n",
       "    .dataframe tbody tr th:only-of-type {\n",
       "        vertical-align: middle;\n",
       "    }\n",
       "\n",
       "    .dataframe tbody tr th {\n",
       "        vertical-align: top;\n",
       "    }\n",
       "\n",
       "    .dataframe thead th {\n",
       "        text-align: right;\n",
       "    }\n",
       "</style>\n",
       "<table border=\"1\" class=\"dataframe\">\n",
       "  <thead>\n",
       "    <tr style=\"text-align: right;\">\n",
       "      <th></th>\n",
       "      <th>id</th>\n",
       "      <th>target</th>\n",
       "    </tr>\n",
       "  </thead>\n",
       "  <tbody>\n",
       "    <tr>\n",
       "      <th>0</th>\n",
       "      <td>0</td>\n",
       "      <td>8.002813</td>\n",
       "    </tr>\n",
       "    <tr>\n",
       "      <th>1</th>\n",
       "      <td>2</td>\n",
       "      <td>7.856504</td>\n",
       "    </tr>\n",
       "    <tr>\n",
       "      <th>2</th>\n",
       "      <td>6</td>\n",
       "      <td>7.981198</td>\n",
       "    </tr>\n",
       "    <tr>\n",
       "      <th>3</th>\n",
       "      <td>7</td>\n",
       "      <td>8.186579</td>\n",
       "    </tr>\n",
       "    <tr>\n",
       "      <th>4</th>\n",
       "      <td>10</td>\n",
       "      <td>8.109929</td>\n",
       "    </tr>\n",
       "    <tr>\n",
       "      <th>5</th>\n",
       "      <td>14</td>\n",
       "      <td>7.988252</td>\n",
       "    </tr>\n",
       "    <tr>\n",
       "      <th>6</th>\n",
       "      <td>16</td>\n",
       "      <td>8.039023</td>\n",
       "    </tr>\n",
       "    <tr>\n",
       "      <th>7</th>\n",
       "      <td>17</td>\n",
       "      <td>7.823659</td>\n",
       "    </tr>\n",
       "    <tr>\n",
       "      <th>8</th>\n",
       "      <td>18</td>\n",
       "      <td>7.842768</td>\n",
       "    </tr>\n",
       "    <tr>\n",
       "      <th>9</th>\n",
       "      <td>19</td>\n",
       "      <td>7.782403</td>\n",
       "    </tr>\n",
       "  </tbody>\n",
       "</table>\n",
       "</div>"
      ],
      "text/plain": [
       "   id    target\n",
       "0   0  8.002813\n",
       "1   2  7.856504\n",
       "2   6  7.981198\n",
       "3   7  8.186579\n",
       "4  10  8.109929\n",
       "5  14  7.988252\n",
       "6  16  8.039023\n",
       "7  17  7.823659\n",
       "8  18  7.842768\n",
       "9  19  7.782403"
      ]
     },
     "execution_count": 26,
     "metadata": {},
     "output_type": "execute_result"
    }
   ],
   "source": [
    "sub.head(10)"
   ]
  },
  {
   "cell_type": "code",
   "execution_count": null,
   "id": "208cb413",
   "metadata": {},
   "outputs": [],
   "source": []
  }
 ],
 "metadata": {
  "kernelspec": {
   "display_name": "Python 3",
   "language": "python",
   "name": "python3"
  },
  "language_info": {
   "codemirror_mode": {
    "name": "ipython",
    "version": 3
   },
   "file_extension": ".py",
   "mimetype": "text/x-python",
   "name": "python",
   "nbconvert_exporter": "python",
   "pygments_lexer": "ipython3",
   "version": "3.8.8"
  }
 },
 "nbformat": 4,
 "nbformat_minor": 5
}
