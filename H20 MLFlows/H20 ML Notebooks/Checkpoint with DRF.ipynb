{
 "cells": [
  {
   "cell_type": "markdown",
   "id": "32ad2187",
   "metadata": {},
   "source": [
    "In DRF, `checkpoint` can be used to continue training on the same dataset for additional iterations, or continue training on new data for additional iterations.\n",
    "\n",
    "**Note:** The following parameters cannot be modified during checkpointing:\n",
    "\n",
    "\n",
    "*   build_tree_one_node\n",
    "*   max_depth\n",
    "*   min_rows\n",
    "*   nbins\n",
    "*   nbins_cats\n",
    "*   nbins_top_level\n",
    "*   sample_rate"
   ]
  },
  {
   "cell_type": "markdown",
   "id": "2f6b1280",
   "metadata": {},
   "source": [
    "The following example **demonstrates how to build a distributed random forest model that will later be used for checkpointing**. This checkpoint example shows how to continue training on an existing model and also builds with new data. This example uses the cars dataset, which classifies whether or not a car is economical based on the car’s displacement, power, weight, and acceleration, and the year it was made."
   ]
  },
  {
   "cell_type": "code",
   "execution_count": 1,
   "id": "18f5f9b7",
   "metadata": {},
   "outputs": [
    {
     "name": "stdout",
     "output_type": "stream",
     "text": [
      "Checking whether there is an H2O instance running at http://localhost:54321 ..... not found.\n",
      "Attempting to start a local H2O server...\n",
      "; Java HotSpot(TM) 64-Bit Server VM 18.9 (build 11.0.12+8-LTS-237, mixed mode)\n",
      "  Starting server from C:\\ProgramData\\Anaconda3\\Lib\\site-packages\\h2o\\backend\\bin\\h2o.jar\n",
      "  Ice root: C:\\Users\\Asus\\AppData\\Local\\Temp\\tmpqjoe1gql\n",
      "  JVM stdout: C:\\Users\\Asus\\AppData\\Local\\Temp\\tmpqjoe1gql\\h2o_Asus_started_from_python.out\n",
      "  JVM stderr: C:\\Users\\Asus\\AppData\\Local\\Temp\\tmpqjoe1gql\\h2o_Asus_started_from_python.err\n",
      "  Server is running at http://127.0.0.1:54321\n",
      "Connecting to H2O server at http://127.0.0.1:54321 ... successful.\n"
     ]
    },
    {
     "data": {
      "text/html": [
       "<div style=\"overflow:auto\"><table style=\"width:50%\"><tr><td>H2O_cluster_uptime:</td>\n",
       "<td>09 secs</td></tr>\n",
       "<tr><td>H2O_cluster_timezone:</td>\n",
       "<td>Asia/Colombo</td></tr>\n",
       "<tr><td>H2O_data_parsing_timezone:</td>\n",
       "<td>UTC</td></tr>\n",
       "<tr><td>H2O_cluster_version:</td>\n",
       "<td>3.36.0.2</td></tr>\n",
       "<tr><td>H2O_cluster_version_age:</td>\n",
       "<td>28 days, 18 hours and 33 minutes </td></tr>\n",
       "<tr><td>H2O_cluster_name:</td>\n",
       "<td>H2O_from_python_Asus_v4ez02</td></tr>\n",
       "<tr><td>H2O_cluster_total_nodes:</td>\n",
       "<td>1</td></tr>\n",
       "<tr><td>H2O_cluster_free_memory:</td>\n",
       "<td>1.973 Gb</td></tr>\n",
       "<tr><td>H2O_cluster_total_cores:</td>\n",
       "<td>8</td></tr>\n",
       "<tr><td>H2O_cluster_allowed_cores:</td>\n",
       "<td>8</td></tr>\n",
       "<tr><td>H2O_cluster_status:</td>\n",
       "<td>locked, healthy</td></tr>\n",
       "<tr><td>H2O_connection_url:</td>\n",
       "<td>http://127.0.0.1:54321</td></tr>\n",
       "<tr><td>H2O_connection_proxy:</td>\n",
       "<td>{\"http\": null, \"https\": null}</td></tr>\n",
       "<tr><td>H2O_internal_security:</td>\n",
       "<td>False</td></tr>\n",
       "<tr><td>H2O_API_Extensions:</td>\n",
       "<td>Amazon S3, Algos, Infogram, AutoML, Core V3, TargetEncoder, Core V4</td></tr>\n",
       "<tr><td>Python_version:</td>\n",
       "<td>3.8.8 final</td></tr></table></div>"
      ],
      "text/plain": [
       "--------------------------  -------------------------------------------------------------------\n",
       "H2O_cluster_uptime:         09 secs\n",
       "H2O_cluster_timezone:       Asia/Colombo\n",
       "H2O_data_parsing_timezone:  UTC\n",
       "H2O_cluster_version:        3.36.0.2\n",
       "H2O_cluster_version_age:    28 days, 18 hours and 33 minutes\n",
       "H2O_cluster_name:           H2O_from_python_Asus_v4ez02\n",
       "H2O_cluster_total_nodes:    1\n",
       "H2O_cluster_free_memory:    1.973 Gb\n",
       "H2O_cluster_total_cores:    8\n",
       "H2O_cluster_allowed_cores:  8\n",
       "H2O_cluster_status:         locked, healthy\n",
       "H2O_connection_url:         http://127.0.0.1:54321\n",
       "H2O_connection_proxy:       {\"http\": null, \"https\": null}\n",
       "H2O_internal_security:      False\n",
       "H2O_API_Extensions:         Amazon S3, Algos, Infogram, AutoML, Core V3, TargetEncoder, Core V4\n",
       "Python_version:             3.8.8 final\n",
       "--------------------------  -------------------------------------------------------------------"
      ]
     },
     "metadata": {},
     "output_type": "display_data"
    }
   ],
   "source": [
    "import h2o\n",
    "from h2o.estimators.random_forest import H2ORandomForestEstimator\n",
    "h2o.init()"
   ]
  },
  {
   "cell_type": "markdown",
   "id": "e7666f24",
   "metadata": {},
   "source": [
    "## Data Processing"
   ]
  },
  {
   "cell_type": "code",
   "execution_count": 2,
   "id": "6d838d3a",
   "metadata": {},
   "outputs": [],
   "source": [
    "import pandas as pd"
   ]
  },
  {
   "cell_type": "code",
   "execution_count": 3,
   "id": "a4c62270",
   "metadata": {},
   "outputs": [
    {
     "name": "stdout",
     "output_type": "stream",
     "text": [
      "Parse progress: |████████████████████████████████████████████████████████████████| (done) 100%\n",
      "Parse progress: |████████████████████████████████████████████████████████████████| (done) 100%\n"
     ]
    }
   ],
   "source": [
    "train = pd.read_csv(\"D:\\\\DC Universe\\\\Ucsc\\\\Third Year\\\\ENH 3201 Industrial Placements\\\\H20 Applications\\\\H20 ML Notebooks\\\\H20Csv\\\\Titanic\\\\titanic_train.csv\")\n",
    "test = pd.read_csv(\"D:\\\\DC Universe\\\\Ucsc\\\\Third Year\\\\ENH 3201 Industrial Placements\\\\H20 Applications\\\\H20 ML Notebooks\\\\H20Csv\\\\Titanic\\\\titanic_test.csv\")\n",
    "subs = pd.read_csv('D:\\\\DC Universe\\\\Ucsc\\\\Third Year\\\\ENH 3201 Industrial Placements\\\\H20 Applications\\\\H20 ML Notebooks\\\\H20Csv\\\\Titanic\\\\gender_submission.csv')\n",
    "\n",
    "drop_elements = ['PassengerId', 'Name', 'Ticket', 'Cabin', 'SibSp','Parch']\n",
    "train = train.drop(drop_elements, axis = 1)\n",
    "test = test.drop(drop_elements, axis = 1)\n",
    "\n",
    "def checkNull_fillData(df):\n",
    "    for col in df.columns:\n",
    "        if len(df.loc[df[col].isnull() == True]) != 0:\n",
    "            if df[col].dtype == \"float64\" or df[col].dtype == \"int64\":\n",
    "                df.loc[df[col].isnull() == True,col] = df[col].mean()\n",
    "            else:\n",
    "                df.loc[df[col].isnull() == True,col] = df[col].mode()[0]\n",
    "                \n",
    "checkNull_fillData(train)\n",
    "checkNull_fillData(test)\n",
    "\n",
    "str_list = [] \n",
    "num_list = []\n",
    "for colname, colvalue in train.iteritems():\n",
    "    if type(colvalue[1]) == str:\n",
    "        str_list.append(colname)\n",
    "    else:\n",
    "        num_list.append(colname)\n",
    "        \n",
    "train = pd.get_dummies(train, columns=str_list)\n",
    "test = pd.get_dummies(test, columns=str_list)\n",
    "\n",
    "train = h2o.H2OFrame(train)\n",
    "test = h2o.H2OFrame(test)"
   ]
  },
  {
   "cell_type": "code",
   "execution_count": 4,
   "id": "caa323ab",
   "metadata": {},
   "outputs": [],
   "source": [
    "# a piece off to demonstrate adding new data with checkpointing.\n",
    "# In a real world scenario, however, you would not have your\n",
    "# new data at this point.\n",
    "train1, valid1, new_data1 = train.split_frame(ratios = [.7, .15], seed = 1434)"
   ]
  },
  {
   "cell_type": "code",
   "execution_count": 5,
   "id": "da9d5fd9",
   "metadata": {},
   "outputs": [
    {
     "data": {
      "text/plain": [
       "['Survived',\n",
       " 'Pclass',\n",
       " 'Age',\n",
       " 'Fare',\n",
       " 'Sex_female',\n",
       " 'Sex_male',\n",
       " 'Embarked_C',\n",
       " 'Embarked_Q',\n",
       " 'Embarked_S']"
      ]
     },
     "execution_count": 5,
     "metadata": {},
     "output_type": "execute_result"
    }
   ],
   "source": [
    "#train.columns\n",
    "train.columns"
   ]
  },
  {
   "cell_type": "code",
   "execution_count": 6,
   "id": "3996dd16",
   "metadata": {},
   "outputs": [],
   "source": [
    "predictors = [\"Age\",\"Embarked_C\",\"Pclass\",\"Embarked_Q\",\"Sex_male\"]\n",
    "response = \"Fare\""
   ]
  },
  {
   "cell_type": "code",
   "execution_count": 7,
   "id": "1324db1a",
   "metadata": {},
   "outputs": [
    {
     "name": "stdout",
     "output_type": "stream",
     "text": [
      "drf Model Build progress: |██████████████████████████████████████████████████████| (done) 100%\n",
      "Model Details\n",
      "=============\n",
      "H2ORandomForestEstimator :  Distributed Random Forest\n",
      "Model Key:  titanic\n",
      "\n",
      "\n",
      "Model Summary: \n"
     ]
    },
    {
     "data": {
      "text/html": [
       "<div>\n",
       "<style scoped>\n",
       "    .dataframe tbody tr th:only-of-type {\n",
       "        vertical-align: middle;\n",
       "    }\n",
       "\n",
       "    .dataframe tbody tr th {\n",
       "        vertical-align: top;\n",
       "    }\n",
       "\n",
       "    .dataframe thead th {\n",
       "        text-align: right;\n",
       "    }\n",
       "</style>\n",
       "<table border=\"1\" class=\"dataframe\">\n",
       "  <thead>\n",
       "    <tr style=\"text-align: right;\">\n",
       "      <th></th>\n",
       "      <th></th>\n",
       "      <th>number_of_trees</th>\n",
       "      <th>number_of_internal_trees</th>\n",
       "      <th>model_size_in_bytes</th>\n",
       "      <th>min_depth</th>\n",
       "      <th>max_depth</th>\n",
       "      <th>mean_depth</th>\n",
       "      <th>min_leaves</th>\n",
       "      <th>max_leaves</th>\n",
       "      <th>mean_leaves</th>\n",
       "    </tr>\n",
       "  </thead>\n",
       "  <tbody>\n",
       "    <tr>\n",
       "      <th>0</th>\n",
       "      <td></td>\n",
       "      <td>1.0</td>\n",
       "      <td>1.0</td>\n",
       "      <td>2176.0</td>\n",
       "      <td>16.0</td>\n",
       "      <td>16.0</td>\n",
       "      <td>16.0</td>\n",
       "      <td>168.0</td>\n",
       "      <td>168.0</td>\n",
       "      <td>168.0</td>\n",
       "    </tr>\n",
       "  </tbody>\n",
       "</table>\n",
       "</div>"
      ],
      "text/plain": [
       "     number_of_trees  number_of_internal_trees  model_size_in_bytes  \\\n",
       "0                1.0                       1.0               2176.0   \n",
       "\n",
       "   min_depth  max_depth  mean_depth  min_leaves  max_leaves  mean_leaves  \n",
       "0       16.0       16.0        16.0       168.0       168.0        168.0  "
      ]
     },
     "metadata": {},
     "output_type": "display_data"
    },
    {
     "name": "stdout",
     "output_type": "stream",
     "text": [
      "\n",
      "\n",
      "ModelMetricsRegression: drf\n",
      "** Reported on train data. **\n",
      "\n",
      "MSE: 2896.4105250593734\n",
      "RMSE: 53.81831031404993\n",
      "MAE: 23.955113317212486\n",
      "RMSLE: 0.7857759836364192\n",
      "Mean Residual Deviance: 2896.4105250593734\n",
      "\n",
      "ModelMetricsRegression: drf\n",
      "** Reported on validation data. **\n",
      "\n",
      "MSE: 1486.891125675782\n",
      "RMSE: 38.56022725135035\n",
      "MAE: 21.415570370852947\n",
      "RMSLE: 0.8204757093224551\n",
      "Mean Residual Deviance: 1486.891125675782\n",
      "\n",
      "Scoring History: \n"
     ]
    },
    {
     "data": {
      "text/html": [
       "<div>\n",
       "<style scoped>\n",
       "    .dataframe tbody tr th:only-of-type {\n",
       "        vertical-align: middle;\n",
       "    }\n",
       "\n",
       "    .dataframe tbody tr th {\n",
       "        vertical-align: top;\n",
       "    }\n",
       "\n",
       "    .dataframe thead th {\n",
       "        text-align: right;\n",
       "    }\n",
       "</style>\n",
       "<table border=\"1\" class=\"dataframe\">\n",
       "  <thead>\n",
       "    <tr style=\"text-align: right;\">\n",
       "      <th></th>\n",
       "      <th></th>\n",
       "      <th>timestamp</th>\n",
       "      <th>duration</th>\n",
       "      <th>number_of_trees</th>\n",
       "      <th>training_rmse</th>\n",
       "      <th>training_mae</th>\n",
       "      <th>training_deviance</th>\n",
       "      <th>validation_rmse</th>\n",
       "      <th>validation_mae</th>\n",
       "      <th>validation_deviance</th>\n",
       "    </tr>\n",
       "  </thead>\n",
       "  <tbody>\n",
       "    <tr>\n",
       "      <th>0</th>\n",
       "      <td></td>\n",
       "      <td>2022-02-23 14:50:14</td>\n",
       "      <td>0.048 sec</td>\n",
       "      <td>0.0</td>\n",
       "      <td>NaN</td>\n",
       "      <td>NaN</td>\n",
       "      <td>NaN</td>\n",
       "      <td>NaN</td>\n",
       "      <td>NaN</td>\n",
       "      <td>NaN</td>\n",
       "    </tr>\n",
       "    <tr>\n",
       "      <th>1</th>\n",
       "      <td></td>\n",
       "      <td>2022-02-23 14:50:14</td>\n",
       "      <td>0.225 sec</td>\n",
       "      <td>1.0</td>\n",
       "      <td>53.81831</td>\n",
       "      <td>23.955113</td>\n",
       "      <td>2896.410525</td>\n",
       "      <td>38.560227</td>\n",
       "      <td>21.41557</td>\n",
       "      <td>1486.891126</td>\n",
       "    </tr>\n",
       "  </tbody>\n",
       "</table>\n",
       "</div>"
      ],
      "text/plain": [
       "               timestamp    duration  number_of_trees  training_rmse  \\\n",
       "0    2022-02-23 14:50:14   0.048 sec              0.0            NaN   \n",
       "1    2022-02-23 14:50:14   0.225 sec              1.0       53.81831   \n",
       "\n",
       "   training_mae  training_deviance  validation_rmse  validation_mae  \\\n",
       "0           NaN                NaN              NaN             NaN   \n",
       "1     23.955113        2896.410525        38.560227        21.41557   \n",
       "\n",
       "   validation_deviance  \n",
       "0                  NaN  \n",
       "1          1486.891126  "
      ]
     },
     "metadata": {},
     "output_type": "display_data"
    },
    {
     "name": "stdout",
     "output_type": "stream",
     "text": [
      "\n",
      "Variable Importances: \n"
     ]
    },
    {
     "data": {
      "text/html": [
       "<div>\n",
       "<style scoped>\n",
       "    .dataframe tbody tr th:only-of-type {\n",
       "        vertical-align: middle;\n",
       "    }\n",
       "\n",
       "    .dataframe tbody tr th {\n",
       "        vertical-align: top;\n",
       "    }\n",
       "\n",
       "    .dataframe thead th {\n",
       "        text-align: right;\n",
       "    }\n",
       "</style>\n",
       "<table border=\"1\" class=\"dataframe\">\n",
       "  <thead>\n",
       "    <tr style=\"text-align: right;\">\n",
       "      <th></th>\n",
       "      <th>variable</th>\n",
       "      <th>relative_importance</th>\n",
       "      <th>scaled_importance</th>\n",
       "      <th>percentage</th>\n",
       "    </tr>\n",
       "  </thead>\n",
       "  <tbody>\n",
       "    <tr>\n",
       "      <th>0</th>\n",
       "      <td>Pclass</td>\n",
       "      <td>624871.187500</td>\n",
       "      <td>1.000000</td>\n",
       "      <td>0.714952</td>\n",
       "    </tr>\n",
       "    <tr>\n",
       "      <th>1</th>\n",
       "      <td>Age</td>\n",
       "      <td>150517.390625</td>\n",
       "      <td>0.240877</td>\n",
       "      <td>0.172216</td>\n",
       "    </tr>\n",
       "    <tr>\n",
       "      <th>2</th>\n",
       "      <td>Sex_male</td>\n",
       "      <td>57220.835938</td>\n",
       "      <td>0.091572</td>\n",
       "      <td>0.065470</td>\n",
       "    </tr>\n",
       "    <tr>\n",
       "      <th>3</th>\n",
       "      <td>Embarked_C</td>\n",
       "      <td>40736.011719</td>\n",
       "      <td>0.065191</td>\n",
       "      <td>0.046608</td>\n",
       "    </tr>\n",
       "    <tr>\n",
       "      <th>4</th>\n",
       "      <td>Embarked_Q</td>\n",
       "      <td>658.883423</td>\n",
       "      <td>0.001054</td>\n",
       "      <td>0.000754</td>\n",
       "    </tr>\n",
       "  </tbody>\n",
       "</table>\n",
       "</div>"
      ],
      "text/plain": [
       "     variable  relative_importance  scaled_importance  percentage\n",
       "0      Pclass        624871.187500           1.000000    0.714952\n",
       "1         Age        150517.390625           0.240877    0.172216\n",
       "2    Sex_male         57220.835938           0.091572    0.065470\n",
       "3  Embarked_C         40736.011719           0.065191    0.046608\n",
       "4  Embarked_Q           658.883423           0.001054    0.000754"
      ]
     },
     "metadata": {},
     "output_type": "display_data"
    },
    {
     "data": {
      "text/plain": []
     },
     "execution_count": 7,
     "metadata": {},
     "output_type": "execute_result"
    }
   ],
   "source": [
    "titanic = H2ORandomForestEstimator(model_id=\"titanic\", ntrees = 1, seed = 1234)\n",
    "titanic.train(x = predictors, y = response, training_frame = train1, validation_frame = valid1)"
   ]
  },
  {
   "cell_type": "code",
   "execution_count": 11,
   "id": "2e201c15",
   "metadata": {},
   "outputs": [
    {
     "name": "stdout",
     "output_type": "stream",
     "text": [
      "Validation Mean Per Class Error for DRF: 1486.891125675782\n"
     ]
    }
   ],
   "source": [
    "print('Validation Mean Per Class Error for DRF:', titanic.mse(valid=True))"
   ]
  },
  {
   "cell_type": "markdown",
   "id": "4c17c2b2",
   "metadata": {},
   "source": [
    "## Model Training Iteratively"
   ]
  },
  {
   "cell_type": "code",
   "execution_count": 12,
   "id": "94e84e70",
   "metadata": {},
   "outputs": [],
   "source": [
    "train2, valid2, new_data2 = test.split_frame(ratios = [.7, .15], seed = 1434)"
   ]
  },
  {
   "cell_type": "code",
   "execution_count": 13,
   "id": "9a69e4c6",
   "metadata": {},
   "outputs": [
    {
     "name": "stdout",
     "output_type": "stream",
     "text": [
      "drf Model Build progress: |██████████████████████████████████████████████████████| (done) 100%\n",
      "Model Details\n",
      "=============\n",
      "H2ORandomForestEstimator :  Distributed Random Forest\n",
      "Model Key:  titanic_new\n",
      "\n",
      "\n",
      "Model Summary: \n"
     ]
    },
    {
     "data": {
      "text/html": [
       "<div>\n",
       "<style scoped>\n",
       "    .dataframe tbody tr th:only-of-type {\n",
       "        vertical-align: middle;\n",
       "    }\n",
       "\n",
       "    .dataframe tbody tr th {\n",
       "        vertical-align: top;\n",
       "    }\n",
       "\n",
       "    .dataframe thead th {\n",
       "        text-align: right;\n",
       "    }\n",
       "</style>\n",
       "<table border=\"1\" class=\"dataframe\">\n",
       "  <thead>\n",
       "    <tr style=\"text-align: right;\">\n",
       "      <th></th>\n",
       "      <th></th>\n",
       "      <th>number_of_trees</th>\n",
       "      <th>number_of_internal_trees</th>\n",
       "      <th>model_size_in_bytes</th>\n",
       "      <th>min_depth</th>\n",
       "      <th>max_depth</th>\n",
       "      <th>mean_depth</th>\n",
       "      <th>min_leaves</th>\n",
       "      <th>max_leaves</th>\n",
       "      <th>mean_leaves</th>\n",
       "    </tr>\n",
       "  </thead>\n",
       "  <tbody>\n",
       "    <tr>\n",
       "      <th>0</th>\n",
       "      <td></td>\n",
       "      <td>9.0</td>\n",
       "      <td>9.0</td>\n",
       "      <td>12298.0</td>\n",
       "      <td>13.0</td>\n",
       "      <td>17.0</td>\n",
       "      <td>12.888889</td>\n",
       "      <td>54.0</td>\n",
       "      <td>168.0</td>\n",
       "      <td>85.44444</td>\n",
       "    </tr>\n",
       "  </tbody>\n",
       "</table>\n",
       "</div>"
      ],
      "text/plain": [
       "     number_of_trees  number_of_internal_trees  model_size_in_bytes  \\\n",
       "0                9.0                       9.0              12298.0   \n",
       "\n",
       "   min_depth  max_depth  mean_depth  min_leaves  max_leaves  mean_leaves  \n",
       "0       13.0       17.0   12.888889        54.0       168.0     85.44444  "
      ]
     },
     "metadata": {},
     "output_type": "display_data"
    },
    {
     "name": "stdout",
     "output_type": "stream",
     "text": [
      "\n",
      "\n",
      "ModelMetricsRegression: drf\n",
      "** Reported on train data. **\n",
      "\n",
      "MSE: 2755.4993583134956\n",
      "RMSE: 52.49285054475033\n",
      "MAE: 24.397458545397814\n",
      "RMSLE: 0.7584161744236164\n",
      "Mean Residual Deviance: 2755.4993583134956\n",
      "\n",
      "ModelMetricsRegression: drf\n",
      "** Reported on validation data. **\n",
      "\n",
      "MSE: 822.6941719965641\n",
      "RMSE: 28.682645833265873\n",
      "MAE: 13.717499333984998\n",
      "RMSLE: 0.5177062781196887\n",
      "Mean Residual Deviance: 822.6941719965641\n",
      "\n",
      "Scoring History: \n"
     ]
    },
    {
     "data": {
      "text/html": [
       "<div>\n",
       "<style scoped>\n",
       "    .dataframe tbody tr th:only-of-type {\n",
       "        vertical-align: middle;\n",
       "    }\n",
       "\n",
       "    .dataframe tbody tr th {\n",
       "        vertical-align: top;\n",
       "    }\n",
       "\n",
       "    .dataframe thead th {\n",
       "        text-align: right;\n",
       "    }\n",
       "</style>\n",
       "<table border=\"1\" class=\"dataframe\">\n",
       "  <thead>\n",
       "    <tr style=\"text-align: right;\">\n",
       "      <th></th>\n",
       "      <th></th>\n",
       "      <th>timestamp</th>\n",
       "      <th>duration</th>\n",
       "      <th>number_of_trees</th>\n",
       "      <th>training_rmse</th>\n",
       "      <th>training_mae</th>\n",
       "      <th>training_deviance</th>\n",
       "      <th>validation_rmse</th>\n",
       "      <th>validation_mae</th>\n",
       "      <th>validation_deviance</th>\n",
       "    </tr>\n",
       "  </thead>\n",
       "  <tbody>\n",
       "    <tr>\n",
       "      <th>0</th>\n",
       "      <td></td>\n",
       "      <td>2022-02-23 14:50:14</td>\n",
       "      <td>-8 min -30.-630 sec</td>\n",
       "      <td>0.0</td>\n",
       "      <td>NaN</td>\n",
       "      <td>NaN</td>\n",
       "      <td>NaN</td>\n",
       "      <td>NaN</td>\n",
       "      <td>NaN</td>\n",
       "      <td>NaN</td>\n",
       "    </tr>\n",
       "    <tr>\n",
       "      <th>1</th>\n",
       "      <td></td>\n",
       "      <td>2022-02-23 14:50:14</td>\n",
       "      <td>-8 min -30.-453 sec</td>\n",
       "      <td>1.0</td>\n",
       "      <td>38.572675</td>\n",
       "      <td>21.935504</td>\n",
       "      <td>1487.851279</td>\n",
       "      <td>24.886392</td>\n",
       "      <td>13.824573</td>\n",
       "      <td>619.332498</td>\n",
       "    </tr>\n",
       "    <tr>\n",
       "      <th>2</th>\n",
       "      <td></td>\n",
       "      <td>2022-02-23 14:58:45</td>\n",
       "      <td>0.048 sec</td>\n",
       "      <td>2.0</td>\n",
       "      <td>63.287964</td>\n",
       "      <td>29.231809</td>\n",
       "      <td>4005.366382</td>\n",
       "      <td>21.840940</td>\n",
       "      <td>11.855786</td>\n",
       "      <td>477.026656</td>\n",
       "    </tr>\n",
       "    <tr>\n",
       "      <th>3</th>\n",
       "      <td></td>\n",
       "      <td>2022-02-23 14:58:45</td>\n",
       "      <td>0.082 sec</td>\n",
       "      <td>3.0</td>\n",
       "      <td>54.681910</td>\n",
       "      <td>24.907853</td>\n",
       "      <td>2990.111258</td>\n",
       "      <td>24.738467</td>\n",
       "      <td>12.760479</td>\n",
       "      <td>611.991757</td>\n",
       "    </tr>\n",
       "    <tr>\n",
       "      <th>4</th>\n",
       "      <td></td>\n",
       "      <td>2022-02-23 14:58:45</td>\n",
       "      <td>0.111 sec</td>\n",
       "      <td>4.0</td>\n",
       "      <td>53.427153</td>\n",
       "      <td>23.902505</td>\n",
       "      <td>2854.460632</td>\n",
       "      <td>29.702370</td>\n",
       "      <td>14.344334</td>\n",
       "      <td>882.230785</td>\n",
       "    </tr>\n",
       "    <tr>\n",
       "      <th>5</th>\n",
       "      <td></td>\n",
       "      <td>2022-02-23 14:58:45</td>\n",
       "      <td>0.125 sec</td>\n",
       "      <td>5.0</td>\n",
       "      <td>51.629499</td>\n",
       "      <td>23.555156</td>\n",
       "      <td>2665.605167</td>\n",
       "      <td>29.484918</td>\n",
       "      <td>14.160346</td>\n",
       "      <td>869.360417</td>\n",
       "    </tr>\n",
       "    <tr>\n",
       "      <th>6</th>\n",
       "      <td></td>\n",
       "      <td>2022-02-23 14:58:45</td>\n",
       "      <td>0.136 sec</td>\n",
       "      <td>6.0</td>\n",
       "      <td>45.627356</td>\n",
       "      <td>22.821810</td>\n",
       "      <td>2081.855630</td>\n",
       "      <td>27.610229</td>\n",
       "      <td>13.413434</td>\n",
       "      <td>762.324767</td>\n",
       "    </tr>\n",
       "    <tr>\n",
       "      <th>7</th>\n",
       "      <td></td>\n",
       "      <td>2022-02-23 14:58:45</td>\n",
       "      <td>0.146 sec</td>\n",
       "      <td>7.0</td>\n",
       "      <td>52.336204</td>\n",
       "      <td>24.153845</td>\n",
       "      <td>2739.078227</td>\n",
       "      <td>26.228975</td>\n",
       "      <td>12.812463</td>\n",
       "      <td>687.959146</td>\n",
       "    </tr>\n",
       "    <tr>\n",
       "      <th>8</th>\n",
       "      <td></td>\n",
       "      <td>2022-02-23 14:58:45</td>\n",
       "      <td>0.154 sec</td>\n",
       "      <td>8.0</td>\n",
       "      <td>50.960830</td>\n",
       "      <td>23.780387</td>\n",
       "      <td>2597.006203</td>\n",
       "      <td>28.313916</td>\n",
       "      <td>13.474149</td>\n",
       "      <td>801.677830</td>\n",
       "    </tr>\n",
       "    <tr>\n",
       "      <th>9</th>\n",
       "      <td></td>\n",
       "      <td>2022-02-23 14:58:45</td>\n",
       "      <td>0.164 sec</td>\n",
       "      <td>9.0</td>\n",
       "      <td>52.492851</td>\n",
       "      <td>24.397459</td>\n",
       "      <td>2755.499358</td>\n",
       "      <td>28.682646</td>\n",
       "      <td>13.717499</td>\n",
       "      <td>822.694172</td>\n",
       "    </tr>\n",
       "  </tbody>\n",
       "</table>\n",
       "</div>"
      ],
      "text/plain": [
       "               timestamp             duration  number_of_trees  training_rmse  \\\n",
       "0    2022-02-23 14:50:14  -8 min -30.-630 sec              0.0            NaN   \n",
       "1    2022-02-23 14:50:14  -8 min -30.-453 sec              1.0      38.572675   \n",
       "2    2022-02-23 14:58:45            0.048 sec              2.0      63.287964   \n",
       "3    2022-02-23 14:58:45            0.082 sec              3.0      54.681910   \n",
       "4    2022-02-23 14:58:45            0.111 sec              4.0      53.427153   \n",
       "5    2022-02-23 14:58:45            0.125 sec              5.0      51.629499   \n",
       "6    2022-02-23 14:58:45            0.136 sec              6.0      45.627356   \n",
       "7    2022-02-23 14:58:45            0.146 sec              7.0      52.336204   \n",
       "8    2022-02-23 14:58:45            0.154 sec              8.0      50.960830   \n",
       "9    2022-02-23 14:58:45            0.164 sec              9.0      52.492851   \n",
       "\n",
       "   training_mae  training_deviance  validation_rmse  validation_mae  \\\n",
       "0           NaN                NaN              NaN             NaN   \n",
       "1     21.935504        1487.851279        24.886392       13.824573   \n",
       "2     29.231809        4005.366382        21.840940       11.855786   \n",
       "3     24.907853        2990.111258        24.738467       12.760479   \n",
       "4     23.902505        2854.460632        29.702370       14.344334   \n",
       "5     23.555156        2665.605167        29.484918       14.160346   \n",
       "6     22.821810        2081.855630        27.610229       13.413434   \n",
       "7     24.153845        2739.078227        26.228975       12.812463   \n",
       "8     23.780387        2597.006203        28.313916       13.474149   \n",
       "9     24.397459        2755.499358        28.682646       13.717499   \n",
       "\n",
       "   validation_deviance  \n",
       "0                  NaN  \n",
       "1           619.332498  \n",
       "2           477.026656  \n",
       "3           611.991757  \n",
       "4           882.230785  \n",
       "5           869.360417  \n",
       "6           762.324767  \n",
       "7           687.959146  \n",
       "8           801.677830  \n",
       "9           822.694172  "
      ]
     },
     "metadata": {},
     "output_type": "display_data"
    },
    {
     "name": "stdout",
     "output_type": "stream",
     "text": [
      "\n",
      "Variable Importances: \n"
     ]
    },
    {
     "data": {
      "text/html": [
       "<div>\n",
       "<style scoped>\n",
       "    .dataframe tbody tr th:only-of-type {\n",
       "        vertical-align: middle;\n",
       "    }\n",
       "\n",
       "    .dataframe tbody tr th {\n",
       "        vertical-align: top;\n",
       "    }\n",
       "\n",
       "    .dataframe thead th {\n",
       "        text-align: right;\n",
       "    }\n",
       "</style>\n",
       "<table border=\"1\" class=\"dataframe\">\n",
       "  <thead>\n",
       "    <tr style=\"text-align: right;\">\n",
       "      <th></th>\n",
       "      <th>variable</th>\n",
       "      <th>relative_importance</th>\n",
       "      <th>scaled_importance</th>\n",
       "      <th>percentage</th>\n",
       "    </tr>\n",
       "  </thead>\n",
       "  <tbody>\n",
       "    <tr>\n",
       "      <th>0</th>\n",
       "      <td>Age</td>\n",
       "      <td>1.600387e+06</td>\n",
       "      <td>1.000000</td>\n",
       "      <td>0.438148</td>\n",
       "    </tr>\n",
       "    <tr>\n",
       "      <th>1</th>\n",
       "      <td>Pclass</td>\n",
       "      <td>1.343119e+06</td>\n",
       "      <td>0.839246</td>\n",
       "      <td>0.367714</td>\n",
       "    </tr>\n",
       "    <tr>\n",
       "      <th>2</th>\n",
       "      <td>Embarked_C</td>\n",
       "      <td>3.502633e+05</td>\n",
       "      <td>0.218862</td>\n",
       "      <td>0.095894</td>\n",
       "    </tr>\n",
       "    <tr>\n",
       "      <th>3</th>\n",
       "      <td>Sex_male</td>\n",
       "      <td>2.939223e+05</td>\n",
       "      <td>0.183657</td>\n",
       "      <td>0.080469</td>\n",
       "    </tr>\n",
       "    <tr>\n",
       "      <th>4</th>\n",
       "      <td>Embarked_Q</td>\n",
       "      <td>6.492691e+04</td>\n",
       "      <td>0.040570</td>\n",
       "      <td>0.017775</td>\n",
       "    </tr>\n",
       "  </tbody>\n",
       "</table>\n",
       "</div>"
      ],
      "text/plain": [
       "     variable  relative_importance  scaled_importance  percentage\n",
       "0         Age         1.600387e+06           1.000000    0.438148\n",
       "1      Pclass         1.343119e+06           0.839246    0.367714\n",
       "2  Embarked_C         3.502633e+05           0.218862    0.095894\n",
       "3    Sex_male         2.939223e+05           0.183657    0.080469\n",
       "4  Embarked_Q         6.492691e+04           0.040570    0.017775"
      ]
     },
     "metadata": {},
     "output_type": "display_data"
    },
    {
     "data": {
      "text/plain": []
     },
     "execution_count": 13,
     "metadata": {},
     "output_type": "execute_result"
    }
   ],
   "source": [
    "# Checkpoint on the test dataset. This shows how to train an additional\n",
    "# 9 trees on top of the first 1.\n",
    "titanic_continued = H2ORandomForestEstimator(model_id = 'titanic_new',\n",
    "                                         checkpoint = titanic,\n",
    "                                         ntrees = 9,\n",
    "                                         seed = 1234)\n",
    "titanic_continued.train(x = predictors, y = response, training_frame = train2, validation_frame = valid2)"
   ]
  },
  {
   "cell_type": "code",
   "execution_count": 22,
   "id": "bda59469",
   "metadata": {},
   "outputs": [
    {
     "name": "stdout",
     "output_type": "stream",
     "text": [
      "Validation MSE for DRF: 28.682645833265873\n"
     ]
    }
   ],
   "source": [
    "print('Validation MSE for DRF:', titanic_continued.rmse(valid=True))"
   ]
  },
  {
   "cell_type": "code",
   "execution_count": 23,
   "id": "7124ccdc",
   "metadata": {},
   "outputs": [],
   "source": [
    "model_mse= titanic.rmse(valid=True) - titanic_continued.rmse(valid=True)"
   ]
  },
  {
   "cell_type": "code",
   "execution_count": 24,
   "id": "56f78493",
   "metadata": {},
   "outputs": [
    {
     "name": "stdout",
     "output_type": "stream",
     "text": [
      "Imporvement of Model Evaluation 9.877581418084475\n"
     ]
    }
   ],
   "source": [
    "print(\"Imporvement of Model Evaluation\",model_mse)"
   ]
  },
  {
   "cell_type": "code",
   "execution_count": null,
   "id": "04b2e935",
   "metadata": {},
   "outputs": [],
   "source": []
  }
 ],
 "metadata": {
  "kernelspec": {
   "display_name": "Python 3",
   "language": "python",
   "name": "python3"
  },
  "language_info": {
   "codemirror_mode": {
    "name": "ipython",
    "version": 3
   },
   "file_extension": ".py",
   "mimetype": "text/x-python",
   "name": "python",
   "nbconvert_exporter": "python",
   "pygments_lexer": "ipython3",
   "version": "3.8.8"
  }
 },
 "nbformat": 4,
 "nbformat_minor": 5
}
