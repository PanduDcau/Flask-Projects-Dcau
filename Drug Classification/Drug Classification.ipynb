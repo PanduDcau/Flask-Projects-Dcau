{
 "metadata": {
  "colab": {
   "provenance": [],
   "toc_visible": true,
   "authorship_tag": "ABX9TyMwRrziBT30PHgSUPAYnHur"
  },
  "kernelspec": {
   "name": "python3",
   "display_name": "Python 3"
  },
  "language_info": {
   "name": "python"
  }
 },
 "nbformat_minor": 4,
 "nbformat": 4,
 "cells": [
  {
   "cell_type": "markdown",
   "source": [
    "Ref.: https://www.kaggle.com/code/caesarmario/drug-classification-w-various-ml-models\n",
    "\n",
    "Dataset ref.: https://www.kaggle.com/datasets/prathamtripathi/drug-classification"
   ],
   "metadata": {
    "id": "z9dFBcD_T2IK"
   }
  },
  {
   "cell_type": "markdown",
   "source": [
    "# Problem statement\n",
    "\n",
    "The dataset (https://www.kaggle.com/datasets/prathamtripathi/drug-classification) contains information about drug classification based on patient general information and its diagnosis. Machine learning model is needed in order to predict the outcome of the drugs type that might be suitable for the patient."
   ],
   "metadata": {
    "id": "iERZpwnmUYEK"
   }
  },
  {
   "cell_type": "markdown",
   "source": [
    "# Objective of this notebook\n",
    "\n",
    "Our objectives in this project:\n",
    "\n",
    "1. Dataset exploration using various types of data visualization.\n",
    "\n",
    "2. Build various ML models that can predict drug type.\n",
    "\n",
    "The ML models used in this project are:\n",
    "\n",
    "(i) Logistic regression, (ii) Support vector machine with linear kernel or support vector classification (SVM or SVC), (iii) K-Nearest neighbours (KNN), (iv) Naive Bayes classification, (v) Decision tree classification, (vi) Random forest classification."
   ],
   "metadata": {
    "id": "ARYOHbJxU8te"
   }
  },
  {
   "cell_type": "markdown",
   "source": [
    "# About the dataset\n",
    "\n",
    "#### About this Dataset\n",
    "Context\n",
    "Since as a beginner in machine learning it would be a great opportunity to try some techniques to predict the outcome of the drugs that might be accurate for the patient.\n",
    "\n",
    "#### Content\n",
    "The target feature is\n",
    "Drug type\n",
    "The feature sets are:\n",
    "Age\n",
    "Sex\n",
    "Blood Pressure Levels (BP)\n",
    "Cholesterol Levels\n",
    "Na to Potassium Ration"
   ],
   "metadata": {
    "id": "LsEk-nKgXLOY"
   }
  },
  {
   "cell_type": "markdown",
   "source": [
    "# Import libraries"
   ],
   "metadata": {
    "id": "EPAjB6TuZWTW"
   }
  },
  {
   "cell_type": "code",
   "source": [
    "import numpy as np\n",
    "import pandas as pd\n",
    "import matplotlib.pyplot as plt\n",
    "import seaborn as sns"
   ],
   "metadata": {
    "id": "VRK-DiNKTc6P",
    "executionInfo": {
     "status": "ok",
     "timestamp": 1728032718403,
     "user_tz": -330,
     "elapsed": 2635,
     "user": {
      "displayName": "ARPAN DAS",
      "userId": "14423431301870891264"
     }
    }
   },
   "execution_count": 1,
   "outputs": []
  },
  {
   "cell_type": "code",
   "source": [
    "# from google.colab import drive\n",
    "# drive.mount('/content/drive')"
   ],
   "metadata": {
    "colab": {
     "base_uri": "https://localhost:8080/"
    },
    "id": "JjMp-CGOZyej",
    "executionInfo": {
     "status": "ok",
     "timestamp": 1728032741376,
     "user_tz": -330,
     "elapsed": 21023,
     "user": {
      "displayName": "ARPAN DAS",
      "userId": "14423431301870891264"
     }
    },
    "outputId": "8d1ae5b8-ec39-418c-9f58-8d35f7e63279"
   },
   "execution_count": 2,
   "outputs": [
    {
     "output_type": "stream",
     "name": "stdout",
     "text": "Mounted at /content/drive\n"
    }
   ]
  },
  {
   "cell_type": "markdown",
   "source": [
    "# Import dataset"
   ],
   "metadata": {
    "id": "bLzdkFQBZqgz"
   }
  },
  {
   "cell_type": "code",
   "source": [
    "drug_df = pd.read_csv('drug200.csv')\n",
    "\n",
    "drug_df"
   ],
   "metadata": {
    "colab": {
     "base_uri": "https://localhost:8080/",
     "height": 424
    },
    "id": "4NKC6nGjZjRG",
    "executionInfo": {
     "status": "ok",
     "timestamp": 1728032781250,
     "user_tz": -330,
     "elapsed": 805,
     "user": {
      "displayName": "ARPAN DAS",
      "userId": "14423431301870891264"
     }
    },
    "outputId": "a36c5427-bf0a-49c5-c8ce-67489b1953b3"
   },
   "execution_count": 6,
   "outputs": [
    {
     "output_type": "execute_result",
     "execution_count": 6,
     "data": {
      "text/plain": [
       "     Age Sex      BP Cholesterol  Na_to_K   Drug\n",
       "0     23   F    HIGH        HIGH   25.355  DrugY\n",
       "1     47   M     LOW        HIGH   13.093  drugC\n",
       "2     47   M     LOW        HIGH   10.114  drugC\n",
       "3     28   F  NORMAL        HIGH    7.798  drugX\n",
       "4     61   F     LOW        HIGH   18.043  DrugY\n",
       "..   ...  ..     ...         ...      ...    ...\n",
       "195   56   F     LOW        HIGH   11.567  drugC\n",
       "196   16   M     LOW        HIGH   12.006  drugC\n",
       "197   52   M  NORMAL        HIGH    9.894  drugX\n",
       "198   23   M  NORMAL      NORMAL   14.020  drugX\n",
       "199   40   F     LOW      NORMAL   11.349  drugX\n",
       "\n",
       "[200 rows x 6 columns]"
      ],
      "text/html": [
       "\n",
       "  <div id=\"df-2bac5eef-7a8d-4ec7-90d3-68bea61461e3\" class=\"colab-df-container\">\n",
       "    <div>\n",
       "<style scoped>\n",
       "    .dataframe tbody tr th:only-of-type {\n",
       "        vertical-align: middle;\n",
       "    }\n",
       "\n",
       "    .dataframe tbody tr th {\n",
       "        vertical-align: top;\n",
       "    }\n",
       "\n",
       "    .dataframe thead th {\n",
       "        text-align: right;\n",
       "    }\n",
       "</style>\n",
       "<table border=\"1\" class=\"dataframe\">\n",
       "  <thead>\n",
       "    <tr style=\"text-align: right;\">\n",
       "      <th></th>\n",
       "      <th>Age</th>\n",
       "      <th>Sex</th>\n",
       "      <th>BP</th>\n",
       "      <th>Cholesterol</th>\n",
       "      <th>Na_to_K</th>\n",
       "      <th>Drug</th>\n",
       "    </tr>\n",
       "  </thead>\n",
       "  <tbody>\n",
       "    <tr>\n",
       "      <th>0</th>\n",
       "      <td>23</td>\n",
       "      <td>F</td>\n",
       "      <td>HIGH</td>\n",
       "      <td>HIGH</td>\n",
       "      <td>25.355</td>\n",
       "      <td>DrugY</td>\n",
       "    </tr>\n",
       "    <tr>\n",
       "      <th>1</th>\n",
       "      <td>47</td>\n",
       "      <td>M</td>\n",
       "      <td>LOW</td>\n",
       "      <td>HIGH</td>\n",
       "      <td>13.093</td>\n",
       "      <td>drugC</td>\n",
       "    </tr>\n",
       "    <tr>\n",
       "      <th>2</th>\n",
       "      <td>47</td>\n",
       "      <td>M</td>\n",
       "      <td>LOW</td>\n",
       "      <td>HIGH</td>\n",
       "      <td>10.114</td>\n",
       "      <td>drugC</td>\n",
       "    </tr>\n",
       "    <tr>\n",
       "      <th>3</th>\n",
       "      <td>28</td>\n",
       "      <td>F</td>\n",
       "      <td>NORMAL</td>\n",
       "      <td>HIGH</td>\n",
       "      <td>7.798</td>\n",
       "      <td>drugX</td>\n",
       "    </tr>\n",
       "    <tr>\n",
       "      <th>4</th>\n",
       "      <td>61</td>\n",
       "      <td>F</td>\n",
       "      <td>LOW</td>\n",
       "      <td>HIGH</td>\n",
       "      <td>18.043</td>\n",
       "      <td>DrugY</td>\n",
       "    </tr>\n",
       "    <tr>\n",
       "      <th>...</th>\n",
       "      <td>...</td>\n",
       "      <td>...</td>\n",
       "      <td>...</td>\n",
       "      <td>...</td>\n",
       "      <td>...</td>\n",
       "      <td>...</td>\n",
       "    </tr>\n",
       "    <tr>\n",
       "      <th>195</th>\n",
       "      <td>56</td>\n",
       "      <td>F</td>\n",
       "      <td>LOW</td>\n",
       "      <td>HIGH</td>\n",
       "      <td>11.567</td>\n",
       "      <td>drugC</td>\n",
       "    </tr>\n",
       "    <tr>\n",
       "      <th>196</th>\n",
       "      <td>16</td>\n",
       "      <td>M</td>\n",
       "      <td>LOW</td>\n",
       "      <td>HIGH</td>\n",
       "      <td>12.006</td>\n",
       "      <td>drugC</td>\n",
       "    </tr>\n",
       "    <tr>\n",
       "      <th>197</th>\n",
       "      <td>52</td>\n",
       "      <td>M</td>\n",
       "      <td>NORMAL</td>\n",
       "      <td>HIGH</td>\n",
       "      <td>9.894</td>\n",
       "      <td>drugX</td>\n",
       "    </tr>\n",
       "    <tr>\n",
       "      <th>198</th>\n",
       "      <td>23</td>\n",
       "      <td>M</td>\n",
       "      <td>NORMAL</td>\n",
       "      <td>NORMAL</td>\n",
       "      <td>14.020</td>\n",
       "      <td>drugX</td>\n",
       "    </tr>\n",
       "    <tr>\n",
       "      <th>199</th>\n",
       "      <td>40</td>\n",
       "      <td>F</td>\n",
       "      <td>LOW</td>\n",
       "      <td>NORMAL</td>\n",
       "      <td>11.349</td>\n",
       "      <td>drugX</td>\n",
       "    </tr>\n",
       "  </tbody>\n",
       "</table>\n",
       "<p>200 rows × 6 columns</p>\n",
       "</div>\n",
       "    <div class=\"colab-df-buttons\">\n",
       "\n",
       "  <div class=\"colab-df-container\">\n",
       "    <button class=\"colab-df-convert\" onclick=\"convertToInteractive('df-2bac5eef-7a8d-4ec7-90d3-68bea61461e3')\"\n",
       "            title=\"Convert this dataframe to an interactive table.\"\n",
       "            style=\"display:none;\">\n",
       "\n",
       "  <svg xmlns=\"http://www.w3.org/2000/svg\" height=\"24px\" viewBox=\"0 -960 960 960\">\n",
       "    <path d=\"M120-120v-720h720v720H120Zm60-500h600v-160H180v160Zm220 220h160v-160H400v160Zm0 220h160v-160H400v160ZM180-400h160v-160H180v160Zm440 0h160v-160H620v160ZM180-180h160v-160H180v160Zm440 0h160v-160H620v160Z\"/>\n",
       "  </svg>\n",
       "    </button>\n",
       "\n",
       "  <style>\n",
       "    .colab-df-container {\n",
       "      display:flex;\n",
       "      gap: 12px;\n",
       "    }\n",
       "\n",
       "    .colab-df-convert {\n",
       "      background-color: #E8F0FE;\n",
       "      border: none;\n",
       "      border-radius: 50%;\n",
       "      cursor: pointer;\n",
       "      display: none;\n",
       "      fill: #1967D2;\n",
       "      height: 32px;\n",
       "      padding: 0 0 0 0;\n",
       "      width: 32px;\n",
       "    }\n",
       "\n",
       "    .colab-df-convert:hover {\n",
       "      background-color: #E2EBFA;\n",
       "      box-shadow: 0px 1px 2px rgba(60, 64, 67, 0.3), 0px 1px 3px 1px rgba(60, 64, 67, 0.15);\n",
       "      fill: #174EA6;\n",
       "    }\n",
       "\n",
       "    .colab-df-buttons div {\n",
       "      margin-bottom: 4px;\n",
       "    }\n",
       "\n",
       "    [theme=dark] .colab-df-convert {\n",
       "      background-color: #3B4455;\n",
       "      fill: #D2E3FC;\n",
       "    }\n",
       "\n",
       "    [theme=dark] .colab-df-convert:hover {\n",
       "      background-color: #434B5C;\n",
       "      box-shadow: 0px 1px 3px 1px rgba(0, 0, 0, 0.15);\n",
       "      filter: drop-shadow(0px 1px 2px rgba(0, 0, 0, 0.3));\n",
       "      fill: #FFFFFF;\n",
       "    }\n",
       "  </style>\n",
       "\n",
       "    <script>\n",
       "      const buttonEl =\n",
       "        document.querySelector('#df-2bac5eef-7a8d-4ec7-90d3-68bea61461e3 button.colab-df-convert');\n",
       "      buttonEl.style.display =\n",
       "        google.colab.kernel.accessAllowed ? 'block' : 'none';\n",
       "\n",
       "      async function convertToInteractive(key) {\n",
       "        const element = document.querySelector('#df-2bac5eef-7a8d-4ec7-90d3-68bea61461e3');\n",
       "        const dataTable =\n",
       "          await google.colab.kernel.invokeFunction('convertToInteractive',\n",
       "                                                    [key], {});\n",
       "        if (!dataTable) return;\n",
       "\n",
       "        const docLinkHtml = 'Like what you see? Visit the ' +\n",
       "          '<a target=\"_blank\" href=https://colab.research.google.com/notebooks/data_table.ipynb>data table notebook</a>'\n",
       "          + ' to learn more about interactive tables.';\n",
       "        element.innerHTML = '';\n",
       "        dataTable['output_type'] = 'display_data';\n",
       "        await google.colab.output.renderOutput(dataTable, element);\n",
       "        const docLink = document.createElement('div');\n",
       "        docLink.innerHTML = docLinkHtml;\n",
       "        element.appendChild(docLink);\n",
       "      }\n",
       "    </script>\n",
       "  </div>\n",
       "\n",
       "\n",
       "<div id=\"df-34fafbb0-2393-4f14-93ff-54696f4b6d74\">\n",
       "  <button class=\"colab-df-quickchart\" onclick=\"quickchart('df-34fafbb0-2393-4f14-93ff-54696f4b6d74')\"\n",
       "            title=\"Suggest charts\"\n",
       "            style=\"display:none;\">\n",
       "\n",
       "<svg xmlns=\"http://www.w3.org/2000/svg\" height=\"24px\"viewBox=\"0 0 24 24\"\n",
       "     width=\"24px\">\n",
       "    <g>\n",
       "        <path d=\"M19 3H5c-1.1 0-2 .9-2 2v14c0 1.1.9 2 2 2h14c1.1 0 2-.9 2-2V5c0-1.1-.9-2-2-2zM9 17H7v-7h2v7zm4 0h-2V7h2v10zm4 0h-2v-4h2v4z\"/>\n",
       "    </g>\n",
       "</svg>\n",
       "  </button>\n",
       "\n",
       "<style>\n",
       "  .colab-df-quickchart {\n",
       "      --bg-color: #E8F0FE;\n",
       "      --fill-color: #1967D2;\n",
       "      --hover-bg-color: #E2EBFA;\n",
       "      --hover-fill-color: #174EA6;\n",
       "      --disabled-fill-color: #AAA;\n",
       "      --disabled-bg-color: #DDD;\n",
       "  }\n",
       "\n",
       "  [theme=dark] .colab-df-quickchart {\n",
       "      --bg-color: #3B4455;\n",
       "      --fill-color: #D2E3FC;\n",
       "      --hover-bg-color: #434B5C;\n",
       "      --hover-fill-color: #FFFFFF;\n",
       "      --disabled-bg-color: #3B4455;\n",
       "      --disabled-fill-color: #666;\n",
       "  }\n",
       "\n",
       "  .colab-df-quickchart {\n",
       "    background-color: var(--bg-color);\n",
       "    border: none;\n",
       "    border-radius: 50%;\n",
       "    cursor: pointer;\n",
       "    display: none;\n",
       "    fill: var(--fill-color);\n",
       "    height: 32px;\n",
       "    padding: 0;\n",
       "    width: 32px;\n",
       "  }\n",
       "\n",
       "  .colab-df-quickchart:hover {\n",
       "    background-color: var(--hover-bg-color);\n",
       "    box-shadow: 0 1px 2px rgba(60, 64, 67, 0.3), 0 1px 3px 1px rgba(60, 64, 67, 0.15);\n",
       "    fill: var(--button-hover-fill-color);\n",
       "  }\n",
       "\n",
       "  .colab-df-quickchart-complete:disabled,\n",
       "  .colab-df-quickchart-complete:disabled:hover {\n",
       "    background-color: var(--disabled-bg-color);\n",
       "    fill: var(--disabled-fill-color);\n",
       "    box-shadow: none;\n",
       "  }\n",
       "\n",
       "  .colab-df-spinner {\n",
       "    border: 2px solid var(--fill-color);\n",
       "    border-color: transparent;\n",
       "    border-bottom-color: var(--fill-color);\n",
       "    animation:\n",
       "      spin 1s steps(1) infinite;\n",
       "  }\n",
       "\n",
       "  @keyframes spin {\n",
       "    0% {\n",
       "      border-color: transparent;\n",
       "      border-bottom-color: var(--fill-color);\n",
       "      border-left-color: var(--fill-color);\n",
       "    }\n",
       "    20% {\n",
       "      border-color: transparent;\n",
       "      border-left-color: var(--fill-color);\n",
       "      border-top-color: var(--fill-color);\n",
       "    }\n",
       "    30% {\n",
       "      border-color: transparent;\n",
       "      border-left-color: var(--fill-color);\n",
       "      border-top-color: var(--fill-color);\n",
       "      border-right-color: var(--fill-color);\n",
       "    }\n",
       "    40% {\n",
       "      border-color: transparent;\n",
       "      border-right-color: var(--fill-color);\n",
       "      border-top-color: var(--fill-color);\n",
       "    }\n",
       "    60% {\n",
       "      border-color: transparent;\n",
       "      border-right-color: var(--fill-color);\n",
       "    }\n",
       "    80% {\n",
       "      border-color: transparent;\n",
       "      border-right-color: var(--fill-color);\n",
       "      border-bottom-color: var(--fill-color);\n",
       "    }\n",
       "    90% {\n",
       "      border-color: transparent;\n",
       "      border-bottom-color: var(--fill-color);\n",
       "    }\n",
       "  }\n",
       "</style>\n",
       "\n",
       "  <script>\n",
       "    async function quickchart(key) {\n",
       "      const quickchartButtonEl =\n",
       "        document.querySelector('#' + key + ' button');\n",
       "      quickchartButtonEl.disabled = true;  // To prevent multiple clicks.\n",
       "      quickchartButtonEl.classList.add('colab-df-spinner');\n",
       "      try {\n",
       "        const charts = await google.colab.kernel.invokeFunction(\n",
       "            'suggestCharts', [key], {});\n",
       "      } catch (error) {\n",
       "        console.error('Error during call to suggestCharts:', error);\n",
       "      }\n",
       "      quickchartButtonEl.classList.remove('colab-df-spinner');\n",
       "      quickchartButtonEl.classList.add('colab-df-quickchart-complete');\n",
       "    }\n",
       "    (() => {\n",
       "      let quickchartButtonEl =\n",
       "        document.querySelector('#df-34fafbb0-2393-4f14-93ff-54696f4b6d74 button');\n",
       "      quickchartButtonEl.style.display =\n",
       "        google.colab.kernel.accessAllowed ? 'block' : 'none';\n",
       "    })();\n",
       "  </script>\n",
       "</div>\n",
       "\n",
       "  <div id=\"id_d61d5e80-a1ac-4f2d-90b8-84c12f663974\">\n",
       "    <style>\n",
       "      .colab-df-generate {\n",
       "        background-color: #E8F0FE;\n",
       "        border: none;\n",
       "        border-radius: 50%;\n",
       "        cursor: pointer;\n",
       "        display: none;\n",
       "        fill: #1967D2;\n",
       "        height: 32px;\n",
       "        padding: 0 0 0 0;\n",
       "        width: 32px;\n",
       "      }\n",
       "\n",
       "      .colab-df-generate:hover {\n",
       "        background-color: #E2EBFA;\n",
       "        box-shadow: 0px 1px 2px rgba(60, 64, 67, 0.3), 0px 1px 3px 1px rgba(60, 64, 67, 0.15);\n",
       "        fill: #174EA6;\n",
       "      }\n",
       "\n",
       "      [theme=dark] .colab-df-generate {\n",
       "        background-color: #3B4455;\n",
       "        fill: #D2E3FC;\n",
       "      }\n",
       "\n",
       "      [theme=dark] .colab-df-generate:hover {\n",
       "        background-color: #434B5C;\n",
       "        box-shadow: 0px 1px 3px 1px rgba(0, 0, 0, 0.15);\n",
       "        filter: drop-shadow(0px 1px 2px rgba(0, 0, 0, 0.3));\n",
       "        fill: #FFFFFF;\n",
       "      }\n",
       "    </style>\n",
       "    <button class=\"colab-df-generate\" onclick=\"generateWithVariable('drug_df')\"\n",
       "            title=\"Generate code using this dataframe.\"\n",
       "            style=\"display:none;\">\n",
       "\n",
       "  <svg xmlns=\"http://www.w3.org/2000/svg\" height=\"24px\"viewBox=\"0 0 24 24\"\n",
       "       width=\"24px\">\n",
       "    <path d=\"M7,19H8.4L18.45,9,17,7.55,7,17.6ZM5,21V16.75L18.45,3.32a2,2,0,0,1,2.83,0l1.4,1.43a1.91,1.91,0,0,1,.58,1.4,1.91,1.91,0,0,1-.58,1.4L9.25,21ZM18.45,9,17,7.55Zm-12,3A5.31,5.31,0,0,0,4.9,8.1,5.31,5.31,0,0,0,1,6.5,5.31,5.31,0,0,0,4.9,4.9,5.31,5.31,0,0,0,6.5,1,5.31,5.31,0,0,0,8.1,4.9,5.31,5.31,0,0,0,12,6.5,5.46,5.46,0,0,0,6.5,12Z\"/>\n",
       "  </svg>\n",
       "    </button>\n",
       "    <script>\n",
       "      (() => {\n",
       "      const buttonEl =\n",
       "        document.querySelector('#id_d61d5e80-a1ac-4f2d-90b8-84c12f663974 button.colab-df-generate');\n",
       "      buttonEl.style.display =\n",
       "        google.colab.kernel.accessAllowed ? 'block' : 'none';\n",
       "\n",
       "      buttonEl.onclick = () => {\n",
       "        google.colab.notebook.generateWithVariable('drug_df');\n",
       "      }\n",
       "      })();\n",
       "    </script>\n",
       "  </div>\n",
       "\n",
       "    </div>\n",
       "  </div>\n"
      ],
      "application/vnd.google.colaboratory.intrinsic+json": {
       "type": "dataframe",
       "variable_name": "drug_df",
       "summary": "{\n  \"name\": \"drug_df\",\n  \"rows\": 200,\n  \"fields\": [\n    {\n      \"column\": \"Age\",\n      \"properties\": {\n        \"dtype\": \"number\",\n        \"std\": 16,\n        \"min\": 15,\n        \"max\": 74,\n        \"num_unique_values\": 57,\n        \"samples\": [\n          23,\n          49,\n          37\n        ],\n        \"semantic_type\": \"\",\n        \"description\": \"\"\n      }\n    },\n    {\n      \"column\": \"Sex\",\n      \"properties\": {\n        \"dtype\": \"category\",\n        \"num_unique_values\": 2,\n        \"samples\": [\n          \"M\",\n          \"F\"\n        ],\n        \"semantic_type\": \"\",\n        \"description\": \"\"\n      }\n    },\n    {\n      \"column\": \"BP\",\n      \"properties\": {\n        \"dtype\": \"category\",\n        \"num_unique_values\": 3,\n        \"samples\": [\n          \"HIGH\",\n          \"LOW\"\n        ],\n        \"semantic_type\": \"\",\n        \"description\": \"\"\n      }\n    },\n    {\n      \"column\": \"Cholesterol\",\n      \"properties\": {\n        \"dtype\": \"category\",\n        \"num_unique_values\": 2,\n        \"samples\": [\n          \"NORMAL\",\n          \"HIGH\"\n        ],\n        \"semantic_type\": \"\",\n        \"description\": \"\"\n      }\n    },\n    {\n      \"column\": \"Na_to_K\",\n      \"properties\": {\n        \"dtype\": \"number\",\n        \"std\": 7.223955528459517,\n        \"min\": 6.269,\n        \"max\": 38.247,\n        \"num_unique_values\": 198,\n        \"samples\": [\n          27.05,\n          9.281\n        ],\n        \"semantic_type\": \"\",\n        \"description\": \"\"\n      }\n    },\n    {\n      \"column\": \"Drug\",\n      \"properties\": {\n        \"dtype\": \"category\",\n        \"num_unique_values\": 5,\n        \"samples\": [\n          \"drugC\",\n          \"drugB\"\n        ],\n        \"semantic_type\": \"\",\n        \"description\": \"\"\n      }\n    }\n  ]\n}"
      }
     },
     "metadata": {}
    }
   ]
  },
  {
   "cell_type": "markdown",
   "source": [
    "# Splitting dataset into matrix of features ($X$) and dependent variable vector ($y$)"
   ],
   "metadata": {
    "id": "wTlSb6kCrIBF"
   }
  },
  {
   "cell_type": "code",
   "source": [
    "# Matrix of features\n",
    "X = drug_df.iloc[:, :-1].values\n",
    "X"
   ],
   "metadata": {
    "colab": {
     "base_uri": "https://localhost:8080/"
    },
    "id": "EyAcQ6Pvp4DI",
    "executionInfo": {
     "status": "ok",
     "timestamp": 1728032786595,
     "user_tz": -330,
     "elapsed": 397,
     "user": {
      "displayName": "ARPAN DAS",
      "userId": "14423431301870891264"
     }
    },
    "outputId": "87e07d43-dcd0-4602-87ec-d795b748f9b7"
   },
   "execution_count": 7,
   "outputs": [
    {
     "output_type": "execute_result",
     "execution_count": 7,
     "data": {
      "text/plain": [
       "array([[23, 'F', 'HIGH', 'HIGH', 25.355],\n",
       "       [47, 'M', 'LOW', 'HIGH', 13.093],\n",
       "       [47, 'M', 'LOW', 'HIGH', 10.114],\n",
       "       [28, 'F', 'NORMAL', 'HIGH', 7.798],\n",
       "       [61, 'F', 'LOW', 'HIGH', 18.043],\n",
       "       [22, 'F', 'NORMAL', 'HIGH', 8.607],\n",
       "       [49, 'F', 'NORMAL', 'HIGH', 16.275],\n",
       "       [41, 'M', 'LOW', 'HIGH', 11.037],\n",
       "       [60, 'M', 'NORMAL', 'HIGH', 15.171],\n",
       "       [43, 'M', 'LOW', 'NORMAL', 19.368],\n",
       "       [47, 'F', 'LOW', 'HIGH', 11.767],\n",
       "       [34, 'F', 'HIGH', 'NORMAL', 19.199],\n",
       "       [43, 'M', 'LOW', 'HIGH', 15.376],\n",
       "       [74, 'F', 'LOW', 'HIGH', 20.942],\n",
       "       [50, 'F', 'NORMAL', 'HIGH', 12.703],\n",
       "       [16, 'F', 'HIGH', 'NORMAL', 15.516],\n",
       "       [69, 'M', 'LOW', 'NORMAL', 11.455],\n",
       "       [43, 'M', 'HIGH', 'HIGH', 13.972],\n",
       "       [23, 'M', 'LOW', 'HIGH', 7.298],\n",
       "       [32, 'F', 'HIGH', 'NORMAL', 25.974],\n",
       "       [57, 'M', 'LOW', 'NORMAL', 19.128],\n",
       "       [63, 'M', 'NORMAL', 'HIGH', 25.917],\n",
       "       [47, 'M', 'LOW', 'NORMAL', 30.568],\n",
       "       [48, 'F', 'LOW', 'HIGH', 15.036],\n",
       "       [33, 'F', 'LOW', 'HIGH', 33.486],\n",
       "       [28, 'F', 'HIGH', 'NORMAL', 18.809],\n",
       "       [31, 'M', 'HIGH', 'HIGH', 30.366],\n",
       "       [49, 'F', 'NORMAL', 'NORMAL', 9.381],\n",
       "       [39, 'F', 'LOW', 'NORMAL', 22.697],\n",
       "       [45, 'M', 'LOW', 'HIGH', 17.951],\n",
       "       [18, 'F', 'NORMAL', 'NORMAL', 8.75],\n",
       "       [74, 'M', 'HIGH', 'HIGH', 9.567],\n",
       "       [49, 'M', 'LOW', 'NORMAL', 11.014],\n",
       "       [65, 'F', 'HIGH', 'NORMAL', 31.876],\n",
       "       [53, 'M', 'NORMAL', 'HIGH', 14.133],\n",
       "       [46, 'M', 'NORMAL', 'NORMAL', 7.285],\n",
       "       [32, 'M', 'HIGH', 'NORMAL', 9.445],\n",
       "       [39, 'M', 'LOW', 'NORMAL', 13.938],\n",
       "       [39, 'F', 'NORMAL', 'NORMAL', 9.709],\n",
       "       [15, 'M', 'NORMAL', 'HIGH', 9.084],\n",
       "       [73, 'F', 'NORMAL', 'HIGH', 19.221],\n",
       "       [58, 'F', 'HIGH', 'NORMAL', 14.239],\n",
       "       [50, 'M', 'NORMAL', 'NORMAL', 15.79],\n",
       "       [23, 'M', 'NORMAL', 'HIGH', 12.26],\n",
       "       [50, 'F', 'NORMAL', 'NORMAL', 12.295],\n",
       "       [66, 'F', 'NORMAL', 'NORMAL', 8.107],\n",
       "       [37, 'F', 'HIGH', 'HIGH', 13.091],\n",
       "       [68, 'M', 'LOW', 'HIGH', 10.291],\n",
       "       [23, 'M', 'NORMAL', 'HIGH', 31.686],\n",
       "       [28, 'F', 'LOW', 'HIGH', 19.796],\n",
       "       [58, 'F', 'HIGH', 'HIGH', 19.416],\n",
       "       [67, 'M', 'NORMAL', 'NORMAL', 10.898],\n",
       "       [62, 'M', 'LOW', 'NORMAL', 27.183],\n",
       "       [24, 'F', 'HIGH', 'NORMAL', 18.457],\n",
       "       [68, 'F', 'HIGH', 'NORMAL', 10.189],\n",
       "       [26, 'F', 'LOW', 'HIGH', 14.16],\n",
       "       [65, 'M', 'HIGH', 'NORMAL', 11.34],\n",
       "       [40, 'M', 'HIGH', 'HIGH', 27.826],\n",
       "       [60, 'M', 'NORMAL', 'NORMAL', 10.091],\n",
       "       [34, 'M', 'HIGH', 'HIGH', 18.703],\n",
       "       [38, 'F', 'LOW', 'NORMAL', 29.875],\n",
       "       [24, 'M', 'HIGH', 'NORMAL', 9.475],\n",
       "       [67, 'M', 'LOW', 'NORMAL', 20.693],\n",
       "       [45, 'M', 'LOW', 'NORMAL', 8.37],\n",
       "       [60, 'F', 'HIGH', 'HIGH', 13.303],\n",
       "       [68, 'F', 'NORMAL', 'NORMAL', 27.05],\n",
       "       [29, 'M', 'HIGH', 'HIGH', 12.856],\n",
       "       [17, 'M', 'NORMAL', 'NORMAL', 10.832],\n",
       "       [54, 'M', 'NORMAL', 'HIGH', 24.658],\n",
       "       [18, 'F', 'HIGH', 'NORMAL', 24.276],\n",
       "       [70, 'M', 'HIGH', 'HIGH', 13.967],\n",
       "       [28, 'F', 'NORMAL', 'HIGH', 19.675],\n",
       "       [24, 'F', 'NORMAL', 'HIGH', 10.605],\n",
       "       [41, 'F', 'NORMAL', 'NORMAL', 22.905],\n",
       "       [31, 'M', 'HIGH', 'NORMAL', 17.069],\n",
       "       [26, 'M', 'LOW', 'NORMAL', 20.909],\n",
       "       [36, 'F', 'HIGH', 'HIGH', 11.198],\n",
       "       [26, 'F', 'HIGH', 'NORMAL', 19.161],\n",
       "       [19, 'F', 'HIGH', 'HIGH', 13.313],\n",
       "       [32, 'F', 'LOW', 'NORMAL', 10.84],\n",
       "       [60, 'M', 'HIGH', 'HIGH', 13.934],\n",
       "       [64, 'M', 'NORMAL', 'HIGH', 7.761],\n",
       "       [32, 'F', 'LOW', 'HIGH', 9.712],\n",
       "       [38, 'F', 'HIGH', 'NORMAL', 11.326],\n",
       "       [47, 'F', 'LOW', 'HIGH', 10.067],\n",
       "       [59, 'M', 'HIGH', 'HIGH', 13.935],\n",
       "       [51, 'F', 'NORMAL', 'HIGH', 13.597],\n",
       "       [69, 'M', 'LOW', 'HIGH', 15.478],\n",
       "       [37, 'F', 'HIGH', 'NORMAL', 23.091],\n",
       "       [50, 'F', 'NORMAL', 'NORMAL', 17.211],\n",
       "       [62, 'M', 'NORMAL', 'HIGH', 16.594],\n",
       "       [41, 'M', 'HIGH', 'NORMAL', 15.156],\n",
       "       [29, 'F', 'HIGH', 'HIGH', 29.45],\n",
       "       [42, 'F', 'LOW', 'NORMAL', 29.271],\n",
       "       [56, 'M', 'LOW', 'HIGH', 15.015],\n",
       "       [36, 'M', 'LOW', 'NORMAL', 11.424],\n",
       "       [58, 'F', 'LOW', 'HIGH', 38.247],\n",
       "       [56, 'F', 'HIGH', 'HIGH', 25.395],\n",
       "       [20, 'M', 'HIGH', 'NORMAL', 35.639],\n",
       "       [15, 'F', 'HIGH', 'NORMAL', 16.725],\n",
       "       [31, 'M', 'HIGH', 'NORMAL', 11.871],\n",
       "       [45, 'F', 'HIGH', 'HIGH', 12.854],\n",
       "       [28, 'F', 'LOW', 'HIGH', 13.127],\n",
       "       [56, 'M', 'NORMAL', 'HIGH', 8.966],\n",
       "       [22, 'M', 'HIGH', 'NORMAL', 28.294],\n",
       "       [37, 'M', 'LOW', 'NORMAL', 8.968],\n",
       "       [22, 'M', 'NORMAL', 'HIGH', 11.953],\n",
       "       [42, 'M', 'LOW', 'HIGH', 20.013],\n",
       "       [72, 'M', 'HIGH', 'NORMAL', 9.677],\n",
       "       [23, 'M', 'NORMAL', 'HIGH', 16.85],\n",
       "       [50, 'M', 'HIGH', 'HIGH', 7.49],\n",
       "       [47, 'F', 'NORMAL', 'NORMAL', 6.683],\n",
       "       [35, 'M', 'LOW', 'NORMAL', 9.17],\n",
       "       [65, 'F', 'LOW', 'NORMAL', 13.769],\n",
       "       [20, 'F', 'NORMAL', 'NORMAL', 9.281],\n",
       "       [51, 'M', 'HIGH', 'HIGH', 18.295],\n",
       "       [67, 'M', 'NORMAL', 'NORMAL', 9.514],\n",
       "       [40, 'F', 'NORMAL', 'HIGH', 10.103],\n",
       "       [32, 'F', 'HIGH', 'NORMAL', 10.292],\n",
       "       [61, 'F', 'HIGH', 'HIGH', 25.475],\n",
       "       [28, 'M', 'NORMAL', 'HIGH', 27.064],\n",
       "       [15, 'M', 'HIGH', 'NORMAL', 17.206],\n",
       "       [34, 'M', 'NORMAL', 'HIGH', 22.456],\n",
       "       [36, 'F', 'NORMAL', 'HIGH', 16.753],\n",
       "       [53, 'F', 'HIGH', 'NORMAL', 12.495],\n",
       "       [19, 'F', 'HIGH', 'NORMAL', 25.969],\n",
       "       [66, 'M', 'HIGH', 'HIGH', 16.347],\n",
       "       [35, 'M', 'NORMAL', 'NORMAL', 7.845],\n",
       "       [47, 'M', 'LOW', 'NORMAL', 33.542],\n",
       "       [32, 'F', 'NORMAL', 'HIGH', 7.477],\n",
       "       [70, 'F', 'NORMAL', 'HIGH', 20.489],\n",
       "       [52, 'M', 'LOW', 'NORMAL', 32.922],\n",
       "       [49, 'M', 'LOW', 'NORMAL', 13.598],\n",
       "       [24, 'M', 'NORMAL', 'HIGH', 25.786],\n",
       "       [42, 'F', 'HIGH', 'HIGH', 21.036],\n",
       "       [74, 'M', 'LOW', 'NORMAL', 11.939],\n",
       "       [55, 'F', 'HIGH', 'HIGH', 10.977],\n",
       "       [35, 'F', 'HIGH', 'HIGH', 12.894],\n",
       "       [51, 'M', 'HIGH', 'NORMAL', 11.343],\n",
       "       [69, 'F', 'NORMAL', 'HIGH', 10.065],\n",
       "       [49, 'M', 'HIGH', 'NORMAL', 6.269],\n",
       "       [64, 'F', 'LOW', 'NORMAL', 25.741],\n",
       "       [60, 'M', 'HIGH', 'NORMAL', 8.621],\n",
       "       [74, 'M', 'HIGH', 'NORMAL', 15.436],\n",
       "       [39, 'M', 'HIGH', 'HIGH', 9.664],\n",
       "       [61, 'M', 'NORMAL', 'HIGH', 9.443],\n",
       "       [37, 'F', 'LOW', 'NORMAL', 12.006],\n",
       "       [26, 'F', 'HIGH', 'NORMAL', 12.307],\n",
       "       [61, 'F', 'LOW', 'NORMAL', 7.34],\n",
       "       [22, 'M', 'LOW', 'HIGH', 8.151],\n",
       "       [49, 'M', 'HIGH', 'NORMAL', 8.7],\n",
       "       [68, 'M', 'HIGH', 'HIGH', 11.009],\n",
       "       [55, 'M', 'NORMAL', 'NORMAL', 7.261],\n",
       "       [72, 'F', 'LOW', 'NORMAL', 14.642],\n",
       "       [37, 'M', 'LOW', 'NORMAL', 16.724],\n",
       "       [49, 'M', 'LOW', 'HIGH', 10.537],\n",
       "       [31, 'M', 'HIGH', 'NORMAL', 11.227],\n",
       "       [53, 'M', 'LOW', 'HIGH', 22.963],\n",
       "       [59, 'F', 'LOW', 'HIGH', 10.444],\n",
       "       [34, 'F', 'LOW', 'NORMAL', 12.923],\n",
       "       [30, 'F', 'NORMAL', 'HIGH', 10.443],\n",
       "       [57, 'F', 'HIGH', 'NORMAL', 9.945],\n",
       "       [43, 'M', 'NORMAL', 'NORMAL', 12.859],\n",
       "       [21, 'F', 'HIGH', 'NORMAL', 28.632],\n",
       "       [16, 'M', 'HIGH', 'NORMAL', 19.007],\n",
       "       [38, 'M', 'LOW', 'HIGH', 18.295],\n",
       "       [58, 'F', 'LOW', 'HIGH', 26.645],\n",
       "       [57, 'F', 'NORMAL', 'HIGH', 14.216],\n",
       "       [51, 'F', 'LOW', 'NORMAL', 23.003],\n",
       "       [20, 'F', 'HIGH', 'HIGH', 11.262],\n",
       "       [28, 'F', 'NORMAL', 'HIGH', 12.879],\n",
       "       [45, 'M', 'LOW', 'NORMAL', 10.017],\n",
       "       [39, 'F', 'NORMAL', 'NORMAL', 17.225],\n",
       "       [41, 'F', 'LOW', 'NORMAL', 18.739],\n",
       "       [42, 'M', 'HIGH', 'NORMAL', 12.766],\n",
       "       [73, 'F', 'HIGH', 'HIGH', 18.348],\n",
       "       [48, 'M', 'HIGH', 'NORMAL', 10.446],\n",
       "       [25, 'M', 'NORMAL', 'HIGH', 19.011],\n",
       "       [39, 'M', 'NORMAL', 'HIGH', 15.969],\n",
       "       [67, 'F', 'NORMAL', 'HIGH', 15.891],\n",
       "       [22, 'F', 'HIGH', 'NORMAL', 22.818],\n",
       "       [59, 'F', 'NORMAL', 'HIGH', 13.884],\n",
       "       [20, 'F', 'LOW', 'NORMAL', 11.686],\n",
       "       [36, 'F', 'HIGH', 'NORMAL', 15.49],\n",
       "       [18, 'F', 'HIGH', 'HIGH', 37.188],\n",
       "       [57, 'F', 'NORMAL', 'NORMAL', 25.893],\n",
       "       [70, 'M', 'HIGH', 'HIGH', 9.849],\n",
       "       [47, 'M', 'HIGH', 'HIGH', 10.403],\n",
       "       [65, 'M', 'HIGH', 'NORMAL', 34.997],\n",
       "       [64, 'M', 'HIGH', 'NORMAL', 20.932],\n",
       "       [58, 'M', 'HIGH', 'HIGH', 18.991],\n",
       "       [23, 'M', 'HIGH', 'HIGH', 8.011],\n",
       "       [72, 'M', 'LOW', 'HIGH', 16.31],\n",
       "       [72, 'M', 'LOW', 'HIGH', 6.769],\n",
       "       [46, 'F', 'HIGH', 'HIGH', 34.686],\n",
       "       [56, 'F', 'LOW', 'HIGH', 11.567],\n",
       "       [16, 'M', 'LOW', 'HIGH', 12.006],\n",
       "       [52, 'M', 'NORMAL', 'HIGH', 9.894],\n",
       "       [23, 'M', 'NORMAL', 'NORMAL', 14.02],\n",
       "       [40, 'F', 'LOW', 'NORMAL', 11.349]], dtype=object)"
      ]
     },
     "metadata": {}
    }
   ]
  },
  {
   "cell_type": "code",
   "source": [
    "X.shape"
   ],
   "metadata": {
    "colab": {
     "base_uri": "https://localhost:8080/"
    },
    "id": "21NZxdkJq_CQ",
    "executionInfo": {
     "status": "ok",
     "timestamp": 1728032796945,
     "user_tz": -330,
     "elapsed": 417,
     "user": {
      "displayName": "ARPAN DAS",
      "userId": "14423431301870891264"
     }
    },
    "outputId": "d5de00d6-114e-40b5-c347-a643970861b7"
   },
   "execution_count": 9,
   "outputs": [
    {
     "output_type": "execute_result",
     "execution_count": 9,
     "data": {
      "text/plain": [
       "(200, 5)"
      ]
     },
     "metadata": {}
    }
   ]
  },
  {
   "cell_type": "code",
   "source": [
    "# Dependent variable vector\n",
    "y = drug_df.iloc[:, -1].values\n",
    "y"
   ],
   "metadata": {
    "colab": {
     "base_uri": "https://localhost:8080/"
    },
    "id": "1NR5ZvcfqxCf",
    "executionInfo": {
     "status": "ok",
     "timestamp": 1728032794882,
     "user_tz": -330,
     "elapsed": 450,
     "user": {
      "displayName": "ARPAN DAS",
      "userId": "14423431301870891264"
     }
    },
    "outputId": "1fc1f420-596d-4e72-dbdf-cdd61bfc7fe4"
   },
   "execution_count": 8,
   "outputs": [
    {
     "output_type": "execute_result",
     "execution_count": 8,
     "data": {
      "text/plain": [
       "array(['DrugY', 'drugC', 'drugC', 'drugX', 'DrugY', 'drugX', 'DrugY',\n",
       "       'drugC', 'DrugY', 'DrugY', 'drugC', 'DrugY', 'DrugY', 'DrugY',\n",
       "       'drugX', 'DrugY', 'drugX', 'drugA', 'drugC', 'DrugY', 'DrugY',\n",
       "       'DrugY', 'DrugY', 'DrugY', 'DrugY', 'DrugY', 'DrugY', 'drugX',\n",
       "       'DrugY', 'DrugY', 'drugX', 'drugB', 'drugX', 'DrugY', 'drugX',\n",
       "       'drugX', 'drugA', 'drugX', 'drugX', 'drugX', 'DrugY', 'drugB',\n",
       "       'DrugY', 'drugX', 'drugX', 'drugX', 'drugA', 'drugC', 'DrugY',\n",
       "       'DrugY', 'DrugY', 'drugX', 'DrugY', 'DrugY', 'drugB', 'drugC',\n",
       "       'drugB', 'DrugY', 'drugX', 'DrugY', 'DrugY', 'drugA', 'DrugY',\n",
       "       'drugX', 'drugB', 'DrugY', 'drugA', 'drugX', 'DrugY', 'DrugY',\n",
       "       'drugB', 'DrugY', 'drugX', 'DrugY', 'DrugY', 'DrugY', 'drugA',\n",
       "       'DrugY', 'drugA', 'drugX', 'drugB', 'drugX', 'drugC', 'drugA',\n",
       "       'drugC', 'drugB', 'drugX', 'DrugY', 'DrugY', 'DrugY', 'DrugY',\n",
       "       'DrugY', 'DrugY', 'DrugY', 'DrugY', 'drugX', 'DrugY', 'DrugY',\n",
       "       'DrugY', 'DrugY', 'drugA', 'drugA', 'drugC', 'drugX', 'DrugY',\n",
       "       'drugX', 'drugX', 'DrugY', 'drugB', 'DrugY', 'drugA', 'drugX',\n",
       "       'drugX', 'drugX', 'drugX', 'DrugY', 'drugX', 'drugX', 'drugA',\n",
       "       'DrugY', 'DrugY', 'DrugY', 'DrugY', 'DrugY', 'drugB', 'DrugY',\n",
       "       'DrugY', 'drugX', 'DrugY', 'drugX', 'DrugY', 'DrugY', 'drugX',\n",
       "       'DrugY', 'DrugY', 'drugX', 'drugB', 'drugA', 'drugB', 'drugX',\n",
       "       'drugA', 'DrugY', 'drugB', 'DrugY', 'drugA', 'drugX', 'drugX',\n",
       "       'drugA', 'drugX', 'drugC', 'drugA', 'drugB', 'drugX', 'drugX',\n",
       "       'DrugY', 'drugC', 'drugA', 'DrugY', 'drugC', 'drugX', 'drugX',\n",
       "       'drugB', 'drugX', 'DrugY', 'DrugY', 'DrugY', 'DrugY', 'drugX',\n",
       "       'DrugY', 'drugA', 'drugX', 'drugX', 'DrugY', 'DrugY', 'drugA',\n",
       "       'DrugY', 'drugA', 'DrugY', 'DrugY', 'DrugY', 'DrugY', 'drugX',\n",
       "       'drugX', 'DrugY', 'DrugY', 'DrugY', 'drugB', 'drugA', 'DrugY',\n",
       "       'DrugY', 'DrugY', 'drugA', 'DrugY', 'drugC', 'DrugY', 'drugC',\n",
       "       'drugC', 'drugX', 'drugX', 'drugX'], dtype=object)"
      ]
     },
     "metadata": {}
    }
   ]
  },
  {
   "cell_type": "code",
   "source": [
    "y.shape"
   ],
   "metadata": {
    "colab": {
     "base_uri": "https://localhost:8080/"
    },
    "id": "lPbNtYb0rA6q",
    "executionInfo": {
     "status": "ok",
     "timestamp": 1728032799979,
     "user_tz": -330,
     "elapsed": 381,
     "user": {
      "displayName": "ARPAN DAS",
      "userId": "14423431301870891264"
     }
    },
    "outputId": "c3c11c19-4a99-47af-f90e-277c8624d142"
   },
   "execution_count": 10,
   "outputs": [
    {
     "output_type": "execute_result",
     "execution_count": 10,
     "data": {
      "text/plain": [
       "(200,)"
      ]
     },
     "metadata": {}
    }
   ]
  },
  {
   "cell_type": "markdown",
   "source": [
    "# Data pre-processing"
   ],
   "metadata": {
    "id": "qZ0aSRYxaZ8l"
   }
  },
  {
   "cell_type": "code",
   "source": [
    "drug_df.info()"
   ],
   "metadata": {
    "colab": {
     "base_uri": "https://localhost:8080/"
    },
    "id": "TNx34AImaZaR",
    "executionInfo": {
     "status": "ok",
     "timestamp": 1726461149088,
     "user_tz": -330,
     "elapsed": 24,
     "user": {
      "displayName": "ARPAN DAS",
      "userId": "14423431301870891264"
     }
    },
    "outputId": "f1694654-890a-468d-8a85-a694023af66a"
   },
   "execution_count": null,
   "outputs": [
    {
     "output_type": "stream",
     "name": "stdout",
     "text": "<class 'pandas.core.frame.DataFrame'>\n\nRangeIndex: 200 entries, 0 to 199\n\nData columns (total 6 columns):\n\n #   Column       Non-Null Count  Dtype  \n\n---  ------       --------------  -----  \n\n 0   Age          200 non-null    int64  \n\n 1   Sex          200 non-null    object \n\n 2   BP           200 non-null    object \n\n 3   Cholesterol  200 non-null    object \n\n 4   Na_to_K      200 non-null    float64\n\n 5   Drug         200 non-null    object \n\ndtypes: float64(1), int64(1), object(4)\n\nmemory usage: 9.5+ KB\n"
    }
   ]
  },
  {
   "cell_type": "code",
   "source": [
    "# Checking the missing values\n",
    "\n",
    "drug_df.isnull().sum()"
   ],
   "metadata": {
    "colab": {
     "base_uri": "https://localhost:8080/",
     "height": 272
    },
    "id": "CGnGQK88atCj",
    "executionInfo": {
     "status": "ok",
     "timestamp": 1726461149088,
     "user_tz": -330,
     "elapsed": 19,
     "user": {
      "displayName": "ARPAN DAS",
      "userId": "14423431301870891264"
     }
    },
    "outputId": "bf14e6a5-f0c7-4cf1-b776-cbd8c18940cd"
   },
   "execution_count": null,
   "outputs": [
    {
     "output_type": "execute_result",
     "execution_count": 11,
     "data": {
      "text/plain": [
       "Age            0\n",
       "Sex            0\n",
       "BP             0\n",
       "Cholesterol    0\n",
       "Na_to_K        0\n",
       "Drug           0\n",
       "dtype: int64"
      ],
      "text/html": [
       "<div>\n",
       "<style scoped>\n",
       "    .dataframe tbody tr th:only-of-type {\n",
       "        vertical-align: middle;\n",
       "    }\n",
       "\n",
       "    .dataframe tbody tr th {\n",
       "        vertical-align: top;\n",
       "    }\n",
       "\n",
       "    .dataframe thead th {\n",
       "        text-align: right;\n",
       "    }\n",
       "</style>\n",
       "<table border=\"1\" class=\"dataframe\">\n",
       "  <thead>\n",
       "    <tr style=\"text-align: right;\">\n",
       "      <th></th>\n",
       "      <th>0</th>\n",
       "    </tr>\n",
       "  </thead>\n",
       "  <tbody>\n",
       "    <tr>\n",
       "      <th>Age</th>\n",
       "      <td>0</td>\n",
       "    </tr>\n",
       "    <tr>\n",
       "      <th>Sex</th>\n",
       "      <td>0</td>\n",
       "    </tr>\n",
       "    <tr>\n",
       "      <th>BP</th>\n",
       "      <td>0</td>\n",
       "    </tr>\n",
       "    <tr>\n",
       "      <th>Cholesterol</th>\n",
       "      <td>0</td>\n",
       "    </tr>\n",
       "    <tr>\n",
       "      <th>Na_to_K</th>\n",
       "      <td>0</td>\n",
       "    </tr>\n",
       "    <tr>\n",
       "      <th>Drug</th>\n",
       "      <td>0</td>\n",
       "    </tr>\n",
       "  </tbody>\n",
       "</table>\n",
       "</div><br><label><b>dtype:</b> int64</label>"
      ]
     },
     "metadata": {}
    }
   ]
  },
  {
   "cell_type": "markdown",
   "source": [
    "The dataset has no missing values. Great!"
   ],
   "metadata": {
    "id": "SVubcU0ia9xL"
   }
  },
  {
   "cell_type": "markdown",
   "source": [
    "# Data analysis\n",
    "\n",
    "The dataset has 4 categorical variables (or attributes): Sex, BP, Cholesterol, Drug and 2 numerical variables (or attributes): Age, Na_to_K."
   ],
   "metadata": {
    "id": "gVOGSCLMbnGv"
   }
  },
  {
   "cell_type": "markdown",
   "source": [
    "## Histogram of categorical variables"
   ],
   "metadata": {
    "id": "6Ttcwz_zy6wt"
   }
  },
  {
   "cell_type": "code",
   "source": [
    "drug_df['Sex'].unique()"
   ],
   "metadata": {
    "colab": {
     "base_uri": "https://localhost:8080/"
    },
    "id": "za-3KtQ_bwd5",
    "executionInfo": {
     "status": "ok",
     "timestamp": 1726461149088,
     "user_tz": -330,
     "elapsed": 17,
     "user": {
      "displayName": "ARPAN DAS",
      "userId": "14423431301870891264"
     }
    },
    "outputId": "372f8bb4-a16d-4a67-f145-13ddb895b9a0"
   },
   "execution_count": null,
   "outputs": [
    {
     "output_type": "execute_result",
     "execution_count": 12,
     "data": {
      "text/plain": [
       "array(['F', 'M'], dtype=object)"
      ]
     },
     "metadata": {}
    }
   ]
  },
  {
   "cell_type": "code",
   "source": [
    "drug_df['Sex'].value_counts()"
   ],
   "metadata": {
    "colab": {
     "base_uri": "https://localhost:8080/",
     "height": 178
    },
    "id": "7iUpeUIic9HH",
    "executionInfo": {
     "status": "ok",
     "timestamp": 1726461149088,
     "user_tz": -330,
     "elapsed": 14,
     "user": {
      "displayName": "ARPAN DAS",
      "userId": "14423431301870891264"
     }
    },
    "outputId": "2513008d-e828-428b-fea9-66dc3ff3ca69"
   },
   "execution_count": null,
   "outputs": [
    {
     "output_type": "execute_result",
     "execution_count": 13,
     "data": {
      "text/plain": [
       "Sex\n",
       "M    104\n",
       "F     96\n",
       "Name: count, dtype: int64"
      ],
      "text/html": [
       "<div>\n",
       "<style scoped>\n",
       "    .dataframe tbody tr th:only-of-type {\n",
       "        vertical-align: middle;\n",
       "    }\n",
       "\n",
       "    .dataframe tbody tr th {\n",
       "        vertical-align: top;\n",
       "    }\n",
       "\n",
       "    .dataframe thead th {\n",
       "        text-align: right;\n",
       "    }\n",
       "</style>\n",
       "<table border=\"1\" class=\"dataframe\">\n",
       "  <thead>\n",
       "    <tr style=\"text-align: right;\">\n",
       "      <th></th>\n",
       "      <th>count</th>\n",
       "    </tr>\n",
       "    <tr>\n",
       "      <th>Sex</th>\n",
       "      <th></th>\n",
       "    </tr>\n",
       "  </thead>\n",
       "  <tbody>\n",
       "    <tr>\n",
       "      <th>M</th>\n",
       "      <td>104</td>\n",
       "    </tr>\n",
       "    <tr>\n",
       "      <th>F</th>\n",
       "      <td>96</td>\n",
       "    </tr>\n",
       "  </tbody>\n",
       "</table>\n",
       "</div><br><label><b>dtype:</b> int64</label>"
      ]
     },
     "metadata": {}
    }
   ]
  },
  {
   "cell_type": "code",
   "source": [
    "ax = sns.histplot(drug_df['Sex'])\n",
    "ax.bar_label(ax.containers[0]);   # This line add text labels with each bar’s total count or frequency."
   ],
   "metadata": {
    "colab": {
     "base_uri": "https://localhost:8080/",
     "height": 449
    },
    "id": "6N7kqw0TmuZN",
    "executionInfo": {
     "status": "ok",
     "timestamp": 1726461149088,
     "user_tz": -330,
     "elapsed": 12,
     "user": {
      "displayName": "ARPAN DAS",
      "userId": "14423431301870891264"
     }
    },
    "outputId": "1ee4e8ff-0adc-4a79-c7bc-0ec85cffee4d"
   },
   "execution_count": null,
   "outputs": [
    {
     "output_type": "display_data",
     "data": {
      "text/plain": [
       "<Figure size 640x480 with 1 Axes>"
      ],
      "image/png": "[encoded data removed]"
     },
     "metadata": {}
    }
   ]
  },
  {
   "cell_type": "code",
   "source": [
    "drug_df['BP'].unique()"
   ],
   "metadata": {
    "colab": {
     "base_uri": "https://localhost:8080/"
    },
    "id": "Kdv3HzARdYat",
    "executionInfo": {
     "status": "ok",
     "timestamp": 1726461149584,
     "user_tz": -330,
     "elapsed": 507,
     "user": {
      "displayName": "ARPAN DAS",
      "userId": "14423431301870891264"
     }
    },
    "outputId": "de0e0080-990b-4c5b-d4d2-ea54e89b47ca"
   },
   "execution_count": null,
   "outputs": [
    {
     "output_type": "execute_result",
     "execution_count": 15,
     "data": {
      "text/plain": [
       "array(['HIGH', 'LOW', 'NORMAL'], dtype=object)"
      ]
     },
     "metadata": {}
    }
   ]
  },
  {
   "cell_type": "code",
   "source": [
    "drug_df['BP'].value_counts()"
   ],
   "metadata": {
    "colab": {
     "base_uri": "https://localhost:8080/",
     "height": 210
    },
    "id": "htIX11Bcdcxj",
    "executionInfo": {
     "status": "ok",
     "timestamp": 1726461149584,
     "user_tz": -330,
     "elapsed": 504,
     "user": {
      "displayName": "ARPAN DAS",
      "userId": "14423431301870891264"
     }
    },
    "outputId": "c6feebdd-95d1-4d77-ed10-265f97f1dc7c"
   },
   "execution_count": null,
   "outputs": [
    {
     "output_type": "execute_result",
     "execution_count": 16,
     "data": {
      "text/plain": [
       "BP\n",
       "HIGH      77\n",
       "LOW       64\n",
       "NORMAL    59\n",
       "Name: count, dtype: int64"
      ],
      "text/html": [
       "<div>\n",
       "<style scoped>\n",
       "    .dataframe tbody tr th:only-of-type {\n",
       "        vertical-align: middle;\n",
       "    }\n",
       "\n",
       "    .dataframe tbody tr th {\n",
       "        vertical-align: top;\n",
       "    }\n",
       "\n",
       "    .dataframe thead th {\n",
       "        text-align: right;\n",
       "    }\n",
       "</style>\n",
       "<table border=\"1\" class=\"dataframe\">\n",
       "  <thead>\n",
       "    <tr style=\"text-align: right;\">\n",
       "      <th></th>\n",
       "      <th>count</th>\n",
       "    </tr>\n",
       "    <tr>\n",
       "      <th>BP</th>\n",
       "      <th></th>\n",
       "    </tr>\n",
       "  </thead>\n",
       "  <tbody>\n",
       "    <tr>\n",
       "      <th>HIGH</th>\n",
       "      <td>77</td>\n",
       "    </tr>\n",
       "    <tr>\n",
       "      <th>LOW</th>\n",
       "      <td>64</td>\n",
       "    </tr>\n",
       "    <tr>\n",
       "      <th>NORMAL</th>\n",
       "      <td>59</td>\n",
       "    </tr>\n",
       "  </tbody>\n",
       "</table>\n",
       "</div><br><label><b>dtype:</b> int64</label>"
      ]
     },
     "metadata": {}
    }
   ]
  },
  {
   "cell_type": "code",
   "source": [
    "ax = sns.histplot(drug_df['BP'])\n",
    "ax.bar_label(ax.containers[0]);   # This line add text labels with each bar’s total count or frequency."
   ],
   "metadata": {
    "colab": {
     "base_uri": "https://localhost:8080/",
     "height": 451
    },
    "id": "zXbHVPvHowZY",
    "executionInfo": {
     "status": "ok",
     "timestamp": 1726461149585,
     "user_tz": -330,
     "elapsed": 12,
     "user": {
      "displayName": "ARPAN DAS",
      "userId": "14423431301870891264"
     }
    },
    "outputId": "ad2067d7-51db-4d73-c7e3-8a52e333c8b7"
   },
   "execution_count": null,
   "outputs": [
    {
     "output_type": "display_data",
     "data": {
      "text/plain": [
       "<Figure size 640x480 with 1 Axes>"
      ],
      "image/png": "[encoded data removed]"
     },
     "metadata": {}
    }
   ]
  },
  {
   "cell_type": "code",
   "source": [
    "drug_df['Cholesterol'].unique()"
   ],
   "metadata": {
    "colab": {
     "base_uri": "https://localhost:8080/"
    },
    "id": "Q5Qa8558di2X",
    "executionInfo": {
     "status": "ok",
     "timestamp": 1726461149585,
     "user_tz": -330,
     "elapsed": 11,
     "user": {
      "displayName": "ARPAN DAS",
      "userId": "14423431301870891264"
     }
    },
    "outputId": "f57cef83-c94f-42c5-e670-b0f581102e0d"
   },
   "execution_count": null,
   "outputs": [
    {
     "output_type": "execute_result",
     "execution_count": 18,
     "data": {
      "text/plain": [
       "array(['HIGH', 'NORMAL'], dtype=object)"
      ]
     },
     "metadata": {}
    }
   ]
  },
  {
   "cell_type": "code",
   "source": [
    "drug_df['Cholesterol'].value_counts()"
   ],
   "metadata": {
    "colab": {
     "base_uri": "https://localhost:8080/",
     "height": 178
    },
    "id": "h7wVIt1HdmN2",
    "executionInfo": {
     "status": "ok",
     "timestamp": 1726461149585,
     "user_tz": -330,
     "elapsed": 9,
     "user": {
      "displayName": "ARPAN DAS",
      "userId": "14423431301870891264"
     }
    },
    "outputId": "02115b7d-475a-4347-baaa-ee32219251cd"
   },
   "execution_count": null,
   "outputs": [
    {
     "output_type": "execute_result",
     "execution_count": 19,
     "data": {
      "text/plain": [
       "Cholesterol\n",
       "HIGH      103\n",
       "NORMAL     97\n",
       "Name: count, dtype: int64"
      ],
      "text/html": [
       "<div>\n",
       "<style scoped>\n",
       "    .dataframe tbody tr th:only-of-type {\n",
       "        vertical-align: middle;\n",
       "    }\n",
       "\n",
       "    .dataframe tbody tr th {\n",
       "        vertical-align: top;\n",
       "    }\n",
       "\n",
       "    .dataframe thead th {\n",
       "        text-align: right;\n",
       "    }\n",
       "</style>\n",
       "<table border=\"1\" class=\"dataframe\">\n",
       "  <thead>\n",
       "    <tr style=\"text-align: right;\">\n",
       "      <th></th>\n",
       "      <th>count</th>\n",
       "    </tr>\n",
       "    <tr>\n",
       "      <th>Cholesterol</th>\n",
       "      <th></th>\n",
       "    </tr>\n",
       "  </thead>\n",
       "  <tbody>\n",
       "    <tr>\n",
       "      <th>HIGH</th>\n",
       "      <td>103</td>\n",
       "    </tr>\n",
       "    <tr>\n",
       "      <th>NORMAL</th>\n",
       "      <td>97</td>\n",
       "    </tr>\n",
       "  </tbody>\n",
       "</table>\n",
       "</div><br><label><b>dtype:</b> int64</label>"
      ]
     },
     "metadata": {}
    }
   ]
  },
  {
   "cell_type": "code",
   "source": [
    "ax = sns.histplot(drug_df['Cholesterol'])\n",
    "ax.bar_label(ax.containers[0]);   # This line add text labels with each bar’s total count or frequency."
   ],
   "metadata": {
    "colab": {
     "base_uri": "https://localhost:8080/",
     "height": 449
    },
    "id": "ouUVFKxio3RP",
    "executionInfo": {
     "status": "ok",
     "timestamp": 1726461150176,
     "user_tz": -330,
     "elapsed": 598,
     "user": {
      "displayName": "ARPAN DAS",
      "userId": "14423431301870891264"
     }
    },
    "outputId": "90f9ce75-26e3-4976-ba6c-b5d0bea98f3c"
   },
   "execution_count": null,
   "outputs": [
    {
     "output_type": "display_data",
     "data": {
      "text/plain": [
       "<Figure size 640x480 with 1 Axes>"
      ],
      "image/png": "[encoded data removed]"
     },
     "metadata": {}
    }
   ]
  },
  {
   "cell_type": "code",
   "source": [
    "drug_df['Drug'].unique()"
   ],
   "metadata": {
    "colab": {
     "base_uri": "https://localhost:8080/"
    },
    "id": "ccZBZeUydqd5",
    "executionInfo": {
     "status": "ok",
     "timestamp": 1726461150177,
     "user_tz": -330,
     "elapsed": 16,
     "user": {
      "displayName": "ARPAN DAS",
      "userId": "14423431301870891264"
     }
    },
    "outputId": "73158235-de09-4962-8c68-fbe804ccfc5a"
   },
   "execution_count": null,
   "outputs": [
    {
     "output_type": "execute_result",
     "execution_count": 21,
     "data": {
      "text/plain": [
       "array(['DrugY', 'drugC', 'drugX', 'drugA', 'drugB'], dtype=object)"
      ]
     },
     "metadata": {}
    }
   ]
  },
  {
   "cell_type": "code",
   "source": [
    "drug_df['Drug'].value_counts()"
   ],
   "metadata": {
    "colab": {
     "base_uri": "https://localhost:8080/",
     "height": 272
    },
    "id": "oPd6WGK7duGC",
    "executionInfo": {
     "status": "ok",
     "timestamp": 1726461150177,
     "user_tz": -330,
     "elapsed": 14,
     "user": {
      "displayName": "ARPAN DAS",
      "userId": "14423431301870891264"
     }
    },
    "outputId": "c85fda45-e60f-4c9d-dee4-4c0cec278798"
   },
   "execution_count": null,
   "outputs": [
    {
     "output_type": "execute_result",
     "execution_count": 22,
     "data": {
      "text/plain": [
       "Drug\n",
       "DrugY    91\n",
       "drugX    54\n",
       "drugA    23\n",
       "drugC    16\n",
       "drugB    16\n",
       "Name: count, dtype: int64"
      ],
      "text/html": [
       "<div>\n",
       "<style scoped>\n",
       "    .dataframe tbody tr th:only-of-type {\n",
       "        vertical-align: middle;\n",
       "    }\n",
       "\n",
       "    .dataframe tbody tr th {\n",
       "        vertical-align: top;\n",
       "    }\n",
       "\n",
       "    .dataframe thead th {\n",
       "        text-align: right;\n",
       "    }\n",
       "</style>\n",
       "<table border=\"1\" class=\"dataframe\">\n",
       "  <thead>\n",
       "    <tr style=\"text-align: right;\">\n",
       "      <th></th>\n",
       "      <th>count</th>\n",
       "    </tr>\n",
       "    <tr>\n",
       "      <th>Drug</th>\n",
       "      <th></th>\n",
       "    </tr>\n",
       "  </thead>\n",
       "  <tbody>\n",
       "    <tr>\n",
       "      <th>DrugY</th>\n",
       "      <td>91</td>\n",
       "    </tr>\n",
       "    <tr>\n",
       "      <th>drugX</th>\n",
       "      <td>54</td>\n",
       "    </tr>\n",
       "    <tr>\n",
       "      <th>drugA</th>\n",
       "      <td>23</td>\n",
       "    </tr>\n",
       "    <tr>\n",
       "      <th>drugC</th>\n",
       "      <td>16</td>\n",
       "    </tr>\n",
       "    <tr>\n",
       "      <th>drugB</th>\n",
       "      <td>16</td>\n",
       "    </tr>\n",
       "  </tbody>\n",
       "</table>\n",
       "</div><br><label><b>dtype:</b> int64</label>"
      ]
     },
     "metadata": {}
    }
   ]
  },
  {
   "cell_type": "code",
   "source": [
    "ax = sns.histplot(drug_df['Drug'])\n",
    "ax.bar_label(ax.containers[0]);   # This line add text labels with each bar’s total count or frequency."
   ],
   "metadata": {
    "colab": {
     "base_uri": "https://localhost:8080/",
     "height": 449
    },
    "id": "RQnl_8ILt31h",
    "executionInfo": {
     "status": "ok",
     "timestamp": 1726461150177,
     "user_tz": -330,
     "elapsed": 12,
     "user": {
      "displayName": "ARPAN DAS",
      "userId": "14423431301870891264"
     }
    },
    "outputId": "9b2b085d-d1dc-4149-8721-22e10dfeeda6"
   },
   "execution_count": null,
   "outputs": [
    {
     "output_type": "display_data",
     "data": {
      "text/plain": [
       "<Figure size 640x480 with 1 Axes>"
      ],
      "image/png": "[encoded data removed]"
     },
     "metadata": {}
    }
   ]
  },
  {
   "cell_type": "markdown",
   "source": [
    "## Descriptive statistices of numerical variables"
   ],
   "metadata": {
    "id": "4jmaoeUHynsP"
   }
  },
  {
   "cell_type": "code",
   "source": [
    "drug_df.describe()"
   ],
   "metadata": {
    "colab": {
     "base_uri": "https://localhost:8080/",
     "height": 300
    },
    "id": "uAJ-0k6Pd0Sb",
    "executionInfo": {
     "status": "ok",
     "timestamp": 1726461150177,
     "user_tz": -330,
     "elapsed": 11,
     "user": {
      "displayName": "ARPAN DAS",
      "userId": "14423431301870891264"
     }
    },
    "outputId": "1e473c48-04dd-4833-fe5c-9c282b69355b"
   },
   "execution_count": null,
   "outputs": [
    {
     "output_type": "execute_result",
     "execution_count": 24,
     "data": {
      "text/plain": [
       "              Age     Na_to_K\n",
       "count  200.000000  200.000000\n",
       "mean    44.315000   16.084485\n",
       "std     16.544315    7.223956\n",
       "min     15.000000    6.269000\n",
       "25%     31.000000   10.445500\n",
       "50%     45.000000   13.936500\n",
       "75%     58.000000   19.380000\n",
       "max     74.000000   38.247000"
      ],
      "text/html": [
       "\n",
       "  <div id=\"df-bf0bf23c-7b99-4ad0-8653-5a64b114c9cb\" class=\"colab-df-container\">\n",
       "    <div>\n",
       "<style scoped>\n",
       "    .dataframe tbody tr th:only-of-type {\n",
       "        vertical-align: middle;\n",
       "    }\n",
       "\n",
       "    .dataframe tbody tr th {\n",
       "        vertical-align: top;\n",
       "    }\n",
       "\n",
       "    .dataframe thead th {\n",
       "        text-align: right;\n",
       "    }\n",
       "</style>\n",
       "<table border=\"1\" class=\"dataframe\">\n",
       "  <thead>\n",
       "    <tr style=\"text-align: right;\">\n",
       "      <th></th>\n",
       "      <th>Age</th>\n",
       "      <th>Na_to_K</th>\n",
       "    </tr>\n",
       "  </thead>\n",
       "  <tbody>\n",
       "    <tr>\n",
       "      <th>count</th>\n",
       "      <td>200.000000</td>\n",
       "      <td>200.000000</td>\n",
       "    </tr>\n",
       "    <tr>\n",
       "      <th>mean</th>\n",
       "      <td>44.315000</td>\n",
       "      <td>16.084485</td>\n",
       "    </tr>\n",
       "    <tr>\n",
       "      <th>std</th>\n",
       "      <td>16.544315</td>\n",
       "      <td>7.223956</td>\n",
       "    </tr>\n",
       "    <tr>\n",
       "      <th>min</th>\n",
       "      <td>15.000000</td>\n",
       "      <td>6.269000</td>\n",
       "    </tr>\n",
       "    <tr>\n",
       "      <th>25%</th>\n",
       "      <td>31.000000</td>\n",
       "      <td>10.445500</td>\n",
       "    </tr>\n",
       "    <tr>\n",
       "      <th>50%</th>\n",
       "      <td>45.000000</td>\n",
       "      <td>13.936500</td>\n",
       "    </tr>\n",
       "    <tr>\n",
       "      <th>75%</th>\n",
       "      <td>58.000000</td>\n",
       "      <td>19.380000</td>\n",
       "    </tr>\n",
       "    <tr>\n",
       "      <th>max</th>\n",
       "      <td>74.000000</td>\n",
       "      <td>38.247000</td>\n",
       "    </tr>\n",
       "  </tbody>\n",
       "</table>\n",
       "</div>\n",
       "    <div class=\"colab-df-buttons\">\n",
       "\n",
       "  <div class=\"colab-df-container\">\n",
       "    <button class=\"colab-df-convert\" onclick=\"convertToInteractive('df-bf0bf23c-7b99-4ad0-8653-5a64b114c9cb')\"\n",
       "            title=\"Convert this dataframe to an interactive table.\"\n",
       "            style=\"display:none;\">\n",
       "\n",
       "  <svg xmlns=\"http://www.w3.org/2000/svg\" height=\"24px\" viewBox=\"0 -960 960 960\">\n",
       "    <path d=\"M120-120v-720h720v720H120Zm60-500h600v-160H180v160Zm220 220h160v-160H400v160Zm0 220h160v-160H400v160ZM180-400h160v-160H180v160Zm440 0h160v-160H620v160ZM180-180h160v-160H180v160Zm440 0h160v-160H620v160Z\"/>\n",
       "  </svg>\n",
       "    </button>\n",
       "\n",
       "  <style>\n",
       "    .colab-df-container {\n",
       "      display:flex;\n",
       "      gap: 12px;\n",
       "    }\n",
       "\n",
       "    .colab-df-convert {\n",
       "      background-color: #E8F0FE;\n",
       "      border: none;\n",
       "      border-radius: 50%;\n",
       "      cursor: pointer;\n",
       "      display: none;\n",
       "      fill: #1967D2;\n",
       "      height: 32px;\n",
       "      padding: 0 0 0 0;\n",
       "      width: 32px;\n",
       "    }\n",
       "\n",
       "    .colab-df-convert:hover {\n",
       "      background-color: #E2EBFA;\n",
       "      box-shadow: 0px 1px 2px rgba(60, 64, 67, 0.3), 0px 1px 3px 1px rgba(60, 64, 67, 0.15);\n",
       "      fill: #174EA6;\n",
       "    }\n",
       "\n",
       "    .colab-df-buttons div {\n",
       "      margin-bottom: 4px;\n",
       "    }\n",
       "\n",
       "    [theme=dark] .colab-df-convert {\n",
       "      background-color: #3B4455;\n",
       "      fill: #D2E3FC;\n",
       "    }\n",
       "\n",
       "    [theme=dark] .colab-df-convert:hover {\n",
       "      background-color: #434B5C;\n",
       "      box-shadow: 0px 1px 3px 1px rgba(0, 0, 0, 0.15);\n",
       "      filter: drop-shadow(0px 1px 2px rgba(0, 0, 0, 0.3));\n",
       "      fill: #FFFFFF;\n",
       "    }\n",
       "  </style>\n",
       "\n",
       "    <script>\n",
       "      const buttonEl =\n",
       "        document.querySelector('#df-bf0bf23c-7b99-4ad0-8653-5a64b114c9cb button.colab-df-convert');\n",
       "      buttonEl.style.display =\n",
       "        google.colab.kernel.accessAllowed ? 'block' : 'none';\n",
       "\n",
       "      async function convertToInteractive(key) {\n",
       "        const element = document.querySelector('#df-bf0bf23c-7b99-4ad0-8653-5a64b114c9cb');\n",
       "        const dataTable =\n",
       "          await google.colab.kernel.invokeFunction('convertToInteractive',\n",
       "                                                    [key], {});\n",
       "        if (!dataTable) return;\n",
       "\n",
       "        const docLinkHtml = 'Like what you see? Visit the ' +\n",
       "          '<a target=\"_blank\" href=https://colab.research.google.com/notebooks/data_table.ipynb>data table notebook</a>'\n",
       "          + ' to learn more about interactive tables.';\n",
       "        element.innerHTML = '';\n",
       "        dataTable['output_type'] = 'display_data';\n",
       "        await google.colab.output.renderOutput(dataTable, element);\n",
       "        const docLink = document.createElement('div');\n",
       "        docLink.innerHTML = docLinkHtml;\n",
       "        element.appendChild(docLink);\n",
       "      }\n",
       "    </script>\n",
       "  </div>\n",
       "\n",
       "\n",
       "<div id=\"df-1742b77c-9f41-49a9-a018-c77f2b77bec3\">\n",
       "  <button class=\"colab-df-quickchart\" onclick=\"quickchart('df-1742b77c-9f41-49a9-a018-c77f2b77bec3')\"\n",
       "            title=\"Suggest charts\"\n",
       "            style=\"display:none;\">\n",
       "\n",
       "<svg xmlns=\"http://www.w3.org/2000/svg\" height=\"24px\"viewBox=\"0 0 24 24\"\n",
       "     width=\"24px\">\n",
       "    <g>\n",
       "        <path d=\"M19 3H5c-1.1 0-2 .9-2 2v14c0 1.1.9 2 2 2h14c1.1 0 2-.9 2-2V5c0-1.1-.9-2-2-2zM9 17H7v-7h2v7zm4 0h-2V7h2v10zm4 0h-2v-4h2v4z\"/>\n",
       "    </g>\n",
       "</svg>\n",
       "  </button>\n",
       "\n",
       "<style>\n",
       "  .colab-df-quickchart {\n",
       "      --bg-color: #E8F0FE;\n",
       "      --fill-color: #1967D2;\n",
       "      --hover-bg-color: #E2EBFA;\n",
       "      --hover-fill-color: #174EA6;\n",
       "      --disabled-fill-color: #AAA;\n",
       "      --disabled-bg-color: #DDD;\n",
       "  }\n",
       "\n",
       "  [theme=dark] .colab-df-quickchart {\n",
       "      --bg-color: #3B4455;\n",
       "      --fill-color: #D2E3FC;\n",
       "      --hover-bg-color: #434B5C;\n",
       "      --hover-fill-color: #FFFFFF;\n",
       "      --disabled-bg-color: #3B4455;\n",
       "      --disabled-fill-color: #666;\n",
       "  }\n",
       "\n",
       "  .colab-df-quickchart {\n",
       "    background-color: var(--bg-color);\n",
       "    border: none;\n",
       "    border-radius: 50%;\n",
       "    cursor: pointer;\n",
       "    display: none;\n",
       "    fill: var(--fill-color);\n",
       "    height: 32px;\n",
       "    padding: 0;\n",
       "    width: 32px;\n",
       "  }\n",
       "\n",
       "  .colab-df-quickchart:hover {\n",
       "    background-color: var(--hover-bg-color);\n",
       "    box-shadow: 0 1px 2px rgba(60, 64, 67, 0.3), 0 1px 3px 1px rgba(60, 64, 67, 0.15);\n",
       "    fill: var(--button-hover-fill-color);\n",
       "  }\n",
       "\n",
       "  .colab-df-quickchart-complete:disabled,\n",
       "  .colab-df-quickchart-complete:disabled:hover {\n",
       "    background-color: var(--disabled-bg-color);\n",
       "    fill: var(--disabled-fill-color);\n",
       "    box-shadow: none;\n",
       "  }\n",
       "\n",
       "  .colab-df-spinner {\n",
       "    border: 2px solid var(--fill-color);\n",
       "    border-color: transparent;\n",
       "    border-bottom-color: var(--fill-color);\n",
       "    animation:\n",
       "      spin 1s steps(1) infinite;\n",
       "  }\n",
       "\n",
       "  @keyframes spin {\n",
       "    0% {\n",
       "      border-color: transparent;\n",
       "      border-bottom-color: var(--fill-color);\n",
       "      border-left-color: var(--fill-color);\n",
       "    }\n",
       "    20% {\n",
       "      border-color: transparent;\n",
       "      border-left-color: var(--fill-color);\n",
       "      border-top-color: var(--fill-color);\n",
       "    }\n",
       "    30% {\n",
       "      border-color: transparent;\n",
       "      border-left-color: var(--fill-color);\n",
       "      border-top-color: var(--fill-color);\n",
       "      border-right-color: var(--fill-color);\n",
       "    }\n",
       "    40% {\n",
       "      border-color: transparent;\n",
       "      border-right-color: var(--fill-color);\n",
       "      border-top-color: var(--fill-color);\n",
       "    }\n",
       "    60% {\n",
       "      border-color: transparent;\n",
       "      border-right-color: var(--fill-color);\n",
       "    }\n",
       "    80% {\n",
       "      border-color: transparent;\n",
       "      border-right-color: var(--fill-color);\n",
       "      border-bottom-color: var(--fill-color);\n",
       "    }\n",
       "    90% {\n",
       "      border-color: transparent;\n",
       "      border-bottom-color: var(--fill-color);\n",
       "    }\n",
       "  }\n",
       "</style>\n",
       "\n",
       "  <script>\n",
       "    async function quickchart(key) {\n",
       "      const quickchartButtonEl =\n",
       "        document.querySelector('#' + key + ' button');\n",
       "      quickchartButtonEl.disabled = true;  // To prevent multiple clicks.\n",
       "      quickchartButtonEl.classList.add('colab-df-spinner');\n",
       "      try {\n",
       "        const charts = await google.colab.kernel.invokeFunction(\n",
       "            'suggestCharts', [key], {});\n",
       "      } catch (error) {\n",
       "        console.error('Error during call to suggestCharts:', error);\n",
       "      }\n",
       "      quickchartButtonEl.classList.remove('colab-df-spinner');\n",
       "      quickchartButtonEl.classList.add('colab-df-quickchart-complete');\n",
       "    }\n",
       "    (() => {\n",
       "      let quickchartButtonEl =\n",
       "        document.querySelector('#df-1742b77c-9f41-49a9-a018-c77f2b77bec3 button');\n",
       "      quickchartButtonEl.style.display =\n",
       "        google.colab.kernel.accessAllowed ? 'block' : 'none';\n",
       "    })();\n",
       "  </script>\n",
       "</div>\n",
       "\n",
       "    </div>\n",
       "  </div>\n"
      ],
      "application/vnd.google.colaboratory.intrinsic+json": {
       "type": "dataframe",
       "summary": "{\n  \"name\": \"drug_df\",\n  \"rows\": 8,\n  \"fields\": [\n    {\n      \"column\": \"Age\",\n      \"properties\": {\n        \"dtype\": \"number\",\n        \"std\": 59.78957628560131,\n        \"min\": 15.0,\n        \"max\": 200.0,\n        \"num_unique_values\": 8,\n        \"samples\": [\n          44.315,\n          45.0,\n          200.0\n        ],\n        \"semantic_type\": \"\",\n        \"description\": \"\"\n      }\n    },\n    {\n      \"column\": \"Na_to_K\",\n      \"properties\": {\n        \"dtype\": \"number\",\n        \"std\": 65.85284973066084,\n        \"min\": 6.269,\n        \"max\": 200.0,\n        \"num_unique_values\": 8,\n        \"samples\": [\n          16.084485,\n          13.9365,\n          200.0\n        ],\n        \"semantic_type\": \"\",\n        \"description\": \"\"\n      }\n    }\n  ]\n}"
      }
     },
     "metadata": {}
    }
   ]
  },
  {
   "cell_type": "markdown",
   "source": [
    "## Skewness of numerical variables"
   ],
   "metadata": {
    "id": "NrnSi0r_yc4T"
   }
  },
  {
   "cell_type": "code",
   "source": [
    "# Compute skewness of numerical variables\n",
    "\n",
    "print(drug_df['Age'].skew())\n",
    "\n",
    "print(drug_df['Na_to_K'].skew())"
   ],
   "metadata": {
    "colab": {
     "base_uri": "https://localhost:8080/"
    },
    "id": "bdFI3w0Qj4l0",
    "executionInfo": {
     "status": "ok",
     "timestamp": 1726461150177,
     "user_tz": -330,
     "elapsed": 10,
     "user": {
      "displayName": "ARPAN DAS",
      "userId": "14423431301870891264"
     }
    },
    "outputId": "7111fbdb-e941-47b6-b320-435a53e284df"
   },
   "execution_count": null,
   "outputs": [
    {
     "output_type": "stream",
     "name": "stdout",
     "text": "0.03030835703000607\n\n1.039341186028881\n"
    }
   ]
  },
  {
   "cell_type": "code",
   "source": [
    "sns.histplot(drug_df['Age'], kde = True);   # kde = True shows the distribtution line also."
   ],
   "metadata": {
    "id": "9WvdbWX4kq2_",
    "colab": {
     "base_uri": "https://localhost:8080/",
     "height": 449
    },
    "executionInfo": {
     "status": "ok",
     "timestamp": 1726461150892,
     "user_tz": -330,
     "elapsed": 722,
     "user": {
      "displayName": "ARPAN DAS",
      "userId": "14423431301870891264"
     }
    },
    "outputId": "89cbdb59-9d3c-4cc5-bbea-31ea0e9fee8c"
   },
   "execution_count": null,
   "outputs": [
    {
     "output_type": "display_data",
     "data": {
      "text/plain": [
       "<Figure size 640x480 with 1 Axes>"
      ],
      "image/png": "[encoded data removed]"
     },
     "metadata": {}
    }
   ]
  },
  {
   "cell_type": "code",
   "source": [
    "sns.histplot(drug_df['Na_to_K'], kde = True);   # kde = True shows the distribtution line also."
   ],
   "metadata": {
    "colab": {
     "base_uri": "https://localhost:8080/",
     "height": 449
    },
    "id": "i5A3hgp9sefP",
    "executionInfo": {
     "status": "ok",
     "timestamp": 1726461150892,
     "user_tz": -330,
     "elapsed": 7,
     "user": {
      "displayName": "ARPAN DAS",
      "userId": "14423431301870891264"
     }
    },
    "outputId": "fb8253ed-83bb-4c9b-c3ff-93cdf3ab9d45"
   },
   "execution_count": null,
   "outputs": [
    {
     "output_type": "display_data",
     "data": {
      "text/plain": [
       "<Figure size 640x480 with 1 Axes>"
      ],
      "image/png": "[encoded data removed]"
     },
     "metadata": {}
    }
   ]
  },
  {
   "cell_type": "markdown",
   "source": [
    "So, distribution of 'Age' is symmetric (skewness is close to zero), whereas distribtuion of 'Na_to_K' is positively skewed or right skewed."
   ],
   "metadata": {
    "id": "AQDjCTXms24s"
   }
  },
  {
   "cell_type": "markdown",
   "source": [
    "## 'Drug' distribution based on 'Sex' type"
   ],
   "metadata": {
    "id": "_4AQdAiKyQTO"
   }
  },
  {
   "cell_type": "code",
   "source": [
    "sns.histplot(data = drug_df, x = 'Drug', hue = 'Sex', multiple = 'stack');"
   ],
   "metadata": {
    "colab": {
     "base_uri": "https://localhost:8080/",
     "height": 449
    },
    "id": "_AI9MZVPtQZT",
    "executionInfo": {
     "status": "ok",
     "timestamp": 1726461151478,
     "user_tz": -330,
     "elapsed": 592,
     "user": {
      "displayName": "ARPAN DAS",
      "userId": "14423431301870891264"
     }
    },
    "outputId": "1b3a9ecd-bd9c-487f-a607-232d4469c66b"
   },
   "execution_count": null,
   "outputs": [
    {
     "output_type": "display_data",
     "data": {
      "text/plain": [
       "<Figure size 640x480 with 1 Axes>"
      ],
      "image/png": "[encoded data removed]"
     },
     "metadata": {}
    }
   ]
  },
  {
   "cell_type": "markdown",
   "source": [
    "## 'BP' distribution based on 'Cholesterol' level"
   ],
   "metadata": {
    "id": "MyF-wIHVzLVU"
   }
  },
  {
   "cell_type": "code",
   "source": [
    "sns.histplot(data = drug_df, x = 'BP', hue = 'Cholesterol', multiple = 'stack');"
   ],
   "metadata": {
    "colab": {
     "base_uri": "https://localhost:8080/",
     "height": 451
    },
    "id": "pj7g0Ot9zVrq",
    "executionInfo": {
     "status": "ok",
     "timestamp": 1726461151478,
     "user_tz": -330,
     "elapsed": 8,
     "user": {
      "displayName": "ARPAN DAS",
      "userId": "14423431301870891264"
     }
    },
    "outputId": "3ce7b669-4cbd-4291-8790-42d563233d3d"
   },
   "execution_count": null,
   "outputs": [
    {
     "output_type": "display_data",
     "data": {
      "text/plain": [
       "<Figure size 640x480 with 1 Axes>"
      ],
      "image/png": "[encoded data removed]"
     },
     "metadata": {}
    }
   ]
  },
  {
   "cell_type": "markdown",
   "source": [
    "The group of \"normal BP\" patietns has *more* \"high cholesterol\" persons!!"
   ],
   "metadata": {
    "id": "fvlqOvZ911It"
   }
  },
  {
   "cell_type": "markdown",
   "source": [
    "## 'Na_to_K' distribution based on 'Sex' and 'Age'"
   ],
   "metadata": {
    "id": "IIjfg8kNz3hj"
   }
  },
  {
   "cell_type": "code",
   "source": [
    "sns.scatterplot(data = drug_df, x = 'Age', y = 'Na_to_K', hue = 'Sex');"
   ],
   "metadata": {
    "colab": {
     "base_uri": "https://localhost:8080/",
     "height": 449
    },
    "id": "A00UNEnxz_hg",
    "executionInfo": {
     "status": "ok",
     "timestamp": 1726461152263,
     "user_tz": -330,
     "elapsed": 792,
     "user": {
      "displayName": "ARPAN DAS",
      "userId": "14423431301870891264"
     }
    },
    "outputId": "5b317939-7303-4413-bd2a-abcc9b3f9809"
   },
   "execution_count": null,
   "outputs": [
    {
     "output_type": "display_data",
     "data": {
      "text/plain": [
       "<Figure size 640x480 with 1 Axes>"
      ],
      "image/png": "[encoded data removed]"
     },
     "metadata": {}
    }
   ]
  },
  {
   "cell_type": "markdown",
   "source": [
    "## Correlaton between numerical features\n",
    "\n",
    "There are two numerical features 'Age' and 'Na_to_K'. Pandas scatter_matrix function give scatter plots between every numerical feature against every numerical feature."
   ],
   "metadata": {
    "id": "vkDUrbE7ynb2"
   }
  },
  {
   "cell_type": "code",
   "source": [
    "from pandas.plotting import scatter_matrix\n",
    "scatter_matrix(drug_df[['Age', 'Na_to_K']]);"
   ],
   "metadata": {
    "colab": {
     "base_uri": "https://localhost:8080/",
     "height": 450
    },
    "id": "AiJzPoOWzItz",
    "executionInfo": {
     "status": "ok",
     "timestamp": 1726461153073,
     "user_tz": -330,
     "elapsed": 815,
     "user": {
      "displayName": "ARPAN DAS",
      "userId": "14423431301870891264"
     }
    },
    "outputId": "a1479692-7aef-48cb-c7b9-8d082c267172"
   },
   "execution_count": null,
   "outputs": [
    {
     "output_type": "display_data",
     "data": {
      "text/plain": [
       "<Figure size 640x480 with 4 Axes>"
      ],
      "image/png": "[encoded data removed]"
     },
     "metadata": {}
    }
   ]
  },
  {
   "cell_type": "markdown",
   "source": [
    "# Encoding categorical variables"
   ],
   "metadata": {
    "id": "KM0copj_dAXj"
   }
  },
  {
   "cell_type": "markdown",
   "source": [
    "Transfomration or encoding of categorical variables/columns into numerical variables/columns is importat as ML algorithms can understand only numerical data. Encoding can be done in various ways: *ordinal encoding*, *label encoding* and *one hot encoding*. Encoding categorical variables into numerical variables can be done using **`scikit-learn`** classes. Also one hot encoding can be done in much simpler way using **`pandas get_dummies()`** function."
   ],
   "metadata": {
    "id": "tmCHWR9MKv8R"
   }
  },
  {
   "cell_type": "code",
   "source": [
    "# One hot encoding using scikit-learn\n",
    "\n",
    "# To do One Hot Encoding on the feature columns, we use two classes: (i) ColumnTransformer from the\n",
    "# sklearn.compose moduleand and (ii) OneHotEncoder from the sklearn.preprocessing module.\n",
    "\n",
    "from sklearn.compose import ColumnTransformer\n",
    "from sklearn.preprocessing import OneHotEncoder\n",
    "ct = ColumnTransformer(transformers = [('encoder', OneHotEncoder(), [1, 2, 3])], remainder = 'passthrough')   # ct is the object of the ColumnTransformer class. Here we apply OneHotEncoding on the column_index = [1, 2, 3] i.e., 'Sex', 'BP' and 'Cholesterol' columns. The remaining columns that are not specified in the transformer (here OneHotEncoder()) are kept unchanged using the remainder = 'passthrough' argument.\n",
    "X = ct.fit_transform(X)   # Replace or update the old X with the transformed X.\n",
    "X"
   ],
   "metadata": {
    "id": "MUMwXBHqdDQN",
    "executionInfo": {
     "status": "ok",
     "timestamp": 1728032848876,
     "user_tz": -330,
     "elapsed": 415,
     "user": {
      "displayName": "ARPAN DAS",
      "userId": "14423431301870891264"
     }
    },
    "colab": {
     "base_uri": "https://localhost:8080/"
    },
    "outputId": "3df7a33b-17f2-4bce-9c16-f222990562aa"
   },
   "execution_count": 11,
   "outputs": [
    {
     "output_type": "execute_result",
     "execution_count": 11,
     "data": {
      "text/plain": [
       "array([[1.0, 0.0, 1.0, ..., 0.0, 23, 25.355],\n",
       "       [0.0, 1.0, 0.0, ..., 0.0, 47, 13.093],\n",
       "       [0.0, 1.0, 0.0, ..., 0.0, 47, 10.114],\n",
       "       ...,\n",
       "       [0.0, 1.0, 0.0, ..., 0.0, 52, 9.894],\n",
       "       [0.0, 1.0, 0.0, ..., 1.0, 23, 14.02],\n",
       "       [1.0, 0.0, 0.0, ..., 1.0, 40, 11.349]], dtype=object)"
      ]
     },
     "metadata": {}
    }
   ]
  },
  {
   "cell_type": "code",
   "source": [
    "X[0:5, :]"
   ],
   "metadata": {
    "colab": {
     "base_uri": "https://localhost:8080/"
    },
    "id": "Rkbhg3DPh9pr",
    "executionInfo": {
     "status": "ok",
     "timestamp": 1728032851787,
     "user_tz": -330,
     "elapsed": 422,
     "user": {
      "displayName": "ARPAN DAS",
      "userId": "14423431301870891264"
     }
    },
    "outputId": "674395a3-90d1-4837-da2c-526625c4b862"
   },
   "execution_count": 12,
   "outputs": [
    {
     "output_type": "execute_result",
     "execution_count": 12,
     "data": {
      "text/plain": [
       "array([[1.0, 0.0, 1.0, 0.0, 0.0, 1.0, 0.0, 23, 25.355],\n",
       "       [0.0, 1.0, 0.0, 1.0, 0.0, 1.0, 0.0, 47, 13.093],\n",
       "       [0.0, 1.0, 0.0, 1.0, 0.0, 1.0, 0.0, 47, 10.114],\n",
       "       [1.0, 0.0, 0.0, 0.0, 1.0, 1.0, 0.0, 28, 7.798],\n",
       "       [1.0, 0.0, 0.0, 1.0, 0.0, 1.0, 0.0, 61, 18.043]], dtype=object)"
      ]
     },
     "metadata": {}
    }
   ]
  },
  {
   "cell_type": "code",
   "source": [
    "X.shape"
   ],
   "metadata": {
    "colab": {
     "base_uri": "https://localhost:8080/"
    },
    "id": "6sZ0ogNLe5C7",
    "executionInfo": {
     "status": "ok",
     "timestamp": 1728032854161,
     "user_tz": -330,
     "elapsed": 4,
     "user": {
      "displayName": "ARPAN DAS",
      "userId": "14423431301870891264"
     }
    },
    "outputId": "ae074f86-d7b9-4df7-eaac-8c9d36528659"
   },
   "execution_count": 13,
   "outputs": [
    {
     "output_type": "execute_result",
     "execution_count": 13,
     "data": {
      "text/plain": [
       "(200, 9)"
      ]
     },
     "metadata": {}
    }
   ]
  },
  {
   "cell_type": "markdown",
   "source": [
    "We see that, now, in the matrix of features $X$, only the mumerical features 'Age' and 'Na_to_K' have their original values and the categorical features 'Sex', 'BP' and 'Cholesterol' have encoded using OneHotEncoder so unique values of these categorical features transforemd into vectors. Thus total number of columns in one hot encoded $X$ is = 2 (for 'Age' and 'Na_to_K') + 2 (for 2 unique values of Sex: M and F) + 3 (for 3 unique values of 'BP': High, Normal and Low) + 2 (for 3 unique values of 'Cholesterol': High and Normal) = 9."
   ],
   "metadata": {
    "id": "hK3Fs3-lhN3C"
   }
  },
  {
   "cell_type": "markdown",
   "source": [
    "# Splitting dataset into train and test sets"
   ],
   "metadata": {
    "id": "pq72KH4LrPMz"
   }
  },
  {
   "cell_type": "code",
   "source": [
    "from sklearn.model_selection import train_test_split\n",
    "X_train, X_test, y_train, y_test = train_test_split(X, y, test_size = 0.25, random_state = 0)"
   ],
   "metadata": {
    "id": "TWVFP22wrCGR",
    "executionInfo": {
     "status": "ok",
     "timestamp": 1728032859313,
     "user_tz": -330,
     "elapsed": 401,
     "user": {
      "displayName": "ARPAN DAS",
      "userId": "14423431301870891264"
     }
    }
   },
   "execution_count": 14,
   "outputs": []
  },
  {
   "cell_type": "code",
   "source": [
    "print(X_train.shape)\n",
    "print(y_train.shape)\n",
    "print(X_test.shape)\n",
    "print(y_test.shape)"
   ],
   "metadata": {
    "colab": {
     "base_uri": "https://localhost:8080/"
    },
    "id": "bR93BuV8r_fq",
    "executionInfo": {
     "status": "ok",
     "timestamp": 1728032860840,
     "user_tz": -330,
     "elapsed": 436,
     "user": {
      "displayName": "ARPAN DAS",
      "userId": "14423431301870891264"
     }
    },
    "outputId": "cf62507c-5df8-4c0a-af58-50aaf4d239d5"
   },
   "execution_count": 15,
   "outputs": [
    {
     "output_type": "stream",
     "name": "stdout",
     "text": "(150, 9)\n\n(150,)\n\n(50, 9)\n\n(50,)\n"
    }
   ]
  },
  {
   "cell_type": "markdown",
   "source": [
    "# Feature scaling"
   ],
   "metadata": {
    "id": "byyx4EPLsfHI"
   }
  },
  {
   "cell_type": "code",
   "source": [
    "X_train[:, 7]   # This slicing returns a 1D array for slicing all the rows but only one column with its index."
   ],
   "metadata": {
    "colab": {
     "base_uri": "https://localhost:8080/"
    },
    "id": "SjSQj_UtBVwT",
    "executionInfo": {
     "status": "ok",
     "timestamp": 1728032874598,
     "user_tz": -330,
     "elapsed": 446,
     "user": {
      "displayName": "ARPAN DAS",
      "userId": "14423431301870891264"
     }
    },
    "outputId": "1ebafc2c-9d69-483f-ae7e-1139d112e43f"
   },
   "execution_count": 16,
   "outputs": [
    {
     "output_type": "execute_result",
     "execution_count": 16,
     "data": {
      "text/plain": [
       "array([28, 53, 18, 56, 22, 33, 18, 30, 73, 65, 52, 58, 59, 32, 72, 29, 68,\n",
       "       21, 67, 51, 69, 62, 35, 45, 39, 50, 23, 50, 49, 64, 47, 37, 51, 56,\n",
       "       72, 67, 47, 34, 55, 52, 23, 47, 46, 41, 16, 39, 73, 66, 42, 35, 59,\n",
       "       23, 58, 23, 56, 50, 36, 60, 57, 58, 18, 28, 23, 59, 74, 57, 48, 70,\n",
       "       74, 57, 16, 19, 22, 62, 31, 36, 28, 67, 16, 23, 49, 54, 47, 15, 49,\n",
       "       45, 31, 41, 40, 34, 61, 28, 46, 40, 68, 47, 28, 43, 50, 37, 49, 41,\n",
       "       43, 39, 24, 24, 53, 47, 53, 39, 20, 68, 74, 58, 35, 48, 49, 60, 20,\n",
       "       26, 45, 15, 32, 32, 51, 61, 72, 24, 26, 28, 38, 64, 65, 42, 58, 15,\n",
       "       60, 49, 37, 70, 69, 32, 63, 43, 56, 17, 72, 40, 68, 39],\n",
       "      dtype=object)"
      ]
     },
     "metadata": {}
    }
   ]
  },
  {
   "cell_type": "code",
   "source": [
    "X_train[:, 7].shape"
   ],
   "metadata": {
    "colab": {
     "base_uri": "https://localhost:8080/"
    },
    "id": "7oImICA6HxNe",
    "executionInfo": {
     "status": "ok",
     "timestamp": 1728032877695,
     "user_tz": -330,
     "elapsed": 402,
     "user": {
      "displayName": "ARPAN DAS",
      "userId": "14423431301870891264"
     }
    },
    "outputId": "1466d0a7-36f9-4294-c693-92577af74d6e"
   },
   "execution_count": 17,
   "outputs": [
    {
     "output_type": "execute_result",
     "execution_count": 17,
     "data": {
      "text/plain": [
       "(150,)"
      ]
     },
     "metadata": {}
    }
   ]
  },
  {
   "cell_type": "code",
   "source": [
    "X_train[:, [7]]   # This slicing returns a 2D array for slicing all the rows but only one column with its index in a list."
   ],
   "metadata": {
    "colab": {
     "base_uri": "https://localhost:8080/"
    },
    "id": "jIoclleFDKja",
    "executionInfo": {
     "status": "ok",
     "timestamp": 1728032881208,
     "user_tz": -330,
     "elapsed": 418,
     "user": {
      "displayName": "ARPAN DAS",
      "userId": "14423431301870891264"
     }
    },
    "outputId": "fe33a045-0ee6-4736-8847-6c44068ed9d8"
   },
   "execution_count": 18,
   "outputs": [
    {
     "output_type": "execute_result",
     "execution_count": 18,
     "data": {
      "text/plain": [
       "array([[28],\n",
       "       [53],\n",
       "       [18],\n",
       "       [56],\n",
       "       [22],\n",
       "       [33],\n",
       "       [18],\n",
       "       [30],\n",
       "       [73],\n",
       "       [65],\n",
       "       [52],\n",
       "       [58],\n",
       "       [59],\n",
       "       [32],\n",
       "       [72],\n",
       "       [29],\n",
       "       [68],\n",
       "       [21],\n",
       "       [67],\n",
       "       [51],\n",
       "       [69],\n",
       "       [62],\n",
       "       [35],\n",
       "       [45],\n",
       "       [39],\n",
       "       [50],\n",
       "       [23],\n",
       "       [50],\n",
       "       [49],\n",
       "       [64],\n",
       "       [47],\n",
       "       [37],\n",
       "       [51],\n",
       "       [56],\n",
       "       [72],\n",
       "       [67],\n",
       "       [47],\n",
       "       [34],\n",
       "       [55],\n",
       "       [52],\n",
       "       [23],\n",
       "       [47],\n",
       "       [46],\n",
       "       [41],\n",
       "       [16],\n",
       "       [39],\n",
       "       [73],\n",
       "       [66],\n",
       "       [42],\n",
       "       [35],\n",
       "       [59],\n",
       "       [23],\n",
       "       [58],\n",
       "       [23],\n",
       "       [56],\n",
       "       [50],\n",
       "       [36],\n",
       "       [60],\n",
       "       [57],\n",
       "       [58],\n",
       "       [18],\n",
       "       [28],\n",
       "       [23],\n",
       "       [59],\n",
       "       [74],\n",
       "       [57],\n",
       "       [48],\n",
       "       [70],\n",
       "       [74],\n",
       "       [57],\n",
       "       [16],\n",
       "       [19],\n",
       "       [22],\n",
       "       [62],\n",
       "       [31],\n",
       "       [36],\n",
       "       [28],\n",
       "       [67],\n",
       "       [16],\n",
       "       [23],\n",
       "       [49],\n",
       "       [54],\n",
       "       [47],\n",
       "       [15],\n",
       "       [49],\n",
       "       [45],\n",
       "       [31],\n",
       "       [41],\n",
       "       [40],\n",
       "       [34],\n",
       "       [61],\n",
       "       [28],\n",
       "       [46],\n",
       "       [40],\n",
       "       [68],\n",
       "       [47],\n",
       "       [28],\n",
       "       [43],\n",
       "       [50],\n",
       "       [37],\n",
       "       [49],\n",
       "       [41],\n",
       "       [43],\n",
       "       [39],\n",
       "       [24],\n",
       "       [24],\n",
       "       [53],\n",
       "       [47],\n",
       "       [53],\n",
       "       [39],\n",
       "       [20],\n",
       "       [68],\n",
       "       [74],\n",
       "       [58],\n",
       "       [35],\n",
       "       [48],\n",
       "       [49],\n",
       "       [60],\n",
       "       [20],\n",
       "       [26],\n",
       "       [45],\n",
       "       [15],\n",
       "       [32],\n",
       "       [32],\n",
       "       [51],\n",
       "       [61],\n",
       "       [72],\n",
       "       [24],\n",
       "       [26],\n",
       "       [28],\n",
       "       [38],\n",
       "       [64],\n",
       "       [65],\n",
       "       [42],\n",
       "       [58],\n",
       "       [15],\n",
       "       [60],\n",
       "       [49],\n",
       "       [37],\n",
       "       [70],\n",
       "       [69],\n",
       "       [32],\n",
       "       [63],\n",
       "       [43],\n",
       "       [56],\n",
       "       [17],\n",
       "       [72],\n",
       "       [40],\n",
       "       [68],\n",
       "       [39]], dtype=object)"
      ]
     },
     "metadata": {}
    }
   ]
  },
  {
   "cell_type": "code",
   "source": [
    "X_train[:, [7]].shape"
   ],
   "metadata": {
    "colab": {
     "base_uri": "https://localhost:8080/"
    },
    "id": "QJyJCh9lH0P9",
    "executionInfo": {
     "status": "ok",
     "timestamp": 1728032888103,
     "user_tz": -330,
     "elapsed": 411,
     "user": {
      "displayName": "ARPAN DAS",
      "userId": "14423431301870891264"
     }
    },
    "outputId": "3e65b132-76d3-4777-9e13-d28d89cea396"
   },
   "execution_count": 19,
   "outputs": [
    {
     "output_type": "execute_result",
     "execution_count": 19,
     "data": {
      "text/plain": [
       "(150, 1)"
      ]
     },
     "metadata": {}
    }
   ]
  },
  {
   "cell_type": "code",
   "source": [
    "# To slice all the rows but multiple columns, mention column indices within a list.\n",
    "X_train[:, [7, 8]]   # It clearly returns a 2D array as the column indices are given in a list. Here I give the indices of the 'Age' and 'Na_to_K' columns."
   ],
   "metadata": {
    "colab": {
     "base_uri": "https://localhost:8080/"
    },
    "id": "yKQUMufsaYgv",
    "executionInfo": {
     "status": "ok",
     "timestamp": 1728032892606,
     "user_tz": -330,
     "elapsed": 438,
     "user": {
      "displayName": "ARPAN DAS",
      "userId": "14423431301870891264"
     }
    },
    "outputId": "4c4b35bb-34a2-4e86-8bb3-2b5e7539c98c"
   },
   "execution_count": 20,
   "outputs": [
    {
     "output_type": "execute_result",
     "execution_count": 20,
     "data": {
      "text/plain": [
       "array([[28, 19.675],\n",
       "       [53, 12.495],\n",
       "       [18, 37.188],\n",
       "       [56, 25.395],\n",
       "       [22, 8.151],\n",
       "       [33, 33.486],\n",
       "       [18, 8.75],\n",
       "       [30, 10.443],\n",
       "       [73, 19.221],\n",
       "       [65, 11.34],\n",
       "       [52, 32.922],\n",
       "       [58, 38.247],\n",
       "       [59, 13.884],\n",
       "       [32, 25.974],\n",
       "       [72, 14.642],\n",
       "       [29, 29.45],\n",
       "       [68, 10.189],\n",
       "       [21, 28.632],\n",
       "       [67, 10.898],\n",
       "       [51, 13.597],\n",
       "       [69, 10.065],\n",
       "       [62, 16.594],\n",
       "       [35, 12.894],\n",
       "       [45, 12.854],\n",
       "       [39, 9.664],\n",
       "       [50, 17.211],\n",
       "       [23, 16.85],\n",
       "       [50, 12.703],\n",
       "       [49, 9.381],\n",
       "       [64, 25.741],\n",
       "       [47, 10.403],\n",
       "       [37, 13.091],\n",
       "       [51, 11.343],\n",
       "       [56, 11.567],\n",
       "       [72, 9.677],\n",
       "       [67, 20.693],\n",
       "       [47, 10.114],\n",
       "       [34, 18.703],\n",
       "       [55, 10.977],\n",
       "       [52, 9.894],\n",
       "       [23, 12.26],\n",
       "       [47, 11.767],\n",
       "       [46, 34.686],\n",
       "       [41, 22.905],\n",
       "       [16, 12.006],\n",
       "       [39, 15.969],\n",
       "       [73, 18.348],\n",
       "       [66, 16.347],\n",
       "       [42, 29.271],\n",
       "       [35, 9.17],\n",
       "       [59, 10.444],\n",
       "       [23, 8.011],\n",
       "       [58, 19.416],\n",
       "       [23, 25.355],\n",
       "       [56, 15.015],\n",
       "       [50, 7.49],\n",
       "       [36, 11.424],\n",
       "       [60, 13.303],\n",
       "       [57, 14.216],\n",
       "       [58, 14.239],\n",
       "       [18, 24.276],\n",
       "       [28, 19.796],\n",
       "       [23, 31.686],\n",
       "       [59, 13.935],\n",
       "       [74, 20.942],\n",
       "       [57, 9.945],\n",
       "       [48, 15.036],\n",
       "       [70, 9.849],\n",
       "       [74, 11.939],\n",
       "       [57, 19.128],\n",
       "       [16, 15.516],\n",
       "       [19, 13.313],\n",
       "       [22, 28.294],\n",
       "       [62, 27.183],\n",
       "       [31, 11.871],\n",
       "       [36, 11.198],\n",
       "       [28, 7.798],\n",
       "       [67, 9.514],\n",
       "       [16, 19.007],\n",
       "       [23, 14.02],\n",
       "       [49, 16.275],\n",
       "       [54, 24.658],\n",
       "       [47, 10.067],\n",
       "       [15, 17.206],\n",
       "       [49, 10.537],\n",
       "       [45, 10.017],\n",
       "       [31, 11.227],\n",
       "       [41, 15.156],\n",
       "       [40, 11.349],\n",
       "       [34, 19.199],\n",
       "       [61, 25.475],\n",
       "       [28, 13.127],\n",
       "       [46, 7.285],\n",
       "       [40, 27.826],\n",
       "       [68, 27.05],\n",
       "       [47, 13.093],\n",
       "       [28, 27.064],\n",
       "       [43, 12.859],\n",
       "       [50, 15.79],\n",
       "       [37, 8.968],\n",
       "       [49, 13.598],\n",
       "       [41, 18.739],\n",
       "       [43, 13.972],\n",
       "       [39, 9.709],\n",
       "       [24, 25.786],\n",
       "       [24, 18.457],\n",
       "       [53, 22.963],\n",
       "       [47, 33.542],\n",
       "       [53, 14.133],\n",
       "       [39, 22.697],\n",
       "       [20, 9.281],\n",
       "       [68, 11.009],\n",
       "       [74, 9.567],\n",
       "       [58, 26.645],\n",
       "       [35, 7.845],\n",
       "       [48, 10.446],\n",
       "       [49, 11.014],\n",
       "       [60, 8.621],\n",
       "       [20, 11.262],\n",
       "       [26, 12.307],\n",
       "       [45, 17.951],\n",
       "       [15, 16.725],\n",
       "       [32, 9.712],\n",
       "       [32, 10.84],\n",
       "       [51, 18.295],\n",
       "       [61, 7.34],\n",
       "       [72, 6.769],\n",
       "       [24, 10.605],\n",
       "       [26, 19.161],\n",
       "       [28, 18.809],\n",
       "       [38, 18.295],\n",
       "       [64, 7.761],\n",
       "       [65, 34.997],\n",
       "       [42, 12.766],\n",
       "       [58, 18.991],\n",
       "       [15, 9.084],\n",
       "       [60, 10.091],\n",
       "       [49, 6.269],\n",
       "       [37, 23.091],\n",
       "       [70, 13.967],\n",
       "       [69, 15.478],\n",
       "       [32, 9.445],\n",
       "       [63, 25.917],\n",
       "       [43, 19.368],\n",
       "       [56, 8.966],\n",
       "       [17, 10.832],\n",
       "       [72, 16.31],\n",
       "       [40, 10.103],\n",
       "       [68, 10.291],\n",
       "       [39, 17.225]], dtype=object)"
      ]
     },
     "metadata": {}
    }
   ]
  },
  {
   "cell_type": "code",
   "source": [
    "from sklearn.preprocessing import StandardScaler\n",
    "sc = StandardScaler()\n",
    "X_train[:, [7, 8]] = sc.fit_transform(X_train[:, [7, 8]])   # Here 7th and 8th columns (i.e., Age and Na_to_K which are numerical columns) of the X_train are first fitted (i.e., computed mean and standard deviation of the mentioned columns separately) and then transformed or standardized: z = (x-mu)/sigma. Finally these columns have been replaced with the standardized values.\n",
    "X_test[:, [7, 8]] = sc.transform(X_test[:, [7, 8]])   # Here the same as above. But the mu and sigma are computed from corresponding columns of the X_train (mu and sigma are NOT computed from the corresponding columns of the X_test)."
   ],
   "metadata": {
    "id": "KjnjB9tGsUZT",
    "executionInfo": {
     "status": "ok",
     "timestamp": 1728032898477,
     "user_tz": -330,
     "elapsed": 421,
     "user": {
      "displayName": "ARPAN DAS",
      "userId": "14423431301870891264"
     }
    }
   },
   "execution_count": 21,
   "outputs": []
  },
  {
   "cell_type": "code",
   "source": [
    "X_train\n",
    "\n",
    "# Now we see that the 7th and the 8th columns (i.e., Age and Na_to_K) are standardized with the corresponding mu and sigma.\n",
    "\n",
    "# Also, the categorical features are moved to left and after them numerical columns are written in the right."
   ],
   "metadata": {
    "colab": {
     "base_uri": "https://localhost:8080/"
    },
    "id": "xq71qVEpYHwK",
    "executionInfo": {
     "status": "ok",
     "timestamp": 1728032901377,
     "user_tz": -330,
     "elapsed": 551,
     "user": {
      "displayName": "ARPAN DAS",
      "userId": "14423431301870891264"
     }
    },
    "outputId": "6bd789a5-63b8-4672-f241-ff7856918ffb"
   },
   "execution_count": 22,
   "outputs": [
    {
     "output_type": "execute_result",
     "execution_count": 22,
     "data": {
      "text/plain": [
       "array([[1.0, 0.0, 0.0, ..., 0.0, -1.0211560170051956, 0.5063401903884647],\n",
       "       [1.0, 0.0, 1.0, ..., 1.0, 0.47995533688327296,\n",
       "        -0.4868109837351762],\n",
       "       [1.0, 0.0, 1.0, ..., 0.0, -1.621600558560583, 2.9287714595287597],\n",
       "       ...,\n",
       "       [1.0, 0.0, 0.0, ..., 0.0, -0.3006225671387307,\n",
       "        -0.8176769459223276],\n",
       "       [0.0, 1.0, 0.0, ..., 0.0, 1.3806221492163542, -0.7916724304995916],\n",
       "       [1.0, 0.0, 0.0, ..., 1.0, -0.3606670212942695,\n",
       "        0.16745155854961802]], dtype=object)"
      ]
     },
     "metadata": {}
    }
   ]
  },
  {
   "cell_type": "code",
   "source": [
    "X_test\n",
    "\n",
    "# Now we see that the 7th and the 8th columns (i.e., Age and Na_to_K) are standardized with the corresponding mu and sigma."
   ],
   "metadata": {
    "colab": {
     "base_uri": "https://localhost:8080/"
    },
    "id": "0H8ibvvEYL9H",
    "executionInfo": {
     "status": "ok",
     "timestamp": 1728032904353,
     "user_tz": -330,
     "elapsed": 418,
     "user": {
      "displayName": "ARPAN DAS",
      "userId": "14423431301870891264"
     }
    },
    "outputId": "b92467e5-71e5-4467-af0b-432354e9e722"
   },
   "execution_count": 23,
   "outputs": [
    {
     "output_type": "execute_result",
     "execution_count": 23,
     "data": {
      "text/plain": [
       "array([[0.0, 1.0, 0.0, 1.0, 0.0, 1.0, 0.0, -1.3213782877828895,\n",
       "        -1.2056698489051705],\n",
       "       [1.0, 0.0, 0.0, 0.0, 1.0, 1.0, 0.0, -1.0211560170051956,\n",
       "        -0.4336953777653324],\n",
       "       [0.0, 1.0, 0.0, 1.0, 0.0, 1.0, 0.0, -0.1805336588276532,\n",
       "        0.553092989393171],\n",
       "       [0.0, 1.0, 1.0, 0.0, 0.0, 0.0, 1.0, -1.5015116502495056,\n",
       "        2.714510851072281],\n",
       "       [0.0, 1.0, 0.0, 0.0, 1.0, 1.0, 0.0, -1.2012893794718118,\n",
       "        0.41449445506560967],\n",
       "       [1.0, 0.0, 0.0, 1.0, 0.0, 0.0, 1.0, -1.5015116502495056,\n",
       "        -0.5987133931872687],\n",
       "       [1.0, 0.0, 0.0, 0.0, 1.0, 1.0, 0.0, -1.3814227419384282,\n",
       "        -1.0246064941798438],\n",
       "       [1.0, 0.0, 0.0, 1.0, 0.0, 0.0, 1.0, -0.48075592960534697,\n",
       "        -0.5544503882123989],\n",
       "       [0.0, 1.0, 0.0, 1.0, 0.0, 1.0, 0.0, -0.12048920467211448,\n",
       "        -0.08830561707080167],\n",
       "       [0.0, 1.0, 0.0, 0.0, 1.0, 0.0, 1.0, 0.6000442451943505,\n",
       "        -1.21078775885539],\n",
       "       [0.0, 1.0, 1.0, 0.0, 0.0, 0.0, 1.0, -1.2613338336273507,\n",
       "        -0.9045430931855096],\n",
       "       [1.0, 0.0, 1.0, 0.0, 0.0, 0.0, 1.0, -1.5615561044050443,\n",
       "        1.3769381694879346],\n",
       "       [1.0, 0.0, 1.0, 0.0, 0.0, 0.0, 1.0, -1.3814227419384282,\n",
       "        0.9410858923760138],\n",
       "       [0.0, 1.0, 0.0, 1.0, 0.0, 0.0, 1.0, -0.48075592960534697,\n",
       "        0.09815229138583736],\n",
       "       [0.0, 1.0, 1.0, 0.0, 0.0, 1.0, 0.0, 0.9002665159720442,\n",
       "        -0.28776578323880864],\n",
       "       [0.0, 1.0, 0.0, 1.0, 0.0, 1.0, 0.0, -0.24057811298319196,\n",
       "        -0.6884843001519263],\n",
       "       [1.0, 0.0, 1.0, 0.0, 0.0, 0.0, 1.0, 1.200488786749738,\n",
       "        2.1940055769459215],\n",
       "       [1.0, 0.0, 0.0, 0.0, 1.0, 1.0, 0.0, 1.5007110575274316,\n",
       "        0.6189342092932897],\n",
       "       [0.0, 1.0, 0.0, 1.0, 0.0, 0.0, 1.0, -0.3606670212942695,\n",
       "        -0.28721249567662255],\n",
       "       [0.0, 1.0, 1.0, 0.0, 0.0, 0.0, 1.0, -0.8410226545385794,\n",
       "        0.14587334362436868],\n",
       "       [1.0, 0.0, 1.0, 0.0, 0.0, 0.0, 1.0, -0.5408003837608857,\n",
       "        -0.0725369215485042],\n",
       "       [0.0, 1.0, 0.0, 0.0, 1.0, 1.0, 0.0, 0.9603109701275829,\n",
       "        -0.9089693936829966],\n",
       "       [1.0, 0.0, 0.0, 0.0, 1.0, 0.0, 1.0, 1.2605332409052767,\n",
       "        -1.0937674394530779],\n",
       "       [1.0, 0.0, 0.0, 1.0, 0.0, 0.0, 1.0, -0.6608892920719632,\n",
       "        -0.4276092145812877],\n",
       "       [1.0, 0.0, 0.0, 1.0, 0.0, 0.0, 1.0, -0.4207114754498082,\n",
       "        1.9172234739624388],\n",
       "       [1.0, 0.0, 0.0, 0.0, 1.0, 1.0, 0.0, -0.5408003837608857,\n",
       "        0.10216362621168493],\n",
       "       [1.0, 0.0, 0.0, 0.0, 1.0, 1.0, 0.0, 1.3205776950608155,\n",
       "        -0.01706984343937055],\n",
       "       [1.0, 0.0, 0.0, 0.0, 1.0, 0.0, 1.0, 0.720133153505428,\n",
       "        1.3664257058064029],\n",
       "       [0.0, 1.0, 0.0, 0.0, 1.0, 1.0, 0.0, -0.6608892920719632,\n",
       "        0.8910133679981921],\n",
       "       [1.0, 0.0, 0.0, 0.0, 1.0, 0.0, 1.0, 0.29982197441665676,\n",
       "        -0.5144753618444696],\n",
       "       [0.0, 1.0, 0.0, 1.0, 0.0, 0.0, 1.0, 1.440666603371893,\n",
       "        -0.6306657499035028],\n",
       "       [1.0, 0.0, 0.0, 1.0, 0.0, 1.0, 0.0, -1.141244925316273,\n",
       "        -0.2565050359753067],\n",
       "       [0.0, 1.0, 1.0, 0.0, 0.0, 0.0, 1.0, 0.23977752026111798,\n",
       "        -1.0117425583590225],\n",
       "       [1.0, 0.0, 0.0, 0.0, 1.0, 0.0, 1.0, 0.1196886119500405,\n",
       "        -1.2907378115912485],\n",
       "       [0.0, 1.0, 0.0, 1.0, 0.0, 0.0, 1.0, 0.1196886119500405,\n",
       "        2.013080544111141],\n",
       "       [0.0, 1.0, 1.0, 0.0, 0.0, 0.0, 1.0, 1.140444332594199,\n",
       "        0.6802108068053747],\n",
       "       [1.0, 0.0, 0.0, 0.0, 1.0, 1.0, 0.0, -0.7809782003830407,\n",
       "        -1.1809102304973527],\n",
       "       [1.0, 0.0, 0.0, 1.0, 0.0, 1.0, 0.0, 0.9603109701275829,\n",
       "        0.28059886501662856],\n",
       "       [1.0, 0.0, 1.0, 0.0, 0.0, 0.0, 1.0, -0.4207114754498082,\n",
       "        -0.6485092737839971],\n",
       "       [0.0, 1.0, 0.0, 0.0, 1.0, 1.0, 0.0, -1.3814227419384282,\n",
       "        -0.5617814484113618],\n",
       "       [1.0, 0.0, 1.0, 0.0, 0.0, 1.0, 0.0, -0.1805336588276532,\n",
       "        0.6945962834222078],\n",
       "       [0.0, 1.0, 1.0, 0.0, 0.0, 1.0, 0.0, -0.9611115628496569,\n",
       "        -0.4368767812479011],\n",
       "       [0.0, 1.0, 1.0, 0.0, 0.0, 1.0, 0.0, -0.8410226545385794,\n",
       "        1.9851395222207544],\n",
       "       [1.0, 0.0, 0.0, 1.0, 0.0, 0.0, 1.0, 1.200488786749738,\n",
       "        -0.31058889517897575],\n",
       "       [1.0, 0.0, 0.0, 1.0, 0.0, 0.0, 1.0, 0.3598664285721955,\n",
       "        0.9666754421271102],\n",
       "       [0.0, 1.0, 0.0, 1.0, 0.0, 0.0, 1.0, -0.00040029636103698754,\n",
       "        -1.0573887822393568],\n",
       "       [0.0, 1.0, 0.0, 0.0, 1.0, 1.0, 0.0, 0.9002665159720442,\n",
       "        -0.11666160463282764],\n",
       "       [0.0, 1.0, 0.0, 1.0, 0.0, 0.0, 1.0, -1.141244925316273,\n",
       "        0.6770294033228059],\n",
       "       [1.0, 0.0, 1.0, 0.0, 0.0, 0.0, 1.0, -0.7809782003830407,\n",
       "        -0.7915341086090452],\n",
       "       [0.0, 1.0, 1.0, 0.0, 0.0, 0.0, 1.0, 1.7408888741495867,\n",
       "        -0.08000630363801352]], dtype=object)"
      ]
     },
     "metadata": {}
    }
   ]
  },
  {
   "cell_type": "markdown",
   "source": [
    "# Train ML models on the training set\n",
    "\n",
    "Now we are ready to build and train various machine learning (ML) models on the training dataset. In the following we will build and train ML models, one for each subsection. From one ML model to another, only one code cell, in which we build and train the ML model, will change. The rest will be completely unchanged."
   ],
   "metadata": {
    "id": "zeDHGxLfH7Ge"
   }
  },
  {
   "cell_type": "markdown",
   "source": [
    "## Logistic regression"
   ],
   "metadata": {
    "id": "l5aQ8CU1IBnF"
   }
  },
  {
   "cell_type": "markdown",
   "source": [
    "### Build and Train the model"
   ],
   "metadata": {
    "id": "Xx-G_m4HSCye"
   }
  },
  {
   "cell_type": "code",
   "source": [
    "# Training ML model on the training set\n",
    "\n",
    "from sklearn.linear_model import LogisticRegression\n",
    "log_reg_classifier = LogisticRegression(random_state = 0)\n",
    "log_reg_classifier.fit(X_train, y_train)"
   ],
   "metadata": {
    "id": "fn5FnoeQNzi4",
    "colab": {
     "base_uri": "https://localhost:8080/",
     "height": 80
    },
    "executionInfo": {
     "status": "ok",
     "timestamp": 1728034156961,
     "user_tz": -330,
     "elapsed": 410,
     "user": {
      "displayName": "ARPAN DAS",
      "userId": "14423431301870891264"
     }
    },
    "outputId": "21b015d1-39ab-4f72-b75d-79b6eed5fdf6"
   },
   "execution_count": 55,
   "outputs": [
    {
     "output_type": "execute_result",
     "execution_count": 55,
     "data": {
      "text/plain": [
       "LogisticRegression(random_state=0)"
      ],
      "text/html": [
       "<style>#sk-container-id-4 {\n",
       "  /* Definition of color scheme common for light and dark mode */\n",
       "  --sklearn-color-text: black;\n",
       "  --sklearn-color-line: gray;\n",
       "  /* Definition of color scheme for unfitted estimators */\n",
       "  --sklearn-color-unfitted-level-0: #fff5e6;\n",
       "  --sklearn-color-unfitted-level-1: #f6e4d2;\n",
       "  --sklearn-color-unfitted-level-2: #ffe0b3;\n",
       "  --sklearn-color-unfitted-level-3: chocolate;\n",
       "  /* Definition of color scheme for fitted estimators */\n",
       "  --sklearn-color-fitted-level-0: #f0f8ff;\n",
       "  --sklearn-color-fitted-level-1: #d4ebff;\n",
       "  --sklearn-color-fitted-level-2: #b3dbfd;\n",
       "  --sklearn-color-fitted-level-3: cornflowerblue;\n",
       "\n",
       "  /* Specific color for light theme */\n",
       "  --sklearn-color-text-on-default-background: var(--sg-text-color, var(--theme-code-foreground, var(--jp-content-font-color1, black)));\n",
       "  --sklearn-color-background: var(--sg-background-color, var(--theme-background, var(--jp-layout-color0, white)));\n",
       "  --sklearn-color-border-box: var(--sg-text-color, var(--theme-code-foreground, var(--jp-content-font-color1, black)));\n",
       "  --sklearn-color-icon: #696969;\n",
       "\n",
       "  @media (prefers-color-scheme: dark) {\n",
       "    /* Redefinition of color scheme for dark theme */\n",
       "    --sklearn-color-text-on-default-background: var(--sg-text-color, var(--theme-code-foreground, var(--jp-content-font-color1, white)));\n",
       "    --sklearn-color-background: var(--sg-background-color, var(--theme-background, var(--jp-layout-color0, #111)));\n",
       "    --sklearn-color-border-box: var(--sg-text-color, var(--theme-code-foreground, var(--jp-content-font-color1, white)));\n",
       "    --sklearn-color-icon: #878787;\n",
       "  }\n",
       "}\n",
       "\n",
       "#sk-container-id-4 {\n",
       "  color: var(--sklearn-color-text);\n",
       "}\n",
       "\n",
       "#sk-container-id-4 pre {\n",
       "  padding: 0;\n",
       "}\n",
       "\n",
       "#sk-container-id-4 input.sk-hidden--visually {\n",
       "  border: 0;\n",
       "  clip: rect(1px 1px 1px 1px);\n",
       "  clip: rect(1px, 1px, 1px, 1px);\n",
       "  height: 1px;\n",
       "  margin: -1px;\n",
       "  overflow: hidden;\n",
       "  padding: 0;\n",
       "  position: absolute;\n",
       "  width: 1px;\n",
       "}\n",
       "\n",
       "#sk-container-id-4 div.sk-dashed-wrapped {\n",
       "  border: 1px dashed var(--sklearn-color-line);\n",
       "  margin: 0 0.4em 0.5em 0.4em;\n",
       "  box-sizing: border-box;\n",
       "  padding-bottom: 0.4em;\n",
       "  background-color: var(--sklearn-color-background);\n",
       "}\n",
       "\n",
       "#sk-container-id-4 div.sk-container {\n",
       "  /* jupyter's `normalize.less` sets `[hidden] { display: none; }`\n",
       "     but bootstrap.min.css set `[hidden] { display: none !important; }`\n",
       "     so we also need the `!important` here to be able to override the\n",
       "     default hidden behavior on the sphinx rendered scikit-learn.org.\n",
       "     See: https://github.com/scikit-learn/scikit-learn/issues/21755 */\n",
       "  display: inline-block !important;\n",
       "  position: relative;\n",
       "}\n",
       "\n",
       "#sk-container-id-4 div.sk-text-repr-fallback {\n",
       "  display: none;\n",
       "}\n",
       "\n",
       "div.sk-parallel-item,\n",
       "div.sk-serial,\n",
       "div.sk-item {\n",
       "  /* draw centered vertical line to link estimators */\n",
       "  background-image: linear-gradient(var(--sklearn-color-text-on-default-background), var(--sklearn-color-text-on-default-background));\n",
       "  background-size: 2px 100%;\n",
       "  background-repeat: no-repeat;\n",
       "  background-position: center center;\n",
       "}\n",
       "\n",
       "/* Parallel-specific style estimator block */\n",
       "\n",
       "#sk-container-id-4 div.sk-parallel-item::after {\n",
       "  content: \"\";\n",
       "  width: 100%;\n",
       "  border-bottom: 2px solid var(--sklearn-color-text-on-default-background);\n",
       "  flex-grow: 1;\n",
       "}\n",
       "\n",
       "#sk-container-id-4 div.sk-parallel {\n",
       "  display: flex;\n",
       "  align-items: stretch;\n",
       "  justify-content: center;\n",
       "  background-color: var(--sklearn-color-background);\n",
       "  position: relative;\n",
       "}\n",
       "\n",
       "#sk-container-id-4 div.sk-parallel-item {\n",
       "  display: flex;\n",
       "  flex-direction: column;\n",
       "}\n",
       "\n",
       "#sk-container-id-4 div.sk-parallel-item:first-child::after {\n",
       "  align-self: flex-end;\n",
       "  width: 50%;\n",
       "}\n",
       "\n",
       "#sk-container-id-4 div.sk-parallel-item:last-child::after {\n",
       "  align-self: flex-start;\n",
       "  width: 50%;\n",
       "}\n",
       "\n",
       "#sk-container-id-4 div.sk-parallel-item:only-child::after {\n",
       "  width: 0;\n",
       "}\n",
       "\n",
       "/* Serial-specific style estimator block */\n",
       "\n",
       "#sk-container-id-4 div.sk-serial {\n",
       "  display: flex;\n",
       "  flex-direction: column;\n",
       "  align-items: center;\n",
       "  background-color: var(--sklearn-color-background);\n",
       "  padding-right: 1em;\n",
       "  padding-left: 1em;\n",
       "}\n",
       "\n",
       "\n",
       "/* Toggleable style: style used for estimator/Pipeline/ColumnTransformer box that is\n",
       "clickable and can be expanded/collapsed.\n",
       "- Pipeline and ColumnTransformer use this feature and define the default style\n",
       "- Estimators will overwrite some part of the style using the `sk-estimator` class\n",
       "*/\n",
       "\n",
       "/* Pipeline and ColumnTransformer style (default) */\n",
       "\n",
       "#sk-container-id-4 div.sk-toggleable {\n",
       "  /* Default theme specific background. It is overwritten whether we have a\n",
       "  specific estimator or a Pipeline/ColumnTransformer */\n",
       "  background-color: var(--sklearn-color-background);\n",
       "}\n",
       "\n",
       "/* Toggleable label */\n",
       "#sk-container-id-4 label.sk-toggleable__label {\n",
       "  cursor: pointer;\n",
       "  display: block;\n",
       "  width: 100%;\n",
       "  margin-bottom: 0;\n",
       "  padding: 0.5em;\n",
       "  box-sizing: border-box;\n",
       "  text-align: center;\n",
       "}\n",
       "\n",
       "#sk-container-id-4 label.sk-toggleable__label-arrow:before {\n",
       "  /* Arrow on the left of the label */\n",
       "  content: \"▸\";\n",
       "  float: left;\n",
       "  margin-right: 0.25em;\n",
       "  color: var(--sklearn-color-icon);\n",
       "}\n",
       "\n",
       "#sk-container-id-4 label.sk-toggleable__label-arrow:hover:before {\n",
       "  color: var(--sklearn-color-text);\n",
       "}\n",
       "\n",
       "/* Toggleable content - dropdown */\n",
       "\n",
       "#sk-container-id-4 div.sk-toggleable__content {\n",
       "  max-height: 0;\n",
       "  max-width: 0;\n",
       "  overflow: hidden;\n",
       "  text-align: left;\n",
       "  /* unfitted */\n",
       "  background-color: var(--sklearn-color-unfitted-level-0);\n",
       "}\n",
       "\n",
       "#sk-container-id-4 div.sk-toggleable__content.fitted {\n",
       "  /* fitted */\n",
       "  background-color: var(--sklearn-color-fitted-level-0);\n",
       "}\n",
       "\n",
       "#sk-container-id-4 div.sk-toggleable__content pre {\n",
       "  margin: 0.2em;\n",
       "  border-radius: 0.25em;\n",
       "  color: var(--sklearn-color-text);\n",
       "  /* unfitted */\n",
       "  background-color: var(--sklearn-color-unfitted-level-0);\n",
       "}\n",
       "\n",
       "#sk-container-id-4 div.sk-toggleable__content.fitted pre {\n",
       "  /* unfitted */\n",
       "  background-color: var(--sklearn-color-fitted-level-0);\n",
       "}\n",
       "\n",
       "#sk-container-id-4 input.sk-toggleable__control:checked~div.sk-toggleable__content {\n",
       "  /* Expand drop-down */\n",
       "  max-height: 200px;\n",
       "  max-width: 100%;\n",
       "  overflow: auto;\n",
       "}\n",
       "\n",
       "#sk-container-id-4 input.sk-toggleable__control:checked~label.sk-toggleable__label-arrow:before {\n",
       "  content: \"▾\";\n",
       "}\n",
       "\n",
       "/* Pipeline/ColumnTransformer-specific style */\n",
       "\n",
       "#sk-container-id-4 div.sk-label input.sk-toggleable__control:checked~label.sk-toggleable__label {\n",
       "  color: var(--sklearn-color-text);\n",
       "  background-color: var(--sklearn-color-unfitted-level-2);\n",
       "}\n",
       "\n",
       "#sk-container-id-4 div.sk-label.fitted input.sk-toggleable__control:checked~label.sk-toggleable__label {\n",
       "  background-color: var(--sklearn-color-fitted-level-2);\n",
       "}\n",
       "\n",
       "/* Estimator-specific style */\n",
       "\n",
       "/* Colorize estimator box */\n",
       "#sk-container-id-4 div.sk-estimator input.sk-toggleable__control:checked~label.sk-toggleable__label {\n",
       "  /* unfitted */\n",
       "  background-color: var(--sklearn-color-unfitted-level-2);\n",
       "}\n",
       "\n",
       "#sk-container-id-4 div.sk-estimator.fitted input.sk-toggleable__control:checked~label.sk-toggleable__label {\n",
       "  /* fitted */\n",
       "  background-color: var(--sklearn-color-fitted-level-2);\n",
       "}\n",
       "\n",
       "#sk-container-id-4 div.sk-label label.sk-toggleable__label,\n",
       "#sk-container-id-4 div.sk-label label {\n",
       "  /* The background is the default theme color */\n",
       "  color: var(--sklearn-color-text-on-default-background);\n",
       "}\n",
       "\n",
       "/* On hover, darken the color of the background */\n",
       "#sk-container-id-4 div.sk-label:hover label.sk-toggleable__label {\n",
       "  color: var(--sklearn-color-text);\n",
       "  background-color: var(--sklearn-color-unfitted-level-2);\n",
       "}\n",
       "\n",
       "/* Label box, darken color on hover, fitted */\n",
       "#sk-container-id-4 div.sk-label.fitted:hover label.sk-toggleable__label.fitted {\n",
       "  color: var(--sklearn-color-text);\n",
       "  background-color: var(--sklearn-color-fitted-level-2);\n",
       "}\n",
       "\n",
       "/* Estimator label */\n",
       "\n",
       "#sk-container-id-4 div.sk-label label {\n",
       "  font-family: monospace;\n",
       "  font-weight: bold;\n",
       "  display: inline-block;\n",
       "  line-height: 1.2em;\n",
       "}\n",
       "\n",
       "#sk-container-id-4 div.sk-label-container {\n",
       "  text-align: center;\n",
       "}\n",
       "\n",
       "/* Estimator-specific */\n",
       "#sk-container-id-4 div.sk-estimator {\n",
       "  font-family: monospace;\n",
       "  border: 1px dotted var(--sklearn-color-border-box);\n",
       "  border-radius: 0.25em;\n",
       "  box-sizing: border-box;\n",
       "  margin-bottom: 0.5em;\n",
       "  /* unfitted */\n",
       "  background-color: var(--sklearn-color-unfitted-level-0);\n",
       "}\n",
       "\n",
       "#sk-container-id-4 div.sk-estimator.fitted {\n",
       "  /* fitted */\n",
       "  background-color: var(--sklearn-color-fitted-level-0);\n",
       "}\n",
       "\n",
       "/* on hover */\n",
       "#sk-container-id-4 div.sk-estimator:hover {\n",
       "  /* unfitted */\n",
       "  background-color: var(--sklearn-color-unfitted-level-2);\n",
       "}\n",
       "\n",
       "#sk-container-id-4 div.sk-estimator.fitted:hover {\n",
       "  /* fitted */\n",
       "  background-color: var(--sklearn-color-fitted-level-2);\n",
       "}\n",
       "\n",
       "/* Specification for estimator info (e.g. \"i\" and \"?\") */\n",
       "\n",
       "/* Common style for \"i\" and \"?\" */\n",
       "\n",
       ".sk-estimator-doc-link,\n",
       "a:link.sk-estimator-doc-link,\n",
       "a:visited.sk-estimator-doc-link {\n",
       "  float: right;\n",
       "  font-size: smaller;\n",
       "  line-height: 1em;\n",
       "  font-family: monospace;\n",
       "  background-color: var(--sklearn-color-background);\n",
       "  border-radius: 1em;\n",
       "  height: 1em;\n",
       "  width: 1em;\n",
       "  text-decoration: none !important;\n",
       "  margin-left: 1ex;\n",
       "  /* unfitted */\n",
       "  border: var(--sklearn-color-unfitted-level-1) 1pt solid;\n",
       "  color: var(--sklearn-color-unfitted-level-1);\n",
       "}\n",
       "\n",
       ".sk-estimator-doc-link.fitted,\n",
       "a:link.sk-estimator-doc-link.fitted,\n",
       "a:visited.sk-estimator-doc-link.fitted {\n",
       "  /* fitted */\n",
       "  border: var(--sklearn-color-fitted-level-1) 1pt solid;\n",
       "  color: var(--sklearn-color-fitted-level-1);\n",
       "}\n",
       "\n",
       "/* On hover */\n",
       "div.sk-estimator:hover .sk-estimator-doc-link:hover,\n",
       ".sk-estimator-doc-link:hover,\n",
       "div.sk-label-container:hover .sk-estimator-doc-link:hover,\n",
       ".sk-estimator-doc-link:hover {\n",
       "  /* unfitted */\n",
       "  background-color: var(--sklearn-color-unfitted-level-3);\n",
       "  color: var(--sklearn-color-background);\n",
       "  text-decoration: none;\n",
       "}\n",
       "\n",
       "div.sk-estimator.fitted:hover .sk-estimator-doc-link.fitted:hover,\n",
       ".sk-estimator-doc-link.fitted:hover,\n",
       "div.sk-label-container:hover .sk-estimator-doc-link.fitted:hover,\n",
       ".sk-estimator-doc-link.fitted:hover {\n",
       "  /* fitted */\n",
       "  background-color: var(--sklearn-color-fitted-level-3);\n",
       "  color: var(--sklearn-color-background);\n",
       "  text-decoration: none;\n",
       "}\n",
       "\n",
       "/* Span, style for the box shown on hovering the info icon */\n",
       ".sk-estimator-doc-link span {\n",
       "  display: none;\n",
       "  z-index: 9999;\n",
       "  position: relative;\n",
       "  font-weight: normal;\n",
       "  right: .2ex;\n",
       "  padding: .5ex;\n",
       "  margin: .5ex;\n",
       "  width: min-content;\n",
       "  min-width: 20ex;\n",
       "  max-width: 50ex;\n",
       "  color: var(--sklearn-color-text);\n",
       "  box-shadow: 2pt 2pt 4pt #999;\n",
       "  /* unfitted */\n",
       "  background: var(--sklearn-color-unfitted-level-0);\n",
       "  border: .5pt solid var(--sklearn-color-unfitted-level-3);\n",
       "}\n",
       "\n",
       ".sk-estimator-doc-link.fitted span {\n",
       "  /* fitted */\n",
       "  background: var(--sklearn-color-fitted-level-0);\n",
       "  border: var(--sklearn-color-fitted-level-3);\n",
       "}\n",
       "\n",
       ".sk-estimator-doc-link:hover span {\n",
       "  display: block;\n",
       "}\n",
       "\n",
       "/* \"?\"-specific style due to the `<a>` HTML tag */\n",
       "\n",
       "#sk-container-id-4 a.estimator_doc_link {\n",
       "  float: right;\n",
       "  font-size: 1rem;\n",
       "  line-height: 1em;\n",
       "  font-family: monospace;\n",
       "  background-color: var(--sklearn-color-background);\n",
       "  border-radius: 1rem;\n",
       "  height: 1rem;\n",
       "  width: 1rem;\n",
       "  text-decoration: none;\n",
       "  /* unfitted */\n",
       "  color: var(--sklearn-color-unfitted-level-1);\n",
       "  border: var(--sklearn-color-unfitted-level-1) 1pt solid;\n",
       "}\n",
       "\n",
       "#sk-container-id-4 a.estimator_doc_link.fitted {\n",
       "  /* fitted */\n",
       "  border: var(--sklearn-color-fitted-level-1) 1pt solid;\n",
       "  color: var(--sklearn-color-fitted-level-1);\n",
       "}\n",
       "\n",
       "/* On hover */\n",
       "#sk-container-id-4 a.estimator_doc_link:hover {\n",
       "  /* unfitted */\n",
       "  background-color: var(--sklearn-color-unfitted-level-3);\n",
       "  color: var(--sklearn-color-background);\n",
       "  text-decoration: none;\n",
       "}\n",
       "\n",
       "#sk-container-id-4 a.estimator_doc_link.fitted:hover {\n",
       "  /* fitted */\n",
       "  background-color: var(--sklearn-color-fitted-level-3);\n",
       "}\n",
       "</style><div id=\"sk-container-id-4\" class=\"sk-top-container\"><div class=\"sk-text-repr-fallback\"><pre>LogisticRegression(random_state=0)</pre><b>In a Jupyter environment, please rerun this cell to show the HTML representation or trust the notebook. <br />On GitHub, the HTML representation is unable to render, please try loading this page with nbviewer.org.</b></div><div class=\"sk-container\" hidden><div class=\"sk-item\"><div class=\"sk-estimator fitted sk-toggleable\"><input class=\"sk-toggleable__control sk-hidden--visually\" id=\"sk-estimator-id-4\" type=\"checkbox\" checked><label for=\"sk-estimator-id-4\" class=\"sk-toggleable__label fitted sk-toggleable__label-arrow fitted\">&nbsp;&nbsp;LogisticRegression<a class=\"sk-estimator-doc-link fitted\" rel=\"noreferrer\" target=\"_blank\" href=\"https://scikit-learn.org/1.5/modules/generated/sklearn.linear_model.LogisticRegression.html\">?<span>Documentation for LogisticRegression</span></a><span class=\"sk-estimator-doc-link fitted\">i<span>Fitted</span></span></label><div class=\"sk-toggleable__content fitted\"><pre>LogisticRegression(random_state=0)</pre></div> </div></div></div></div>"
      ]
     },
     "metadata": {}
    }
   ]
  },
  {
   "cell_type": "markdown",
   "source": [
    "### Cross validation\n",
    "K-fold cross validation means spliting the training set into K folds, then making predictions and evaluating them on each fold using a model trained on the remaining folds."
   ],
   "metadata": {
    "id": "j3C1ULFXyjpM"
   }
  },
  {
   "cell_type": "code",
   "source": [
    "# Cross validation score\n",
    "from sklearn.model_selection import cross_val_score\n",
    "cross_val_score(log_reg_classifier, X_train, y_train, cv = 3, scoring = 'accuracy')"
   ],
   "metadata": {
    "colab": {
     "base_uri": "https://localhost:8080/"
    },
    "id": "Zqf0fZTg_Nq9",
    "executionInfo": {
     "status": "ok",
     "timestamp": 1728036278682,
     "user_tz": -330,
     "elapsed": 396,
     "user": {
      "displayName": "ARPAN DAS",
      "userId": "14423431301870891264"
     }
    },
    "outputId": "a80aeb2b-22ee-4851-e1b0-943ee6f504d0"
   },
   "execution_count": 89,
   "outputs": [
    {
     "output_type": "execute_result",
     "execution_count": 89,
     "data": {
      "text/plain": [
       "array([0.9 , 0.88, 0.9 ])"
      ]
     },
     "metadata": {}
    }
   ]
  },
  {
   "cell_type": "code",
   "source": [
    "# Mean cross validation score vs number of folds in cross validation\n",
    "from sklearn.model_selection import cross_val_score\n",
    "\n",
    "mean_cv_score = []\n",
    "\n",
    "for i in range(2, 15):\n",
    "    cv_score = cross_val_score(log_reg_classifier, X_train, y_train, cv = i, scoring = 'accuracy')\n",
    "    mean_cv_score.append(np.mean(cv_score))\n",
    "\n",
    "plt.plot(range(2, 15), mean_cv_score, '-o')\n",
    "plt.xlabel('K-fold cross validation')\n",
    "plt.ylabel('Accuracy_score')\n",
    "plt.title('Accuracy score vs number of fold (K) in cross validation')\n",
    "plt.show()"
   ],
   "metadata": {
    "colab": {
     "base_uri": "https://localhost:8080/",
     "height": 527
    },
    "id": "C9o18q33yplq",
    "executionInfo": {
     "status": "ok",
     "timestamp": 1728034732741,
     "user_tz": -330,
     "elapsed": 2929,
     "user": {
      "displayName": "ARPAN DAS",
      "userId": "14423431301870891264"
     }
    },
    "outputId": "4897faa2-f903-4cd9-8214-e1211e7ab206"
   },
   "execution_count": 76,
   "outputs": [
    {
     "output_type": "stream",
     "name": "stderr",
     "text": "/usr/local/lib/python3.10/dist-packages/sklearn/model_selection/_split.py:776: UserWarning: The least populated class in y has only 13 members, which is less than n_splits=14.\n\n  warnings.warn(\n"
    },
    {
     "output_type": "display_data",
     "data": {
      "text/plain": [
       "<Figure size 640x480 with 1 Axes>"
      ],
      "image/png": "[encoded data removed]"
     },
     "metadata": {}
    }
   ]
  },
  {
   "cell_type": "markdown",
   "source": [
    "#### Confusion matrix and Error matrix and their image reperentations\n",
    "**Ref. of image presentations**: Aurelien Geron's book on Hands on Machine Learning."
   ],
   "metadata": {
    "id": "Nq7lydv2-OBx"
   }
  },
  {
   "cell_type": "code",
   "source": [
    "# Cross validation predict and confusion matrix\n",
    "from sklearn.model_selection import cross_val_predict\n",
    "\n",
    "y_train_pred = cross_val_predict(log_reg_classifier, X_train, y_train, cv = 3)\n",
    "confusion_matrix(y_train, y_train_pred)"
   ],
   "metadata": {
    "colab": {
     "base_uri": "https://localhost:8080/"
    },
    "id": "oa4OkAhY5buA",
    "executionInfo": {
     "status": "ok",
     "timestamp": 1728037404832,
     "user_tz": -330,
     "elapsed": 424,
     "user": {
      "displayName": "ARPAN DAS",
      "userId": "14423431301870891264"
     }
    },
    "outputId": "27967082-876f-4ea0-e7fb-4cefd5be48ba"
   },
   "execution_count": 97,
   "outputs": [
    {
     "output_type": "execute_result",
     "execution_count": 97,
     "data": {
      "text/plain": [
       "array([[60,  1,  2,  1,  2],\n",
       "       [ 0, 14,  4,  0,  0],\n",
       "       [ 1,  2, 12,  0,  0],\n",
       "       [ 0,  0,  0, 13,  0],\n",
       "       [ 2,  0,  1,  0, 35]])"
      ]
     },
     "metadata": {}
    }
   ]
  },
  {
   "cell_type": "code",
   "source": [
    "# Image representation of Confusion matrix\n",
    "plt.matshow(confusion_matrix(y_train, y_train_pred), cmap=plt.cm.gray)\n",
    "plt.xlabel('Predicted')\n",
    "plt.ylabel('Actual')\n",
    "plt.title('Image representation of confusion matrix')\n",
    "plt.show()"
   ],
   "metadata": {
    "colab": {
     "base_uri": "https://localhost:8080/",
     "height": 479
    },
    "id": "qiqYWUB76D5Y",
    "executionInfo": {
     "status": "ok",
     "timestamp": 1728037408360,
     "user_tz": -330,
     "elapsed": 913,
     "user": {
      "displayName": "ARPAN DAS",
      "userId": "14423431301870891264"
     }
    },
    "outputId": "806b7947-bfcf-445e-fa7e-fd9c3db81ad8"
   },
   "execution_count": 98,
   "outputs": [
    {
     "output_type": "display_data",
     "data": {
      "text/plain": [
       "<Figure size 480x480 with 1 Axes>"
      ],
      "image/png": "[encoded data removed]"
     },
     "metadata": {}
    }
   ]
  },
  {
   "cell_type": "markdown",
   "source": [
    "Since most white images are on the main diagonal, confusion matrix looks pretty good i.e., the logistic regression model performed well on the training set. Intensity of white color changes with the number of each class present in the training set, e.g., 00 diagonal box is most white as it has most number 60 elements, next intense white box is 44 having 35 elements in it and so on."
   ],
   "metadata": {
    "id": "OMyYkkrGAaVY"
   }
  },
  {
   "cell_type": "code",
   "source": [
    "# Image representation of Error matrix\n",
    "# First we divide each element in the confusion matrix by the number of images in the corresponding class (number of images are\n",
    "# computed by sum over axis = 1) so that we can compare error rates instead of absolute number of errors (which would make abundant classes\n",
    "# look unfairly bad).\n",
    "\n",
    "conf_mx = confusion_matrix(y_train, y_train_pred)\n",
    "row_sums = conf_mx.sum(axis=1, keepdims=True)\n",
    "norm_conf_mx = conf_mx / row_sums\n",
    "\n",
    "np.fill_diagonal(norm_conf_mx, 0)   # Fill the main diagonal elements with 0 to keep only the errors.\n",
    "plt.matshow(norm_conf_mx, cmap=plt.cm.gray)\n",
    "plt.xlabel('Predicted')\n",
    "plt.ylabel('Actual')\n",
    "plt.title('Image representation of Error matrix')\n",
    "plt.show()"
   ],
   "metadata": {
    "colab": {
     "base_uri": "https://localhost:8080/",
     "height": 479
    },
    "id": "fygU6tHv7mJY",
    "executionInfo": {
     "status": "ok",
     "timestamp": 1728037415244,
     "user_tz": -330,
     "elapsed": 1319,
     "user": {
      "displayName": "ARPAN DAS",
      "userId": "14423431301870891264"
     }
    },
    "outputId": "d4cd6e29-0ac0-44b0-af16-f566899c3d5c"
   },
   "execution_count": 99,
   "outputs": [
    {
     "output_type": "display_data",
     "data": {
      "text/plain": [
       "<Figure size 480x480 with 1 Axes>"
      ],
      "image/png": "[encoded data removed]"
     },
     "metadata": {}
    }
   ]
  },
  {
   "cell_type": "markdown",
   "source": [
    "We can see that in the Error matrix, main diagonal elements are completely black as they are zero and don't have any errors. In the confusion matrix, the 12 box is more intense except the main diagonal boxes and in the error matrix 12 box become most intense as it has the most 4 elements. The intensity of other boxes reduces as the number of normalized error for those classes are lesser."
   ],
   "metadata": {
    "id": "v7gxBd1PEWYO"
   }
  },
  {
   "cell_type": "markdown",
   "source": [
    "### Evaluation on test set"
   ],
   "metadata": {
    "id": "0SKIegLQRo3R"
   }
  },
  {
   "cell_type": "markdown",
   "source": [
    "#### Confusion matrix and Accuracy score"
   ],
   "metadata": {
    "id": "r3IinYQFKMRR"
   }
  },
  {
   "cell_type": "code",
   "source": [
    "from sklearn.metrics import confusion_matrix, accuracy_score\n",
    "y_pred = log_reg_classifier.predict(X_test)\n",
    "print('The confusion matrix is = \\n', confusion_matrix(y_test, y_pred))\n",
    "print('The acuracy of classifiction = ', accuracy_score(y_test, y_pred))"
   ],
   "metadata": {
    "colab": {
     "base_uri": "https://localhost:8080/"
    },
    "id": "xBKDTTnuKLhh",
    "executionInfo": {
     "status": "ok",
     "timestamp": 1728034598875,
     "user_tz": -330,
     "elapsed": 414,
     "user": {
      "displayName": "ARPAN DAS",
      "userId": "14423431301870891264"
     }
    },
    "outputId": "20f4ff23-30d8-4b16-878d-fdcc30797958"
   },
   "execution_count": 74,
   "outputs": [
    {
     "output_type": "stream",
     "name": "stdout",
     "text": "The confusion matrix is = \n\n [[24  0  1  0  0]\n\n [ 0  5  0  0  0]\n\n [ 0  0  1  0  0]\n\n [ 0  0  0  3  0]\n\n [ 0  0  0  0 16]]\n\nThe acuracy of classifiction =  0.98\n"
    }
   ]
  },
  {
   "cell_type": "markdown",
   "source": [
    "Only one wrong prediction by logistic regression. Great!!"
   ],
   "metadata": {
    "id": "2ddhNeokOyL3"
   }
  },
  {
   "cell_type": "markdown",
   "source": [
    "#### Print $y_{pred}$ and $y_{test}$"
   ],
   "metadata": {
    "id": "D4GtPE0URukz"
   }
  },
  {
   "cell_type": "code",
   "source": [
    "# Print y_pred and y_test side by side\n",
    "np.concatenate((np.reshape(y_pred, (len(y_pred), 1)), np.reshape(y_test, (len(y_test), 1))), axis = 1)"
   ],
   "metadata": {
    "colab": {
     "base_uri": "https://localhost:8080/"
    },
    "id": "xL4627A8Locp",
    "executionInfo": {
     "status": "ok",
     "timestamp": 1726465942046,
     "user_tz": -330,
     "elapsed": 22,
     "user": {
      "displayName": "ARPAN DAS",
      "userId": "14423431301870891264"
     }
    },
    "outputId": "2d95d692-bb17-4625-bd51-b53d85516817"
   },
   "execution_count": null,
   "outputs": [
    {
     "output_type": "execute_result",
     "execution_count": 110,
     "data": {
      "text/plain": [
       "array([['drugC', 'drugC'],\n",
       "       ['drugX', 'drugX'],\n",
       "       ['DrugY', 'DrugY'],\n",
       "       ['DrugY', 'DrugY'],\n",
       "       ['DrugY', 'DrugY'],\n",
       "       ['drugX', 'drugX'],\n",
       "       ['drugX', 'drugX'],\n",
       "       ['drugX', 'drugX'],\n",
       "       ['DrugY', 'DrugY'],\n",
       "       ['drugX', 'drugX'],\n",
       "       ['drugA', 'drugA'],\n",
       "       ['DrugY', 'DrugY'],\n",
       "       ['DrugY', 'DrugY'],\n",
       "       ['DrugY', 'DrugY'],\n",
       "       ['drugB', 'drugB'],\n",
       "       ['drugC', 'drugC'],\n",
       "       ['DrugY', 'DrugY'],\n",
       "       ['DrugY', 'DrugY'],\n",
       "       ['drugX', 'drugX'],\n",
       "       ['DrugY', 'DrugY'],\n",
       "       ['DrugY', 'DrugY'],\n",
       "       ['drugX', 'drugX'],\n",
       "       ['drugX', 'drugX'],\n",
       "       ['drugX', 'drugX'],\n",
       "       ['DrugY', 'DrugY'],\n",
       "       ['DrugY', 'DrugY'],\n",
       "       ['DrugY', 'DrugY'],\n",
       "       ['DrugY', 'DrugY'],\n",
       "       ['DrugY', 'DrugY'],\n",
       "       ['drugX', 'drugX'],\n",
       "       ['drugX', 'drugX'],\n",
       "       ['drugC', 'drugC'],\n",
       "       ['drugA', 'drugA'],\n",
       "       ['drugX', 'drugX'],\n",
       "       ['DrugY', 'DrugY'],\n",
       "       ['DrugY', 'DrugY'],\n",
       "       ['drugX', 'drugX'],\n",
       "       ['DrugY', 'DrugY'],\n",
       "       ['drugA', 'drugA'],\n",
       "       ['drugX', 'drugX'],\n",
       "       ['DrugY', 'DrugY'],\n",
       "       ['drugA', 'drugA'],\n",
       "       ['DrugY', 'DrugY'],\n",
       "       ['drugX', 'drugX'],\n",
       "       ['DrugY', 'DrugY'],\n",
       "       ['drugX', 'drugX'],\n",
       "       ['DrugY', 'DrugY'],\n",
       "       ['DrugY', 'DrugY'],\n",
       "       ['drugA', 'drugA'],\n",
       "       ['drugB', 'DrugY']], dtype=object)"
      ]
     },
     "metadata": {}
    }
   ]
  },
  {
   "cell_type": "markdown",
   "source": [
    "## K-Nearest Neighbors (K-NN)"
   ],
   "metadata": {
    "id": "HZWgOLsVQNiJ"
   }
  },
  {
   "cell_type": "markdown",
   "source": [
    "### Build and train the model"
   ],
   "metadata": {
    "id": "6ICRAfJzSMSg"
   }
  },
  {
   "cell_type": "code",
   "source": [
    "from sklearn.neighbors import KNeighborsClassifier\n",
    "KNN_classifier = KNeighborsClassifier(n_neighbors = 30)\n",
    "KNN_classifier.fit(X_train, y_train)"
   ],
   "metadata": {
    "colab": {
     "base_uri": "https://localhost:8080/",
     "height": 80
    },
    "id": "MHspf5IKQTuY",
    "executionInfo": {
     "status": "ok",
     "timestamp": 1728034045409,
     "user_tz": -330,
     "elapsed": 450,
     "user": {
      "displayName": "ARPAN DAS",
      "userId": "14423431301870891264"
     }
    },
    "outputId": "ade96a61-18b9-4f40-9e16-adabab9464c6"
   },
   "execution_count": 52,
   "outputs": [
    {
     "output_type": "execute_result",
     "execution_count": 52,
     "data": {
      "text/plain": [
       "KNeighborsClassifier(n_neighbors=30)"
      ],
      "text/html": [
       "<style>#sk-container-id-3 {\n",
       "  /* Definition of color scheme common for light and dark mode */\n",
       "  --sklearn-color-text: black;\n",
       "  --sklearn-color-line: gray;\n",
       "  /* Definition of color scheme for unfitted estimators */\n",
       "  --sklearn-color-unfitted-level-0: #fff5e6;\n",
       "  --sklearn-color-unfitted-level-1: #f6e4d2;\n",
       "  --sklearn-color-unfitted-level-2: #ffe0b3;\n",
       "  --sklearn-color-unfitted-level-3: chocolate;\n",
       "  /* Definition of color scheme for fitted estimators */\n",
       "  --sklearn-color-fitted-level-0: #f0f8ff;\n",
       "  --sklearn-color-fitted-level-1: #d4ebff;\n",
       "  --sklearn-color-fitted-level-2: #b3dbfd;\n",
       "  --sklearn-color-fitted-level-3: cornflowerblue;\n",
       "\n",
       "  /* Specific color for light theme */\n",
       "  --sklearn-color-text-on-default-background: var(--sg-text-color, var(--theme-code-foreground, var(--jp-content-font-color1, black)));\n",
       "  --sklearn-color-background: var(--sg-background-color, var(--theme-background, var(--jp-layout-color0, white)));\n",
       "  --sklearn-color-border-box: var(--sg-text-color, var(--theme-code-foreground, var(--jp-content-font-color1, black)));\n",
       "  --sklearn-color-icon: #696969;\n",
       "\n",
       "  @media (prefers-color-scheme: dark) {\n",
       "    /* Redefinition of color scheme for dark theme */\n",
       "    --sklearn-color-text-on-default-background: var(--sg-text-color, var(--theme-code-foreground, var(--jp-content-font-color1, white)));\n",
       "    --sklearn-color-background: var(--sg-background-color, var(--theme-background, var(--jp-layout-color0, #111)));\n",
       "    --sklearn-color-border-box: var(--sg-text-color, var(--theme-code-foreground, var(--jp-content-font-color1, white)));\n",
       "    --sklearn-color-icon: #878787;\n",
       "  }\n",
       "}\n",
       "\n",
       "#sk-container-id-3 {\n",
       "  color: var(--sklearn-color-text);\n",
       "}\n",
       "\n",
       "#sk-container-id-3 pre {\n",
       "  padding: 0;\n",
       "}\n",
       "\n",
       "#sk-container-id-3 input.sk-hidden--visually {\n",
       "  border: 0;\n",
       "  clip: rect(1px 1px 1px 1px);\n",
       "  clip: rect(1px, 1px, 1px, 1px);\n",
       "  height: 1px;\n",
       "  margin: -1px;\n",
       "  overflow: hidden;\n",
       "  padding: 0;\n",
       "  position: absolute;\n",
       "  width: 1px;\n",
       "}\n",
       "\n",
       "#sk-container-id-3 div.sk-dashed-wrapped {\n",
       "  border: 1px dashed var(--sklearn-color-line);\n",
       "  margin: 0 0.4em 0.5em 0.4em;\n",
       "  box-sizing: border-box;\n",
       "  padding-bottom: 0.4em;\n",
       "  background-color: var(--sklearn-color-background);\n",
       "}\n",
       "\n",
       "#sk-container-id-3 div.sk-container {\n",
       "  /* jupyter's `normalize.less` sets `[hidden] { display: none; }`\n",
       "     but bootstrap.min.css set `[hidden] { display: none !important; }`\n",
       "     so we also need the `!important` here to be able to override the\n",
       "     default hidden behavior on the sphinx rendered scikit-learn.org.\n",
       "     See: https://github.com/scikit-learn/scikit-learn/issues/21755 */\n",
       "  display: inline-block !important;\n",
       "  position: relative;\n",
       "}\n",
       "\n",
       "#sk-container-id-3 div.sk-text-repr-fallback {\n",
       "  display: none;\n",
       "}\n",
       "\n",
       "div.sk-parallel-item,\n",
       "div.sk-serial,\n",
       "div.sk-item {\n",
       "  /* draw centered vertical line to link estimators */\n",
       "  background-image: linear-gradient(var(--sklearn-color-text-on-default-background), var(--sklearn-color-text-on-default-background));\n",
       "  background-size: 2px 100%;\n",
       "  background-repeat: no-repeat;\n",
       "  background-position: center center;\n",
       "}\n",
       "\n",
       "/* Parallel-specific style estimator block */\n",
       "\n",
       "#sk-container-id-3 div.sk-parallel-item::after {\n",
       "  content: \"\";\n",
       "  width: 100%;\n",
       "  border-bottom: 2px solid var(--sklearn-color-text-on-default-background);\n",
       "  flex-grow: 1;\n",
       "}\n",
       "\n",
       "#sk-container-id-3 div.sk-parallel {\n",
       "  display: flex;\n",
       "  align-items: stretch;\n",
       "  justify-content: center;\n",
       "  background-color: var(--sklearn-color-background);\n",
       "  position: relative;\n",
       "}\n",
       "\n",
       "#sk-container-id-3 div.sk-parallel-item {\n",
       "  display: flex;\n",
       "  flex-direction: column;\n",
       "}\n",
       "\n",
       "#sk-container-id-3 div.sk-parallel-item:first-child::after {\n",
       "  align-self: flex-end;\n",
       "  width: 50%;\n",
       "}\n",
       "\n",
       "#sk-container-id-3 div.sk-parallel-item:last-child::after {\n",
       "  align-self: flex-start;\n",
       "  width: 50%;\n",
       "}\n",
       "\n",
       "#sk-container-id-3 div.sk-parallel-item:only-child::after {\n",
       "  width: 0;\n",
       "}\n",
       "\n",
       "/* Serial-specific style estimator block */\n",
       "\n",
       "#sk-container-id-3 div.sk-serial {\n",
       "  display: flex;\n",
       "  flex-direction: column;\n",
       "  align-items: center;\n",
       "  background-color: var(--sklearn-color-background);\n",
       "  padding-right: 1em;\n",
       "  padding-left: 1em;\n",
       "}\n",
       "\n",
       "\n",
       "/* Toggleable style: style used for estimator/Pipeline/ColumnTransformer box that is\n",
       "clickable and can be expanded/collapsed.\n",
       "- Pipeline and ColumnTransformer use this feature and define the default style\n",
       "- Estimators will overwrite some part of the style using the `sk-estimator` class\n",
       "*/\n",
       "\n",
       "/* Pipeline and ColumnTransformer style (default) */\n",
       "\n",
       "#sk-container-id-3 div.sk-toggleable {\n",
       "  /* Default theme specific background. It is overwritten whether we have a\n",
       "  specific estimator or a Pipeline/ColumnTransformer */\n",
       "  background-color: var(--sklearn-color-background);\n",
       "}\n",
       "\n",
       "/* Toggleable label */\n",
       "#sk-container-id-3 label.sk-toggleable__label {\n",
       "  cursor: pointer;\n",
       "  display: block;\n",
       "  width: 100%;\n",
       "  margin-bottom: 0;\n",
       "  padding: 0.5em;\n",
       "  box-sizing: border-box;\n",
       "  text-align: center;\n",
       "}\n",
       "\n",
       "#sk-container-id-3 label.sk-toggleable__label-arrow:before {\n",
       "  /* Arrow on the left of the label */\n",
       "  content: \"▸\";\n",
       "  float: left;\n",
       "  margin-right: 0.25em;\n",
       "  color: var(--sklearn-color-icon);\n",
       "}\n",
       "\n",
       "#sk-container-id-3 label.sk-toggleable__label-arrow:hover:before {\n",
       "  color: var(--sklearn-color-text);\n",
       "}\n",
       "\n",
       "/* Toggleable content - dropdown */\n",
       "\n",
       "#sk-container-id-3 div.sk-toggleable__content {\n",
       "  max-height: 0;\n",
       "  max-width: 0;\n",
       "  overflow: hidden;\n",
       "  text-align: left;\n",
       "  /* unfitted */\n",
       "  background-color: var(--sklearn-color-unfitted-level-0);\n",
       "}\n",
       "\n",
       "#sk-container-id-3 div.sk-toggleable__content.fitted {\n",
       "  /* fitted */\n",
       "  background-color: var(--sklearn-color-fitted-level-0);\n",
       "}\n",
       "\n",
       "#sk-container-id-3 div.sk-toggleable__content pre {\n",
       "  margin: 0.2em;\n",
       "  border-radius: 0.25em;\n",
       "  color: var(--sklearn-color-text);\n",
       "  /* unfitted */\n",
       "  background-color: var(--sklearn-color-unfitted-level-0);\n",
       "}\n",
       "\n",
       "#sk-container-id-3 div.sk-toggleable__content.fitted pre {\n",
       "  /* unfitted */\n",
       "  background-color: var(--sklearn-color-fitted-level-0);\n",
       "}\n",
       "\n",
       "#sk-container-id-3 input.sk-toggleable__control:checked~div.sk-toggleable__content {\n",
       "  /* Expand drop-down */\n",
       "  max-height: 200px;\n",
       "  max-width: 100%;\n",
       "  overflow: auto;\n",
       "}\n",
       "\n",
       "#sk-container-id-3 input.sk-toggleable__control:checked~label.sk-toggleable__label-arrow:before {\n",
       "  content: \"▾\";\n",
       "}\n",
       "\n",
       "/* Pipeline/ColumnTransformer-specific style */\n",
       "\n",
       "#sk-container-id-3 div.sk-label input.sk-toggleable__control:checked~label.sk-toggleable__label {\n",
       "  color: var(--sklearn-color-text);\n",
       "  background-color: var(--sklearn-color-unfitted-level-2);\n",
       "}\n",
       "\n",
       "#sk-container-id-3 div.sk-label.fitted input.sk-toggleable__control:checked~label.sk-toggleable__label {\n",
       "  background-color: var(--sklearn-color-fitted-level-2);\n",
       "}\n",
       "\n",
       "/* Estimator-specific style */\n",
       "\n",
       "/* Colorize estimator box */\n",
       "#sk-container-id-3 div.sk-estimator input.sk-toggleable__control:checked~label.sk-toggleable__label {\n",
       "  /* unfitted */\n",
       "  background-color: var(--sklearn-color-unfitted-level-2);\n",
       "}\n",
       "\n",
       "#sk-container-id-3 div.sk-estimator.fitted input.sk-toggleable__control:checked~label.sk-toggleable__label {\n",
       "  /* fitted */\n",
       "  background-color: var(--sklearn-color-fitted-level-2);\n",
       "}\n",
       "\n",
       "#sk-container-id-3 div.sk-label label.sk-toggleable__label,\n",
       "#sk-container-id-3 div.sk-label label {\n",
       "  /* The background is the default theme color */\n",
       "  color: var(--sklearn-color-text-on-default-background);\n",
       "}\n",
       "\n",
       "/* On hover, darken the color of the background */\n",
       "#sk-container-id-3 div.sk-label:hover label.sk-toggleable__label {\n",
       "  color: var(--sklearn-color-text);\n",
       "  background-color: var(--sklearn-color-unfitted-level-2);\n",
       "}\n",
       "\n",
       "/* Label box, darken color on hover, fitted */\n",
       "#sk-container-id-3 div.sk-label.fitted:hover label.sk-toggleable__label.fitted {\n",
       "  color: var(--sklearn-color-text);\n",
       "  background-color: var(--sklearn-color-fitted-level-2);\n",
       "}\n",
       "\n",
       "/* Estimator label */\n",
       "\n",
       "#sk-container-id-3 div.sk-label label {\n",
       "  font-family: monospace;\n",
       "  font-weight: bold;\n",
       "  display: inline-block;\n",
       "  line-height: 1.2em;\n",
       "}\n",
       "\n",
       "#sk-container-id-3 div.sk-label-container {\n",
       "  text-align: center;\n",
       "}\n",
       "\n",
       "/* Estimator-specific */\n",
       "#sk-container-id-3 div.sk-estimator {\n",
       "  font-family: monospace;\n",
       "  border: 1px dotted var(--sklearn-color-border-box);\n",
       "  border-radius: 0.25em;\n",
       "  box-sizing: border-box;\n",
       "  margin-bottom: 0.5em;\n",
       "  /* unfitted */\n",
       "  background-color: var(--sklearn-color-unfitted-level-0);\n",
       "}\n",
       "\n",
       "#sk-container-id-3 div.sk-estimator.fitted {\n",
       "  /* fitted */\n",
       "  background-color: var(--sklearn-color-fitted-level-0);\n",
       "}\n",
       "\n",
       "/* on hover */\n",
       "#sk-container-id-3 div.sk-estimator:hover {\n",
       "  /* unfitted */\n",
       "  background-color: var(--sklearn-color-unfitted-level-2);\n",
       "}\n",
       "\n",
       "#sk-container-id-3 div.sk-estimator.fitted:hover {\n",
       "  /* fitted */\n",
       "  background-color: var(--sklearn-color-fitted-level-2);\n",
       "}\n",
       "\n",
       "/* Specification for estimator info (e.g. \"i\" and \"?\") */\n",
       "\n",
       "/* Common style for \"i\" and \"?\" */\n",
       "\n",
       ".sk-estimator-doc-link,\n",
       "a:link.sk-estimator-doc-link,\n",
       "a:visited.sk-estimator-doc-link {\n",
       "  float: right;\n",
       "  font-size: smaller;\n",
       "  line-height: 1em;\n",
       "  font-family: monospace;\n",
       "  background-color: var(--sklearn-color-background);\n",
       "  border-radius: 1em;\n",
       "  height: 1em;\n",
       "  width: 1em;\n",
       "  text-decoration: none !important;\n",
       "  margin-left: 1ex;\n",
       "  /* unfitted */\n",
       "  border: var(--sklearn-color-unfitted-level-1) 1pt solid;\n",
       "  color: var(--sklearn-color-unfitted-level-1);\n",
       "}\n",
       "\n",
       ".sk-estimator-doc-link.fitted,\n",
       "a:link.sk-estimator-doc-link.fitted,\n",
       "a:visited.sk-estimator-doc-link.fitted {\n",
       "  /* fitted */\n",
       "  border: var(--sklearn-color-fitted-level-1) 1pt solid;\n",
       "  color: var(--sklearn-color-fitted-level-1);\n",
       "}\n",
       "\n",
       "/* On hover */\n",
       "div.sk-estimator:hover .sk-estimator-doc-link:hover,\n",
       ".sk-estimator-doc-link:hover,\n",
       "div.sk-label-container:hover .sk-estimator-doc-link:hover,\n",
       ".sk-estimator-doc-link:hover {\n",
       "  /* unfitted */\n",
       "  background-color: var(--sklearn-color-unfitted-level-3);\n",
       "  color: var(--sklearn-color-background);\n",
       "  text-decoration: none;\n",
       "}\n",
       "\n",
       "div.sk-estimator.fitted:hover .sk-estimator-doc-link.fitted:hover,\n",
       ".sk-estimator-doc-link.fitted:hover,\n",
       "div.sk-label-container:hover .sk-estimator-doc-link.fitted:hover,\n",
       ".sk-estimator-doc-link.fitted:hover {\n",
       "  /* fitted */\n",
       "  background-color: var(--sklearn-color-fitted-level-3);\n",
       "  color: var(--sklearn-color-background);\n",
       "  text-decoration: none;\n",
       "}\n",
       "\n",
       "/* Span, style for the box shown on hovering the info icon */\n",
       ".sk-estimator-doc-link span {\n",
       "  display: none;\n",
       "  z-index: 9999;\n",
       "  position: relative;\n",
       "  font-weight: normal;\n",
       "  right: .2ex;\n",
       "  padding: .5ex;\n",
       "  margin: .5ex;\n",
       "  width: min-content;\n",
       "  min-width: 20ex;\n",
       "  max-width: 50ex;\n",
       "  color: var(--sklearn-color-text);\n",
       "  box-shadow: 2pt 2pt 4pt #999;\n",
       "  /* unfitted */\n",
       "  background: var(--sklearn-color-unfitted-level-0);\n",
       "  border: .5pt solid var(--sklearn-color-unfitted-level-3);\n",
       "}\n",
       "\n",
       ".sk-estimator-doc-link.fitted span {\n",
       "  /* fitted */\n",
       "  background: var(--sklearn-color-fitted-level-0);\n",
       "  border: var(--sklearn-color-fitted-level-3);\n",
       "}\n",
       "\n",
       ".sk-estimator-doc-link:hover span {\n",
       "  display: block;\n",
       "}\n",
       "\n",
       "/* \"?\"-specific style due to the `<a>` HTML tag */\n",
       "\n",
       "#sk-container-id-3 a.estimator_doc_link {\n",
       "  float: right;\n",
       "  font-size: 1rem;\n",
       "  line-height: 1em;\n",
       "  font-family: monospace;\n",
       "  background-color: var(--sklearn-color-background);\n",
       "  border-radius: 1rem;\n",
       "  height: 1rem;\n",
       "  width: 1rem;\n",
       "  text-decoration: none;\n",
       "  /* unfitted */\n",
       "  color: var(--sklearn-color-unfitted-level-1);\n",
       "  border: var(--sklearn-color-unfitted-level-1) 1pt solid;\n",
       "}\n",
       "\n",
       "#sk-container-id-3 a.estimator_doc_link.fitted {\n",
       "  /* fitted */\n",
       "  border: var(--sklearn-color-fitted-level-1) 1pt solid;\n",
       "  color: var(--sklearn-color-fitted-level-1);\n",
       "}\n",
       "\n",
       "/* On hover */\n",
       "#sk-container-id-3 a.estimator_doc_link:hover {\n",
       "  /* unfitted */\n",
       "  background-color: var(--sklearn-color-unfitted-level-3);\n",
       "  color: var(--sklearn-color-background);\n",
       "  text-decoration: none;\n",
       "}\n",
       "\n",
       "#sk-container-id-3 a.estimator_doc_link.fitted:hover {\n",
       "  /* fitted */\n",
       "  background-color: var(--sklearn-color-fitted-level-3);\n",
       "}\n",
       "</style><div id=\"sk-container-id-3\" class=\"sk-top-container\"><div class=\"sk-text-repr-fallback\"><pre>KNeighborsClassifier(n_neighbors=30)</pre><b>In a Jupyter environment, please rerun this cell to show the HTML representation or trust the notebook. <br />On GitHub, the HTML representation is unable to render, please try loading this page with nbviewer.org.</b></div><div class=\"sk-container\" hidden><div class=\"sk-item\"><div class=\"sk-estimator fitted sk-toggleable\"><input class=\"sk-toggleable__control sk-hidden--visually\" id=\"sk-estimator-id-3\" type=\"checkbox\" checked><label for=\"sk-estimator-id-3\" class=\"sk-toggleable__label fitted sk-toggleable__label-arrow fitted\">&nbsp;&nbsp;KNeighborsClassifier<a class=\"sk-estimator-doc-link fitted\" rel=\"noreferrer\" target=\"_blank\" href=\"https://scikit-learn.org/1.5/modules/generated/sklearn.neighbors.KNeighborsClassifier.html\">?<span>Documentation for KNeighborsClassifier</span></a><span class=\"sk-estimator-doc-link fitted\">i<span>Fitted</span></span></label><div class=\"sk-toggleable__content fitted\"><pre>KNeighborsClassifier(n_neighbors=30)</pre></div> </div></div></div></div>"
      ]
     },
     "metadata": {}
    }
   ]
  },
  {
   "cell_type": "markdown",
   "source": [
    "### Evaluation on test set"
   ],
   "metadata": {
    "id": "xVsi2bfkSQsD"
   }
  },
  {
   "cell_type": "markdown",
   "source": [
    "#### Confusion matrix and Accuracy score"
   ],
   "metadata": {
    "id": "d5qV8kvmRdca"
   }
  },
  {
   "cell_type": "code",
   "source": [
    "from sklearn.metrics import confusion_matrix, accuracy_score\n",
    "y_pred = KNN_classifier.predict(X_test)\n",
    "print('The confusion matrix is = \\n', confusion_matrix(y_test, y_pred))\n",
    "print('The acuracy of classifiction = ', accuracy_score(y_test, y_pred))"
   ],
   "metadata": {
    "colab": {
     "base_uri": "https://localhost:8080/"
    },
    "id": "WCwSQKnvRcvp",
    "executionInfo": {
     "status": "ok",
     "timestamp": 1726480668326,
     "user_tz": -330,
     "elapsed": 475,
     "user": {
      "displayName": "ARPAN DAS",
      "userId": "14423431301870891264"
     }
    },
    "outputId": "ac8fa659-6e03-4d78-ee9a-2f7ed56b44c0"
   },
   "execution_count": null,
   "outputs": [
    {
     "output_type": "stream",
     "name": "stdout",
     "text": "The confusion matrix is = \n\n [[22  0  1  0  2]\n\n [ 0  5  0  0  0]\n\n [ 0  0  1  0  0]\n\n [ 0  0  0  2  1]\n\n [ 0  0  0  0 16]]\n\nThe acuracy of classifiction =  0.92\n"
    }
   ]
  },
  {
   "cell_type": "markdown",
   "source": [
    "#### Variation of Accuracy score with no. of neighbors"
   ],
   "metadata": {
    "id": "IGIXITNCU2G0"
   }
  },
  {
   "cell_type": "code",
   "source": [
    "acc_score_list = []\n",
    "for i in range(1, 50):\n",
    "    KNN_classifier = KNeighborsClassifier(n_neighbors = i)\n",
    "    KNN_classifier.fit(X_train, y_train)\n",
    "    y_pred = KNN_classifier.predict(X_test)\n",
    "    acc_score_list.append(accuracy_score(y_pred, y_test))\n",
    "\n",
    "plt.plot(np.arange(1, 50), acc_score_list, '-o', color = 'b')\n",
    "plt.xlabel('# of neighbors')\n",
    "plt.ylabel('Accuracy score')\n",
    "plt.title('Varitaion of Accuracy score with no. of neighbors')\n",
    "plt.show()\n"
   ],
   "metadata": {
    "colab": {
     "base_uri": "https://localhost:8080/",
     "height": 472
    },
    "id": "aNaLy-RnTCEL",
    "executionInfo": {
     "status": "ok",
     "timestamp": 1726480672551,
     "user_tz": -330,
     "elapsed": 1695,
     "user": {
      "displayName": "ARPAN DAS",
      "userId": "14423431301870891264"
     }
    },
    "outputId": "ff3e44d1-dab1-4a24-bd39-82478bbbbe84"
   },
   "execution_count": null,
   "outputs": [
    {
     "output_type": "display_data",
     "data": {
      "text/plain": [
       "<Figure size 640x480 with 1 Axes>"
      ],
      "image/png": "[encoded data removed]"
     },
     "metadata": {}
    }
   ]
  },
  {
   "cell_type": "markdown",
   "source": [
    "The maximum accuracy with KNN classifier achieved is 0.94."
   ],
   "metadata": {
    "id": "i8F1xa4FV37n"
   }
  },
  {
   "cell_type": "markdown",
   "source": [
    "## Support vector machine (SVM) for classification or SVC\n",
    "We will use `linear` and `rbf` kernels for support vector clasification."
   ],
   "metadata": {
    "id": "EpkP3KOTV7DC"
   }
  },
  {
   "cell_type": "markdown",
   "source": [
    "### Build and train the model"
   ],
   "metadata": {
    "id": "SymqU-rEWVPh"
   }
  },
  {
   "cell_type": "code",
   "source": [
    "# With 'linear' kernel:\n",
    "from sklearn.svm import SVC\n",
    "svc_linear_classifier = SVC(kernel = 'linear', random_state = 0)\n",
    "svc_linear_classifier.fit(X_train, y_train)"
   ],
   "metadata": {
    "colab": {
     "base_uri": "https://localhost:8080/",
     "height": 75
    },
    "id": "Jc8hPOpHWgXa",
    "executionInfo": {
     "status": "ok",
     "timestamp": 1726478301457,
     "user_tz": -330,
     "elapsed": 423,
     "user": {
      "displayName": "ARPAN DAS",
      "userId": "14423431301870891264"
     }
    },
    "outputId": "2ceea497-a82f-4460-a122-c52e789e0459"
   },
   "execution_count": null,
   "outputs": [
    {
     "output_type": "execute_result",
     "execution_count": 145,
     "data": {
      "text/plain": [
       "SVC(kernel='linear', random_state=0)"
      ],
      "text/html": [
       "<style>#sk-container-id-30 {color: black;}#sk-container-id-30 pre{padding: 0;}#sk-container-id-30 div.sk-toggleable {background-color: white;}#sk-container-id-30 label.sk-toggleable__label {cursor: pointer;display: block;width: 100%;margin-bottom: 0;padding: 0.3em;box-sizing: border-box;text-align: center;}#sk-container-id-30 label.sk-toggleable__label-arrow:before {content: \"▸\";float: left;margin-right: 0.25em;color: #696969;}#sk-container-id-30 label.sk-toggleable__label-arrow:hover:before {color: black;}#sk-container-id-30 div.sk-estimator:hover label.sk-toggleable__label-arrow:before {color: black;}#sk-container-id-30 div.sk-toggleable__content {max-height: 0;max-width: 0;overflow: hidden;text-align: left;background-color: #f0f8ff;}#sk-container-id-30 div.sk-toggleable__content pre {margin: 0.2em;color: black;border-radius: 0.25em;background-color: #f0f8ff;}#sk-container-id-30 input.sk-toggleable__control:checked~div.sk-toggleable__content {max-height: 200px;max-width: 100%;overflow: auto;}#sk-container-id-30 input.sk-toggleable__control:checked~label.sk-toggleable__label-arrow:before {content: \"▾\";}#sk-container-id-30 div.sk-estimator input.sk-toggleable__control:checked~label.sk-toggleable__label {background-color: #d4ebff;}#sk-container-id-30 div.sk-label input.sk-toggleable__control:checked~label.sk-toggleable__label {background-color: #d4ebff;}#sk-container-id-30 input.sk-hidden--visually {border: 0;clip: rect(1px 1px 1px 1px);clip: rect(1px, 1px, 1px, 1px);height: 1px;margin: -1px;overflow: hidden;padding: 0;position: absolute;width: 1px;}#sk-container-id-30 div.sk-estimator {font-family: monospace;background-color: #f0f8ff;border: 1px dotted black;border-radius: 0.25em;box-sizing: border-box;margin-bottom: 0.5em;}#sk-container-id-30 div.sk-estimator:hover {background-color: #d4ebff;}#sk-container-id-30 div.sk-parallel-item::after {content: \"\";width: 100%;border-bottom: 1px solid gray;flex-grow: 1;}#sk-container-id-30 div.sk-label:hover label.sk-toggleable__label {background-color: #d4ebff;}#sk-container-id-30 div.sk-serial::before {content: \"\";position: absolute;border-left: 1px solid gray;box-sizing: border-box;top: 0;bottom: 0;left: 50%;z-index: 0;}#sk-container-id-30 div.sk-serial {display: flex;flex-direction: column;align-items: center;background-color: white;padding-right: 0.2em;padding-left: 0.2em;position: relative;}#sk-container-id-30 div.sk-item {position: relative;z-index: 1;}#sk-container-id-30 div.sk-parallel {display: flex;align-items: stretch;justify-content: center;background-color: white;position: relative;}#sk-container-id-30 div.sk-item::before, #sk-container-id-30 div.sk-parallel-item::before {content: \"\";position: absolute;border-left: 1px solid gray;box-sizing: border-box;top: 0;bottom: 0;left: 50%;z-index: -1;}#sk-container-id-30 div.sk-parallel-item {display: flex;flex-direction: column;z-index: 1;position: relative;background-color: white;}#sk-container-id-30 div.sk-parallel-item:first-child::after {align-self: flex-end;width: 50%;}#sk-container-id-30 div.sk-parallel-item:last-child::after {align-self: flex-start;width: 50%;}#sk-container-id-30 div.sk-parallel-item:only-child::after {width: 0;}#sk-container-id-30 div.sk-dashed-wrapped {border: 1px dashed gray;margin: 0 0.4em 0.5em 0.4em;box-sizing: border-box;padding-bottom: 0.4em;background-color: white;}#sk-container-id-30 div.sk-label label {font-family: monospace;font-weight: bold;display: inline-block;line-height: 1.2em;}#sk-container-id-30 div.sk-label-container {text-align: center;}#sk-container-id-30 div.sk-container {/* jupyter's `normalize.less` sets `[hidden] { display: none; }` but bootstrap.min.css set `[hidden] { display: none !important; }` so we also need the `!important` here to be able to override the default hidden behavior on the sphinx rendered scikit-learn.org. See: https://github.com/scikit-learn/scikit-learn/issues/21755 */display: inline-block !important;position: relative;}#sk-container-id-30 div.sk-text-repr-fallback {display: none;}</style><div id=\"sk-container-id-30\" class=\"sk-top-container\"><div class=\"sk-text-repr-fallback\"><pre>SVC(kernel=&#x27;linear&#x27;, random_state=0)</pre><b>In a Jupyter environment, please rerun this cell to show the HTML representation or trust the notebook. <br />On GitHub, the HTML representation is unable to render, please try loading this page with nbviewer.org.</b></div><div class=\"sk-container\" hidden><div class=\"sk-item\"><div class=\"sk-estimator sk-toggleable\"><input class=\"sk-toggleable__control sk-hidden--visually\" id=\"sk-estimator-id-30\" type=\"checkbox\" checked><label for=\"sk-estimator-id-30\" class=\"sk-toggleable__label sk-toggleable__label-arrow\">SVC</label><div class=\"sk-toggleable__content\"><pre>SVC(kernel=&#x27;linear&#x27;, random_state=0)</pre></div></div></div></div></div>"
      ]
     },
     "metadata": {}
    }
   ]
  },
  {
   "cell_type": "code",
   "source": [
    "# With 'rbf' kernel\n",
    "from sklearn.svm import SVC\n",
    "svc_rbf_classifier = SVC(kernel = 'rbf', random_state = 0)\n",
    "svc_rbf_classifier.fit(X_train, y_train)"
   ],
   "metadata": {
    "colab": {
     "base_uri": "https://localhost:8080/",
     "height": 75
    },
    "id": "yfdLeTjrFWGc",
    "executionInfo": {
     "status": "ok",
     "timestamp": 1726478307285,
     "user_tz": -330,
     "elapsed": 399,
     "user": {
      "displayName": "ARPAN DAS",
      "userId": "14423431301870891264"
     }
    },
    "outputId": "cfcd6008-1231-416a-a5a1-1efe0354a08a"
   },
   "execution_count": null,
   "outputs": [
    {
     "output_type": "execute_result",
     "execution_count": 146,
     "data": {
      "text/plain": [
       "SVC(random_state=0)"
      ],
      "text/html": [
       "<style>#sk-container-id-31 {color: black;}#sk-container-id-31 pre{padding: 0;}#sk-container-id-31 div.sk-toggleable {background-color: white;}#sk-container-id-31 label.sk-toggleable__label {cursor: pointer;display: block;width: 100%;margin-bottom: 0;padding: 0.3em;box-sizing: border-box;text-align: center;}#sk-container-id-31 label.sk-toggleable__label-arrow:before {content: \"▸\";float: left;margin-right: 0.25em;color: #696969;}#sk-container-id-31 label.sk-toggleable__label-arrow:hover:before {color: black;}#sk-container-id-31 div.sk-estimator:hover label.sk-toggleable__label-arrow:before {color: black;}#sk-container-id-31 div.sk-toggleable__content {max-height: 0;max-width: 0;overflow: hidden;text-align: left;background-color: #f0f8ff;}#sk-container-id-31 div.sk-toggleable__content pre {margin: 0.2em;color: black;border-radius: 0.25em;background-color: #f0f8ff;}#sk-container-id-31 input.sk-toggleable__control:checked~div.sk-toggleable__content {max-height: 200px;max-width: 100%;overflow: auto;}#sk-container-id-31 input.sk-toggleable__control:checked~label.sk-toggleable__label-arrow:before {content: \"▾\";}#sk-container-id-31 div.sk-estimator input.sk-toggleable__control:checked~label.sk-toggleable__label {background-color: #d4ebff;}#sk-container-id-31 div.sk-label input.sk-toggleable__control:checked~label.sk-toggleable__label {background-color: #d4ebff;}#sk-container-id-31 input.sk-hidden--visually {border: 0;clip: rect(1px 1px 1px 1px);clip: rect(1px, 1px, 1px, 1px);height: 1px;margin: -1px;overflow: hidden;padding: 0;position: absolute;width: 1px;}#sk-container-id-31 div.sk-estimator {font-family: monospace;background-color: #f0f8ff;border: 1px dotted black;border-radius: 0.25em;box-sizing: border-box;margin-bottom: 0.5em;}#sk-container-id-31 div.sk-estimator:hover {background-color: #d4ebff;}#sk-container-id-31 div.sk-parallel-item::after {content: \"\";width: 100%;border-bottom: 1px solid gray;flex-grow: 1;}#sk-container-id-31 div.sk-label:hover label.sk-toggleable__label {background-color: #d4ebff;}#sk-container-id-31 div.sk-serial::before {content: \"\";position: absolute;border-left: 1px solid gray;box-sizing: border-box;top: 0;bottom: 0;left: 50%;z-index: 0;}#sk-container-id-31 div.sk-serial {display: flex;flex-direction: column;align-items: center;background-color: white;padding-right: 0.2em;padding-left: 0.2em;position: relative;}#sk-container-id-31 div.sk-item {position: relative;z-index: 1;}#sk-container-id-31 div.sk-parallel {display: flex;align-items: stretch;justify-content: center;background-color: white;position: relative;}#sk-container-id-31 div.sk-item::before, #sk-container-id-31 div.sk-parallel-item::before {content: \"\";position: absolute;border-left: 1px solid gray;box-sizing: border-box;top: 0;bottom: 0;left: 50%;z-index: -1;}#sk-container-id-31 div.sk-parallel-item {display: flex;flex-direction: column;z-index: 1;position: relative;background-color: white;}#sk-container-id-31 div.sk-parallel-item:first-child::after {align-self: flex-end;width: 50%;}#sk-container-id-31 div.sk-parallel-item:last-child::after {align-self: flex-start;width: 50%;}#sk-container-id-31 div.sk-parallel-item:only-child::after {width: 0;}#sk-container-id-31 div.sk-dashed-wrapped {border: 1px dashed gray;margin: 0 0.4em 0.5em 0.4em;box-sizing: border-box;padding-bottom: 0.4em;background-color: white;}#sk-container-id-31 div.sk-label label {font-family: monospace;font-weight: bold;display: inline-block;line-height: 1.2em;}#sk-container-id-31 div.sk-label-container {text-align: center;}#sk-container-id-31 div.sk-container {/* jupyter's `normalize.less` sets `[hidden] { display: none; }` but bootstrap.min.css set `[hidden] { display: none !important; }` so we also need the `!important` here to be able to override the default hidden behavior on the sphinx rendered scikit-learn.org. See: https://github.com/scikit-learn/scikit-learn/issues/21755 */display: inline-block !important;position: relative;}#sk-container-id-31 div.sk-text-repr-fallback {display: none;}</style><div id=\"sk-container-id-31\" class=\"sk-top-container\"><div class=\"sk-text-repr-fallback\"><pre>SVC(random_state=0)</pre><b>In a Jupyter environment, please rerun this cell to show the HTML representation or trust the notebook. <br />On GitHub, the HTML representation is unable to render, please try loading this page with nbviewer.org.</b></div><div class=\"sk-container\" hidden><div class=\"sk-item\"><div class=\"sk-estimator sk-toggleable\"><input class=\"sk-toggleable__control sk-hidden--visually\" id=\"sk-estimator-id-31\" type=\"checkbox\" checked><label for=\"sk-estimator-id-31\" class=\"sk-toggleable__label sk-toggleable__label-arrow\">SVC</label><div class=\"sk-toggleable__content\"><pre>SVC(random_state=0)</pre></div></div></div></div></div>"
      ]
     },
     "metadata": {}
    }
   ]
  },
  {
   "cell_type": "markdown",
   "source": [
    "### Evaluation on test set"
   ],
   "metadata": {
    "id": "-yEiVatiYDyE"
   }
  },
  {
   "cell_type": "markdown",
   "source": [
    "#### Confusion matrix and Accuracy score"
   ],
   "metadata": {
    "id": "0KUChnA0YKog"
   }
  },
  {
   "cell_type": "code",
   "source": [
    "# With 'linear' kernel\n",
    "from sklearn.metrics import confusion_matrix, accuracy_score\n",
    "y_pred = svc_linear_classifier.predict(X_test)\n",
    "print('The confusion matrix is = \\n', confusion_matrix(y_test, y_pred))\n",
    "print('The accuracy of classification = ', accuracy_score(y_test, y_pred))"
   ],
   "metadata": {
    "colab": {
     "base_uri": "https://localhost:8080/"
    },
    "id": "gLpP5vlsYCzA",
    "executionInfo": {
     "status": "ok",
     "timestamp": 1726478312780,
     "user_tz": -330,
     "elapsed": 449,
     "user": {
      "displayName": "ARPAN DAS",
      "userId": "14423431301870891264"
     }
    },
    "outputId": "5ab0a77b-ca20-44a5-e34b-f730efccd42c"
   },
   "execution_count": null,
   "outputs": [
    {
     "output_type": "stream",
     "name": "stdout",
     "text": "The confusion matrix is = \n\n [[24  0  1  0  0]\n\n [ 0  5  0  0  0]\n\n [ 0  0  1  0  0]\n\n [ 0  0  0  3  0]\n\n [ 1  0  0  0 15]]\n\nThe accuracy of classification =  0.96\n"
    }
   ]
  },
  {
   "cell_type": "code",
   "source": [
    "# With 'rbf' kernel\n",
    "from sklearn.metrics import confusion_matrix, accuracy_score\n",
    "y_pred = svc_rbf_classifier.predict(X_test)\n",
    "print('The confusion matrix is = \\n', confusion_matrix(y_test, y_pred))\n",
    "print('The accuracy of classification = ', accuracy_score(y_test, y_pred))"
   ],
   "metadata": {
    "colab": {
     "base_uri": "https://localhost:8080/"
    },
    "id": "4tbcvYWzfF_X",
    "executionInfo": {
     "status": "ok",
     "timestamp": 1726478319003,
     "user_tz": -330,
     "elapsed": 7,
     "user": {
      "displayName": "ARPAN DAS",
      "userId": "14423431301870891264"
     }
    },
    "outputId": "57f3fe12-2a63-4994-80d4-4ed5d6924cf7"
   },
   "execution_count": null,
   "outputs": [
    {
     "output_type": "stream",
     "name": "stdout",
     "text": "The confusion matrix is = \n\n [[24  0  1  0  0]\n\n [ 0  5  0  0  0]\n\n [ 0  0  1  0  0]\n\n [ 0  0  0  3  0]\n\n [ 0  0  0  0 16]]\n\nThe accuracy of classification =  0.98\n"
    }
   ]
  },
  {
   "cell_type": "markdown",
   "source": [
    "## Naive Bayes"
   ],
   "metadata": {
    "id": "xSTrTkdCmHMN"
   }
  },
  {
   "cell_type": "markdown",
   "source": [
    "### Build and train the model"
   ],
   "metadata": {
    "id": "nu1gsCjhmaSl"
   }
  },
  {
   "cell_type": "code",
   "source": [
    "from sklearn.naive_bayes import GaussianNB\n",
    "gaussianNB_classifier = GaussianNB()\n",
    "gaussianNB_classifier.fit(X_train, y_train)"
   ],
   "metadata": {
    "colab": {
     "base_uri": "https://localhost:8080/",
     "height": 80
    },
    "id": "2Ni4SdChmfMb",
    "executionInfo": {
     "status": "ok",
     "timestamp": 1728038012986,
     "user_tz": -330,
     "elapsed": 407,
     "user": {
      "displayName": "ARPAN DAS",
      "userId": "14423431301870891264"
     }
    },
    "outputId": "9f4167cd-e43e-486d-c84c-20007ecdc648"
   },
   "execution_count": 100,
   "outputs": [
    {
     "output_type": "execute_result",
     "execution_count": 100,
     "data": {
      "text/plain": [
       "GaussianNB()"
      ],
      "text/html": [
       "<style>#sk-container-id-5 {\n",
       "  /* Definition of color scheme common for light and dark mode */\n",
       "  --sklearn-color-text: black;\n",
       "  --sklearn-color-line: gray;\n",
       "  /* Definition of color scheme for unfitted estimators */\n",
       "  --sklearn-color-unfitted-level-0: #fff5e6;\n",
       "  --sklearn-color-unfitted-level-1: #f6e4d2;\n",
       "  --sklearn-color-unfitted-level-2: #ffe0b3;\n",
       "  --sklearn-color-unfitted-level-3: chocolate;\n",
       "  /* Definition of color scheme for fitted estimators */\n",
       "  --sklearn-color-fitted-level-0: #f0f8ff;\n",
       "  --sklearn-color-fitted-level-1: #d4ebff;\n",
       "  --sklearn-color-fitted-level-2: #b3dbfd;\n",
       "  --sklearn-color-fitted-level-3: cornflowerblue;\n",
       "\n",
       "  /* Specific color for light theme */\n",
       "  --sklearn-color-text-on-default-background: var(--sg-text-color, var(--theme-code-foreground, var(--jp-content-font-color1, black)));\n",
       "  --sklearn-color-background: var(--sg-background-color, var(--theme-background, var(--jp-layout-color0, white)));\n",
       "  --sklearn-color-border-box: var(--sg-text-color, var(--theme-code-foreground, var(--jp-content-font-color1, black)));\n",
       "  --sklearn-color-icon: #696969;\n",
       "\n",
       "  @media (prefers-color-scheme: dark) {\n",
       "    /* Redefinition of color scheme for dark theme */\n",
       "    --sklearn-color-text-on-default-background: var(--sg-text-color, var(--theme-code-foreground, var(--jp-content-font-color1, white)));\n",
       "    --sklearn-color-background: var(--sg-background-color, var(--theme-background, var(--jp-layout-color0, #111)));\n",
       "    --sklearn-color-border-box: var(--sg-text-color, var(--theme-code-foreground, var(--jp-content-font-color1, white)));\n",
       "    --sklearn-color-icon: #878787;\n",
       "  }\n",
       "}\n",
       "\n",
       "#sk-container-id-5 {\n",
       "  color: var(--sklearn-color-text);\n",
       "}\n",
       "\n",
       "#sk-container-id-5 pre {\n",
       "  padding: 0;\n",
       "}\n",
       "\n",
       "#sk-container-id-5 input.sk-hidden--visually {\n",
       "  border: 0;\n",
       "  clip: rect(1px 1px 1px 1px);\n",
       "  clip: rect(1px, 1px, 1px, 1px);\n",
       "  height: 1px;\n",
       "  margin: -1px;\n",
       "  overflow: hidden;\n",
       "  padding: 0;\n",
       "  position: absolute;\n",
       "  width: 1px;\n",
       "}\n",
       "\n",
       "#sk-container-id-5 div.sk-dashed-wrapped {\n",
       "  border: 1px dashed var(--sklearn-color-line);\n",
       "  margin: 0 0.4em 0.5em 0.4em;\n",
       "  box-sizing: border-box;\n",
       "  padding-bottom: 0.4em;\n",
       "  background-color: var(--sklearn-color-background);\n",
       "}\n",
       "\n",
       "#sk-container-id-5 div.sk-container {\n",
       "  /* jupyter's `normalize.less` sets `[hidden] { display: none; }`\n",
       "     but bootstrap.min.css set `[hidden] { display: none !important; }`\n",
       "     so we also need the `!important` here to be able to override the\n",
       "     default hidden behavior on the sphinx rendered scikit-learn.org.\n",
       "     See: https://github.com/scikit-learn/scikit-learn/issues/21755 */\n",
       "  display: inline-block !important;\n",
       "  position: relative;\n",
       "}\n",
       "\n",
       "#sk-container-id-5 div.sk-text-repr-fallback {\n",
       "  display: none;\n",
       "}\n",
       "\n",
       "div.sk-parallel-item,\n",
       "div.sk-serial,\n",
       "div.sk-item {\n",
       "  /* draw centered vertical line to link estimators */\n",
       "  background-image: linear-gradient(var(--sklearn-color-text-on-default-background), var(--sklearn-color-text-on-default-background));\n",
       "  background-size: 2px 100%;\n",
       "  background-repeat: no-repeat;\n",
       "  background-position: center center;\n",
       "}\n",
       "\n",
       "/* Parallel-specific style estimator block */\n",
       "\n",
       "#sk-container-id-5 div.sk-parallel-item::after {\n",
       "  content: \"\";\n",
       "  width: 100%;\n",
       "  border-bottom: 2px solid var(--sklearn-color-text-on-default-background);\n",
       "  flex-grow: 1;\n",
       "}\n",
       "\n",
       "#sk-container-id-5 div.sk-parallel {\n",
       "  display: flex;\n",
       "  align-items: stretch;\n",
       "  justify-content: center;\n",
       "  background-color: var(--sklearn-color-background);\n",
       "  position: relative;\n",
       "}\n",
       "\n",
       "#sk-container-id-5 div.sk-parallel-item {\n",
       "  display: flex;\n",
       "  flex-direction: column;\n",
       "}\n",
       "\n",
       "#sk-container-id-5 div.sk-parallel-item:first-child::after {\n",
       "  align-self: flex-end;\n",
       "  width: 50%;\n",
       "}\n",
       "\n",
       "#sk-container-id-5 div.sk-parallel-item:last-child::after {\n",
       "  align-self: flex-start;\n",
       "  width: 50%;\n",
       "}\n",
       "\n",
       "#sk-container-id-5 div.sk-parallel-item:only-child::after {\n",
       "  width: 0;\n",
       "}\n",
       "\n",
       "/* Serial-specific style estimator block */\n",
       "\n",
       "#sk-container-id-5 div.sk-serial {\n",
       "  display: flex;\n",
       "  flex-direction: column;\n",
       "  align-items: center;\n",
       "  background-color: var(--sklearn-color-background);\n",
       "  padding-right: 1em;\n",
       "  padding-left: 1em;\n",
       "}\n",
       "\n",
       "\n",
       "/* Toggleable style: style used for estimator/Pipeline/ColumnTransformer box that is\n",
       "clickable and can be expanded/collapsed.\n",
       "- Pipeline and ColumnTransformer use this feature and define the default style\n",
       "- Estimators will overwrite some part of the style using the `sk-estimator` class\n",
       "*/\n",
       "\n",
       "/* Pipeline and ColumnTransformer style (default) */\n",
       "\n",
       "#sk-container-id-5 div.sk-toggleable {\n",
       "  /* Default theme specific background. It is overwritten whether we have a\n",
       "  specific estimator or a Pipeline/ColumnTransformer */\n",
       "  background-color: var(--sklearn-color-background);\n",
       "}\n",
       "\n",
       "/* Toggleable label */\n",
       "#sk-container-id-5 label.sk-toggleable__label {\n",
       "  cursor: pointer;\n",
       "  display: block;\n",
       "  width: 100%;\n",
       "  margin-bottom: 0;\n",
       "  padding: 0.5em;\n",
       "  box-sizing: border-box;\n",
       "  text-align: center;\n",
       "}\n",
       "\n",
       "#sk-container-id-5 label.sk-toggleable__label-arrow:before {\n",
       "  /* Arrow on the left of the label */\n",
       "  content: \"▸\";\n",
       "  float: left;\n",
       "  margin-right: 0.25em;\n",
       "  color: var(--sklearn-color-icon);\n",
       "}\n",
       "\n",
       "#sk-container-id-5 label.sk-toggleable__label-arrow:hover:before {\n",
       "  color: var(--sklearn-color-text);\n",
       "}\n",
       "\n",
       "/* Toggleable content - dropdown */\n",
       "\n",
       "#sk-container-id-5 div.sk-toggleable__content {\n",
       "  max-height: 0;\n",
       "  max-width: 0;\n",
       "  overflow: hidden;\n",
       "  text-align: left;\n",
       "  /* unfitted */\n",
       "  background-color: var(--sklearn-color-unfitted-level-0);\n",
       "}\n",
       "\n",
       "#sk-container-id-5 div.sk-toggleable__content.fitted {\n",
       "  /* fitted */\n",
       "  background-color: var(--sklearn-color-fitted-level-0);\n",
       "}\n",
       "\n",
       "#sk-container-id-5 div.sk-toggleable__content pre {\n",
       "  margin: 0.2em;\n",
       "  border-radius: 0.25em;\n",
       "  color: var(--sklearn-color-text);\n",
       "  /* unfitted */\n",
       "  background-color: var(--sklearn-color-unfitted-level-0);\n",
       "}\n",
       "\n",
       "#sk-container-id-5 div.sk-toggleable__content.fitted pre {\n",
       "  /* unfitted */\n",
       "  background-color: var(--sklearn-color-fitted-level-0);\n",
       "}\n",
       "\n",
       "#sk-container-id-5 input.sk-toggleable__control:checked~div.sk-toggleable__content {\n",
       "  /* Expand drop-down */\n",
       "  max-height: 200px;\n",
       "  max-width: 100%;\n",
       "  overflow: auto;\n",
       "}\n",
       "\n",
       "#sk-container-id-5 input.sk-toggleable__control:checked~label.sk-toggleable__label-arrow:before {\n",
       "  content: \"▾\";\n",
       "}\n",
       "\n",
       "/* Pipeline/ColumnTransformer-specific style */\n",
       "\n",
       "#sk-container-id-5 div.sk-label input.sk-toggleable__control:checked~label.sk-toggleable__label {\n",
       "  color: var(--sklearn-color-text);\n",
       "  background-color: var(--sklearn-color-unfitted-level-2);\n",
       "}\n",
       "\n",
       "#sk-container-id-5 div.sk-label.fitted input.sk-toggleable__control:checked~label.sk-toggleable__label {\n",
       "  background-color: var(--sklearn-color-fitted-level-2);\n",
       "}\n",
       "\n",
       "/* Estimator-specific style */\n",
       "\n",
       "/* Colorize estimator box */\n",
       "#sk-container-id-5 div.sk-estimator input.sk-toggleable__control:checked~label.sk-toggleable__label {\n",
       "  /* unfitted */\n",
       "  background-color: var(--sklearn-color-unfitted-level-2);\n",
       "}\n",
       "\n",
       "#sk-container-id-5 div.sk-estimator.fitted input.sk-toggleable__control:checked~label.sk-toggleable__label {\n",
       "  /* fitted */\n",
       "  background-color: var(--sklearn-color-fitted-level-2);\n",
       "}\n",
       "\n",
       "#sk-container-id-5 div.sk-label label.sk-toggleable__label,\n",
       "#sk-container-id-5 div.sk-label label {\n",
       "  /* The background is the default theme color */\n",
       "  color: var(--sklearn-color-text-on-default-background);\n",
       "}\n",
       "\n",
       "/* On hover, darken the color of the background */\n",
       "#sk-container-id-5 div.sk-label:hover label.sk-toggleable__label {\n",
       "  color: var(--sklearn-color-text);\n",
       "  background-color: var(--sklearn-color-unfitted-level-2);\n",
       "}\n",
       "\n",
       "/* Label box, darken color on hover, fitted */\n",
       "#sk-container-id-5 div.sk-label.fitted:hover label.sk-toggleable__label.fitted {\n",
       "  color: var(--sklearn-color-text);\n",
       "  background-color: var(--sklearn-color-fitted-level-2);\n",
       "}\n",
       "\n",
       "/* Estimator label */\n",
       "\n",
       "#sk-container-id-5 div.sk-label label {\n",
       "  font-family: monospace;\n",
       "  font-weight: bold;\n",
       "  display: inline-block;\n",
       "  line-height: 1.2em;\n",
       "}\n",
       "\n",
       "#sk-container-id-5 div.sk-label-container {\n",
       "  text-align: center;\n",
       "}\n",
       "\n",
       "/* Estimator-specific */\n",
       "#sk-container-id-5 div.sk-estimator {\n",
       "  font-family: monospace;\n",
       "  border: 1px dotted var(--sklearn-color-border-box);\n",
       "  border-radius: 0.25em;\n",
       "  box-sizing: border-box;\n",
       "  margin-bottom: 0.5em;\n",
       "  /* unfitted */\n",
       "  background-color: var(--sklearn-color-unfitted-level-0);\n",
       "}\n",
       "\n",
       "#sk-container-id-5 div.sk-estimator.fitted {\n",
       "  /* fitted */\n",
       "  background-color: var(--sklearn-color-fitted-level-0);\n",
       "}\n",
       "\n",
       "/* on hover */\n",
       "#sk-container-id-5 div.sk-estimator:hover {\n",
       "  /* unfitted */\n",
       "  background-color: var(--sklearn-color-unfitted-level-2);\n",
       "}\n",
       "\n",
       "#sk-container-id-5 div.sk-estimator.fitted:hover {\n",
       "  /* fitted */\n",
       "  background-color: var(--sklearn-color-fitted-level-2);\n",
       "}\n",
       "\n",
       "/* Specification for estimator info (e.g. \"i\" and \"?\") */\n",
       "\n",
       "/* Common style for \"i\" and \"?\" */\n",
       "\n",
       ".sk-estimator-doc-link,\n",
       "a:link.sk-estimator-doc-link,\n",
       "a:visited.sk-estimator-doc-link {\n",
       "  float: right;\n",
       "  font-size: smaller;\n",
       "  line-height: 1em;\n",
       "  font-family: monospace;\n",
       "  background-color: var(--sklearn-color-background);\n",
       "  border-radius: 1em;\n",
       "  height: 1em;\n",
       "  width: 1em;\n",
       "  text-decoration: none !important;\n",
       "  margin-left: 1ex;\n",
       "  /* unfitted */\n",
       "  border: var(--sklearn-color-unfitted-level-1) 1pt solid;\n",
       "  color: var(--sklearn-color-unfitted-level-1);\n",
       "}\n",
       "\n",
       ".sk-estimator-doc-link.fitted,\n",
       "a:link.sk-estimator-doc-link.fitted,\n",
       "a:visited.sk-estimator-doc-link.fitted {\n",
       "  /* fitted */\n",
       "  border: var(--sklearn-color-fitted-level-1) 1pt solid;\n",
       "  color: var(--sklearn-color-fitted-level-1);\n",
       "}\n",
       "\n",
       "/* On hover */\n",
       "div.sk-estimator:hover .sk-estimator-doc-link:hover,\n",
       ".sk-estimator-doc-link:hover,\n",
       "div.sk-label-container:hover .sk-estimator-doc-link:hover,\n",
       ".sk-estimator-doc-link:hover {\n",
       "  /* unfitted */\n",
       "  background-color: var(--sklearn-color-unfitted-level-3);\n",
       "  color: var(--sklearn-color-background);\n",
       "  text-decoration: none;\n",
       "}\n",
       "\n",
       "div.sk-estimator.fitted:hover .sk-estimator-doc-link.fitted:hover,\n",
       ".sk-estimator-doc-link.fitted:hover,\n",
       "div.sk-label-container:hover .sk-estimator-doc-link.fitted:hover,\n",
       ".sk-estimator-doc-link.fitted:hover {\n",
       "  /* fitted */\n",
       "  background-color: var(--sklearn-color-fitted-level-3);\n",
       "  color: var(--sklearn-color-background);\n",
       "  text-decoration: none;\n",
       "}\n",
       "\n",
       "/* Span, style for the box shown on hovering the info icon */\n",
       ".sk-estimator-doc-link span {\n",
       "  display: none;\n",
       "  z-index: 9999;\n",
       "  position: relative;\n",
       "  font-weight: normal;\n",
       "  right: .2ex;\n",
       "  padding: .5ex;\n",
       "  margin: .5ex;\n",
       "  width: min-content;\n",
       "  min-width: 20ex;\n",
       "  max-width: 50ex;\n",
       "  color: var(--sklearn-color-text);\n",
       "  box-shadow: 2pt 2pt 4pt #999;\n",
       "  /* unfitted */\n",
       "  background: var(--sklearn-color-unfitted-level-0);\n",
       "  border: .5pt solid var(--sklearn-color-unfitted-level-3);\n",
       "}\n",
       "\n",
       ".sk-estimator-doc-link.fitted span {\n",
       "  /* fitted */\n",
       "  background: var(--sklearn-color-fitted-level-0);\n",
       "  border: var(--sklearn-color-fitted-level-3);\n",
       "}\n",
       "\n",
       ".sk-estimator-doc-link:hover span {\n",
       "  display: block;\n",
       "}\n",
       "\n",
       "/* \"?\"-specific style due to the `<a>` HTML tag */\n",
       "\n",
       "#sk-container-id-5 a.estimator_doc_link {\n",
       "  float: right;\n",
       "  font-size: 1rem;\n",
       "  line-height: 1em;\n",
       "  font-family: monospace;\n",
       "  background-color: var(--sklearn-color-background);\n",
       "  border-radius: 1rem;\n",
       "  height: 1rem;\n",
       "  width: 1rem;\n",
       "  text-decoration: none;\n",
       "  /* unfitted */\n",
       "  color: var(--sklearn-color-unfitted-level-1);\n",
       "  border: var(--sklearn-color-unfitted-level-1) 1pt solid;\n",
       "}\n",
       "\n",
       "#sk-container-id-5 a.estimator_doc_link.fitted {\n",
       "  /* fitted */\n",
       "  border: var(--sklearn-color-fitted-level-1) 1pt solid;\n",
       "  color: var(--sklearn-color-fitted-level-1);\n",
       "}\n",
       "\n",
       "/* On hover */\n",
       "#sk-container-id-5 a.estimator_doc_link:hover {\n",
       "  /* unfitted */\n",
       "  background-color: var(--sklearn-color-unfitted-level-3);\n",
       "  color: var(--sklearn-color-background);\n",
       "  text-decoration: none;\n",
       "}\n",
       "\n",
       "#sk-container-id-5 a.estimator_doc_link.fitted:hover {\n",
       "  /* fitted */\n",
       "  background-color: var(--sklearn-color-fitted-level-3);\n",
       "}\n",
       "</style><div id=\"sk-container-id-5\" class=\"sk-top-container\"><div class=\"sk-text-repr-fallback\"><pre>GaussianNB()</pre><b>In a Jupyter environment, please rerun this cell to show the HTML representation or trust the notebook. <br />On GitHub, the HTML representation is unable to render, please try loading this page with nbviewer.org.</b></div><div class=\"sk-container\" hidden><div class=\"sk-item\"><div class=\"sk-estimator fitted sk-toggleable\"><input class=\"sk-toggleable__control sk-hidden--visually\" id=\"sk-estimator-id-5\" type=\"checkbox\" checked><label for=\"sk-estimator-id-5\" class=\"sk-toggleable__label fitted sk-toggleable__label-arrow fitted\">&nbsp;&nbsp;GaussianNB<a class=\"sk-estimator-doc-link fitted\" rel=\"noreferrer\" target=\"_blank\" href=\"https://scikit-learn.org/1.5/modules/generated/sklearn.naive_bayes.GaussianNB.html\">?<span>Documentation for GaussianNB</span></a><span class=\"sk-estimator-doc-link fitted\">i<span>Fitted</span></span></label><div class=\"sk-toggleable__content fitted\"><pre>GaussianNB()</pre></div> </div></div></div></div>"
      ]
     },
     "metadata": {}
    }
   ]
  },
  {
   "cell_type": "markdown",
   "source": [
    "### Cross validation"
   ],
   "metadata": {
    "id": "OvEPPdRdFw1r"
   }
  },
  {
   "cell_type": "code",
   "source": [
    "# Mean cross validation score vs number of folds in cross validation\n",
    "from sklearn.model_selection import cross_val_score\n",
    "\n",
    "mean_cv_score = []\n",
    "\n",
    "for i in range(2, 15):\n",
    "    cv_score = cross_val_score(gaussianNB_classifier, X_train, y_train, cv = i, scoring = 'accuracy')\n",
    "    mean_cv_score.append(np.mean(cv_score))\n",
    "\n",
    "plt.plot(range(2, 15), mean_cv_score, '-o')\n",
    "plt.xlabel('K-fold cross validation')\n",
    "plt.ylabel('Accuracy_score')\n",
    "plt.title('Accuracy score vs number of fold (K) in cross validation')\n",
    "plt.show()"
   ],
   "metadata": {
    "colab": {
     "base_uri": "https://localhost:8080/",
     "height": 527
    },
    "id": "Sg_Mu37uFyxW",
    "executionInfo": {
     "status": "ok",
     "timestamp": 1728038041121,
     "user_tz": -330,
     "elapsed": 1547,
     "user": {
      "displayName": "ARPAN DAS",
      "userId": "14423431301870891264"
     }
    },
    "outputId": "7258e9fb-c2a5-4ffa-e244-0b532ba93639"
   },
   "execution_count": 101,
   "outputs": [
    {
     "output_type": "stream",
     "name": "stderr",
     "text": "/usr/local/lib/python3.10/dist-packages/sklearn/model_selection/_split.py:776: UserWarning: The least populated class in y has only 13 members, which is less than n_splits=14.\n\n  warnings.warn(\n"
    },
    {
     "output_type": "display_data",
     "data": {
      "text/plain": [
       "<Figure size 640x480 with 1 Axes>"
      ],
      "image/png": "[encoded data removed]"
     },
     "metadata": {}
    }
   ]
  },
  {
   "cell_type": "markdown",
   "source": [
    "#### Confusion matrix and Error matrix and their image reperentations\n",
    "**Ref. of image presentations**: Aurelien Geron's book on Hands on Machine Learning."
   ],
   "metadata": {
    "id": "ZP5CxSd_GIN4"
   }
  },
  {
   "cell_type": "code",
   "source": [
    "# Cross validation predict and confusion matrix\n",
    "from sklearn.model_selection import cross_val_predict\n",
    "\n",
    "y_train_pred = cross_val_predict(gaussianNB_classifier, X_train, y_train, cv = 5)\n",
    "confusion_matrix(y_train, y_train_pred)"
   ],
   "metadata": {
    "colab": {
     "base_uri": "https://localhost:8080/"
    },
    "id": "y8H6pFMdGB8o",
    "executionInfo": {
     "status": "ok",
     "timestamp": 1728038232645,
     "user_tz": -330,
     "elapsed": 406,
     "user": {
      "displayName": "ARPAN DAS",
      "userId": "14423431301870891264"
     }
    },
    "outputId": "90d555ab-f59f-451f-ccc5-bdb0a9241a9c"
   },
   "execution_count": 104,
   "outputs": [
    {
     "output_type": "execute_result",
     "execution_count": 104,
     "data": {
      "text/plain": [
       "array([[25, 19,  3,  9, 10],\n",
       "       [ 0, 17,  1,  0,  0],\n",
       "       [ 0,  1, 14,  0,  0],\n",
       "       [ 0,  0,  0, 13,  0],\n",
       "       [ 0,  0,  0,  0, 38]])"
      ]
     },
     "metadata": {}
    }
   ]
  },
  {
   "cell_type": "code",
   "source": [
    "# Image representation of Confusion matrix\n",
    "plt.matshow(confusion_matrix(y_train, y_train_pred), cmap=plt.cm.gray)\n",
    "plt.xlabel('Predicted')\n",
    "plt.ylabel('Actual')\n",
    "plt.title('Image representation of confusion matrix')\n",
    "plt.show()"
   ],
   "metadata": {
    "colab": {
     "base_uri": "https://localhost:8080/",
     "height": 479
    },
    "id": "2G6zgr6iGYWk",
    "executionInfo": {
     "status": "ok",
     "timestamp": 1728038235432,
     "user_tz": -330,
     "elapsed": 903,
     "user": {
      "displayName": "ARPAN DAS",
      "userId": "14423431301870891264"
     }
    },
    "outputId": "4463f6a6-e67a-478b-db58-2320a464fabb"
   },
   "execution_count": 105,
   "outputs": [
    {
     "output_type": "display_data",
     "data": {
      "text/plain": [
       "<Figure size 480x480 with 1 Axes>"
      ],
      "image/png": "[encoded data removed]"
     },
     "metadata": {}
    }
   ]
  },
  {
   "cell_type": "markdown",
   "source": [
    "Confusion matrix does not look good like it was in logistic regression model i.e., there are many off diagonal intense boxes present in the above image for Naive Bayes model. So, the Naive Bayes model did not perform well on the training set.  "
   ],
   "metadata": {
    "id": "dI5c1P--HD7U"
   }
  },
  {
   "cell_type": "code",
   "source": [
    "# Image representation of Error matrix\n",
    "# First we divide each element in the confusion matrix by the number of images in the corresponding class (number of images are\n",
    "# computed by sum over axis = 1) so that we can compare error rates instead of absolute number of errors (which would make abundant classes\n",
    "# look unfairly bad).\n",
    "\n",
    "conf_mx = confusion_matrix(y_train, y_train_pred)\n",
    "row_sums = conf_mx.sum(axis=1, keepdims=True)\n",
    "norm_conf_mx = conf_mx / row_sums\n",
    "\n",
    "np.fill_diagonal(norm_conf_mx, 0)   # Fill the main diagonal elements with 0 to keep only the errors.\n",
    "plt.matshow(norm_conf_mx, cmap=plt.cm.gray)\n",
    "plt.xlabel('Predicted')\n",
    "plt.ylabel('Actual')\n",
    "plt.title('Image representation of Error matrix')\n",
    "plt.show()"
   ],
   "metadata": {
    "colab": {
     "base_uri": "https://localhost:8080/",
     "height": 479
    },
    "id": "7oqF3I6yGZTL",
    "executionInfo": {
     "status": "ok",
     "timestamp": 1728038253179,
     "user_tz": -330,
     "elapsed": 470,
     "user": {
      "displayName": "ARPAN DAS",
      "userId": "14423431301870891264"
     }
    },
    "outputId": "5a541fdc-e75e-424d-c8ee-b5cf411fdf13"
   },
   "execution_count": 106,
   "outputs": [
    {
     "output_type": "display_data",
     "data": {
      "text/plain": [
       "<Figure size 480x480 with 1 Axes>"
      ],
      "image/png": "[encoded data removed]"
     },
     "metadata": {}
    }
   ]
  },
  {
   "cell_type": "markdown",
   "source": [
    "We see in the image representation of Error matrix that most errors are due to class-0 is wrongly classified as other classes and hence whitish boxes are mainly in the row-0. Also, class-2 is wrongly classified as class-1 and vice varsa. No others error are present in the error matrix."
   ],
   "metadata": {
    "id": "4ykS3keUHzmt"
   }
  },
  {
   "cell_type": "markdown",
   "source": [
    "### Evaluation on test set"
   ],
   "metadata": {
    "id": "SwhZRnYYr4IW"
   }
  },
  {
   "cell_type": "markdown",
   "source": [
    "#### Confusion matrix and Accuracy score"
   ],
   "metadata": {
    "id": "QhbGbbqCs7lD"
   }
  },
  {
   "cell_type": "code",
   "source": [
    "from sklearn.metrics import confusion_matrix, accuracy_score\n",
    "y_pred = gaussianNB_classifier.predict(X_test)\n",
    "print('The confusion matrix is = \\n', confusion_matrix(y_test, y_pred))\n",
    "print('The accuracy of classification = ', accuracy_score(y_test, y_pred))"
   ],
   "metadata": {
    "colab": {
     "base_uri": "https://localhost:8080/"
    },
    "id": "q1Wv-SvirwO2",
    "executionInfo": {
     "status": "ok",
     "timestamp": 1726471856012,
     "user_tz": -330,
     "elapsed": 426,
     "user": {
      "displayName": "ARPAN DAS",
      "userId": "14423431301870891264"
     }
    },
    "outputId": "7f75e70c-2292-47ff-abd8-846be24fda38"
   },
   "execution_count": null,
   "outputs": [
    {
     "output_type": "stream",
     "name": "stdout",
     "text": "The confusion matrix is = \n\n [[10  5  2  3  5]\n\n [ 0  5  0  0  0]\n\n [ 0  0  1  0  0]\n\n [ 0  0  0  3  0]\n\n [ 0  0  0  0 16]]\n\nThe accuracy of classification =  0.7\n"
    }
   ]
  },
  {
   "cell_type": "markdown",
   "source": [
    "#### Print $y_{pred}$ and $y_{test}$"
   ],
   "metadata": {
    "id": "ojyI-hF0sydk"
   }
  },
  {
   "cell_type": "code",
   "source": [
    "np.concatenate((np.reshape(y_pred, (len(y_pred), 1)), np.reshape(y_test, (len(y_test), 1))), axis = 1)"
   ],
   "metadata": {
    "colab": {
     "base_uri": "https://localhost:8080/"
    },
    "id": "z1dDGa0Fs45-",
    "executionInfo": {
     "status": "ok",
     "timestamp": 1726471861884,
     "user_tz": -330,
     "elapsed": 436,
     "user": {
      "displayName": "ARPAN DAS",
      "userId": "14423431301870891264"
     }
    },
    "outputId": "71e9a122-b73f-4b12-e1f6-ecf6ddaf2997"
   },
   "execution_count": null,
   "outputs": [
    {
     "output_type": "execute_result",
     "execution_count": 135,
     "data": {
      "text/plain": [
       "array([['drugC', 'drugC'],\n",
       "       ['drugX', 'drugX'],\n",
       "       ['drugC', 'DrugY'],\n",
       "       ['DrugY', 'DrugY'],\n",
       "       ['drugX', 'DrugY'],\n",
       "       ['drugX', 'drugX'],\n",
       "       ['drugX', 'drugX'],\n",
       "       ['drugX', 'drugX'],\n",
       "       ['drugC', 'DrugY'],\n",
       "       ['drugX', 'drugX'],\n",
       "       ['drugA', 'drugA'],\n",
       "       ['drugA', 'DrugY'],\n",
       "       ['drugA', 'DrugY'],\n",
       "       ['drugX', 'DrugY'],\n",
       "       ['drugB', 'drugB'],\n",
       "       ['drugC', 'drugC'],\n",
       "       ['DrugY', 'DrugY'],\n",
       "       ['DrugY', 'DrugY'],\n",
       "       ['drugX', 'drugX'],\n",
       "       ['drugA', 'DrugY'],\n",
       "       ['drugA', 'DrugY'],\n",
       "       ['drugX', 'drugX'],\n",
       "       ['drugX', 'drugX'],\n",
       "       ['drugX', 'drugX'],\n",
       "       ['DrugY', 'DrugY'],\n",
       "       ['drugX', 'DrugY'],\n",
       "       ['drugX', 'DrugY'],\n",
       "       ['DrugY', 'DrugY'],\n",
       "       ['DrugY', 'DrugY'],\n",
       "       ['drugX', 'drugX'],\n",
       "       ['drugX', 'drugX'],\n",
       "       ['drugC', 'drugC'],\n",
       "       ['drugA', 'drugA'],\n",
       "       ['drugX', 'drugX'],\n",
       "       ['DrugY', 'DrugY'],\n",
       "       ['drugB', 'DrugY'],\n",
       "       ['drugX', 'drugX'],\n",
       "       ['drugC', 'DrugY'],\n",
       "       ['drugA', 'drugA'],\n",
       "       ['drugX', 'drugX'],\n",
       "       ['drugA', 'DrugY'],\n",
       "       ['drugA', 'drugA'],\n",
       "       ['DrugY', 'DrugY'],\n",
       "       ['drugX', 'drugX'],\n",
       "       ['DrugY', 'DrugY'],\n",
       "       ['drugX', 'drugX'],\n",
       "       ['drugX', 'DrugY'],\n",
       "       ['DrugY', 'DrugY'],\n",
       "       ['drugA', 'drugA'],\n",
       "       ['drugB', 'DrugY']], dtype=object)"
      ]
     },
     "metadata": {}
    }
   ]
  },
  {
   "cell_type": "markdown",
   "source": [
    "## Decision tree classification"
   ],
   "metadata": {
    "id": "AOv0jt2At1Dj"
   }
  },
  {
   "cell_type": "markdown",
   "source": [
    "### Build and train the model\n",
    "We will use `criterion = 'gini' or 'entropy' or 'log_loss'`. The argument 'criterion' is the function to measure the quality of a split. DO NOT run as they are in the order as I used the same object name (`dt_classifier`) of `DecisionTreeClassifier` class, for all the 3 different criterion. So, run the **corresponding code cells** of each criterion. e.g., first run code cells of criterion = 'gini' from the subsection \"Build and train the model\" and \"Evaluation on test set\". Then run same for criterion = 'entropy' and so on.\n",
    "\n",
    "In Support vector machine for classification section above, I have used different classifier names (`svc_linear_classifier` and `svc_rbf_classifier`). So in that section, there is no problem if one run the code cells as they are in the order. No need of running the corresponding code cells."
   ],
   "metadata": {
    "id": "tutMjUBZt2_D"
   }
  },
  {
   "cell_type": "code",
   "source": [
    "# criterion = 'gini'\n",
    "from sklearn.tree import DecisionTreeClassifier\n",
    "dt_classifier = DecisionTreeClassifier(criterion = 'gini', random_state = 0)\n",
    "dt_classifier.fit(X_train, y_train)"
   ],
   "metadata": {
    "colab": {
     "base_uri": "https://localhost:8080/",
     "height": 75
    },
    "id": "CmnEtkAqt46e",
    "executionInfo": {
     "status": "ok",
     "timestamp": 1726478582892,
     "user_tz": -330,
     "elapsed": 676,
     "user": {
      "displayName": "ARPAN DAS",
      "userId": "14423431301870891264"
     }
    },
    "outputId": "7d372335-3119-4acf-c292-fa60d5f42fdf"
   },
   "execution_count": null,
   "outputs": [
    {
     "output_type": "execute_result",
     "execution_count": 149,
     "data": {
      "text/plain": [
       "DecisionTreeClassifier(random_state=0)"
      ],
      "text/html": [
       "<style>#sk-container-id-32 {color: black;}#sk-container-id-32 pre{padding: 0;}#sk-container-id-32 div.sk-toggleable {background-color: white;}#sk-container-id-32 label.sk-toggleable__label {cursor: pointer;display: block;width: 100%;margin-bottom: 0;padding: 0.3em;box-sizing: border-box;text-align: center;}#sk-container-id-32 label.sk-toggleable__label-arrow:before {content: \"▸\";float: left;margin-right: 0.25em;color: #696969;}#sk-container-id-32 label.sk-toggleable__label-arrow:hover:before {color: black;}#sk-container-id-32 div.sk-estimator:hover label.sk-toggleable__label-arrow:before {color: black;}#sk-container-id-32 div.sk-toggleable__content {max-height: 0;max-width: 0;overflow: hidden;text-align: left;background-color: #f0f8ff;}#sk-container-id-32 div.sk-toggleable__content pre {margin: 0.2em;color: black;border-radius: 0.25em;background-color: #f0f8ff;}#sk-container-id-32 input.sk-toggleable__control:checked~div.sk-toggleable__content {max-height: 200px;max-width: 100%;overflow: auto;}#sk-container-id-32 input.sk-toggleable__control:checked~label.sk-toggleable__label-arrow:before {content: \"▾\";}#sk-container-id-32 div.sk-estimator input.sk-toggleable__control:checked~label.sk-toggleable__label {background-color: #d4ebff;}#sk-container-id-32 div.sk-label input.sk-toggleable__control:checked~label.sk-toggleable__label {background-color: #d4ebff;}#sk-container-id-32 input.sk-hidden--visually {border: 0;clip: rect(1px 1px 1px 1px);clip: rect(1px, 1px, 1px, 1px);height: 1px;margin: -1px;overflow: hidden;padding: 0;position: absolute;width: 1px;}#sk-container-id-32 div.sk-estimator {font-family: monospace;background-color: #f0f8ff;border: 1px dotted black;border-radius: 0.25em;box-sizing: border-box;margin-bottom: 0.5em;}#sk-container-id-32 div.sk-estimator:hover {background-color: #d4ebff;}#sk-container-id-32 div.sk-parallel-item::after {content: \"\";width: 100%;border-bottom: 1px solid gray;flex-grow: 1;}#sk-container-id-32 div.sk-label:hover label.sk-toggleable__label {background-color: #d4ebff;}#sk-container-id-32 div.sk-serial::before {content: \"\";position: absolute;border-left: 1px solid gray;box-sizing: border-box;top: 0;bottom: 0;left: 50%;z-index: 0;}#sk-container-id-32 div.sk-serial {display: flex;flex-direction: column;align-items: center;background-color: white;padding-right: 0.2em;padding-left: 0.2em;position: relative;}#sk-container-id-32 div.sk-item {position: relative;z-index: 1;}#sk-container-id-32 div.sk-parallel {display: flex;align-items: stretch;justify-content: center;background-color: white;position: relative;}#sk-container-id-32 div.sk-item::before, #sk-container-id-32 div.sk-parallel-item::before {content: \"\";position: absolute;border-left: 1px solid gray;box-sizing: border-box;top: 0;bottom: 0;left: 50%;z-index: -1;}#sk-container-id-32 div.sk-parallel-item {display: flex;flex-direction: column;z-index: 1;position: relative;background-color: white;}#sk-container-id-32 div.sk-parallel-item:first-child::after {align-self: flex-end;width: 50%;}#sk-container-id-32 div.sk-parallel-item:last-child::after {align-self: flex-start;width: 50%;}#sk-container-id-32 div.sk-parallel-item:only-child::after {width: 0;}#sk-container-id-32 div.sk-dashed-wrapped {border: 1px dashed gray;margin: 0 0.4em 0.5em 0.4em;box-sizing: border-box;padding-bottom: 0.4em;background-color: white;}#sk-container-id-32 div.sk-label label {font-family: monospace;font-weight: bold;display: inline-block;line-height: 1.2em;}#sk-container-id-32 div.sk-label-container {text-align: center;}#sk-container-id-32 div.sk-container {/* jupyter's `normalize.less` sets `[hidden] { display: none; }` but bootstrap.min.css set `[hidden] { display: none !important; }` so we also need the `!important` here to be able to override the default hidden behavior on the sphinx rendered scikit-learn.org. See: https://github.com/scikit-learn/scikit-learn/issues/21755 */display: inline-block !important;position: relative;}#sk-container-id-32 div.sk-text-repr-fallback {display: none;}</style><div id=\"sk-container-id-32\" class=\"sk-top-container\"><div class=\"sk-text-repr-fallback\"><pre>DecisionTreeClassifier(random_state=0)</pre><b>In a Jupyter environment, please rerun this cell to show the HTML representation or trust the notebook. <br />On GitHub, the HTML representation is unable to render, please try loading this page with nbviewer.org.</b></div><div class=\"sk-container\" hidden><div class=\"sk-item\"><div class=\"sk-estimator sk-toggleable\"><input class=\"sk-toggleable__control sk-hidden--visually\" id=\"sk-estimator-id-32\" type=\"checkbox\" checked><label for=\"sk-estimator-id-32\" class=\"sk-toggleable__label sk-toggleable__label-arrow\">DecisionTreeClassifier</label><div class=\"sk-toggleable__content\"><pre>DecisionTreeClassifier(random_state=0)</pre></div></div></div></div></div>"
      ]
     },
     "metadata": {}
    }
   ]
  },
  {
   "cell_type": "code",
   "source": [
    "# criterion = 'entropy'\n",
    "from sklearn.tree import DecisionTreeClassifier\n",
    "dt_classifier = DecisionTreeClassifier(criterion = 'entropy', random_state = 0)\n",
    "dt_classifier.fit(X_train, y_train)"
   ],
   "metadata": {
    "colab": {
     "base_uri": "https://localhost:8080/",
     "height": 75
    },
    "id": "BlT2oUIQGIGW",
    "executionInfo": {
     "status": "ok",
     "timestamp": 1726478589720,
     "user_tz": -330,
     "elapsed": 10,
     "user": {
      "displayName": "ARPAN DAS",
      "userId": "14423431301870891264"
     }
    },
    "outputId": "8fddef42-b54d-4a8f-8563-92f29b7d62ef"
   },
   "execution_count": null,
   "outputs": [
    {
     "output_type": "execute_result",
     "execution_count": 151,
     "data": {
      "text/plain": [
       "DecisionTreeClassifier(criterion='entropy', random_state=0)"
      ],
      "text/html": [
       "<style>#sk-container-id-33 {color: black;}#sk-container-id-33 pre{padding: 0;}#sk-container-id-33 div.sk-toggleable {background-color: white;}#sk-container-id-33 label.sk-toggleable__label {cursor: pointer;display: block;width: 100%;margin-bottom: 0;padding: 0.3em;box-sizing: border-box;text-align: center;}#sk-container-id-33 label.sk-toggleable__label-arrow:before {content: \"▸\";float: left;margin-right: 0.25em;color: #696969;}#sk-container-id-33 label.sk-toggleable__label-arrow:hover:before {color: black;}#sk-container-id-33 div.sk-estimator:hover label.sk-toggleable__label-arrow:before {color: black;}#sk-container-id-33 div.sk-toggleable__content {max-height: 0;max-width: 0;overflow: hidden;text-align: left;background-color: #f0f8ff;}#sk-container-id-33 div.sk-toggleable__content pre {margin: 0.2em;color: black;border-radius: 0.25em;background-color: #f0f8ff;}#sk-container-id-33 input.sk-toggleable__control:checked~div.sk-toggleable__content {max-height: 200px;max-width: 100%;overflow: auto;}#sk-container-id-33 input.sk-toggleable__control:checked~label.sk-toggleable__label-arrow:before {content: \"▾\";}#sk-container-id-33 div.sk-estimator input.sk-toggleable__control:checked~label.sk-toggleable__label {background-color: #d4ebff;}#sk-container-id-33 div.sk-label input.sk-toggleable__control:checked~label.sk-toggleable__label {background-color: #d4ebff;}#sk-container-id-33 input.sk-hidden--visually {border: 0;clip: rect(1px 1px 1px 1px);clip: rect(1px, 1px, 1px, 1px);height: 1px;margin: -1px;overflow: hidden;padding: 0;position: absolute;width: 1px;}#sk-container-id-33 div.sk-estimator {font-family: monospace;background-color: #f0f8ff;border: 1px dotted black;border-radius: 0.25em;box-sizing: border-box;margin-bottom: 0.5em;}#sk-container-id-33 div.sk-estimator:hover {background-color: #d4ebff;}#sk-container-id-33 div.sk-parallel-item::after {content: \"\";width: 100%;border-bottom: 1px solid gray;flex-grow: 1;}#sk-container-id-33 div.sk-label:hover label.sk-toggleable__label {background-color: #d4ebff;}#sk-container-id-33 div.sk-serial::before {content: \"\";position: absolute;border-left: 1px solid gray;box-sizing: border-box;top: 0;bottom: 0;left: 50%;z-index: 0;}#sk-container-id-33 div.sk-serial {display: flex;flex-direction: column;align-items: center;background-color: white;padding-right: 0.2em;padding-left: 0.2em;position: relative;}#sk-container-id-33 div.sk-item {position: relative;z-index: 1;}#sk-container-id-33 div.sk-parallel {display: flex;align-items: stretch;justify-content: center;background-color: white;position: relative;}#sk-container-id-33 div.sk-item::before, #sk-container-id-33 div.sk-parallel-item::before {content: \"\";position: absolute;border-left: 1px solid gray;box-sizing: border-box;top: 0;bottom: 0;left: 50%;z-index: -1;}#sk-container-id-33 div.sk-parallel-item {display: flex;flex-direction: column;z-index: 1;position: relative;background-color: white;}#sk-container-id-33 div.sk-parallel-item:first-child::after {align-self: flex-end;width: 50%;}#sk-container-id-33 div.sk-parallel-item:last-child::after {align-self: flex-start;width: 50%;}#sk-container-id-33 div.sk-parallel-item:only-child::after {width: 0;}#sk-container-id-33 div.sk-dashed-wrapped {border: 1px dashed gray;margin: 0 0.4em 0.5em 0.4em;box-sizing: border-box;padding-bottom: 0.4em;background-color: white;}#sk-container-id-33 div.sk-label label {font-family: monospace;font-weight: bold;display: inline-block;line-height: 1.2em;}#sk-container-id-33 div.sk-label-container {text-align: center;}#sk-container-id-33 div.sk-container {/* jupyter's `normalize.less` sets `[hidden] { display: none; }` but bootstrap.min.css set `[hidden] { display: none !important; }` so we also need the `!important` here to be able to override the default hidden behavior on the sphinx rendered scikit-learn.org. See: https://github.com/scikit-learn/scikit-learn/issues/21755 */display: inline-block !important;position: relative;}#sk-container-id-33 div.sk-text-repr-fallback {display: none;}</style><div id=\"sk-container-id-33\" class=\"sk-top-container\"><div class=\"sk-text-repr-fallback\"><pre>DecisionTreeClassifier(criterion=&#x27;entropy&#x27;, random_state=0)</pre><b>In a Jupyter environment, please rerun this cell to show the HTML representation or trust the notebook. <br />On GitHub, the HTML representation is unable to render, please try loading this page with nbviewer.org.</b></div><div class=\"sk-container\" hidden><div class=\"sk-item\"><div class=\"sk-estimator sk-toggleable\"><input class=\"sk-toggleable__control sk-hidden--visually\" id=\"sk-estimator-id-33\" type=\"checkbox\" checked><label for=\"sk-estimator-id-33\" class=\"sk-toggleable__label sk-toggleable__label-arrow\">DecisionTreeClassifier</label><div class=\"sk-toggleable__content\"><pre>DecisionTreeClassifier(criterion=&#x27;entropy&#x27;, random_state=0)</pre></div></div></div></div></div>"
      ]
     },
     "metadata": {}
    }
   ]
  },
  {
   "cell_type": "code",
   "source": [
    "# criterion = 'log_loss'\n",
    "from sklearn.tree import DecisionTreeClassifier\n",
    "dt_classifier = DecisionTreeClassifier(criterion = 'log_loss', random_state = 0)\n",
    "dt_classifier.fit(X_train, y_train)"
   ],
   "metadata": {
    "colab": {
     "base_uri": "https://localhost:8080/",
     "height": 75
    },
    "id": "Vb3ljPh7I2po",
    "executionInfo": {
     "status": "ok",
     "timestamp": 1726478599444,
     "user_tz": -330,
     "elapsed": 412,
     "user": {
      "displayName": "ARPAN DAS",
      "userId": "14423431301870891264"
     }
    },
    "outputId": "4e39f46d-9fd8-4225-c544-e7da272bb0bb"
   },
   "execution_count": null,
   "outputs": [
    {
     "output_type": "execute_result",
     "execution_count": 153,
     "data": {
      "text/plain": [
       "DecisionTreeClassifier(criterion='log_loss', random_state=0)"
      ],
      "text/html": [
       "<style>#sk-container-id-34 {color: black;}#sk-container-id-34 pre{padding: 0;}#sk-container-id-34 div.sk-toggleable {background-color: white;}#sk-container-id-34 label.sk-toggleable__label {cursor: pointer;display: block;width: 100%;margin-bottom: 0;padding: 0.3em;box-sizing: border-box;text-align: center;}#sk-container-id-34 label.sk-toggleable__label-arrow:before {content: \"▸\";float: left;margin-right: 0.25em;color: #696969;}#sk-container-id-34 label.sk-toggleable__label-arrow:hover:before {color: black;}#sk-container-id-34 div.sk-estimator:hover label.sk-toggleable__label-arrow:before {color: black;}#sk-container-id-34 div.sk-toggleable__content {max-height: 0;max-width: 0;overflow: hidden;text-align: left;background-color: #f0f8ff;}#sk-container-id-34 div.sk-toggleable__content pre {margin: 0.2em;color: black;border-radius: 0.25em;background-color: #f0f8ff;}#sk-container-id-34 input.sk-toggleable__control:checked~div.sk-toggleable__content {max-height: 200px;max-width: 100%;overflow: auto;}#sk-container-id-34 input.sk-toggleable__control:checked~label.sk-toggleable__label-arrow:before {content: \"▾\";}#sk-container-id-34 div.sk-estimator input.sk-toggleable__control:checked~label.sk-toggleable__label {background-color: #d4ebff;}#sk-container-id-34 div.sk-label input.sk-toggleable__control:checked~label.sk-toggleable__label {background-color: #d4ebff;}#sk-container-id-34 input.sk-hidden--visually {border: 0;clip: rect(1px 1px 1px 1px);clip: rect(1px, 1px, 1px, 1px);height: 1px;margin: -1px;overflow: hidden;padding: 0;position: absolute;width: 1px;}#sk-container-id-34 div.sk-estimator {font-family: monospace;background-color: #f0f8ff;border: 1px dotted black;border-radius: 0.25em;box-sizing: border-box;margin-bottom: 0.5em;}#sk-container-id-34 div.sk-estimator:hover {background-color: #d4ebff;}#sk-container-id-34 div.sk-parallel-item::after {content: \"\";width: 100%;border-bottom: 1px solid gray;flex-grow: 1;}#sk-container-id-34 div.sk-label:hover label.sk-toggleable__label {background-color: #d4ebff;}#sk-container-id-34 div.sk-serial::before {content: \"\";position: absolute;border-left: 1px solid gray;box-sizing: border-box;top: 0;bottom: 0;left: 50%;z-index: 0;}#sk-container-id-34 div.sk-serial {display: flex;flex-direction: column;align-items: center;background-color: white;padding-right: 0.2em;padding-left: 0.2em;position: relative;}#sk-container-id-34 div.sk-item {position: relative;z-index: 1;}#sk-container-id-34 div.sk-parallel {display: flex;align-items: stretch;justify-content: center;background-color: white;position: relative;}#sk-container-id-34 div.sk-item::before, #sk-container-id-34 div.sk-parallel-item::before {content: \"\";position: absolute;border-left: 1px solid gray;box-sizing: border-box;top: 0;bottom: 0;left: 50%;z-index: -1;}#sk-container-id-34 div.sk-parallel-item {display: flex;flex-direction: column;z-index: 1;position: relative;background-color: white;}#sk-container-id-34 div.sk-parallel-item:first-child::after {align-self: flex-end;width: 50%;}#sk-container-id-34 div.sk-parallel-item:last-child::after {align-self: flex-start;width: 50%;}#sk-container-id-34 div.sk-parallel-item:only-child::after {width: 0;}#sk-container-id-34 div.sk-dashed-wrapped {border: 1px dashed gray;margin: 0 0.4em 0.5em 0.4em;box-sizing: border-box;padding-bottom: 0.4em;background-color: white;}#sk-container-id-34 div.sk-label label {font-family: monospace;font-weight: bold;display: inline-block;line-height: 1.2em;}#sk-container-id-34 div.sk-label-container {text-align: center;}#sk-container-id-34 div.sk-container {/* jupyter's `normalize.less` sets `[hidden] { display: none; }` but bootstrap.min.css set `[hidden] { display: none !important; }` so we also need the `!important` here to be able to override the default hidden behavior on the sphinx rendered scikit-learn.org. See: https://github.com/scikit-learn/scikit-learn/issues/21755 */display: inline-block !important;position: relative;}#sk-container-id-34 div.sk-text-repr-fallback {display: none;}</style><div id=\"sk-container-id-34\" class=\"sk-top-container\"><div class=\"sk-text-repr-fallback\"><pre>DecisionTreeClassifier(criterion=&#x27;log_loss&#x27;, random_state=0)</pre><b>In a Jupyter environment, please rerun this cell to show the HTML representation or trust the notebook. <br />On GitHub, the HTML representation is unable to render, please try loading this page with nbviewer.org.</b></div><div class=\"sk-container\" hidden><div class=\"sk-item\"><div class=\"sk-estimator sk-toggleable\"><input class=\"sk-toggleable__control sk-hidden--visually\" id=\"sk-estimator-id-34\" type=\"checkbox\" checked><label for=\"sk-estimator-id-34\" class=\"sk-toggleable__label sk-toggleable__label-arrow\">DecisionTreeClassifier</label><div class=\"sk-toggleable__content\"><pre>DecisionTreeClassifier(criterion=&#x27;log_loss&#x27;, random_state=0)</pre></div></div></div></div></div>"
      ]
     },
     "metadata": {}
    }
   ]
  },
  {
   "cell_type": "markdown",
   "source": [
    "### Evaluation on test set"
   ],
   "metadata": {
    "id": "kA31JbfGErmx"
   }
  },
  {
   "cell_type": "markdown",
   "source": [
    "#### Confusion matrix and Accuracy score"
   ],
   "metadata": {
    "id": "sR14eQ3tKSjB"
   }
  },
  {
   "cell_type": "code",
   "source": [
    "# criterion = 'gini'\n",
    "from sklearn.metrics import confusion_matrix, accuracy_score\n",
    "y_pred = dt_classifier.predict(X_test)\n",
    "print('The confusion matrix is = \\n', confusion_matrix(y_test, y_pred))\n",
    "print('The accuracy of classification = ', accuracy_score(y_test, y_pred))"
   ],
   "metadata": {
    "colab": {
     "base_uri": "https://localhost:8080/"
    },
    "id": "h_x_jL_DEue0",
    "executionInfo": {
     "status": "ok",
     "timestamp": 1726478586292,
     "user_tz": -330,
     "elapsed": 4,
     "user": {
      "displayName": "ARPAN DAS",
      "userId": "14423431301870891264"
     }
    },
    "outputId": "a01c98de-91c6-4214-fb83-21034226bec2"
   },
   "execution_count": null,
   "outputs": [
    {
     "output_type": "stream",
     "name": "stdout",
     "text": "The confusion matrix is = \n\n [[25  0  0  0  0]\n\n [ 0  5  0  0  0]\n\n [ 0  0  1  0  0]\n\n [ 0  0  0  3  0]\n\n [ 0  0  0  0 16]]\n\nThe accuracy of classification =  1.0\n"
    }
   ]
  },
  {
   "cell_type": "code",
   "source": [
    "# criterion = 'entropy'\n",
    "from sklearn.metrics import confusion_matrix, accuracy_score\n",
    "y_pred = dt_classifier.predict(X_test)\n",
    "print('The confusion matrix is = \\n', confusion_matrix(y_test, y_pred))\n",
    "print('The accuracy of classification = ', accuracy_score(y_test, y_pred))"
   ],
   "metadata": {
    "colab": {
     "base_uri": "https://localhost:8080/"
    },
    "id": "7BxSOXPzIx1J",
    "executionInfo": {
     "status": "ok",
     "timestamp": 1726478594826,
     "user_tz": -330,
     "elapsed": 412,
     "user": {
      "displayName": "ARPAN DAS",
      "userId": "14423431301870891264"
     }
    },
    "outputId": "731a410e-793b-44b7-b787-fc6e0cd44b3c"
   },
   "execution_count": null,
   "outputs": [
    {
     "output_type": "stream",
     "name": "stdout",
     "text": "The confusion matrix is = \n\n [[25  0  0  0  0]\n\n [ 0  5  0  0  0]\n\n [ 0  0  1  0  0]\n\n [ 0  0  0  3  0]\n\n [ 0  0  0  0 16]]\n\nThe accuracy of classification =  1.0\n"
    }
   ]
  },
  {
   "cell_type": "code",
   "source": [
    "# criterion = 'log_loss'\n",
    "from sklearn.metrics import confusion_matrix, accuracy_score\n",
    "y_pred = dt_classifier.predict(X_test)\n",
    "print('The confusion matrix is = \\n', confusion_matrix(y_test, y_pred))\n",
    "print('The accuracy of classification = ', accuracy_score(y_test, y_pred))"
   ],
   "metadata": {
    "colab": {
     "base_uri": "https://localhost:8080/"
    },
    "id": "XpOcXh3lJEX4",
    "executionInfo": {
     "status": "ok",
     "timestamp": 1726478606455,
     "user_tz": -330,
     "elapsed": 3,
     "user": {
      "displayName": "ARPAN DAS",
      "userId": "14423431301870891264"
     }
    },
    "outputId": "48d01eef-e8c3-4176-f64d-3156a17abb0b"
   },
   "execution_count": null,
   "outputs": [
    {
     "output_type": "stream",
     "name": "stdout",
     "text": "The confusion matrix is = \n\n [[25  0  0  0  0]\n\n [ 0  5  0  0  0]\n\n [ 0  0  1  0  0]\n\n [ 0  0  0  3  0]\n\n [ 0  0  0  0 16]]\n\nThe accuracy of classification =  1.0\n"
    }
   ]
  },
  {
   "cell_type": "markdown",
   "source": [
    "WOW! Decision tree classification model gives 100% accuracy (with all the 3 criterion)! Wonderful!"
   ],
   "metadata": {
    "id": "SZFsmzPVJYHs"
   }
  },
  {
   "cell_type": "markdown",
   "source": [
    "#### Histrogram plot of $y_{test}$ i.e., drugs on test set"
   ],
   "metadata": {
    "id": "kenDVakGKEdu"
   }
  },
  {
   "cell_type": "code",
   "source": [
    "ax = sns.histplot(y_test)\n",
    "ax.bar_label(ax.containers[0]);   # This line add text labels with each bar’s total count or frequency."
   ],
   "metadata": {
    "colab": {
     "base_uri": "https://localhost:8080/",
     "height": 430
    },
    "id": "evTyRFXDJ-uX",
    "executionInfo": {
     "status": "ok",
     "timestamp": 1726478951555,
     "user_tz": -330,
     "elapsed": 952,
     "user": {
      "displayName": "ARPAN DAS",
      "userId": "14423431301870891264"
     }
    },
    "outputId": "45e16c20-6f5d-4955-be46-4552b5c28f6c"
   },
   "execution_count": null,
   "outputs": [
    {
     "output_type": "display_data",
     "data": {
      "text/plain": [
       "<Figure size 640x480 with 1 Axes>"
      ],
      "image/png": "[encoded data removed]"
     },
     "metadata": {}
    }
   ]
  },
  {
   "cell_type": "markdown",
   "source": [
    "We see from the confusion matrix of each criterion, there are no off-diagonal elements telling no wrong predictions by the decision tree classification model. The diagonal elements 25, 5, 1, 3, 16 correspond to number of drugs for each class in the test set."
   ],
   "metadata": {
    "id": "M5auFKouKcQk"
   }
  },
  {
   "cell_type": "markdown",
   "source": [
    "## Random forest classification"
   ],
   "metadata": {
    "id": "LYV_kvVOMj_j"
   }
  },
  {
   "cell_type": "markdown",
   "source": [
    "### Build and train the model"
   ],
   "metadata": {
    "id": "p3t7tNbbMnTh"
   }
  },
  {
   "cell_type": "code",
   "source": [
    "from sklearn.ensemble import RandomForestClassifier\n",
    "rf_classifier = RandomForestClassifier(n_estimators = 10, criterion = 'entropy', random_state = 0)\n",
    "rf_classifier.fit(X_train, y_train)"
   ],
   "metadata": {
    "colab": {
     "base_uri": "https://localhost:8080/",
     "height": 75
    },
    "id": "sNWFB5ODM8K5",
    "executionInfo": {
     "status": "ok",
     "timestamp": 1726480683154,
     "user_tz": -330,
     "elapsed": 9,
     "user": {
      "displayName": "ARPAN DAS",
      "userId": "14423431301870891264"
     }
    },
    "outputId": "0d8fea98-6f6e-441f-c681-cb0c37c34127"
   },
   "execution_count": null,
   "outputs": [
    {
     "output_type": "execute_result",
     "execution_count": 181,
     "data": {
      "text/plain": [
       "RandomForestClassifier(criterion='entropy', n_estimators=10, random_state=0)"
      ],
      "text/html": [
       "<style>#sk-container-id-44 {color: black;}#sk-container-id-44 pre{padding: 0;}#sk-container-id-44 div.sk-toggleable {background-color: white;}#sk-container-id-44 label.sk-toggleable__label {cursor: pointer;display: block;width: 100%;margin-bottom: 0;padding: 0.3em;box-sizing: border-box;text-align: center;}#sk-container-id-44 label.sk-toggleable__label-arrow:before {content: \"▸\";float: left;margin-right: 0.25em;color: #696969;}#sk-container-id-44 label.sk-toggleable__label-arrow:hover:before {color: black;}#sk-container-id-44 div.sk-estimator:hover label.sk-toggleable__label-arrow:before {color: black;}#sk-container-id-44 div.sk-toggleable__content {max-height: 0;max-width: 0;overflow: hidden;text-align: left;background-color: #f0f8ff;}#sk-container-id-44 div.sk-toggleable__content pre {margin: 0.2em;color: black;border-radius: 0.25em;background-color: #f0f8ff;}#sk-container-id-44 input.sk-toggleable__control:checked~div.sk-toggleable__content {max-height: 200px;max-width: 100%;overflow: auto;}#sk-container-id-44 input.sk-toggleable__control:checked~label.sk-toggleable__label-arrow:before {content: \"▾\";}#sk-container-id-44 div.sk-estimator input.sk-toggleable__control:checked~label.sk-toggleable__label {background-color: #d4ebff;}#sk-container-id-44 div.sk-label input.sk-toggleable__control:checked~label.sk-toggleable__label {background-color: #d4ebff;}#sk-container-id-44 input.sk-hidden--visually {border: 0;clip: rect(1px 1px 1px 1px);clip: rect(1px, 1px, 1px, 1px);height: 1px;margin: -1px;overflow: hidden;padding: 0;position: absolute;width: 1px;}#sk-container-id-44 div.sk-estimator {font-family: monospace;background-color: #f0f8ff;border: 1px dotted black;border-radius: 0.25em;box-sizing: border-box;margin-bottom: 0.5em;}#sk-container-id-44 div.sk-estimator:hover {background-color: #d4ebff;}#sk-container-id-44 div.sk-parallel-item::after {content: \"\";width: 100%;border-bottom: 1px solid gray;flex-grow: 1;}#sk-container-id-44 div.sk-label:hover label.sk-toggleable__label {background-color: #d4ebff;}#sk-container-id-44 div.sk-serial::before {content: \"\";position: absolute;border-left: 1px solid gray;box-sizing: border-box;top: 0;bottom: 0;left: 50%;z-index: 0;}#sk-container-id-44 div.sk-serial {display: flex;flex-direction: column;align-items: center;background-color: white;padding-right: 0.2em;padding-left: 0.2em;position: relative;}#sk-container-id-44 div.sk-item {position: relative;z-index: 1;}#sk-container-id-44 div.sk-parallel {display: flex;align-items: stretch;justify-content: center;background-color: white;position: relative;}#sk-container-id-44 div.sk-item::before, #sk-container-id-44 div.sk-parallel-item::before {content: \"\";position: absolute;border-left: 1px solid gray;box-sizing: border-box;top: 0;bottom: 0;left: 50%;z-index: -1;}#sk-container-id-44 div.sk-parallel-item {display: flex;flex-direction: column;z-index: 1;position: relative;background-color: white;}#sk-container-id-44 div.sk-parallel-item:first-child::after {align-self: flex-end;width: 50%;}#sk-container-id-44 div.sk-parallel-item:last-child::after {align-self: flex-start;width: 50%;}#sk-container-id-44 div.sk-parallel-item:only-child::after {width: 0;}#sk-container-id-44 div.sk-dashed-wrapped {border: 1px dashed gray;margin: 0 0.4em 0.5em 0.4em;box-sizing: border-box;padding-bottom: 0.4em;background-color: white;}#sk-container-id-44 div.sk-label label {font-family: monospace;font-weight: bold;display: inline-block;line-height: 1.2em;}#sk-container-id-44 div.sk-label-container {text-align: center;}#sk-container-id-44 div.sk-container {/* jupyter's `normalize.less` sets `[hidden] { display: none; }` but bootstrap.min.css set `[hidden] { display: none !important; }` so we also need the `!important` here to be able to override the default hidden behavior on the sphinx rendered scikit-learn.org. See: https://github.com/scikit-learn/scikit-learn/issues/21755 */display: inline-block !important;position: relative;}#sk-container-id-44 div.sk-text-repr-fallback {display: none;}</style><div id=\"sk-container-id-44\" class=\"sk-top-container\"><div class=\"sk-text-repr-fallback\"><pre>RandomForestClassifier(criterion=&#x27;entropy&#x27;, n_estimators=10, random_state=0)</pre><b>In a Jupyter environment, please rerun this cell to show the HTML representation or trust the notebook. <br />On GitHub, the HTML representation is unable to render, please try loading this page with nbviewer.org.</b></div><div class=\"sk-container\" hidden><div class=\"sk-item\"><div class=\"sk-estimator sk-toggleable\"><input class=\"sk-toggleable__control sk-hidden--visually\" id=\"sk-estimator-id-44\" type=\"checkbox\" checked><label for=\"sk-estimator-id-44\" class=\"sk-toggleable__label sk-toggleable__label-arrow\">RandomForestClassifier</label><div class=\"sk-toggleable__content\"><pre>RandomForestClassifier(criterion=&#x27;entropy&#x27;, n_estimators=10, random_state=0)</pre></div></div></div></div></div>"
      ]
     },
     "metadata": {}
    }
   ]
  },
  {
   "cell_type": "markdown",
   "source": [
    "### Evaluation on test set"
   ],
   "metadata": {
    "id": "jL9VLlfWPgww"
   }
  },
  {
   "cell_type": "markdown",
   "source": [
    "#### Confusion matrix and Accuracy score"
   ],
   "metadata": {
    "id": "zy1AGRtxQUwM"
   }
  },
  {
   "cell_type": "code",
   "source": [
    "from sklearn.metrics import confusion_matrix, accuracy_score\n",
    "y_pred = rf_classifier.predict(X_test)\n",
    "print('The confusion matrix is = \\n', confusion_matrix(y_test, y_pred))\n",
    "print('The accuracy of classification = ', accuracy_score(y_test, y_pred))"
   ],
   "metadata": {
    "colab": {
     "base_uri": "https://localhost:8080/"
    },
    "id": "_1W0LIvuOsuJ",
    "executionInfo": {
     "status": "ok",
     "timestamp": 1726480686596,
     "user_tz": -330,
     "elapsed": 407,
     "user": {
      "displayName": "ARPAN DAS",
      "userId": "14423431301870891264"
     }
    },
    "outputId": "7f01ebc3-2b1e-4055-a3cd-62337cf1ff7f"
   },
   "execution_count": null,
   "outputs": [
    {
     "output_type": "stream",
     "name": "stdout",
     "text": "The confusion matrix is = \n\n [[25  0  0  0  0]\n\n [ 0  5  0  0  0]\n\n [ 0  0  1  0  0]\n\n [ 0  0  0  3  0]\n\n [ 0  0  0  0 16]]\n\nThe accuracy of classification =  1.0\n"
    }
   ]
  },
  {
   "cell_type": "markdown",
   "source": [
    "WOW! Random forest classification model gives 100% accuracy (I have checked with all the 3 criterion)! Wonderful!"
   ],
   "metadata": {
    "id": "0U1xQBTKPGHA"
   }
  },
  {
   "cell_type": "markdown",
   "source": [
    "#### Variation of Accuracy score with no. of trees in rhe forest"
   ],
   "metadata": {
    "id": "MO4TNaQiQSyl"
   }
  },
  {
   "cell_type": "code",
   "source": [
    "acc_score_list = []\n",
    "for i in range(1, 50):\n",
    "    rf_classifier = RandomForestClassifier(n_estimators = i, criterion = 'entropy', random_state = 0)\n",
    "    rf_classifier.fit(X_train, y_train)\n",
    "    y_pred = rf_classifier.predict(X_test)\n",
    "    acc_score_list.append(accuracy_score(y_test, y_pred))\n",
    "\n",
    "plt.plot(np.arange(1, 50), acc_score_list, '-o', color = 'b')\n",
    "plt.xlabel('No. of trees in forest')\n",
    "plt.ylabel('Accuacy score')\n",
    "plt.title('Variation of Accuracy score with no. of trees in the forest')\n",
    "plt.show()"
   ],
   "metadata": {
    "colab": {
     "base_uri": "https://localhost:8080/",
     "height": 472
    },
    "id": "ga5P2EQIPp2K",
    "executionInfo": {
     "status": "ok",
     "timestamp": 1726480717583,
     "user_tz": -330,
     "elapsed": 3636,
     "user": {
      "displayName": "ARPAN DAS",
      "userId": "14423431301870891264"
     }
    },
    "outputId": "4bc423a4-ce2b-4721-9ec6-56a41980f190"
   },
   "execution_count": null,
   "outputs": [
    {
     "output_type": "display_data",
     "data": {
      "text/plain": [
       "<Figure size 640x480 with 1 Axes>"
      ],
      "image/png": "[encoded data removed]"
     },
     "metadata": {}
    }
   ]
  },
  {
   "cell_type": "markdown",
   "source": [
    "# Tabulate Accuracy of classification for different ML models used"
   ],
   "metadata": {
    "id": "8G2URf7UR1ZP"
   }
  },
  {
   "cell_type": "code",
   "source": [
    "accuracy_vs_model_dict = {'ML_model': ['Logistic regression', 'K-Nearest Neighbors (KNN)', 'KNN max', 'Support vector classification (linear kernel)', 'Support vector classification (rbf kernel)', 'Naive Bayes', 'Decision tree classification', 'Random forest classification'],\n",
    "                          'Accuracy_score': [0.98, 0.92, 0.94, 0.96, 0.98, 0.7, 1.0, 1.0]}\n",
    "\n",
    "pd.DataFrame(accuracy_vs_model_dict)"
   ],
   "metadata": {
    "colab": {
     "base_uri": "https://localhost:8080/",
     "height": 300
    },
    "id": "9hhejD8PR9fg",
    "executionInfo": {
     "status": "ok",
     "timestamp": 1726481614751,
     "user_tz": -330,
     "elapsed": 456,
     "user": {
      "displayName": "ARPAN DAS",
      "userId": "14423431301870891264"
     }
    },
    "outputId": "0c96a499-c0b4-4246-9dd3-aac95fe01c03"
   },
   "execution_count": null,
   "outputs": [
    {
     "output_type": "execute_result",
     "execution_count": 194,
     "data": {
      "text/plain": [
       "                                        ML_model  Accuracy_score\n",
       "0                            Logistic regression            0.98\n",
       "1                      K-Nearest Neighbors (KNN)            0.92\n",
       "2                                        KNN max            0.94\n",
       "3  Support vector classification (linear kernel)            0.96\n",
       "4     Support vector classification (rbf kernel)            0.98\n",
       "5                                    Naive Bayes            0.70\n",
       "6                   Decision tree classification            1.00\n",
       "7                   Random forest classification            1.00"
      ],
      "text/html": [
       "\n",
       "  <div id=\"df-6fa73aaa-0cbe-42c5-af5f-b4010e47d795\" class=\"colab-df-container\">\n",
       "    <div>\n",
       "<style scoped>\n",
       "    .dataframe tbody tr th:only-of-type {\n",
       "        vertical-align: middle;\n",
       "    }\n",
       "\n",
       "    .dataframe tbody tr th {\n",
       "        vertical-align: top;\n",
       "    }\n",
       "\n",
       "    .dataframe thead th {\n",
       "        text-align: right;\n",
       "    }\n",
       "</style>\n",
       "<table border=\"1\" class=\"dataframe\">\n",
       "  <thead>\n",
       "    <tr style=\"text-align: right;\">\n",
       "      <th></th>\n",
       "      <th>ML_model</th>\n",
       "      <th>Accuracy_score</th>\n",
       "    </tr>\n",
       "  </thead>\n",
       "  <tbody>\n",
       "    <tr>\n",
       "      <th>0</th>\n",
       "      <td>Logistic regression</td>\n",
       "      <td>0.98</td>\n",
       "    </tr>\n",
       "    <tr>\n",
       "      <th>1</th>\n",
       "      <td>K-Nearest Neighbors (KNN)</td>\n",
       "      <td>0.92</td>\n",
       "    </tr>\n",
       "    <tr>\n",
       "      <th>2</th>\n",
       "      <td>KNN max</td>\n",
       "      <td>0.94</td>\n",
       "    </tr>\n",
       "    <tr>\n",
       "      <th>3</th>\n",
       "      <td>Support vector classification (linear kernel)</td>\n",
       "      <td>0.96</td>\n",
       "    </tr>\n",
       "    <tr>\n",
       "      <th>4</th>\n",
       "      <td>Support vector classification (rbf kernel)</td>\n",
       "      <td>0.98</td>\n",
       "    </tr>\n",
       "    <tr>\n",
       "      <th>5</th>\n",
       "      <td>Naive Bayes</td>\n",
       "      <td>0.70</td>\n",
       "    </tr>\n",
       "    <tr>\n",
       "      <th>6</th>\n",
       "      <td>Decision tree classification</td>\n",
       "      <td>1.00</td>\n",
       "    </tr>\n",
       "    <tr>\n",
       "      <th>7</th>\n",
       "      <td>Random forest classification</td>\n",
       "      <td>1.00</td>\n",
       "    </tr>\n",
       "  </tbody>\n",
       "</table>\n",
       "</div>\n",
       "    <div class=\"colab-df-buttons\">\n",
       "\n",
       "  <div class=\"colab-df-container\">\n",
       "    <button class=\"colab-df-convert\" onclick=\"convertToInteractive('df-6fa73aaa-0cbe-42c5-af5f-b4010e47d795')\"\n",
       "            title=\"Convert this dataframe to an interactive table.\"\n",
       "            style=\"display:none;\">\n",
       "\n",
       "  <svg xmlns=\"http://www.w3.org/2000/svg\" height=\"24px\" viewBox=\"0 -960 960 960\">\n",
       "    <path d=\"M120-120v-720h720v720H120Zm60-500h600v-160H180v160Zm220 220h160v-160H400v160Zm0 220h160v-160H400v160ZM180-400h160v-160H180v160Zm440 0h160v-160H620v160ZM180-180h160v-160H180v160Zm440 0h160v-160H620v160Z\"/>\n",
       "  </svg>\n",
       "    </button>\n",
       "\n",
       "  <style>\n",
       "    .colab-df-container {\n",
       "      display:flex;\n",
       "      gap: 12px;\n",
       "    }\n",
       "\n",
       "    .colab-df-convert {\n",
       "      background-color: #E8F0FE;\n",
       "      border: none;\n",
       "      border-radius: 50%;\n",
       "      cursor: pointer;\n",
       "      display: none;\n",
       "      fill: #1967D2;\n",
       "      height: 32px;\n",
       "      padding: 0 0 0 0;\n",
       "      width: 32px;\n",
       "    }\n",
       "\n",
       "    .colab-df-convert:hover {\n",
       "      background-color: #E2EBFA;\n",
       "      box-shadow: 0px 1px 2px rgba(60, 64, 67, 0.3), 0px 1px 3px 1px rgba(60, 64, 67, 0.15);\n",
       "      fill: #174EA6;\n",
       "    }\n",
       "\n",
       "    .colab-df-buttons div {\n",
       "      margin-bottom: 4px;\n",
       "    }\n",
       "\n",
       "    [theme=dark] .colab-df-convert {\n",
       "      background-color: #3B4455;\n",
       "      fill: #D2E3FC;\n",
       "    }\n",
       "\n",
       "    [theme=dark] .colab-df-convert:hover {\n",
       "      background-color: #434B5C;\n",
       "      box-shadow: 0px 1px 3px 1px rgba(0, 0, 0, 0.15);\n",
       "      filter: drop-shadow(0px 1px 2px rgba(0, 0, 0, 0.3));\n",
       "      fill: #FFFFFF;\n",
       "    }\n",
       "  </style>\n",
       "\n",
       "    <script>\n",
       "      const buttonEl =\n",
       "        document.querySelector('#df-6fa73aaa-0cbe-42c5-af5f-b4010e47d795 button.colab-df-convert');\n",
       "      buttonEl.style.display =\n",
       "        google.colab.kernel.accessAllowed ? 'block' : 'none';\n",
       "\n",
       "      async function convertToInteractive(key) {\n",
       "        const element = document.querySelector('#df-6fa73aaa-0cbe-42c5-af5f-b4010e47d795');\n",
       "        const dataTable =\n",
       "          await google.colab.kernel.invokeFunction('convertToInteractive',\n",
       "                                                    [key], {});\n",
       "        if (!dataTable) return;\n",
       "\n",
       "        const docLinkHtml = 'Like what you see? Visit the ' +\n",
       "          '<a target=\"_blank\" href=https://colab.research.google.com/notebooks/data_table.ipynb>data table notebook</a>'\n",
       "          + ' to learn more about interactive tables.';\n",
       "        element.innerHTML = '';\n",
       "        dataTable['output_type'] = 'display_data';\n",
       "        await google.colab.output.renderOutput(dataTable, element);\n",
       "        const docLink = document.createElement('div');\n",
       "        docLink.innerHTML = docLinkHtml;\n",
       "        element.appendChild(docLink);\n",
       "      }\n",
       "    </script>\n",
       "  </div>\n",
       "\n",
       "\n",
       "<div id=\"df-36120b03-f3ce-440a-aa16-a1a80fde1438\">\n",
       "  <button class=\"colab-df-quickchart\" onclick=\"quickchart('df-36120b03-f3ce-440a-aa16-a1a80fde1438')\"\n",
       "            title=\"Suggest charts\"\n",
       "            style=\"display:none;\">\n",
       "\n",
       "<svg xmlns=\"http://www.w3.org/2000/svg\" height=\"24px\"viewBox=\"0 0 24 24\"\n",
       "     width=\"24px\">\n",
       "    <g>\n",
       "        <path d=\"M19 3H5c-1.1 0-2 .9-2 2v14c0 1.1.9 2 2 2h14c1.1 0 2-.9 2-2V5c0-1.1-.9-2-2-2zM9 17H7v-7h2v7zm4 0h-2V7h2v10zm4 0h-2v-4h2v4z\"/>\n",
       "    </g>\n",
       "</svg>\n",
       "  </button>\n",
       "\n",
       "<style>\n",
       "  .colab-df-quickchart {\n",
       "      --bg-color: #E8F0FE;\n",
       "      --fill-color: #1967D2;\n",
       "      --hover-bg-color: #E2EBFA;\n",
       "      --hover-fill-color: #174EA6;\n",
       "      --disabled-fill-color: #AAA;\n",
       "      --disabled-bg-color: #DDD;\n",
       "  }\n",
       "\n",
       "  [theme=dark] .colab-df-quickchart {\n",
       "      --bg-color: #3B4455;\n",
       "      --fill-color: #D2E3FC;\n",
       "      --hover-bg-color: #434B5C;\n",
       "      --hover-fill-color: #FFFFFF;\n",
       "      --disabled-bg-color: #3B4455;\n",
       "      --disabled-fill-color: #666;\n",
       "  }\n",
       "\n",
       "  .colab-df-quickchart {\n",
       "    background-color: var(--bg-color);\n",
       "    border: none;\n",
       "    border-radius: 50%;\n",
       "    cursor: pointer;\n",
       "    display: none;\n",
       "    fill: var(--fill-color);\n",
       "    height: 32px;\n",
       "    padding: 0;\n",
       "    width: 32px;\n",
       "  }\n",
       "\n",
       "  .colab-df-quickchart:hover {\n",
       "    background-color: var(--hover-bg-color);\n",
       "    box-shadow: 0 1px 2px rgba(60, 64, 67, 0.3), 0 1px 3px 1px rgba(60, 64, 67, 0.15);\n",
       "    fill: var(--button-hover-fill-color);\n",
       "  }\n",
       "\n",
       "  .colab-df-quickchart-complete:disabled,\n",
       "  .colab-df-quickchart-complete:disabled:hover {\n",
       "    background-color: var(--disabled-bg-color);\n",
       "    fill: var(--disabled-fill-color);\n",
       "    box-shadow: none;\n",
       "  }\n",
       "\n",
       "  .colab-df-spinner {\n",
       "    border: 2px solid var(--fill-color);\n",
       "    border-color: transparent;\n",
       "    border-bottom-color: var(--fill-color);\n",
       "    animation:\n",
       "      spin 1s steps(1) infinite;\n",
       "  }\n",
       "\n",
       "  @keyframes spin {\n",
       "    0% {\n",
       "      border-color: transparent;\n",
       "      border-bottom-color: var(--fill-color);\n",
       "      border-left-color: var(--fill-color);\n",
       "    }\n",
       "    20% {\n",
       "      border-color: transparent;\n",
       "      border-left-color: var(--fill-color);\n",
       "      border-top-color: var(--fill-color);\n",
       "    }\n",
       "    30% {\n",
       "      border-color: transparent;\n",
       "      border-left-color: var(--fill-color);\n",
       "      border-top-color: var(--fill-color);\n",
       "      border-right-color: var(--fill-color);\n",
       "    }\n",
       "    40% {\n",
       "      border-color: transparent;\n",
       "      border-right-color: var(--fill-color);\n",
       "      border-top-color: var(--fill-color);\n",
       "    }\n",
       "    60% {\n",
       "      border-color: transparent;\n",
       "      border-right-color: var(--fill-color);\n",
       "    }\n",
       "    80% {\n",
       "      border-color: transparent;\n",
       "      border-right-color: var(--fill-color);\n",
       "      border-bottom-color: var(--fill-color);\n",
       "    }\n",
       "    90% {\n",
       "      border-color: transparent;\n",
       "      border-bottom-color: var(--fill-color);\n",
       "    }\n",
       "  }\n",
       "</style>\n",
       "\n",
       "  <script>\n",
       "    async function quickchart(key) {\n",
       "      const quickchartButtonEl =\n",
       "        document.querySelector('#' + key + ' button');\n",
       "      quickchartButtonEl.disabled = true;  // To prevent multiple clicks.\n",
       "      quickchartButtonEl.classList.add('colab-df-spinner');\n",
       "      try {\n",
       "        const charts = await google.colab.kernel.invokeFunction(\n",
       "            'suggestCharts', [key], {});\n",
       "      } catch (error) {\n",
       "        console.error('Error during call to suggestCharts:', error);\n",
       "      }\n",
       "      quickchartButtonEl.classList.remove('colab-df-spinner');\n",
       "      quickchartButtonEl.classList.add('colab-df-quickchart-complete');\n",
       "    }\n",
       "    (() => {\n",
       "      let quickchartButtonEl =\n",
       "        document.querySelector('#df-36120b03-f3ce-440a-aa16-a1a80fde1438 button');\n",
       "      quickchartButtonEl.style.display =\n",
       "        google.colab.kernel.accessAllowed ? 'block' : 'none';\n",
       "    })();\n",
       "  </script>\n",
       "</div>\n",
       "\n",
       "    </div>\n",
       "  </div>\n"
      ],
      "application/vnd.google.colaboratory.intrinsic+json": {
       "type": "dataframe",
       "summary": "{\n  \"name\": \"pd\",\n  \"rows\": 8,\n  \"fields\": [\n    {\n      \"column\": \"ML_model\",\n      \"properties\": {\n        \"dtype\": \"string\",\n        \"num_unique_values\": 8,\n        \"samples\": [\n          \"K-Nearest Neighbors (KNN)\",\n          \"Naive Bayes\",\n          \"Logistic regression\"\n        ],\n        \"semantic_type\": \"\",\n        \"description\": \"\"\n      }\n    },\n    {\n      \"column\": \"Accuracy_score\",\n      \"properties\": {\n        \"dtype\": \"number\",\n        \"std\": 0.09899494936611666,\n        \"min\": 0.7,\n        \"max\": 1.0,\n        \"num_unique_values\": 6,\n        \"samples\": [\n          0.98,\n          0.92,\n          1.0\n        ],\n        \"semantic_type\": \"\",\n        \"description\": \"\"\n      }\n    }\n  ]\n}"
      }
     },
     "metadata": {}
    }
   ]
  },
  {
   "cell_type": "markdown",
   "source": [
    "So, we see that decision tree classification and random forest classification models give the best accuracy and that is too 100%!! Great!"
   ],
   "metadata": {
    "id": "HFzYTEH3Uv4C"
   }
  }
 ]
}
