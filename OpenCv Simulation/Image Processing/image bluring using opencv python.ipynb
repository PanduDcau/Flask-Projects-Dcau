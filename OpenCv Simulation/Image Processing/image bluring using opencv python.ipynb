{
 "cells": [
  {
   "cell_type": "code",
   "execution_count": 1,
   "metadata": {},
   "outputs": [
    {
     "name": "stdout",
     "output_type": "stream",
     "text": [
      "[[[0 0 0]\n",
      "  [0 0 0]\n",
      "  [0 0 0]\n",
      "  ...\n",
      "  [0 0 0]\n",
      "  [0 0 0]\n",
      "  [0 0 0]]\n",
      "\n",
      " [[0 0 0]\n",
      "  [0 0 0]\n",
      "  [0 0 0]\n",
      "  ...\n",
      "  [0 0 0]\n",
      "  [0 0 0]\n",
      "  [0 0 0]]\n",
      "\n",
      " [[0 0 0]\n",
      "  [0 0 0]\n",
      "  [0 0 0]\n",
      "  ...\n",
      "  [0 0 0]\n",
      "  [0 0 0]\n",
      "  [0 0 0]]\n",
      "\n",
      " ...\n",
      "\n",
      " [[0 0 0]\n",
      "  [0 0 0]\n",
      "  [0 0 0]\n",
      "  ...\n",
      "  [0 0 0]\n",
      "  [0 0 0]\n",
      "  [0 0 0]]\n",
      "\n",
      " [[0 0 0]\n",
      "  [0 0 0]\n",
      "  [0 0 0]\n",
      "  ...\n",
      "  [0 0 0]\n",
      "  [0 0 0]\n",
      "  [0 0 0]]\n",
      "\n",
      " [[0 0 0]\n",
      "  [0 0 0]\n",
      "  [0 0 0]\n",
      "  ...\n",
      "  [0 0 0]\n",
      "  [0 0 0]\n",
      "  [0 0 0]]]\n",
      "<class 'numpy.ndarray'>\n"
     ]
    }
   ],
   "source": [
    "#programming_fever\n",
    "#image bluring\n",
    "import cv2 \n",
    "import numpy as np \n",
    "  \n",
    "imag = cv2.imread('E://OpenCV//programming_fever_.logo.jpg') \n",
    "image = cv2.resize(imag, (0, 0), fx =0.1, fy =0.1)  \n",
    "\n",
    "blur_filter1 = np.ones((3, 3), np.float)/(9.0) \n",
    "  \n",
    "blur_filter2 = np.ones((5, 5), np.float)/(25.0) \n",
    "  \n",
    "blur_filter3 = np.ones((7, 7), np.float)/(49.0) \n",
    "  \n",
    "image_blur1 = cv2.filter2D(image, -1, blur_filter1) \n",
    "image_blur2 = cv2.filter2D(image, -1, blur_filter2) \n",
    "image_blur3 = cv2.filter2D(image, -1, blur_filter3) \n",
    "print(image) \n",
    "print(type(image))\n",
    "cv2.imshow('programming_fever.logo.ORIGINAL', image) \n",
    "cv2.imshow('programming_fever.logo.BLUR1', image_blur1) \n",
    "cv2.imshow('programming_fever.logo.BLUR2', image_blur2) \n",
    "cv2.imshow('programming_fever.logo.BLUR3', image_blur3) \n",
    "  \n",
    "cv2.waitKey(0) \n",
    "cv2.destroyAllWindows()"
   ]
  },
  {
   "cell_type": "code",
   "execution_count": null,
   "metadata": {},
   "outputs": [],
   "source": []
  }
 ],
 "metadata": {
  "kernelspec": {
   "display_name": "Python 3",
   "language": "python",
   "name": "python3"
  },
  "language_info": {
   "codemirror_mode": {
    "name": "ipython",
    "version": 3
   },
   "file_extension": ".py",
   "mimetype": "text/x-python",
   "name": "python",
   "nbconvert_exporter": "python",
   "pygments_lexer": "ipython3",
   "version": "3.7.4"
  }
 },
 "nbformat": 4,
 "nbformat_minor": 2
}
